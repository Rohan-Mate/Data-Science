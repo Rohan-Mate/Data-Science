{
 "cells": [
  {
   "cell_type": "markdown",
   "id": "2919d5e1-6087-42dd-af98-f17a948b0fe9",
   "metadata": {},
   "source": [
    "### Measure of Central tendency "
   ]
  },
  {
   "cell_type": "code",
   "execution_count": 1,
   "id": "aae4772d-407d-4ea3-9508-8d40ee68c000",
   "metadata": {},
   "outputs": [],
   "source": [
    "# Mean (Average)"
   ]
  },
  {
   "cell_type": "code",
   "execution_count": 2,
   "id": "2ad784f1-04c0-4c7a-987a-143f243bce99",
   "metadata": {},
   "outputs": [],
   "source": [
    "age = [12,13,14,21,24]\n"
   ]
  },
  {
   "cell_type": "code",
   "execution_count": 3,
   "id": "3205752e-2c28-4d19-8412-2b941dcbfc20",
   "metadata": {},
   "outputs": [
    {
     "data": {
      "text/plain": [
       "16.8"
      ]
     },
     "execution_count": 3,
     "metadata": {},
     "output_type": "execute_result"
    }
   ],
   "source": [
    "(12+13+14+21+24)/5"
   ]
  },
  {
   "cell_type": "code",
   "execution_count": 4,
   "id": "914c3a99-a7f6-4aef-895f-20f68ad5e01c",
   "metadata": {},
   "outputs": [],
   "source": [
    "import numpy as np"
   ]
  },
  {
   "cell_type": "code",
   "execution_count": 5,
   "id": "5a82ec2a-fc6e-498c-a517-228ad3aafba1",
   "metadata": {},
   "outputs": [
    {
     "data": {
      "text/plain": [
       "16.8"
      ]
     },
     "execution_count": 5,
     "metadata": {},
     "output_type": "execute_result"
    }
   ],
   "source": [
    "np.mean(age)"
   ]
  },
  {
   "cell_type": "code",
   "execution_count": 7,
   "id": "2129137f-d659-459b-8fbf-810a03a9dc42",
   "metadata": {},
   "outputs": [],
   "source": [
    "weights =[45,34,55,76,98,78,65,96,89,65]"
   ]
  },
  {
   "cell_type": "code",
   "execution_count": 8,
   "id": "151e8dd3-ad2d-492b-a873-eafe4f9c0ba7",
   "metadata": {},
   "outputs": [
    {
     "data": {
      "text/plain": [
       "70.1"
      ]
     },
     "execution_count": 8,
     "metadata": {},
     "output_type": "execute_result"
    }
   ],
   "source": [
    "np.mean(weights)"
   ]
  },
  {
   "cell_type": "code",
   "execution_count": 19,
   "id": "5596537b-60c1-40db-a1f5-859a23e44b6c",
   "metadata": {},
   "outputs": [],
   "source": [
    "weights =[45,34,55,76,98,78,65,96,89,65,1000]"
   ]
  },
  {
   "cell_type": "code",
   "execution_count": 18,
   "id": "d0cb6e64-c61c-44c8-a349-89a87bd3875f",
   "metadata": {},
   "outputs": [
    {
     "data": {
      "text/plain": [
       "144.58333333333334"
      ]
     },
     "execution_count": 18,
     "metadata": {},
     "output_type": "execute_result"
    }
   ],
   "source": [
    "np.mean(weights)"
   ]
  },
  {
   "cell_type": "code",
   "execution_count": 12,
   "id": "799e508f-424f-442a-aea0-85ad24642fe6",
   "metadata": {},
   "outputs": [],
   "source": [
    "# Median"
   ]
  },
  {
   "cell_type": "code",
   "execution_count": 13,
   "id": "c35f931b-6ab8-4d14-9537-0be077f499e6",
   "metadata": {},
   "outputs": [
    {
     "data": {
      "text/plain": [
       "76.0"
      ]
     },
     "execution_count": 13,
     "metadata": {},
     "output_type": "execute_result"
    }
   ],
   "source": [
    "np.median(weights)"
   ]
  },
  {
   "cell_type": "code",
   "execution_count": 14,
   "id": "027786b0-9486-45e3-9acd-ff02b3c5d5ec",
   "metadata": {},
   "outputs": [],
   "source": [
    "# Mode "
   ]
  },
  {
   "cell_type": "code",
   "execution_count": 15,
   "id": "83bd7de6-6b07-4be5-a02b-c7015c5d45a8",
   "metadata": {},
   "outputs": [],
   "source": [
    "from scipy import stats"
   ]
  },
  {
   "cell_type": "code",
   "execution_count": 16,
   "id": "94a547bb-66d8-4a04-92b7-5885a8bc29ab",
   "metadata": {},
   "outputs": [
    {
     "name": "stderr",
     "output_type": "stream",
     "text": [
      "/tmp/ipykernel_5841/4197893964.py:1: FutureWarning: Unlike other reduction functions (e.g. `skew`, `kurtosis`), the default behavior of `mode` typically preserves the axis it acts along. In SciPy 1.11.0, this behavior will change: the default value of `keepdims` will become False, the `axis` over which the statistic is taken will be eliminated, and the value None will no longer be accepted. Set `keepdims` to True or False to avoid this warning.\n",
      "  stats.mode(weights)\n"
     ]
    },
    {
     "data": {
      "text/plain": [
       "ModeResult(mode=array([65]), count=array([2]))"
      ]
     },
     "execution_count": 16,
     "metadata": {},
     "output_type": "execute_result"
    }
   ],
   "source": [
    "stats.mode(weights)"
   ]
  },
  {
   "cell_type": "code",
   "execution_count": null,
   "id": "97bcedc5-bce1-460d-8f8a-89c25beef962",
   "metadata": {},
   "outputs": [],
   "source": []
  }
 ],
 "metadata": {
  "kernelspec": {
   "display_name": "Python 3 (ipykernel)",
   "language": "python",
   "name": "python3"
  },
  "language_info": {
   "codemirror_mode": {
    "name": "ipython",
    "version": 3
   },
   "file_extension": ".py",
   "mimetype": "text/x-python",
   "name": "python",
   "nbconvert_exporter": "python",
   "pygments_lexer": "ipython3",
   "version": "3.10.8"
  }
 },
 "nbformat": 4,
 "nbformat_minor": 5
}
