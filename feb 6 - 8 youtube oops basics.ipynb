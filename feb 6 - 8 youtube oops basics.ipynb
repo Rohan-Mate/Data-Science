{
 "cells": [
  {
   "cell_type": "markdown",
   "id": "9979dd64-a8b4-4b5c-a71e-1781fb4b7bb2",
   "metadata": {},
   "source": [
    "### oops basics"
   ]
  },
  {
   "cell_type": "code",
   "execution_count": 2,
   "id": "9ad5b542-d241-419a-8181-cf5ea53ed1f3",
   "metadata": {},
   "outputs": [],
   "source": [
    "class SoftAtm:\n",
    "    \n",
    "    def __init__(self):\n",
    "        \n",
    "        self.__pin=\"\"\n",
    "        self.__balance=0\n",
    "        \n",
    "        self.__menu()\n",
    "        \n",
    "    def get_pin(self):\n",
    "        return self.__pin\n",
    "     \n",
    "    def set_pin(self,new_pin):\n",
    "        if type(new_pin)==str:\n",
    "            self.__pin=new_pin\n",
    "            print(\"pin changed\")\n",
    "        else:\n",
    "            print(\"not allowed\")\n",
    "            \n",
    "    def __menu(self):\n",
    "        user_input=input(\"\"\" \n",
    "        Hello,how would you like to proceed?\n",
    "        1.enter 1 to create pin\n",
    "        2.Enter 2 to deposit\n",
    "        3.Enter 3 to withdraw\n",
    "        4.Enter 4 to check balance\n",
    "        5.Enter 5 to exit \n",
    "\"\"\")\n",
    "        if user_input==\"1\":\n",
    "            self.create_pin()\n",
    "        elif user_input==\"2\":\n",
    "            self.deposit()\n",
    "        elif user_input==\"3\":\n",
    "            self.withdraw()\n",
    "        elif user_input==\"4\":\n",
    "            self.check_balance()\n",
    "        else:\n",
    "            print(\"exit\")\n",
    "            \n",
    "    def create_pin(self):\n",
    "        self.__pin=input(\"Enter Your Pin\")\n",
    "        print(\"pin set successfully\")\n",
    "        \n",
    "    def deposit(self):\n",
    "        temp=input(\"enter your pin\")\n",
    "        if temp== self.__pin:\n",
    "            amount=int(input(\"Enter the amount\"))\n",
    "            self.__balance=self.__balance+amount\n",
    "            print(\"deposit\")\n",
    "        else:\n",
    "            print(\"invalid pin\")\n",
    "      \n",
    "    def withdraw(self):\n",
    "        temp=input(\"Enter your pin\")\n",
    "        if temp==self.__pin:\n",
    "            amount=int(input(\"Enter the amount\"))\n",
    "            if amount <self.__balance:\n",
    "                self.__balance=self.__balance-amount\n",
    "                print(\"operation successfully\")\n",
    "            else:\n",
    "                print(\"insufficient balance\")\n",
    "        else:\n",
    "            print(\"invalid pin\")\n",
    "                \n",
    "    def check_balance(self):\n",
    "        temp=input(\"enter your pin\")\n",
    "        if temp==self.__pin:\n",
    "            print(self.__balance)\n",
    "        else:\n",
    "            (\"invalid pin\")"
   ]
  },
  {
   "cell_type": "markdown",
   "id": "c0e94231-66f6-4fe8-98af-bce268da741f",
   "metadata": {},
   "source": [
    "### Reference variable"
   ]
  },
  {
   "cell_type": "code",
   "execution_count": 5,
   "id": "4ab64bb5-4c45-4766-b9fa-8093f904c62a",
   "metadata": {},
   "outputs": [],
   "source": [
    "## humne yaha pe object ko variable hi nahi diya hai to wo ek different memory location prr save ho gaya"
   ]
  },
  {
   "cell_type": "code",
   "execution_count": 3,
   "id": "3f57bd07-d561-4d63-9526-f5b61d764956",
   "metadata": {},
   "outputs": [
    {
     "name": "stdin",
     "output_type": "stream",
     "text": [
      " \n",
      "        Hello,how would you like to proceed?\n",
      "        1.enter 1 to create pin\n",
      "        2.Enter 2 to deposit\n",
      "        3.Enter 3 to withdraw\n",
      "        4.Enter 4 to check balance\n",
      "        5.Enter 5 to exit \n",
      " 1\n",
      "Enter Your Pin 1234\n"
     ]
    },
    {
     "name": "stdout",
     "output_type": "stream",
     "text": [
      "pin set successfully\n"
     ]
    },
    {
     "data": {
      "text/plain": [
       "<__main__.SoftAtm at 0x7fec7c4a4ca0>"
      ]
     },
     "execution_count": 3,
     "metadata": {},
     "output_type": "execute_result"
    }
   ],
   "source": [
    "SoftAtm()"
   ]
  },
  {
   "cell_type": "code",
   "execution_count": 6,
   "id": "4235b2cd-c76a-4b3a-ab93-51705acf097b",
   "metadata": {},
   "outputs": [],
   "source": [
    "## sbi=SoftAtm()\n",
    "# sbi is reference (variable ) of SoftAtm object        SoftAtm is an object"
   ]
  },
  {
   "cell_type": "markdown",
   "id": "8a3b60fa-ee92-4ca6-a110-68a84e7b7880",
   "metadata": {},
   "source": [
    "### pass by reference"
   ]
  },
  {
   "cell_type": "code",
   "execution_count": 7,
   "id": "aa27d7fe-fbfe-47a6-ba9b-8895b27963a1",
   "metadata": {},
   "outputs": [
    {
     "name": "stdout",
     "output_type": "stream",
     "text": [
      "nitish\n"
     ]
    }
   ],
   "source": [
    "class Customer:\n",
    "    \n",
    "    def __init__(self,name):\n",
    "        self.name=name\n",
    "        \n",
    "cust=Customer('nitish')        \n",
    "print(cust.name)        "
   ]
  },
  {
   "cell_type": "code",
   "execution_count": 20,
   "id": "d67b8c31-04d8-4a04-bf39-c63b17475ee4",
   "metadata": {},
   "outputs": [],
   "source": [
    "### list sets and dictionary are mutable"
   ]
  },
  {
   "cell_type": "code",
   "execution_count": 18,
   "id": "d625bc59-bacc-4431-b0c6-8fbd4b8694df",
   "metadata": {},
   "outputs": [
    {
     "name": "stdout",
     "output_type": "stream",
     "text": [
      "140653182091072\n",
      "[1, 2, 3, 4]\n",
      "140653182091072\n",
      "140653182091072\n",
      "[1, 2, 3, 4, 5]\n"
     ]
    }
   ],
   "source": [
    "def change(L):\n",
    "    print(id(L))\n",
    "    L.append(5)\n",
    "    print(id(L))\n",
    "    \n",
    "l1=[1,2,3,4]\n",
    "print(id(l1))\n",
    "print(l1)\n",
    "\n",
    "change(l1)\n",
    "\n",
    "print(l1)\n"
   ]
  },
  {
   "cell_type": "code",
   "execution_count": 19,
   "id": "39df4db8-7e0b-40e8-a2fc-f31c12ea1d28",
   "metadata": {},
   "outputs": [
    {
     "name": "stdout",
     "output_type": "stream",
     "text": [
      "140653182086720\n",
      "[1, 2, 3, 4]\n",
      "140653182082176\n",
      "140653182082176\n",
      "[1, 2, 3, 4]\n"
     ]
    }
   ],
   "source": [
    "def change(L):\n",
    "    print(id(L))\n",
    "    L.append(5)\n",
    "    print(id(L))\n",
    "    \n",
    "l1=[1,2,3,4]\n",
    "print(id(l1))\n",
    "print(l1)\n",
    "\n",
    "change(l1[:])\n",
    "\n",
    "print(l1)"
   ]
  },
  {
   "cell_type": "code",
   "execution_count": 21,
   "id": "35cf8055-07b6-42df-ab3d-9a25369abcf3",
   "metadata": {},
   "outputs": [],
   "source": [
    "### same example on tuple (tuple are immutable)\n",
    "## append is not work reason is tuple is immutable"
   ]
  },
  {
   "cell_type": "code",
   "execution_count": 22,
   "id": "c179ea9c-c591-4f81-b558-f8e27a16af42",
   "metadata": {},
   "outputs": [
    {
     "name": "stdout",
     "output_type": "stream",
     "text": [
      "140653182043296\n",
      "(1, 2, 3, 4)\n",
      "140653182043296\n"
     ]
    },
    {
     "ename": "AttributeError",
     "evalue": "'tuple' object has no attribute 'append'",
     "output_type": "error",
     "traceback": [
      "\u001b[0;31m---------------------------------------------------------------------------\u001b[0m",
      "\u001b[0;31mAttributeError\u001b[0m                            Traceback (most recent call last)",
      "Cell \u001b[0;32mIn[22], line 10\u001b[0m\n\u001b[1;32m      7\u001b[0m \u001b[38;5;28mprint\u001b[39m(\u001b[38;5;28mid\u001b[39m(l1))\n\u001b[1;32m      8\u001b[0m \u001b[38;5;28mprint\u001b[39m(l1)\n\u001b[0;32m---> 10\u001b[0m \u001b[43mchange\u001b[49m\u001b[43m(\u001b[49m\u001b[43ml1\u001b[49m\u001b[43m)\u001b[49m\n\u001b[1;32m     12\u001b[0m \u001b[38;5;28mprint\u001b[39m(l1)\n",
      "Cell \u001b[0;32mIn[22], line 3\u001b[0m, in \u001b[0;36mchange\u001b[0;34m(L)\u001b[0m\n\u001b[1;32m      1\u001b[0m \u001b[38;5;28;01mdef\u001b[39;00m \u001b[38;5;21mchange\u001b[39m(L):\n\u001b[1;32m      2\u001b[0m     \u001b[38;5;28mprint\u001b[39m(\u001b[38;5;28mid\u001b[39m(L))\n\u001b[0;32m----> 3\u001b[0m     \u001b[43mL\u001b[49m\u001b[38;5;241;43m.\u001b[39;49m\u001b[43mappend\u001b[49m(\u001b[38;5;241m5\u001b[39m)\n\u001b[1;32m      4\u001b[0m     \u001b[38;5;28mprint\u001b[39m(\u001b[38;5;28mid\u001b[39m(L))\n",
      "\u001b[0;31mAttributeError\u001b[0m: 'tuple' object has no attribute 'append'"
     ]
    }
   ],
   "source": [
    "def change(L):\n",
    "    print(id(L))\n",
    "    L.append(5)\n",
    "    print(id(L))\n",
    "    \n",
    "l1=(1,2,3,4)\n",
    "print(id(l1))\n",
    "print(l1)\n",
    "\n",
    "change(l1)\n",
    "\n",
    "print(l1)"
   ]
  },
  {
   "cell_type": "code",
   "execution_count": 23,
   "id": "24d228e2-f7fb-4b9c-8e6f-53606c730c47",
   "metadata": {},
   "outputs": [
    {
     "name": "stdout",
     "output_type": "stream",
     "text": [
      "140653670966160\n",
      "(1, 2, 3, 4)\n",
      "140653670966160\n",
      "140653674790976\n",
      "(1, 2, 3, 4)\n"
     ]
    }
   ],
   "source": [
    "def change(L):\n",
    "    print(id(L))\n",
    "    L=L+(5,6)\n",
    "    print(id(L))\n",
    "    \n",
    "l1=(1,2,3,4)\n",
    "print(id(l1))\n",
    "print(l1)\n",
    "\n",
    "change(l1[:])\n",
    "\n",
    "print(l1)"
   ]
  },
  {
   "cell_type": "markdown",
   "id": "1cf239f0-89d0-44fb-afdf-32a0c5f15b52",
   "metadata": {},
   "source": [
    "### collection of objects "
   ]
  },
  {
   "cell_type": "code",
   "execution_count": 24,
   "id": "25f57db0-ff7a-4220-a35a-58717ab90bba",
   "metadata": {},
   "outputs": [
    {
     "name": "stdout",
     "output_type": "stream",
     "text": [
      "<__main__.Customer object at 0x7fec7c3d6200>\n",
      "<__main__.Customer object at 0x7fec7c3d7760>\n",
      "<__main__.Customer object at 0x7fec7c3d73a0>\n"
     ]
    }
   ],
   "source": [
    "class Customer:\n",
    "    \n",
    "    def __init__(self,name,age):\n",
    "        self.name=name\n",
    "        self.age=age\n",
    "        \n",
    "c1=Customer('nitish',34)\n",
    "c2=Customer('Ankit',44)\n",
    "c3=Customer('neha',32)\n",
    "\n",
    "L=[c1,c2,c3]\n",
    "\n",
    "for i in L:\n",
    "    print(i)"
   ]
  },
  {
   "cell_type": "code",
   "execution_count": 25,
   "id": "c58c33b6-c728-4c8f-af08-2a5f9b82154e",
   "metadata": {},
   "outputs": [
    {
     "name": "stdout",
     "output_type": "stream",
     "text": [
      "nitish 34\n",
      "Ankit 44\n",
      "neha 32\n"
     ]
    }
   ],
   "source": [
    "class Customer:\n",
    "    \n",
    "    def __init__(self,name,age):\n",
    "        self.name=name\n",
    "        self.age=age\n",
    "        \n",
    "\n",
    "        \n",
    "c1=Customer('nitish',34)\n",
    "c2=Customer('Ankit',44)\n",
    "c3=Customer('neha',32)\n",
    "                      \n",
    "L=[c1,c2,c3]\n",
    "\n",
    "for i in L:\n",
    "    print(i.name,i.age)"
   ]
  },
  {
   "cell_type": "code",
   "execution_count": 27,
   "id": "05ff40d4-84c0-45eb-88b0-017bb77b735e",
   "metadata": {},
   "outputs": [
    {
     "name": "stdout",
     "output_type": "stream",
     "text": [
      "i am nitish and i am 34\n",
      "i am Ankit and i am 44\n",
      "i am neha and i am 32\n"
     ]
    }
   ],
   "source": [
    "  class Customer:\n",
    "    \n",
    "    def __init__(self,name,age):\n",
    "        self.name=name\n",
    "        self.age=age\n",
    "        \n",
    "    def intro(self):\n",
    "        print('i am',self.name,'and i am',self.age)\n",
    "        \n",
    "c1=Customer('nitish',34)\n",
    "c2=Customer('Ankit',44)\n",
    "c3=Customer('neha',32)\n",
    "\n",
    "L=[c1,c2,c3]\n",
    "\n",
    "for i in L:\n",
    "    i.intro()"
   ]
  },
  {
   "cell_type": "code",
   "execution_count": 29,
   "id": "e7d76ddc-448c-48dc-99cf-19f40187e050",
   "metadata": {},
   "outputs": [],
   "source": [
    "### static counter"
   ]
  },
  {
   "cell_type": "code",
   "execution_count": 30,
   "id": "5385e49b-3792-4667-b6a2-265e406de933",
   "metadata": {},
   "outputs": [],
   "source": [
    "class Atm5:\n",
    "    \n",
    "    counter=1 \n",
    "    \n",
    "    def __init__(self):\n",
    "        \n",
    "        self.__pin=\"\"\n",
    "        self.__balance=0\n",
    "        self.__menu()\n",
    "        \n",
    "        self.sno = Atm5.counter\n",
    "        Atm5.counter=Atm5.counter + 1\n",
    "        \n",
    "    def get_pin(self):\n",
    "        return self.__pin\n",
    "     \n",
    "    def set_pin(self,new_pin):\n",
    "        if type(new_pin)==str:\n",
    "            self.__pin=new_pin\n",
    "            print(\"pin changed\")\n",
    "        else:\n",
    "            print(\"not allowed\")\n",
    "            \n",
    "    def __menu(self):\n",
    "        user_input=input(\"\"\" \n",
    "        Hello,how would you like to proceed?\n",
    "        1.enter 1 to create pin\n",
    "        2.Enter 2 to deposit\n",
    "        3.Enter 3 to withdraw\n",
    "        4.Enter 4 to check balance\n",
    "        5.Enter 5 to exit \n",
    "\"\"\")\n",
    "        if user_input==\"1\":\n",
    "            self.create_pin()\n",
    "        elif user_input==\"2\":\n",
    "            self.deposit()\n",
    "        elif user_input==\"3\":\n",
    "            self.withdraw()\n",
    "        elif user_input==\"4\":\n",
    "            self.check_balance()\n",
    "        else:\n",
    "            print(\"exit\")\n",
    "            \n",
    "    def create_pin(self):\n",
    "        self.__pin=input(\"Enter Your Pin\")\n",
    "        print(\"pin set successfully\")\n",
    "        \n",
    "    def deposit(self):\n",
    "        temp=input(\"enter your pin\")\n",
    "        if temp== self.__pin:\n",
    "            amount=int(input(\"Enter the amount\"))\n",
    "            self.__balance=self.__balance+amount\n",
    "            print(\"deposit\")\n",
    "        else:\n",
    "            print(\"invalid pin\")\n",
    "      \n",
    "    def withdraw(self):\n",
    "        temp=input(\"Enter your pin\")\n",
    "        if temp==self.__pin:\n",
    "            amount=int(input(\"Enter the amount\"))\n",
    "            if amount <self.__balance:\n",
    "                self.__balance=self.__balance-amount\n",
    "                print(\"operation successfully\")\n",
    "            else:\n",
    "                print(\"insufficient balance\")\n",
    "        else:\n",
    "            print(\"invalid pin\")\n",
    "                \n",
    "    def check_balance(self):\n",
    "        temp=input(\"enter your pin\")\n",
    "        if temp==self.__pin:\n",
    "            print(self.__balance)\n",
    "        else:\n",
    "            (\"invalid pin\")"
   ]
  },
  {
   "cell_type": "code",
   "execution_count": null,
   "id": "73493217-96cf-4406-a0fd-6186a65b3733",
   "metadata": {},
   "outputs": [],
   "source": [
    "### two types of variable - 1.instatnce variable 2.\n",
    "### instance variable - jiska value her object ke liye different hota hai e.g pin , balance\n",
    "### static / class variable - ek eisa variable jiska value har objects ke liye same ho \n",
    "# static variable hamesh constructor ke bahar banate hain "
   ]
  },
  {
   "cell_type": "code",
   "execution_count": 31,
   "id": "cf31fc1f-4b67-43f6-8498-863546c7f5ba",
   "metadata": {},
   "outputs": [
    {
     "name": "stdin",
     "output_type": "stream",
     "text": [
      " \n",
      "        Hello,how would you like to proceed?\n",
      "        1.enter 1 to create pin\n",
      "        2.Enter 2 to deposit\n",
      "        3.Enter 3 to withdraw\n",
      "        4.Enter 4 to check balance\n",
      "        5.Enter 5 to exit \n",
      " 1\n",
      "Enter Your Pin 1234\n"
     ]
    },
    {
     "name": "stdout",
     "output_type": "stream",
     "text": [
      "pin set successfully\n"
     ]
    }
   ],
   "source": [
    "sbi=Atm5()"
   ]
  },
  {
   "cell_type": "code",
   "execution_count": null,
   "id": "3ade7946-02d7-4e99-9570-842608b53301",
   "metadata": {},
   "outputs": [],
   "source": []
  }
 ],
 "metadata": {
  "kernelspec": {
   "display_name": "Python 3 (ipykernel)",
   "language": "python",
   "name": "python3"
  },
  "language_info": {
   "codemirror_mode": {
    "name": "ipython",
    "version": 3
   },
   "file_extension": ".py",
   "mimetype": "text/x-python",
   "name": "python",
   "nbconvert_exporter": "python",
   "pygments_lexer": "ipython3",
   "version": "3.10.8"
  }
 },
 "nbformat": 4,
 "nbformat_minor": 5
}
