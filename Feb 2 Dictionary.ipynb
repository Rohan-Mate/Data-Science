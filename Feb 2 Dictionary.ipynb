{
 "cells": [
  {
   "cell_type": "markdown",
   "id": "05e662fd-6917-4e76-9996-a2199770809f",
   "metadata": {},
   "source": [
    "##### d={}"
   ]
  },
  {
   "cell_type": "code",
   "execution_count": 2,
   "id": "923e55b2-c259-4f7c-aba6-a0c37e2f8702",
   "metadata": {},
   "outputs": [
    {
     "data": {
      "text/plain": [
       "dict"
      ]
     },
     "execution_count": 2,
     "metadata": {},
     "output_type": "execute_result"
    }
   ],
   "source": [
    "type(d)"
   ]
  },
  {
   "cell_type": "code",
   "execution_count": 3,
   "id": "24da9bd7-a867-4d3c-9d4a-dbe321f15215",
   "metadata": {},
   "outputs": [],
   "source": [
    "s={}"
   ]
  },
  {
   "cell_type": "code",
   "execution_count": null,
   "id": "7dc99828-8988-4e96-929c-bfd4f4f1fd54",
   "metadata": {},
   "outputs": [],
   "source": []
  },
  {
   "cell_type": "code",
   "execution_count": 4,
   "id": "8e09760b-8862-4699-8bc1-060d729da4f4",
   "metadata": {},
   "outputs": [
    {
     "data": {
      "text/plain": [
       "dict"
      ]
     },
     "execution_count": 4,
     "metadata": {},
     "output_type": "execute_result"
    }
   ],
   "source": [
    "type(s)"
   ]
  },
  {
   "cell_type": "code",
   "execution_count": 5,
   "id": "4deac2b4-3124-4285-9a96-6c68a747e882",
   "metadata": {},
   "outputs": [],
   "source": [
    "d1={\"name\":\"sudh\",\"emailid\":\"su@gmail.com\",\"number\":124546}"
   ]
  },
  {
   "cell_type": "code",
   "execution_count": 6,
   "id": "65e233ca-de03-4553-839a-bcad7857a888",
   "metadata": {},
   "outputs": [
    {
     "data": {
      "text/plain": [
       "{'name': 'sudh', 'emailid': 'su@gmail.com', 'number': 124546}"
      ]
     },
     "execution_count": 6,
     "metadata": {},
     "output_type": "execute_result"
    }
   ],
   "source": [
    "d1"
   ]
  },
  {
   "cell_type": "code",
   "execution_count": 7,
   "id": "9b497521-abff-4f1e-b3c6-18ac501e9d2c",
   "metadata": {},
   "outputs": [
    {
     "data": {
      "text/plain": [
       "dict"
      ]
     },
     "execution_count": 7,
     "metadata": {},
     "output_type": "execute_result"
    }
   ],
   "source": [
    "type(d1)"
   ]
  },
  {
   "cell_type": "markdown",
   "id": "b8746554-cdb5-444f-a631-b8993b247dbb",
   "metadata": {},
   "source": [
    "\"\"\" Dictionary use key and value\"\"\""
   ]
  },
  {
   "cell_type": "code",
   "execution_count": 51,
   "id": "1fdbcf85-eb7b-46df-8cf4-680967ebec05",
   "metadata": {},
   "outputs": [],
   "source": [
    "# key is string\n",
    "d2={\"name\":\"roh\",\"name\":\"rohan\"}"
   ]
  },
  {
   "cell_type": "code",
   "execution_count": 11,
   "id": "9ae97852-501e-475b-b517-2ea6565ce1ff",
   "metadata": {},
   "outputs": [
    {
     "data": {
      "text/plain": [
       "{'name': 'rohan'}"
      ]
     },
     "execution_count": 11,
     "metadata": {},
     "output_type": "execute_result"
    }
   ],
   "source": [
    "d2"
   ]
  },
  {
   "cell_type": "code",
   "execution_count": 52,
   "id": "70723131-a6c2-45c5-a128-e1a84e81d4ca",
   "metadata": {},
   "outputs": [],
   "source": [
    "# key is integer \n",
    "d3={23234545:\"abc\"}"
   ]
  },
  {
   "cell_type": "code",
   "execution_count": 13,
   "id": "59a41d7f-0741-4720-b7a6-60248f641103",
   "metadata": {},
   "outputs": [
    {
     "data": {
      "text/plain": [
       "{23234545: 'abc'}"
      ]
     },
     "execution_count": 13,
     "metadata": {},
     "output_type": "execute_result"
    }
   ],
   "source": [
    "d3"
   ]
  },
  {
   "cell_type": "code",
   "execution_count": 53,
   "id": "84a42590-0e92-4ed2-b1c2-05c2ed9359f8",
   "metadata": {},
   "outputs": [],
   "source": [
    "# key is float\n",
    "d4={234.45:\"def\"}"
   ]
  },
  {
   "cell_type": "code",
   "execution_count": 15,
   "id": "738662fc-ddfd-4ffc-8d1f-e8b898db15e4",
   "metadata": {},
   "outputs": [
    {
     "data": {
      "text/plain": [
       "{234.45: 'def'}"
      ]
     },
     "execution_count": 15,
     "metadata": {},
     "output_type": "execute_result"
    }
   ],
   "source": [
    "d4"
   ]
  },
  {
   "cell_type": "code",
   "execution_count": 54,
   "id": "d21a329b-0c65-46cb-9d5d-c0fcfa487cb3",
   "metadata": {},
   "outputs": [],
   "source": [
    "# key as boolean\n",
    "d5={True:\"abc\"}"
   ]
  },
  {
   "cell_type": "code",
   "execution_count": 17,
   "id": "58ac6ef6-d6a3-4bee-ac1d-11fd078514ab",
   "metadata": {},
   "outputs": [
    {
     "data": {
      "text/plain": [
       "{True: 'abc'}"
      ]
     },
     "execution_count": 17,
     "metadata": {},
     "output_type": "execute_result"
    }
   ],
   "source": [
    "d5"
   ]
  },
  {
   "cell_type": "code",
   "execution_count": 55,
   "id": "03760a6d-052e-4fcd-9539-d71f2b8b070c",
   "metadata": {},
   "outputs": [
    {
     "ename": "SyntaxError",
     "evalue": "invalid syntax (3572613305.py, line 2)",
     "output_type": "error",
     "traceback": [
      "\u001b[0;36m  Cell \u001b[0;32mIn[55], line 2\u001b[0;36m\u001b[0m\n\u001b[0;31m    d6={@:\"abc\"}\u001b[0m\n\u001b[0m        ^\u001b[0m\n\u001b[0;31mSyntaxError\u001b[0m\u001b[0;31m:\u001b[0m invalid syntax\n"
     ]
    }
   ],
   "source": [
    "# key as special character\n",
    "d6={@:\"abc\"}"
   ]
  },
  {
   "cell_type": "code",
   "execution_count": 20,
   "id": "86646432-3b68-431a-b667-1ccb81e50869",
   "metadata": {},
   "outputs": [
    {
     "ename": "SyntaxError",
     "evalue": "incomplete input (3753957667.py, line 1)",
     "output_type": "error",
     "traceback": [
      "\u001b[0;36m  Cell \u001b[0;32mIn[20], line 1\u001b[0;36m\u001b[0m\n\u001b[0;31m    d7={# : \"abc\" }\u001b[0m\n\u001b[0m                    ^\u001b[0m\n\u001b[0;31mSyntaxError\u001b[0m\u001b[0;31m:\u001b[0m incomplete input\n"
     ]
    }
   ],
   "source": [
    "d7={# : \"abc\" } "
   ]
  },
  {
   "cell_type": "code",
   "execution_count": 21,
   "id": "479444e9-852a-4cf8-a397-6979705db60c",
   "metadata": {},
   "outputs": [],
   "source": [
    "d8={\"@\":\"abc\"}"
   ]
  },
  {
   "cell_type": "code",
   "execution_count": 22,
   "id": "c84f2946-32ee-4f34-9493-cc351491ab21",
   "metadata": {},
   "outputs": [
    {
     "data": {
      "text/plain": [
       "{'@': 'abc'}"
      ]
     },
     "execution_count": 22,
     "metadata": {},
     "output_type": "execute_result"
    }
   ],
   "source": [
    "d8"
   ]
  },
  {
   "cell_type": "code",
   "execution_count": 56,
   "id": "a1343209-80e5-41d8-8207-dbca6178ef89",
   "metadata": {},
   "outputs": [
    {
     "ename": "TypeError",
     "evalue": "unhashable type: 'list'",
     "output_type": "error",
     "traceback": [
      "\u001b[0;31m---------------------------------------------------------------------------\u001b[0m",
      "\u001b[0;31mTypeError\u001b[0m                                 Traceback (most recent call last)",
      "Cell \u001b[0;32mIn[56], line 2\u001b[0m\n\u001b[1;32m      1\u001b[0m \u001b[38;5;66;03m# key as list\u001b[39;00m\n\u001b[0;32m----> 2\u001b[0m d9\u001b[38;5;241m=\u001b[39m{[\u001b[38;5;241m1\u001b[39m,\u001b[38;5;241m2\u001b[39m,\u001b[38;5;241m3\u001b[39m,\u001b[38;5;241m4\u001b[39m]:\u001b[38;5;124m\"\u001b[39m\u001b[38;5;124mabc\u001b[39m\u001b[38;5;124m\"\u001b[39m}\n",
      "\u001b[0;31mTypeError\u001b[0m: unhashable type: 'list'"
     ]
    }
   ],
   "source": [
    "# key as list\n",
    "d9={[1,2,3,4]:\"abc\"}"
   ]
  },
  {
   "cell_type": "code",
   "execution_count": 57,
   "id": "2f732468-4dc8-43bc-a73e-0e9edd9367cc",
   "metadata": {},
   "outputs": [],
   "source": [
    "# key as tuple\n",
    "d10={(1,2,3):\"abc\"}"
   ]
  },
  {
   "cell_type": "code",
   "execution_count": 25,
   "id": "aeff4a00-4b5d-40a5-abf0-2d3723ae54c0",
   "metadata": {},
   "outputs": [
    {
     "data": {
      "text/plain": [
       "{(1, 2, 3): 'abc'}"
      ]
     },
     "execution_count": 25,
     "metadata": {},
     "output_type": "execute_result"
    }
   ],
   "source": [
    "d10"
   ]
  },
  {
   "cell_type": "code",
   "execution_count": 58,
   "id": "7e53286e-d411-4d21-89d1-a6b68b5c6cb0",
   "metadata": {},
   "outputs": [
    {
     "ename": "TypeError",
     "evalue": "unhashable type: 'set'",
     "output_type": "error",
     "traceback": [
      "\u001b[0;31m---------------------------------------------------------------------------\u001b[0m",
      "\u001b[0;31mTypeError\u001b[0m                                 Traceback (most recent call last)",
      "Cell \u001b[0;32mIn[58], line 2\u001b[0m\n\u001b[1;32m      1\u001b[0m \u001b[38;5;66;03m# key as sets \u001b[39;00m\n\u001b[0;32m----> 2\u001b[0m d11\u001b[38;5;241m=\u001b[39m{{\u001b[38;5;241m1\u001b[39m,\u001b[38;5;241m2\u001b[39m,\u001b[38;5;241m3\u001b[39m}:\u001b[38;5;124m\"\u001b[39m\u001b[38;5;124mabc\u001b[39m\u001b[38;5;124m\"\u001b[39m}\n",
      "\u001b[0;31mTypeError\u001b[0m: unhashable type: 'set'"
     ]
    }
   ],
   "source": [
    "# key as sets \n",
    "d11={{1,2,3}:\"abc\"}"
   ]
  },
  {
   "cell_type": "code",
   "execution_count": 59,
   "id": "274eef01-1075-4df8-a7a5-8e1a85763a07",
   "metadata": {},
   "outputs": [
    {
     "ename": "TypeError",
     "evalue": "unhashable type: 'dict'",
     "output_type": "error",
     "traceback": [
      "\u001b[0;31m---------------------------------------------------------------------------\u001b[0m",
      "\u001b[0;31mTypeError\u001b[0m                                 Traceback (most recent call last)",
      "Cell \u001b[0;32mIn[59], line 2\u001b[0m\n\u001b[1;32m      1\u001b[0m \u001b[38;5;66;03m# key as dictionary\u001b[39;00m\n\u001b[0;32m----> 2\u001b[0m d12\u001b[38;5;241m=\u001b[39m{{\u001b[38;5;124m\"\u001b[39m\u001b[38;5;124mkey\u001b[39m\u001b[38;5;124m\"\u001b[39m:\u001b[38;5;241m234\u001b[39m}}\n",
      "\u001b[0;31mTypeError\u001b[0m: unhashable type: 'dict'"
     ]
    }
   ],
   "source": [
    "# key as dictionary\n",
    "d12={{\"key\":234}}"
   ]
  },
  {
   "cell_type": "code",
   "execution_count": 42,
   "id": "9c356055-4586-426a-a3d4-b71e69200c46",
   "metadata": {},
   "outputs": [],
   "source": [
    "# value as list\n",
    "d13={\"course_name\":[\"data science master\",\"web dev\",\"java\"]}"
   ]
  },
  {
   "cell_type": "code",
   "execution_count": 33,
   "id": "d3711910-1341-4c1d-9614-e4aeb528d666",
   "metadata": {},
   "outputs": [
    {
     "data": {
      "text/plain": [
       "{'course_name': ['data science master', 'web dev', 'java']}"
      ]
     },
     "execution_count": 33,
     "metadata": {},
     "output_type": "execute_result"
    }
   ],
   "source": [
    "d13"
   ]
  },
  {
   "cell_type": "code",
   "execution_count": 43,
   "id": "83290a4d-706d-4d83-b50b-2c178e77332e",
   "metadata": {},
   "outputs": [],
   "source": [
    "# value as tuple\n",
    "d14={\"key\":(1,2,3,4)}"
   ]
  },
  {
   "cell_type": "code",
   "execution_count": 35,
   "id": "dc29957d-ab1d-4915-8855-8ac9d236258c",
   "metadata": {},
   "outputs": [
    {
     "data": {
      "text/plain": [
       "{'key': (1, 2, 3, 4)}"
      ]
     },
     "execution_count": 35,
     "metadata": {},
     "output_type": "execute_result"
    }
   ],
   "source": [
    "d14"
   ]
  },
  {
   "cell_type": "code",
   "execution_count": 44,
   "id": "9c4dab53-e4df-4965-bf09-4a94a597c3ea",
   "metadata": {},
   "outputs": [],
   "source": [
    "# value as sets\n",
    "d15={\"key\":{1,2,3,4}}"
   ]
  },
  {
   "cell_type": "code",
   "execution_count": 37,
   "id": "b5e34a8a-8420-4e9d-8631-44e0338dd542",
   "metadata": {},
   "outputs": [
    {
     "data": {
      "text/plain": [
       "{'key': {1, 2, 3, 4}}"
      ]
     },
     "execution_count": 37,
     "metadata": {},
     "output_type": "execute_result"
    }
   ],
   "source": [
    "d15"
   ]
  },
  {
   "cell_type": "code",
   "execution_count": 46,
   "id": "9057ce5c-8f1a-47d8-b002-074c0714216d",
   "metadata": {},
   "outputs": [],
   "source": [
    "# value as dictionary(nested dictionary)\n",
    "d16={\"key\":{\"name\": \"rohan\",\"class\":\"DSM\"}}"
   ]
  },
  {
   "cell_type": "code",
   "execution_count": 39,
   "id": "e3b97f55-2e8f-46aa-8fbd-b94ce28df8ce",
   "metadata": {},
   "outputs": [
    {
     "data": {
      "text/plain": [
       "{'key': {'name': 'rohan', 'class': 'DSM'}}"
      ]
     },
     "execution_count": 39,
     "metadata": {},
     "output_type": "execute_result"
    }
   ],
   "source": [
    "d16"
   ]
  },
  {
   "cell_type": "code",
   "execution_count": 49,
   "id": "16735403-06f5-489e-a25e-8cdc510fcd24",
   "metadata": {},
   "outputs": [],
   "source": [
    "# value as dictionary multiple values \n",
    "d17={\"batch_name\":[\"Data Science master\",\"web dov\",\"Java\"],\"start_date\":(28,14,21),\"mentor_name\":{\"krish naik\",\"sudhanshu\",\"hitesh\"}}"
   ]
  },
  {
   "cell_type": "code",
   "execution_count": 50,
   "id": "6a96d299-32d6-49aa-9b3b-fc427ab259ab",
   "metadata": {},
   "outputs": [
    {
     "data": {
      "text/plain": [
       "{'batch_name': ['Data Science master', 'web dov', 'Java'],\n",
       " 'start_date': (28, 14, 21),\n",
       " 'mentor_name': {'hitesh', 'krish naik', 'sudhanshu'}}"
      ]
     },
     "execution_count": 50,
     "metadata": {},
     "output_type": "execute_result"
    }
   ],
   "source": [
    "d17"
   ]
  },
  {
   "cell_type": "code",
   "execution_count": 60,
   "id": "7dd5cd6b-edef-4182-ab31-9c3da488beba",
   "metadata": {},
   "outputs": [],
   "source": [
    "# add new element in dictionary\n",
    "d17[\"timing\"]=(8,8,8)"
   ]
  },
  {
   "cell_type": "code",
   "execution_count": 61,
   "id": "a44aa50f-10c3-4c33-a21a-7a6539826fe0",
   "metadata": {},
   "outputs": [
    {
     "data": {
      "text/plain": [
       "{'batch_name': ['Data Science master', 'web dov', 'Java'],\n",
       " 'start_date': (28, 14, 21),\n",
       " 'mentor_name': {'hitesh', 'krish naik', 'sudhanshu'},\n",
       " 'timing': (8, 8, 8)}"
      ]
     },
     "execution_count": 61,
     "metadata": {},
     "output_type": "execute_result"
    }
   ],
   "source": [
    "d17"
   ]
  },
  {
   "cell_type": "code",
   "execution_count": 62,
   "id": "f3d8ec5e-2780-4299-a8b3-b7f981fe5157",
   "metadata": {},
   "outputs": [],
   "source": [
    "d17[\"timing\"]=(8,9,10)"
   ]
  },
  {
   "cell_type": "code",
   "execution_count": 63,
   "id": "7d2b7113-83c0-4be3-b52f-145e260dae61",
   "metadata": {},
   "outputs": [
    {
     "data": {
      "text/plain": [
       "{'batch_name': ['Data Science master', 'web dov', 'Java'],\n",
       " 'start_date': (28, 14, 21),\n",
       " 'mentor_name': {'hitesh', 'krish naik', 'sudhanshu'},\n",
       " 'timing': (8, 9, 10)}"
      ]
     },
     "execution_count": 63,
     "metadata": {},
     "output_type": "execute_result"
    }
   ],
   "source": [
    "d17"
   ]
  },
  {
   "cell_type": "code",
   "execution_count": 65,
   "id": "14f9119b-e15b-4a08-aa90-6026d5a43a93",
   "metadata": {},
   "outputs": [
    {
     "data": {
      "text/plain": [
       "['Data Science master', 'web dov', 'Java']"
      ]
     },
     "execution_count": 65,
     "metadata": {},
     "output_type": "execute_result"
    }
   ],
   "source": [
    "d17['batch_name']"
   ]
  },
  {
   "cell_type": "code",
   "execution_count": 66,
   "id": "5a2b41ac-653b-4888-bc37-0e2039f5b08b",
   "metadata": {},
   "outputs": [
    {
     "data": {
      "text/plain": [
       "{'hitesh', 'krish naik', 'sudhanshu'}"
      ]
     },
     "execution_count": 66,
     "metadata": {},
     "output_type": "execute_result"
    }
   ],
   "source": [
    "d17['mentor_name']"
   ]
  },
  {
   "cell_type": "code",
   "execution_count": 67,
   "id": "43ee8f2a-3100-4ac7-b6e5-e186dae267d4",
   "metadata": {},
   "outputs": [
    {
     "data": {
      "text/plain": [
       "set"
      ]
     },
     "execution_count": 67,
     "metadata": {},
     "output_type": "execute_result"
    }
   ],
   "source": [
    "type(d17['mentor_name'])"
   ]
  },
  {
   "cell_type": "code",
   "execution_count": 68,
   "id": "9a8c85e3-ae6d-4d1c-9b44-92110aef9886",
   "metadata": {},
   "outputs": [],
   "source": [
    "d17[\"name\"]=\"sudhanshu\""
   ]
  },
  {
   "cell_type": "code",
   "execution_count": 69,
   "id": "48aaca3d-9c65-4782-b3fc-4fe4ecc39d9d",
   "metadata": {},
   "outputs": [
    {
     "data": {
      "text/plain": [
       "{'batch_name': ['Data Science master', 'web dov', 'Java'],\n",
       " 'start_date': (28, 14, 21),\n",
       " 'mentor_name': {'hitesh', 'krish naik', 'sudhanshu'},\n",
       " 'timing': (8, 9, 10),\n",
       " 'name': 'sudhanshu'}"
      ]
     },
     "execution_count": 69,
     "metadata": {},
     "output_type": "execute_result"
    }
   ],
   "source": [
    "d17"
   ]
  },
  {
   "cell_type": "code",
   "execution_count": 70,
   "id": "4b381623-c564-4012-901e-580a8d43c794",
   "metadata": {},
   "outputs": [
    {
     "data": {
      "text/plain": [
       "{'key': {'name': 'rohan', 'class': 'DSM'}}"
      ]
     },
     "execution_count": 70,
     "metadata": {},
     "output_type": "execute_result"
    }
   ],
   "source": [
    "d16"
   ]
  },
  {
   "cell_type": "code",
   "execution_count": 75,
   "id": "b7040b29-6d7f-418b-8f5b-0fc1f8198dc6",
   "metadata": {},
   "outputs": [
    {
     "data": {
      "text/plain": [
       "{'name': 'rohan', 'class': 'DSM'}"
      ]
     },
     "execution_count": 75,
     "metadata": {},
     "output_type": "execute_result"
    }
   ],
   "source": [
    "## que =  iterate the DSM \n",
    "d16['key']"
   ]
  },
  {
   "cell_type": "code",
   "execution_count": 73,
   "id": "66cfc8d2-3526-4e1b-9add-f3e2f36e8366",
   "metadata": {},
   "outputs": [
    {
     "data": {
      "text/plain": [
       "dict"
      ]
     },
     "execution_count": 73,
     "metadata": {},
     "output_type": "execute_result"
    }
   ],
   "source": [
    "type(d16['key'])"
   ]
  },
  {
   "cell_type": "code",
   "execution_count": 74,
   "id": "a35a30da-d1f0-49df-9838-40d8af903b15",
   "metadata": {},
   "outputs": [
    {
     "data": {
      "text/plain": [
       "'DSM'"
      ]
     },
     "execution_count": 74,
     "metadata": {},
     "output_type": "execute_result"
    }
   ],
   "source": [
    "d16['key']['class']"
   ]
  },
  {
   "cell_type": "code",
   "execution_count": 76,
   "id": "c36a918d-8daf-46b2-b234-f55784fcc8c1",
   "metadata": {},
   "outputs": [],
   "source": [
    "d16['key1']=\"abc\""
   ]
  },
  {
   "cell_type": "code",
   "execution_count": 77,
   "id": "6636bf7c-14c5-4e11-b2fb-d68fd013195b",
   "metadata": {},
   "outputs": [
    {
     "data": {
      "text/plain": [
       "{'key': {'name': 'rohan', 'class': 'DSM'}, 'key1': 'abc'}"
      ]
     },
     "execution_count": 77,
     "metadata": {},
     "output_type": "execute_result"
    }
   ],
   "source": [
    "d16"
   ]
  },
  {
   "cell_type": "code",
   "execution_count": 78,
   "id": "2421dbe5-76a5-4bec-b677-15f7c5cdeb59",
   "metadata": {},
   "outputs": [],
   "source": [
    "## delete the key1"
   ]
  },
  {
   "cell_type": "code",
   "execution_count": 79,
   "id": "d909ed9a-3505-4eeb-95b2-246da977ae65",
   "metadata": {},
   "outputs": [],
   "source": [
    "del d16['key1']"
   ]
  },
  {
   "cell_type": "code",
   "execution_count": 80,
   "id": "81d2437c-a9d4-4488-a53b-f5c15bbd5bbf",
   "metadata": {},
   "outputs": [
    {
     "data": {
      "text/plain": [
       "{'key': {'name': 'rohan', 'class': 'DSM'}}"
      ]
     },
     "execution_count": 80,
     "metadata": {},
     "output_type": "execute_result"
    }
   ],
   "source": [
    "d16"
   ]
  },
  {
   "cell_type": "code",
   "execution_count": 81,
   "id": "748ae297-5310-4dcf-b80b-24e6f22675b8",
   "metadata": {},
   "outputs": [],
   "source": [
    "d16.clear()"
   ]
  },
  {
   "cell_type": "code",
   "execution_count": 82,
   "id": "408ea7ec-1f6c-4dfd-aaf6-0b67bb6b75c7",
   "metadata": {},
   "outputs": [
    {
     "data": {
      "text/plain": [
       "{}"
      ]
     },
     "execution_count": 82,
     "metadata": {},
     "output_type": "execute_result"
    }
   ],
   "source": [
    "d16"
   ]
  },
  {
   "cell_type": "code",
   "execution_count": 83,
   "id": "5af1d1e9-3dd2-48ab-bd38-2ea0239aef2e",
   "metadata": {},
   "outputs": [
    {
     "data": {
      "text/plain": [
       "{'batch_name': ['Data Science master', 'web dov', 'Java'],\n",
       " 'start_date': (28, 14, 21),\n",
       " 'mentor_name': {'hitesh', 'krish naik', 'sudhanshu'},\n",
       " 'timing': (8, 9, 10),\n",
       " 'name': 'sudhanshu'}"
      ]
     },
     "execution_count": 83,
     "metadata": {},
     "output_type": "execute_result"
    }
   ],
   "source": [
    "d17"
   ]
  },
  {
   "cell_type": "code",
   "execution_count": 84,
   "id": "ec77b9bc-d979-4a9f-8ab6-e2a40040bef3",
   "metadata": {},
   "outputs": [
    {
     "data": {
      "text/plain": [
       "5"
      ]
     },
     "execution_count": 84,
     "metadata": {},
     "output_type": "execute_result"
    }
   ],
   "source": [
    "len(d17)"
   ]
  },
  {
   "cell_type": "code",
   "execution_count": 85,
   "id": "9c9faeaf-8bf2-47e4-a68b-7c3ca9017768",
   "metadata": {},
   "outputs": [
    {
     "data": {
      "text/plain": [
       "dict_keys(['batch_name', 'start_date', 'mentor_name', 'timing', 'name'])"
      ]
     },
     "execution_count": 85,
     "metadata": {},
     "output_type": "execute_result"
    }
   ],
   "source": [
    "d17.keys()"
   ]
  },
  {
   "cell_type": "code",
   "execution_count": 86,
   "id": "ca0e2874-ca31-4392-a671-c6c13003ec0b",
   "metadata": {},
   "outputs": [
    {
     "data": {
      "text/plain": [
       "dict_values([['Data Science master', 'web dov', 'Java'], (28, 14, 21), {'krish naik', 'hitesh', 'sudhanshu'}, (8, 9, 10), 'sudhanshu'])"
      ]
     },
     "execution_count": 86,
     "metadata": {},
     "output_type": "execute_result"
    }
   ],
   "source": [
    "d17.values()"
   ]
  },
  {
   "cell_type": "code",
   "execution_count": 88,
   "id": "dfe23138-4df0-409b-ba97-db6edeebecc4",
   "metadata": {},
   "outputs": [
    {
     "data": {
      "text/plain": [
       "[['Data Science master', 'web dov', 'Java'],\n",
       " (28, 14, 21),\n",
       " {'hitesh', 'krish naik', 'sudhanshu'},\n",
       " (8, 9, 10),\n",
       " 'sudhanshu']"
      ]
     },
     "execution_count": 88,
     "metadata": {},
     "output_type": "execute_result"
    }
   ],
   "source": [
    "list(d17.values())"
   ]
  },
  {
   "cell_type": "code",
   "execution_count": 89,
   "id": "acd6dbed-881a-4973-808b-a820a5e34ba9",
   "metadata": {},
   "outputs": [
    {
     "data": {
      "text/plain": [
       "['batch_name', 'start_date', 'mentor_name', 'timing', 'name']"
      ]
     },
     "execution_count": 89,
     "metadata": {},
     "output_type": "execute_result"
    }
   ],
   "source": [
    "list(d17.keys())"
   ]
  },
  {
   "cell_type": "code",
   "execution_count": 91,
   "id": "f2a967fc-540c-4476-8f48-f70006560e42",
   "metadata": {},
   "outputs": [
    {
     "data": {
      "text/plain": [
       "dict_items([('batch_name', ['Data Science master', 'web dov', 'Java']), ('start_date', (28, 14, 21)), ('mentor_name', {'krish naik', 'hitesh', 'sudhanshu'}), ('timing', (8, 9, 10)), ('name', 'sudhanshu')])"
      ]
     },
     "execution_count": 91,
     "metadata": {},
     "output_type": "execute_result"
    }
   ],
   "source": [
    "## convert key + values in list\n",
    "d17.items()"
   ]
  },
  {
   "cell_type": "code",
   "execution_count": 92,
   "id": "b3694e29-a63a-4e0a-a647-50a2621193ed",
   "metadata": {},
   "outputs": [],
   "source": [
    "d18=d17.copy()"
   ]
  },
  {
   "cell_type": "code",
   "execution_count": 93,
   "id": "47464830-3853-4865-b864-58ed1967dd04",
   "metadata": {},
   "outputs": [
    {
     "data": {
      "text/plain": [
       "{'batch_name': ['Data Science master', 'web dov', 'Java'],\n",
       " 'start_date': (28, 14, 21),\n",
       " 'mentor_name': {'hitesh', 'krish naik', 'sudhanshu'},\n",
       " 'timing': (8, 9, 10),\n",
       " 'name': 'sudhanshu'}"
      ]
     },
     "execution_count": 93,
     "metadata": {},
     "output_type": "execute_result"
    }
   ],
   "source": [
    "d18"
   ]
  },
  {
   "cell_type": "code",
   "execution_count": 94,
   "id": "7e8941ea-1d15-4a5a-adb2-7b50d9c25cdf",
   "metadata": {},
   "outputs": [
    {
     "name": "stdout",
     "output_type": "stream",
     "text": [
      "140461808963776\n",
      "140461677404864\n"
     ]
    }
   ],
   "source": [
    "print(id(d17))\n",
    "print(id(d18))"
   ]
  },
  {
   "cell_type": "code",
   "execution_count": 95,
   "id": "9995b79f-6354-4a42-80e9-50635f46e7ef",
   "metadata": {},
   "outputs": [],
   "source": [
    "del d17['name']"
   ]
  },
  {
   "cell_type": "code",
   "execution_count": 96,
   "id": "287fac59-5c42-4014-96b4-b7e49918818c",
   "metadata": {},
   "outputs": [
    {
     "data": {
      "text/plain": [
       "{'batch_name': ['Data Science master', 'web dov', 'Java'],\n",
       " 'start_date': (28, 14, 21),\n",
       " 'mentor_name': {'hitesh', 'krish naik', 'sudhanshu'},\n",
       " 'timing': (8, 9, 10)}"
      ]
     },
     "execution_count": 96,
     "metadata": {},
     "output_type": "execute_result"
    }
   ],
   "source": [
    "d17"
   ]
  },
  {
   "cell_type": "code",
   "execution_count": 98,
   "id": "b9ab4130-3781-42df-b27b-840e6c70c359",
   "metadata": {},
   "outputs": [
    {
     "data": {
      "text/plain": [
       "{'batch_name': ['Data Science master', 'web dov', 'Java'],\n",
       " 'start_date': (28, 14, 21),\n",
       " 'mentor_name': {'hitesh', 'krish naik', 'sudhanshu'},\n",
       " 'timing': (8, 9, 10),\n",
       " 'name': 'sudhanshu'}"
      ]
     },
     "execution_count": 98,
     "metadata": {},
     "output_type": "execute_result"
    }
   ],
   "source": [
    "# change is not happen \n",
    "d18"
   ]
  },
  {
   "cell_type": "code",
   "execution_count": 99,
   "id": "e57a2318-537a-48be-bd8d-3d839f5e82d4",
   "metadata": {},
   "outputs": [
    {
     "ename": "TypeError",
     "evalue": "pop expected at least 1 argument, got 0",
     "output_type": "error",
     "traceback": [
      "\u001b[0;31m---------------------------------------------------------------------------\u001b[0m",
      "\u001b[0;31mTypeError\u001b[0m                                 Traceback (most recent call last)",
      "Cell \u001b[0;32mIn[99], line 1\u001b[0m\n\u001b[0;32m----> 1\u001b[0m \u001b[43md17\u001b[49m\u001b[38;5;241;43m.\u001b[39;49m\u001b[43mpop\u001b[49m\u001b[43m(\u001b[49m\u001b[43m)\u001b[49m\n",
      "\u001b[0;31mTypeError\u001b[0m: pop expected at least 1 argument, got 0"
     ]
    }
   ],
   "source": [
    "d17.pop()"
   ]
  },
  {
   "cell_type": "code",
   "execution_count": 102,
   "id": "ba88466e-709f-4314-ac95-315b98be27be",
   "metadata": {},
   "outputs": [
    {
     "data": {
      "text/plain": [
       "['Data Science master', 'web dov', 'Java']"
      ]
     },
     "execution_count": 102,
     "metadata": {},
     "output_type": "execute_result"
    }
   ],
   "source": [
    "d17.pop('batch_name')"
   ]
  },
  {
   "cell_type": "code",
   "execution_count": 103,
   "id": "1f1bf9d9-e9ce-424f-a104-6306d0957de4",
   "metadata": {},
   "outputs": [
    {
     "data": {
      "text/plain": [
       "{'start_date': (28, 14, 21),\n",
       " 'mentor_name': {'hitesh', 'krish naik', 'sudhanshu'},\n",
       " 'timing': (8, 9, 10)}"
      ]
     },
     "execution_count": 103,
     "metadata": {},
     "output_type": "execute_result"
    }
   ],
   "source": [
    "d17"
   ]
  },
  {
   "cell_type": "code",
   "execution_count": 104,
   "id": "775c9143-b213-4c27-9355-8ff2192bf5a4",
   "metadata": {},
   "outputs": [
    {
     "data": {
      "text/plain": [
       "(8, 9, 10)"
      ]
     },
     "execution_count": 104,
     "metadata": {},
     "output_type": "execute_result"
    }
   ],
   "source": [
    "d17.pop('timing')"
   ]
  },
  {
   "cell_type": "code",
   "execution_count": 105,
   "id": "9f09bf09-3263-4f59-b624-168ab8f10a8e",
   "metadata": {},
   "outputs": [
    {
     "data": {
      "text/plain": [
       "{'start_date': (28, 14, 21),\n",
       " 'mentor_name': {'hitesh', 'krish naik', 'sudhanshu'}}"
      ]
     },
     "execution_count": 105,
     "metadata": {},
     "output_type": "execute_result"
    }
   ],
   "source": [
    "d17"
   ]
  },
  {
   "cell_type": "code",
   "execution_count": 106,
   "id": "b291d483-6139-49db-83de-a3ee79370f3d",
   "metadata": {},
   "outputs": [
    {
     "data": {
      "text/plain": [
       "{1: ('a', 'b', 'c'), 2: ('a', 'b', 'c'), 3: ('a', 'b', 'c')}"
      ]
     },
     "execution_count": 106,
     "metadata": {},
     "output_type": "execute_result"
    }
   ],
   "source": [
    "d.fromkeys((1,2,3),('a','b','c'))"
   ]
  },
  {
   "cell_type": "code",
   "execution_count": 107,
   "id": "54517682-4b0a-4b1f-9b2d-4e5cf4158548",
   "metadata": {},
   "outputs": [],
   "source": [
    "d19={\"key1\":\"value1\",\"key2\":\"value2\"}\n",
    "d20={\"key3\":\"value3\",\"key4\":\"value4\"}"
   ]
  },
  {
   "cell_type": "code",
   "execution_count": 109,
   "id": "1ccb0ad0-9db7-476f-b414-c7a5c94f8afa",
   "metadata": {},
   "outputs": [
    {
     "data": {
      "text/plain": [
       "({'key1': 'value1', 'key2': 'value2'}, {'key3': 'value3', 'key4': 'value4'})"
      ]
     },
     "execution_count": 109,
     "metadata": {},
     "output_type": "execute_result"
    }
   ],
   "source": [
    "# dictionary inside a tuple is possible \n",
    "(d19,d20)"
   ]
  },
  {
   "cell_type": "code",
   "execution_count": 110,
   "id": "70074621-f3d9-46fe-9ae4-d68ff020420e",
   "metadata": {},
   "outputs": [],
   "source": [
    "d19.update(d20)"
   ]
  },
  {
   "cell_type": "code",
   "execution_count": 111,
   "id": "c9988dd9-c4a5-4493-85d6-f0239f29e0c6",
   "metadata": {},
   "outputs": [
    {
     "data": {
      "text/plain": [
       "{'key1': 'value1', 'key2': 'value2', 'key3': 'value3', 'key4': 'value4'}"
      ]
     },
     "execution_count": 111,
     "metadata": {},
     "output_type": "execute_result"
    }
   ],
   "source": [
    "d19"
   ]
  },
  {
   "cell_type": "code",
   "execution_count": 112,
   "id": "2e6a5327-27fd-4510-8b85-403c8b8ec6b7",
   "metadata": {},
   "outputs": [
    {
     "data": {
      "text/plain": [
       "{'key3': 'value3', 'key4': 'value4'}"
      ]
     },
     "execution_count": 112,
     "metadata": {},
     "output_type": "execute_result"
    }
   ],
   "source": [
    "d20"
   ]
  },
  {
   "cell_type": "code",
   "execution_count": 113,
   "id": "70b78888-1688-49e4-b587-46ca031e9eef",
   "metadata": {},
   "outputs": [],
   "source": [
    "d20.update(d19)"
   ]
  },
  {
   "cell_type": "code",
   "execution_count": 114,
   "id": "4315a9c3-d5bb-4f23-a927-c26fb7d84e9e",
   "metadata": {},
   "outputs": [
    {
     "data": {
      "text/plain": [
       "{'key1': 'value1', 'key2': 'value2', 'key3': 'value3', 'key4': 'value4'}"
      ]
     },
     "execution_count": 114,
     "metadata": {},
     "output_type": "execute_result"
    }
   ],
   "source": [
    "d19"
   ]
  },
  {
   "cell_type": "code",
   "execution_count": 117,
   "id": "c799cb5d-653b-499f-8420-503b4a0f3a0a",
   "metadata": {},
   "outputs": [],
   "source": [
    "# get the data \n",
    "d20.get(\"sudh\")"
   ]
  },
  {
   "cell_type": "code",
   "execution_count": 116,
   "id": "70e74446-f38a-4c71-bb95-f72a2381318f",
   "metadata": {},
   "outputs": [
    {
     "data": {
      "text/plain": [
       "'value3'"
      ]
     },
     "execution_count": 116,
     "metadata": {},
     "output_type": "execute_result"
    }
   ],
   "source": [
    "d20.get(\"key3\")"
   ]
  },
  {
   "cell_type": "markdown",
   "id": "fc5079ee-dbdb-488e-b971-7e98558519b6",
   "metadata": {},
   "source": [
    "## Dictionary comprehension"
   ]
  },
  {
   "cell_type": "code",
   "execution_count": 119,
   "id": "dacc7ece-e7ac-49f9-b8f0-b3e7fd5c8727",
   "metadata": {},
   "outputs": [
    {
     "data": {
      "text/plain": [
       "{1: 1, 2: 4, 3: 9, 4: 16, 5: 25, 6: 36, 7: 49, 8: 64, 9: 81, 10: 100}"
      ]
     },
     "execution_count": 119,
     "metadata": {},
     "output_type": "execute_result"
    }
   ],
   "source": [
    "{i : i**2 for i in range (1,11)}"
   ]
  },
  {
   "cell_type": "code",
   "execution_count": 120,
   "id": "8471ade0-b003-4dfd-ab8b-622c9b36f2e9",
   "metadata": {},
   "outputs": [
    {
     "data": {
      "text/plain": [
       "{1: 11, 2: 12, 3: 13, 4: 14, 5: 15, 6: 16, 7: 17, 8: 18, 9: 19, 10: 20}"
      ]
     },
     "execution_count": 120,
     "metadata": {},
     "output_type": "execute_result"
    }
   ],
   "source": [
    "{i : i+10 for i in range (1,11)}"
   ]
  },
  {
   "cell_type": "code",
   "execution_count": 126,
   "id": "d6989b73-1949-48dc-a6ae-7b2196313d72",
   "metadata": {},
   "outputs": [
    {
     "data": {
      "text/plain": [
       "{1: 0.0,\n",
       " 2: 0.3010299956639812,\n",
       " 3: 0.47712125471966244,\n",
       " 4: 0.6020599913279624,\n",
       " 5: 0.6989700043360189,\n",
       " 6: 0.7781512503836436,\n",
       " 7: 0.8450980400142568,\n",
       " 8: 0.9030899869919435,\n",
       " 9: 0.9542425094393249,\n",
       " 10: 1.0}"
      ]
     },
     "execution_count": 126,
     "metadata": {},
     "output_type": "execute_result"
    }
   ],
   "source": [
    "import math\n",
    "{ i: math.log10(i) for i in range (1,11)}"
   ]
  },
  {
   "cell_type": "code",
   "execution_count": 127,
   "id": "3ff21e66-9036-47c3-b6ef-3ef9abcb58a3",
   "metadata": {},
   "outputs": [],
   "source": [
    "import math\n",
    "d21={ i: math.log10(i) for i in range (1,11)}"
   ]
  },
  {
   "cell_type": "code",
   "execution_count": 128,
   "id": "cb9c3bba-0ba8-49e9-ac15-a1e9e189bb78",
   "metadata": {},
   "outputs": [
    {
     "data": {
      "text/plain": [
       "{1: 0.0,\n",
       " 2: 0.3010299956639812,\n",
       " 3: 0.47712125471966244,\n",
       " 4: 0.6020599913279624,\n",
       " 5: 0.6989700043360189,\n",
       " 6: 0.7781512503836436,\n",
       " 7: 0.8450980400142568,\n",
       " 8: 0.9030899869919435,\n",
       " 9: 0.9542425094393249,\n",
       " 10: 1.0}"
      ]
     },
     "execution_count": 128,
     "metadata": {},
     "output_type": "execute_result"
    }
   ],
   "source": [
    "d21"
   ]
  },
  {
   "cell_type": "code",
   "execution_count": 122,
   "id": "bb78dd13-767b-4489-8923-3bd581058877",
   "metadata": {},
   "outputs": [
    {
     "data": {
      "text/plain": [
       "{'start_date': (28, 14, 21),\n",
       " 'mentor_name': {'hitesh', 'krish naik', 'sudhanshu'}}"
      ]
     },
     "execution_count": 122,
     "metadata": {},
     "output_type": "execute_result"
    }
   ],
   "source": [
    "d17"
   ]
  },
  {
   "cell_type": "code",
   "execution_count": 123,
   "id": "628cf626-1468-444d-a8f2-b0c32c22c6a5",
   "metadata": {},
   "outputs": [
    {
     "data": {
      "text/plain": [
       "True"
      ]
     },
     "execution_count": 123,
     "metadata": {},
     "output_type": "execute_result"
    }
   ],
   "source": [
    "'start_date' in d17"
   ]
  },
  {
   "cell_type": "code",
   "execution_count": 129,
   "id": "79a017f2-6b3b-4126-9ff1-5946db4c2152",
   "metadata": {},
   "outputs": [],
   "source": [
    "## que = just try to filter out where keys are even number extract these keys "
   ]
  },
  {
   "cell_type": "code",
   "execution_count": 131,
   "id": "3caf9020-38b7-466f-9068-8c2009d712a4",
   "metadata": {},
   "outputs": [
    {
     "data": {
      "text/plain": [
       "dict_keys([1, 2, 3, 4, 5, 6, 7, 8, 9, 10])"
      ]
     },
     "execution_count": 131,
     "metadata": {},
     "output_type": "execute_result"
    }
   ],
   "source": [
    "d21.keys()"
   ]
  },
  {
   "cell_type": "code",
   "execution_count": 135,
   "id": "6d0ff9eb-4ba3-4b0d-b987-636bb6fc98a9",
   "metadata": {},
   "outputs": [
    {
     "name": "stdout",
     "output_type": "stream",
     "text": [
      "0.3010299956639812\n",
      "0.6020599913279624\n",
      "0.7781512503836436\n",
      "0.9030899869919435\n",
      "1.0\n"
     ]
    }
   ],
   "source": [
    "for i in d21.keys():\n",
    "    if i%2==0:\n",
    "        print(d21[i])"
   ]
  },
  {
   "cell_type": "markdown",
   "id": "013c432a-1aed-4b96-a2f5-f0429e40d9d5",
   "metadata": {},
   "source": [
    "que.  Using setdefault() method, create key named topics in the given dictionary and \n",
    "also add the value of the key as this list ['Python', 'Machine Learning’, 'Deep Learning']\n",
    "\n",
    "dict1 = {'language' : 'Python', 'course': 'Data Science Masters'}"
   ]
  },
  {
   "cell_type": "code",
   "execution_count": 1,
   "id": "6b1967bc-8ced-40cd-ba06-5ea95f61aca4",
   "metadata": {},
   "outputs": [],
   "source": [
    "dict1={\"language\":\"python\",\"course\" : \"Data science master\"}"
   ]
  },
  {
   "cell_type": "code",
   "execution_count": 2,
   "id": "418b5786-2e23-4ad1-aa71-0dc803d4e85c",
   "metadata": {},
   "outputs": [],
   "source": [
    "dict2=dict1.setdefault(\"course\")"
   ]
  },
  {
   "cell_type": "code",
   "execution_count": 3,
   "id": "6458a797-a2c8-4e1f-9902-af377516adb0",
   "metadata": {},
   "outputs": [
    {
     "name": "stdout",
     "output_type": "stream",
     "text": [
      "default Data science master\n",
      "{'language': 'python', 'course': 'Data science master'}\n"
     ]
    }
   ],
   "source": [
    "print(\"default\",dict2)\n",
    "print(dict1)"
   ]
  },
  {
   "cell_type": "code",
   "execution_count": 5,
   "id": "d8030218-7b2d-4d72-b499-f3745fad5f8b",
   "metadata": {},
   "outputs": [],
   "source": [
    "dict2=dict1.setdefault(\"duration\",\"six months\")"
   ]
  },
  {
   "cell_type": "code",
   "execution_count": 6,
   "id": "c31c8180-e0ee-4cb8-990b-c2be6374e5ec",
   "metadata": {},
   "outputs": [
    {
     "name": "stdout",
     "output_type": "stream",
     "text": [
      "default six months\n",
      "{'language': 'python', 'course': 'Data science master', 'duration': 'six months'}\n"
     ]
    }
   ],
   "source": [
    "print(\"default\",dict2)\n",
    "print(dict1)"
   ]
  },
  {
   "cell_type": "code",
   "execution_count": 7,
   "id": "926204ab-1288-4d7e-a64b-704a3d97e02e",
   "metadata": {},
   "outputs": [],
   "source": [
    "dict2=dict1.setdefault(\"fee\")"
   ]
  },
  {
   "cell_type": "code",
   "execution_count": 8,
   "id": "31646450-40e8-4a1a-b43b-ba186ad31674",
   "metadata": {},
   "outputs": [
    {
     "name": "stdout",
     "output_type": "stream",
     "text": [
      "default None\n",
      "{'language': 'python', 'course': 'Data science master', 'duration': 'six months', 'fee': None}\n"
     ]
    }
   ],
   "source": [
    "print(\"default\",dict2)\n",
    "print(dict1)"
   ]
  },
  {
   "cell_type": "code",
   "execution_count": null,
   "id": "986663c9-1e6e-4013-a182-6be5c551d4cc",
   "metadata": {},
   "outputs": [],
   "source": []
  },
  {
   "cell_type": "code",
   "execution_count": null,
   "id": "2b85d115-d9d8-4936-bb18-ce6475e96626",
   "metadata": {},
   "outputs": [],
   "source": []
  },
  {
   "cell_type": "code",
   "execution_count": null,
   "id": "90fb4f3b-50d7-4447-95af-da8d88157f04",
   "metadata": {},
   "outputs": [],
   "source": []
  },
  {
   "cell_type": "code",
   "execution_count": null,
   "id": "62404273-3990-419f-b4e3-862782656b32",
   "metadata": {},
   "outputs": [],
   "source": []
  }
 ],
 "metadata": {
  "kernelspec": {
   "display_name": "Python 3 (ipykernel)",
   "language": "python",
   "name": "python3"
  },
  "language_info": {
   "codemirror_mode": {
    "name": "ipython",
    "version": 3
   },
   "file_extension": ".py",
   "mimetype": "text/x-python",
   "name": "python",
   "nbconvert_exporter": "python",
   "pygments_lexer": "ipython3",
   "version": "3.10.8"
  }
 },
 "nbformat": 4,
 "nbformat_minor": 5
}
