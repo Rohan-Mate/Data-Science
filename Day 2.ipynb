{
 "cells": [
  {
   "cell_type": "code",
   "execution_count": 1,
   "id": "00e26799-9744-4dc4-8cfe-ea09ec618a8c",
   "metadata": {},
   "outputs": [],
   "source": [
    "a=10"
   ]
  },
  {
   "cell_type": "code",
   "execution_count": 2,
   "id": "0dc443ac-8b91-4f22-823d-b559eb72f282",
   "metadata": {},
   "outputs": [
    {
     "data": {
      "text/plain": [
       "10"
      ]
     },
     "execution_count": 2,
     "metadata": {},
     "output_type": "execute_result"
    }
   ],
   "source": [
    "a"
   ]
  },
  {
   "cell_type": "code",
   "execution_count": 3,
   "id": "bbb47b5f-eabc-4827-8107-28a34ed078c5",
   "metadata": {},
   "outputs": [],
   "source": [
    "a=\"c\""
   ]
  },
  {
   "cell_type": "code",
   "execution_count": 5,
   "id": "8d0c4aba-b674-4cb1-8e59-7863c6072b44",
   "metadata": {},
   "outputs": [
    {
     "data": {
      "text/plain": [
       "str"
      ]
     },
     "execution_count": 5,
     "metadata": {},
     "output_type": "execute_result"
    }
   ],
   "source": [
    "type(a)"
   ]
  },
  {
   "cell_type": "code",
   "execution_count": 6,
   "id": "62237b01-14bf-4cf5-a85d-641d649dfa56",
   "metadata": {},
   "outputs": [
    {
     "data": {
      "text/plain": [
       "0"
      ]
     },
     "execution_count": 6,
     "metadata": {},
     "output_type": "execute_result"
    }
   ],
   "source": [
    "int()"
   ]
  },
  {
   "cell_type": "code",
   "execution_count": 7,
   "id": "982dcc99-9842-4344-bd73-f0e03f2331da",
   "metadata": {},
   "outputs": [
    {
     "data": {
      "text/plain": [
       "123"
      ]
     },
     "execution_count": 7,
     "metadata": {},
     "output_type": "execute_result"
    }
   ],
   "source": [
    "int('123')"
   ]
  },
  {
   "cell_type": "code",
   "execution_count": 8,
   "id": "37f4344c-156c-40e7-a6db-78494c83fc4d",
   "metadata": {},
   "outputs": [
    {
     "ename": "ValueError",
     "evalue": "invalid literal for int() with base 10: 'abcd'",
     "output_type": "error",
     "traceback": [
      "\u001b[0;31m---------------------------------------------------------------------------\u001b[0m",
      "\u001b[0;31mValueError\u001b[0m                                Traceback (most recent call last)",
      "Cell \u001b[0;32mIn[8], line 1\u001b[0m\n\u001b[0;32m----> 1\u001b[0m \u001b[38;5;28;43mint\u001b[39;49m\u001b[43m(\u001b[49m\u001b[38;5;124;43m'\u001b[39;49m\u001b[38;5;124;43mabcd\u001b[39;49m\u001b[38;5;124;43m'\u001b[39;49m\u001b[43m)\u001b[49m\n",
      "\u001b[0;31mValueError\u001b[0m: invalid literal for int() with base 10: 'abcd'"
     ]
    }
   ],
   "source": [
    "int('abcd')"
   ]
  },
  {
   "cell_type": "code",
   "execution_count": 9,
   "id": "0dd34fdd-2afd-4386-b0f5-5603de3f45f2",
   "metadata": {},
   "outputs": [
    {
     "name": "stdout",
     "output_type": "stream",
     "text": [
      "hello\n"
     ]
    }
   ],
   "source": [
    "print('hello')"
   ]
  },
  {
   "cell_type": "code",
   "execution_count": 10,
   "id": "0ac651e9-ead6-4e4e-b0f1-5b8295eb4402",
   "metadata": {},
   "outputs": [
    {
     "name": "stdout",
     "output_type": "stream",
     "text": [
      "123\n"
     ]
    }
   ],
   "source": [
    "print(123)"
   ]
  },
  {
   "cell_type": "code",
   "execution_count": 11,
   "id": "cf86ad7d-b27a-4dab-ada8-2de9d1f43e57",
   "metadata": {},
   "outputs": [
    {
     "name": "stdout",
     "output_type": "stream",
     "text": [
      "hello\n"
     ]
    }
   ],
   "source": [
    "print(\"hello\")"
   ]
  },
  {
   "cell_type": "code",
   "execution_count": 14,
   "id": "6947662a-f961-42d2-b394-96fd97df6e10",
   "metadata": {},
   "outputs": [
    {
     "name": "stdout",
     "output_type": "stream",
     "text": [
      "my age is : 27\n"
     ]
    }
   ],
   "source": [
    "age=27\n",
    "print (\"my age is :\",age)"
   ]
  },
  {
   "cell_type": "code",
   "execution_count": 16,
   "id": "96a5becc-332f-4a49-8a21-923a55dd68d6",
   "metadata": {},
   "outputs": [
    {
     "name": "stdout",
     "output_type": "stream",
     "text": [
      "My Age is :{age}\n"
     ]
    }
   ],
   "source": [
    "print(\"My Age is :{age}\")"
   ]
  },
  {
   "cell_type": "code",
   "execution_count": 19,
   "id": "1d76f7ba-1451-4cfe-89f0-258a5a9bc0dc",
   "metadata": {},
   "outputs": [
    {
     "name": "stdout",
     "output_type": "stream",
     "text": [
      "My Age is : 27\n"
     ]
    }
   ],
   "source": [
    "# f string in python which is basically use for formatting\n",
    "print(f\"My Age is : {age}\")"
   ]
  },
  {
   "cell_type": "code",
   "execution_count": 23,
   "id": "36028ab4-2b78-47e2-85ca-265fbdae0336",
   "metadata": {},
   "outputs": [
    {
     "name": "stdout",
     "output_type": "stream",
     "text": [
      "my name is Rohan and age is 27\n"
     ]
    }
   ],
   "source": [
    "## format()\n",
    "name=\"Rohan\"\n",
    "age=27\n",
    "print (\"my name is {} and age is {}\".format(name,age))"
   ]
  },
  {
   "cell_type": "code",
   "execution_count": 24,
   "id": "038249ea-eb11-45da-9898-a208c6577c65",
   "metadata": {},
   "outputs": [
    {
     "name": "stdout",
     "output_type": "stream",
     "text": [
      "my name is 27 and age is Rohan\n"
     ]
    }
   ],
   "source": [
    "print (\"my name is {} and age is {}\".format(age,name))"
   ]
  },
  {
   "cell_type": "code",
   "execution_count": 25,
   "id": "1021b432-bae2-487d-9e68-321d13d71bf8",
   "metadata": {},
   "outputs": [
    {
     "name": "stdout",
     "output_type": "stream",
     "text": [
      "my name is Rohan and age is 27\n"
     ]
    }
   ],
   "source": [
    "## Place holder\n",
    "print (\"my name is {firstname} and age is {firstage}\".format(firstname=name,firstage=age))"
   ]
  },
  {
   "cell_type": "code",
   "execution_count": 31,
   "id": "a3e8b312-df39-4b08-adef-b041afbc4564",
   "metadata": {},
   "outputs": [
    {
     "name": "stdout",
     "output_type": "stream",
     "text": [
      " My age is 27 and i have completed : my degree BE with the name of Rohan mate\n"
     ]
    }
   ],
   "source": [
    "name=\"Rohan mate\"\n",
    "age=27\n",
    "degree=\"BE\"\n",
    "\n",
    "print(f\" My age is {age} and i have completed : my degree {degree} with the name of {name}\")"
   ]
  },
  {
   "cell_type": "code",
   "execution_count": 33,
   "id": "424faad0-6720-4960-9b88-93afac43e198",
   "metadata": {},
   "outputs": [
    {
     "name": "stdout",
     "output_type": "stream",
     "text": [
      " My age is 27 and i have completed : my degree BE with the name of Rohan mate\n"
     ]
    }
   ],
   "source": [
    "print(\" My age is {} and i have completed : my degree {} with the name of {}\".format(age,degree,name))"
   ]
  },
  {
   "cell_type": "markdown",
   "id": "840ebc8e-fc6e-4a23-9139-cb492fd16e22",
   "metadata": {},
   "source": [
    "## Control Flow \n",
    "### Decision Making statements\n"
   ]
  },
  {
   "cell_type": "code",
   "execution_count": 34,
   "id": "eaaf987d-290e-4b26-9050-c3e768c4b3b0",
   "metadata": {},
   "outputs": [
    {
     "name": "stdout",
     "output_type": "stream",
     "text": [
      "You Are Eligible For Vote\n"
     ]
    }
   ],
   "source": [
    "## if statement\n",
    "age=18\n",
    "if age>=18:\n",
    "    print(\"You Are Eligible For Vote\")"
   ]
  },
  {
   "cell_type": "code",
   "execution_count": 38,
   "id": "77974604-06fe-4d04-a41f-de593c13dd36",
   "metadata": {},
   "outputs": [],
   "source": [
    "age=18\n",
    "if age<18:\n",
    "    print(\"You Are not Eligible For Vote\")"
   ]
  },
  {
   "cell_type": "code",
   "execution_count": 39,
   "id": "d98691be-01e6-4ab7-a257-95d236ea57fb",
   "metadata": {},
   "outputs": [
    {
     "name": "stdout",
     "output_type": "stream",
     "text": [
      "You Are not Eligible For Vote\n"
     ]
    }
   ],
   "source": [
    "age=17\n",
    "if age<18:\n",
    "    print(\"You Are not Eligible For Vote\")"
   ]
  },
  {
   "cell_type": "code",
   "execution_count": 1,
   "id": "029560e9-2e08-40b0-8d6f-fb4a00629df4",
   "metadata": {},
   "outputs": [
    {
     "name": "stdin",
     "output_type": "stream",
     "text": [
      "Enter Your name Rohan\n"
     ]
    }
   ],
   "source": [
    "name=input(\"Enter Your name\")"
   ]
  },
  {
   "cell_type": "code",
   "execution_count": 2,
   "id": "a5a4a77d-389c-4fc1-a839-494f1530247e",
   "metadata": {},
   "outputs": [
    {
     "name": "stdin",
     "output_type": "stream",
     "text": [
      "Enter Your Age 27\n"
     ]
    }
   ],
   "source": [
    "age=int(input(\"Enter Your Age\"))"
   ]
  },
  {
   "cell_type": "code",
   "execution_count": 4,
   "id": "d44a487b-2bc8-4bd5-8415-d4f9bfff7282",
   "metadata": {},
   "outputs": [
    {
     "data": {
      "text/plain": [
       "int"
      ]
     },
     "execution_count": 4,
     "metadata": {},
     "output_type": "execute_result"
    }
   ],
   "source": [
    "type(age)"
   ]
  },
  {
   "cell_type": "code",
   "execution_count": 6,
   "id": "ebd7a0c8-8ef5-43d6-beac-facdda11ecc2",
   "metadata": {},
   "outputs": [],
   "source": [
    "## Task \n",
    "## Take input of age \n",
    "## check whether age>=18 and age<=45\n",
    "## Display a message You are young blood "
   ]
  },
  {
   "cell_type": "code",
   "execution_count": 9,
   "id": "20a2ea08-84b6-4fb4-9967-1e5bfa265ba5",
   "metadata": {},
   "outputs": [
    {
     "name": "stdin",
     "output_type": "stream",
     "text": [
      "Enter The Age 27\n"
     ]
    },
    {
     "name": "stdout",
     "output_type": "stream",
     "text": [
      "You Are Young Blood\n"
     ]
    }
   ],
   "source": [
    "age=int(input(\"Enter The Age\"))\n",
    "if age >=18 and age <=45:\n",
    "    print(\"You Are Young Blood\")"
   ]
  },
  {
   "cell_type": "code",
   "execution_count": 10,
   "id": "dac49402-166a-4093-b9d4-a08c3b4f5b61",
   "metadata": {},
   "outputs": [
    {
     "name": "stdin",
     "output_type": "stream",
     "text": [
      "Enter The Age 17\n"
     ]
    }
   ],
   "source": [
    "age=int(input(\"Enter The Age\"))\n",
    "if age >=18 and age <=45:\n",
    "    print(\"You Are Young Blood\")"
   ]
  },
  {
   "cell_type": "code",
   "execution_count": 11,
   "id": "34c91e75-1cb9-4d4e-87f7-f7007bfac618",
   "metadata": {},
   "outputs": [
    {
     "name": "stdin",
     "output_type": "stream",
     "text": [
      "Enter The Age 50\n"
     ]
    }
   ],
   "source": [
    "age=int(input(\"Enter The Age\"))\n",
    "if age >=18 and age <=45:\n",
    "    print(\"You Are Young Blood\")"
   ]
  },
  {
   "cell_type": "code",
   "execution_count": 12,
   "id": "dc65dc0f-cbae-4840-8835-2772e22a81fa",
   "metadata": {},
   "outputs": [
    {
     "data": {
      "text/plain": [
       "True"
      ]
     },
     "execution_count": 12,
     "metadata": {},
     "output_type": "execute_result"
    }
   ],
   "source": [
    "22>=18 and 22<=45"
   ]
  },
  {
   "cell_type": "code",
   "execution_count": 13,
   "id": "0ab22d42-8b54-4bcc-8c57-76d883597906",
   "metadata": {},
   "outputs": [
    {
     "data": {
      "text/plain": [
       "False"
      ]
     },
     "execution_count": 13,
     "metadata": {},
     "output_type": "execute_result"
    }
   ],
   "source": [
    "17>=18 and 22<=45"
   ]
  },
  {
   "cell_type": "code",
   "execution_count": 14,
   "id": "6f575d5b-dc4d-4862-9963-c780272463d5",
   "metadata": {},
   "outputs": [
    {
     "name": "stdin",
     "output_type": "stream",
     "text": [
      "Enter The Age 17\n"
     ]
    },
    {
     "name": "stdout",
     "output_type": "stream",
     "text": [
      "Thank You we will let you know\n"
     ]
    }
   ],
   "source": [
    "## If else statement\n",
    "age=int(input(\"Enter The Age\"))\n",
    "if age >=18 and age <=45:\n",
    "    print(\"You Are Young Blood\")\n",
    "else:\n",
    "    print(\"Thank You we will let you know\")"
   ]
  },
  {
   "cell_type": "code",
   "execution_count": 15,
   "id": "9364fea9-44b4-49e0-90ed-0c75cfd40a33",
   "metadata": {},
   "outputs": [],
   "source": [
    "## Account money \n",
    "## money > 1000 rs\n",
    "## get discount of 10% off "
   ]
  },
  {
   "cell_type": "code",
   "execution_count": 16,
   "id": "18695a66-bcc8-466d-bb97-21b6196357a4",
   "metadata": {},
   "outputs": [],
   "source": [
    "## Mall - input the product price \n",
    "## product > 1000 rs 20 % off \n",
    "## print the product price after the discount\n",
    "## product <= 1000 rs 30 % off \n",
    "## print the product price after the discount "
   ]
  },
  {
   "cell_type": "code",
   "execution_count": 24,
   "id": "c72ed516-af1a-460e-81b3-7f2e8bb53939",
   "metadata": {},
   "outputs": [
    {
     "name": "stdin",
     "output_type": "stream",
     "text": [
      "Enter The Price 5000\n"
     ]
    },
    {
     "name": "stdout",
     "output_type": "stream",
     "text": [
      "4000\n"
     ]
    }
   ],
   "source": [
    "## My Try ( Mistake use else for 2 contion if multiples then nested if use)\n",
    "price=int(input(\"Enter The Price\"))\n",
    "if price> 1000:\n",
    "    print(int(price*0.80))\n",
    "if price < 1000:\n",
    "    print(int(price*0.70))"
   ]
  },
  {
   "cell_type": "code",
   "execution_count": 22,
   "id": "4888fa2d-90f2-4dc6-8dd1-8177146f3a9d",
   "metadata": {},
   "outputs": [
    {
     "name": "stdin",
     "output_type": "stream",
     "text": [
      "Enter The Price 5000\n"
     ]
    },
    {
     "name": "stdout",
     "output_type": "stream",
     "text": [
      "The price of the product is 4000.0\n"
     ]
    }
   ],
   "source": [
    "## Sir Explaination\n",
    "product_price=int(input(\"Enter The Price\"))\n",
    "if product_price>1000:\n",
    "    print(\"The price of the product is {}\".format(product_price*0.80))\n",
    "else:\n",
    "    print(\"The price of the product is {}\".format(product_price*0.70))\n",
    "                  "
   ]
  },
  {
   "cell_type": "code",
   "execution_count": null,
   "id": "4f046172-aaf8-44d7-a2a5-f548644a2778",
   "metadata": {},
   "outputs": [],
   "source": [
    "## Mall - input the product price \n",
    "## product > 3000 rs 20 % off \n",
    "## print the product price after the discount\n",
    "## product >= 2000 rs and <= 3000 30 % off \n",
    "## print the product price after the discount \n",
    "## product <= 1000 rs and <= 2000 40 % off \n",
    "## print the product price after the discount "
   ]
  },
  {
   "cell_type": "code",
   "execution_count": 29,
   "id": "72a2e190-1dec-4f2e-b713-0750b67803f8",
   "metadata": {},
   "outputs": [
    {
     "name": "stdin",
     "output_type": "stream",
     "text": [
      "Enter the price 5000\n"
     ]
    },
    {
     "name": "stdout",
     "output_type": "stream",
     "text": [
      "The price of the product is 4000.0\n"
     ]
    }
   ],
   "source": [
    "## My Try\n",
    "product_price=int(input(\"Enter the price\"))\n",
    "if product_price > 3000:\n",
    "    print(f\"The price of the product is {product_price*0.8}\")\n",
    "if product_price>=2000 and product_price<=3000:\n",
    "    print(f\"The price of the product is {product_price*0.7}\")\n",
    "if product_price<=1000 and product_price<=2000:\n",
    "    print(f\"the price of the product is {product_price*0.6}\")"
   ]
  },
  {
   "cell_type": "code",
   "execution_count": 2,
   "id": "8918ff0e-beac-4b47-8d72-02ead7949ee2",
   "metadata": {},
   "outputs": [
    {
     "name": "stdin",
     "output_type": "stream",
     "text": [
      "Enter The Price 700\n"
     ]
    },
    {
     "name": "stdout",
     "output_type": "stream",
     "text": [
      "the price of product is 420.0\n"
     ]
    }
   ],
   "source": [
    "## Sir Explaination\n",
    "product_price=int(input(\"Enter The Price\"))\n",
    "if product_price>3000:\n",
    "    print(f\"the price of product is {product_price*0.8}\")\n",
    "elif product_price>=2000 and product_price<=3000:\n",
    "    print(f\"the price of product is {product_price*0.7}\")\n",
    "else:\n",
    "    print(f\"the price of product is {product_price*0.6}\")"
   ]
  },
  {
   "cell_type": "code",
   "execution_count": null,
   "id": "0e388038-4ee8-4d74-965e-188c93f0ffd2",
   "metadata": {},
   "outputs": [],
   "source": [
    "## Nested if \n",
    "\n",
    "## Mall - input the product price \n",
    "## product > 3000 rs 20 % off \n",
    "## price is == 4000 you get a trip to goa \n",
    "## print the product price after the discount\n",
    "## product >= 2000 rs and <= 3000 30 % off \n",
    "## print the product price after the discount\n",
    "## price==2999 u will get additional gifts\n",
    "## product <= 100 rs and <= 2000 40 % off \n",
    "## print the product price after the discount \n",
    "\n",
    "\n",
    "## Double Sign ( == ) use for compairision"
   ]
  },
  {
   "cell_type": "code",
   "execution_count": 10,
   "id": "c6e948ba-2ebe-47e1-a432-51d2a0ac1df5",
   "metadata": {},
   "outputs": [
    {
     "name": "stdin",
     "output_type": "stream",
     "text": [
      "Enyer The Price 4000\n"
     ]
    },
    {
     "name": "stdout",
     "output_type": "stream",
     "text": [
      "Congratulation you get a trip to goa\n",
      "The price of product is 3200.0\n"
     ]
    }
   ],
   "source": [
    "product_price=int(input(\"Enyer The Price\"))\n",
    "if product_price>3000:\n",
    "    if product_price==4000:\n",
    "        print(\"Congratulation you get a trip to goa\")\n",
    "    print(f\"The price of product is {product_price*0.8}\")\n",
    "elif product_price>=2000 and product_price<=3000:\n",
    "    if product_price==2999:\n",
    "        print(\"Congratulation you get an additional gifts\")\n",
    "        print(f\"The price of the product is {product_price*0.6}\")\n",
    "elif product_price>=100 and product_price<=2000:\n",
    "    print(f\"the price of product is {product_price*0.6}\")\n",
    "else:\n",
    "    print(\"Lets drink tea\")\n",
    "    print(\"i will also there\")"
   ]
  },
  {
   "cell_type": "code",
   "execution_count": 12,
   "id": "00989ed6-ad2e-460c-bb08-fc907e776f45",
   "metadata": {},
   "outputs": [
    {
     "name": "stdin",
     "output_type": "stream",
     "text": [
      "Enter the number 1200\n"
     ]
    },
    {
     "name": "stdout",
     "output_type": "stream",
     "text": [
      "Go Home\n"
     ]
    }
   ],
   "source": [
    "## single statement\n",
    "val=int(input(\"Enter the number\"))\n",
    "if (val<=999):print(\"value is less than equal to 999\")\n",
    "else:\n",
    "    print(\"Go Home\")"
   ]
  },
  {
   "cell_type": "code",
   "execution_count": null,
   "id": "b55157e5-413c-4bb7-a34d-f85108c1e3d1",
   "metadata": {},
   "outputs": [],
   "source": []
  },
  {
   "cell_type": "code",
   "execution_count": null,
   "id": "6e65eba4-d353-4f39-b696-e994b68d51c9",
   "metadata": {},
   "outputs": [],
   "source": []
  },
  {
   "cell_type": "code",
   "execution_count": null,
   "id": "d70fe8ff-f078-4127-bcf8-85cf4206d06d",
   "metadata": {},
   "outputs": [],
   "source": []
  },
  {
   "cell_type": "code",
   "execution_count": null,
   "id": "bd9c8855-2ceb-40ae-a6ce-217a5a330335",
   "metadata": {},
   "outputs": [],
   "source": []
  },
  {
   "cell_type": "code",
   "execution_count": null,
   "id": "43044b44-8e63-42b9-96a7-e2c77dfd9a42",
   "metadata": {},
   "outputs": [],
   "source": []
  },
  {
   "cell_type": "code",
   "execution_count": null,
   "id": "dc4c3f76-d7b4-4435-8fae-338bfd0f8a66",
   "metadata": {},
   "outputs": [],
   "source": []
  },
  {
   "cell_type": "code",
   "execution_count": null,
   "id": "7b0e592a-dabe-4803-b966-e40eb04ead2f",
   "metadata": {},
   "outputs": [],
   "source": []
  },
  {
   "cell_type": "code",
   "execution_count": null,
   "id": "572f9d94-ee32-4bb2-925c-030a4d167e13",
   "metadata": {},
   "outputs": [],
   "source": []
  },
  {
   "cell_type": "code",
   "execution_count": null,
   "id": "a574b02e-d596-4918-a1ae-421eebadd366",
   "metadata": {},
   "outputs": [],
   "source": []
  },
  {
   "cell_type": "code",
   "execution_count": null,
   "id": "69436696-53aa-49e7-95bf-e076801388f1",
   "metadata": {},
   "outputs": [],
   "source": []
  },
  {
   "cell_type": "code",
   "execution_count": null,
   "id": "74ead589-ca7e-44eb-9330-10ca1698b14c",
   "metadata": {},
   "outputs": [],
   "source": []
  },
  {
   "cell_type": "code",
   "execution_count": null,
   "id": "7fe70cf6-50ae-4aa1-9f7c-e4f2308bf94c",
   "metadata": {},
   "outputs": [],
   "source": []
  },
  {
   "cell_type": "code",
   "execution_count": null,
   "id": "607f6198-0161-4fdc-935f-bfb2c6eba19b",
   "metadata": {},
   "outputs": [],
   "source": []
  }
 ],
 "metadata": {
  "kernelspec": {
   "display_name": "Python 3 (ipykernel)",
   "language": "python",
   "name": "python3"
  },
  "language_info": {
   "codemirror_mode": {
    "name": "ipython",
    "version": 3
   },
   "file_extension": ".py",
   "mimetype": "text/x-python",
   "name": "python",
   "nbconvert_exporter": "python",
   "pygments_lexer": "ipython3",
   "version": "3.10.8"
  }
 },
 "nbformat": 4,
 "nbformat_minor": 5
}
