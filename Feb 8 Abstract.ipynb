{
 "cells": [
  {
   "cell_type": "markdown",
   "id": "d2df85f1-f91a-406a-9262-9ac4bfeb3250",
   "metadata": {},
   "source": [
    "### Abstract class"
   ]
  },
  {
   "cell_type": "code",
   "execution_count": 3,
   "id": "1c94c7b1-ba26-4745-b4f8-bdfb8c3daf60",
   "metadata": {},
   "outputs": [],
   "source": [
    "import abc\n",
    "\n",
    "class pwskills:\n",
    "    \n",
    "    @abc.abstractclassmethod\n",
    "    def student_details(self):\n",
    "        pass\n",
    "    \n",
    "    @abc.abstractclassmethod\n",
    "    def student_assignment(self):\n",
    "        pass\n",
    "    \n",
    "    @abc.abstractclassmethod\n",
    "    def student_marks(self):\n",
    "        pass"
   ]
  },
  {
   "cell_type": "code",
   "execution_count": 4,
   "id": "71c1512f-0d2a-4286-99c6-c3f59d3802e1",
   "metadata": {},
   "outputs": [],
   "source": [
    "class data_sci(pwskills):\n",
    "    \n",
    "    def students_details(self):\n",
    "        return \"it will try to return a details of data science masters\"\n",
    "    \n",
    "    def students_assignment(self):\n",
    "        return \"it will return a details of student assignment for data science masters\""
   ]
  },
  {
   "cell_type": "code",
   "execution_count": 5,
   "id": "1f17a5aa-8840-42d2-9b03-da7666339127",
   "metadata": {},
   "outputs": [],
   "source": [
    "class wb_dev(pwskills):\n",
    "    def student_details(self):\n",
    "        return \"this will return a details of web dev\"\n",
    "    \n",
    "    def students_marks(self):\n",
    "        return \"this will return the marks of web dev class\""
   ]
  },
  {
   "cell_type": "code",
   "execution_count": 7,
   "id": "b792c286-31b3-4897-a452-e2edb3768606",
   "metadata": {},
   "outputs": [
    {
     "data": {
      "text/plain": [
       "'it will try to return a details of data science masters'"
      ]
     },
     "execution_count": 7,
     "metadata": {},
     "output_type": "execute_result"
    }
   ],
   "source": [
    "ds=data_sci()\n",
    "ds.students_details()"
   ]
  },
  {
   "cell_type": "code",
   "execution_count": 8,
   "id": "9b8ed10b-6cc0-4ac9-a6c0-1da487490f02",
   "metadata": {},
   "outputs": [
    {
     "data": {
      "text/plain": [
       "'this will return a details of web dev'"
      ]
     },
     "execution_count": 8,
     "metadata": {},
     "output_type": "execute_result"
    }
   ],
   "source": [
    "wb=wb_dev()\n",
    "wb.student_details()"
   ]
  },
  {
   "cell_type": "code",
   "execution_count": null,
   "id": "14490404-56d9-41d3-b6c4-ec9a5e364557",
   "metadata": {},
   "outputs": [],
   "source": []
  }
 ],
 "metadata": {
  "kernelspec": {
   "display_name": "Python 3 (ipykernel)",
   "language": "python",
   "name": "python3"
  },
  "language_info": {
   "codemirror_mode": {
    "name": "ipython",
    "version": 3
   },
   "file_extension": ".py",
   "mimetype": "text/x-python",
   "name": "python",
   "nbconvert_exporter": "python",
   "pygments_lexer": "ipython3",
   "version": "3.10.8"
  }
 },
 "nbformat": 4,
 "nbformat_minor": 5
}
