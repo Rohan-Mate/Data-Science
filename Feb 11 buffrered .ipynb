{
 "cells": [
  {
   "cell_type": "markdown",
   "id": "e795d9da-a6a9-4f9f-8f7d-6d526ae328ae",
   "metadata": {},
   "source": [
    "### Buffered read and write"
   ]
  },
  {
   "cell_type": "code",
   "execution_count": 1,
   "id": "5572b0fe-7e6b-47bf-a849-050d514fdc54",
   "metadata": {},
   "outputs": [],
   "source": [
    "import io"
   ]
  },
  {
   "cell_type": "code",
   "execution_count": 6,
   "id": "cc7f154e-d817-4f72-9311-240608ca303d",
   "metadata": {},
   "outputs": [],
   "source": [
    "with open (\"test.txt\",\"wb\")as f :\n",
    "    file = io.BufferedWriter(f)\n",
    "    file.write(b\"this is my buffer write\\n Data Science Masters course is highly curated and uniquely designed according to the latest industry standards. This program instills in students the skills essential to knowledge discovery efforts to identify standard, novel, and truly differentiated solutions and decision-making, including skills in managing, querying, analyzing, visualizing, and extracting meaning from extremely large data sets. This trending program provides students with the statistical, mathematical, and computational skills needed to meet the large-scale data science challenges of today's professional world. You will learn all the stack required to work in data science, data analytics, and big data industry including cloud infrastructure and real-time industry projects\\n\")\n",
    "    file.write(b\"this is my second line that i am trying to write\")\n",
    "    file.flush()"
   ]
  },
  {
   "cell_type": "code",
   "execution_count": 7,
   "id": "e565e2ec-dc6d-492f-98da-d38045e7abc3",
   "metadata": {},
   "outputs": [
    {
     "name": "stdout",
     "output_type": "stream",
     "text": [
      "b'this is my'\n"
     ]
    }
   ],
   "source": [
    "with open(\"test.txt\",\"rb\") as f :\n",
    "    file = io.BufferedReader(f)\n",
    "    data = file.read(10)\n",
    "    print(data)"
   ]
  },
  {
   "cell_type": "code",
   "execution_count": 8,
   "id": "cabbfcb6-cf1a-4100-84d5-55be3038f9c0",
   "metadata": {},
   "outputs": [
    {
     "name": "stdout",
     "output_type": "stream",
     "text": [
      "b\"this is my buffer write\\n Data Science Masters course is highly curated and uniquely designed according to the latest industry standards. This program instills in students the skills essential to knowledge discovery efforts to identify standard, novel, and truly differentiated solutions and decision-making, including skills in managing, querying, analyzing, visualizing, and extracting meaning from extremely large data sets. This trending program provides students with the statistical, mathematical, and computational skills needed to meet the large-scale data science challenges of today's professional world. You will learn all the stack required to work in data science, data analytics, and big data industry including cloud infrastructure and real-time industry projects\\nthis is my second line that i am trying to write\"\n"
     ]
    }
   ],
   "source": [
    "with open(\"test.txt\",\"rb\") as f :\n",
    "    file = io.BufferedReader(f)\n",
    "    data = file.read(1000)\n",
    "    print(data)"
   ]
  },
  {
   "cell_type": "code",
   "execution_count": null,
   "id": "50cc5caa-ffb2-40c4-b879-661e66c08077",
   "metadata": {},
   "outputs": [],
   "source": []
  }
 ],
 "metadata": {
  "kernelspec": {
   "display_name": "Python 3 (ipykernel)",
   "language": "python",
   "name": "python3"
  },
  "language_info": {
   "codemirror_mode": {
    "name": "ipython",
    "version": 3
   },
   "file_extension": ".py",
   "mimetype": "text/x-python",
   "name": "python",
   "nbconvert_exporter": "python",
   "pygments_lexer": "ipython3",
   "version": "3.10.8"
  }
 },
 "nbformat": 4,
 "nbformat_minor": 5
}
