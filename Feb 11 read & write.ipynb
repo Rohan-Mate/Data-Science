{
 "cells": [
  {
   "cell_type": "markdown",
   "id": "6efcd7be-b28c-4391-b79b-c461103b42ec",
   "metadata": {},
   "source": [
    "### File reading & writing"
   ]
  },
  {
   "cell_type": "code",
   "execution_count": 3,
   "id": "2d1c20b3-630f-4ffd-bbb9-12567acdc677",
   "metadata": {},
   "outputs": [],
   "source": [
    "data ={\n",
    "    \"name\":\"sudh\",\n",
    "    \"mail_id\": \"sudh@gmail.com\",\n",
    "    \"phone_number\": 9134568523,\n",
    "    \"subject\":[\"data science\",\"big data\",\"data analytics\"]\n",
    "}"
   ]
  },
  {
   "cell_type": "code",
   "execution_count": 4,
   "id": "1b9201b6-cf23-415d-9e4c-b505be1fc334",
   "metadata": {},
   "outputs": [],
   "source": [
    "import json"
   ]
  },
  {
   "cell_type": "code",
   "execution_count": 5,
   "id": "f5ee86d9-aff8-4701-b99d-325b951094fd",
   "metadata": {},
   "outputs": [],
   "source": [
    "with open(\"test1.json\",\"w\")as f:\n",
    "    json.dump(data,f)"
   ]
  },
  {
   "cell_type": "code",
   "execution_count": 6,
   "id": "cc026d80-43c7-415e-a29d-223c722b2c98",
   "metadata": {},
   "outputs": [],
   "source": [
    "with open(\"test1.json\",\"r\")as f:\n",
    "    data1 = json.load(f)"
   ]
  },
  {
   "cell_type": "code",
   "execution_count": 7,
   "id": "68935c12-43af-432a-ac6f-7e923daecab6",
   "metadata": {},
   "outputs": [
    {
     "data": {
      "text/plain": [
       "{'name': 'sudh',\n",
       " 'mail_id': 'sudh@gmail.com',\n",
       " 'phone_number': 9134568523,\n",
       " 'subject': ['data science', 'big data', 'data analytics']}"
      ]
     },
     "execution_count": 7,
     "metadata": {},
     "output_type": "execute_result"
    }
   ],
   "source": [
    "data1"
   ]
  },
  {
   "cell_type": "code",
   "execution_count": 8,
   "id": "67b21321-988a-47fb-be24-1f48011fba86",
   "metadata": {},
   "outputs": [
    {
     "data": {
      "text/plain": [
       "['data science', 'big data', 'data analytics']"
      ]
     },
     "execution_count": 8,
     "metadata": {},
     "output_type": "execute_result"
    }
   ],
   "source": [
    "data1[\"subject\"]"
   ]
  },
  {
   "cell_type": "code",
   "execution_count": 9,
   "id": "700842f3-8b50-4be3-ba0e-fe03d62e820d",
   "metadata": {},
   "outputs": [
    {
     "data": {
      "text/plain": [
       "'big data'"
      ]
     },
     "execution_count": 9,
     "metadata": {},
     "output_type": "execute_result"
    }
   ],
   "source": [
    "data1[\"subject\"][1]"
   ]
  },
  {
   "cell_type": "code",
   "execution_count": 10,
   "id": "6e305db9-2160-483e-b090-611ea0a0d2c0",
   "metadata": {},
   "outputs": [],
   "source": [
    "data =[[\"name\",\"email_id\",\"number\"],\n",
    "      [\"sudh\",\"sudh@gmail.com\",3145857568],\n",
    "      [\"krish\",\"krish@gmail.com\",91565871425]\n",
    "      ]"
   ]
  },
  {
   "cell_type": "code",
   "execution_count": 11,
   "id": "1357bad3-d58e-4fe7-9ace-74cafa8d0ee0",
   "metadata": {},
   "outputs": [],
   "source": [
    "import csv\n",
    "# csv = comma separate value"
   ]
  },
  {
   "cell_type": "code",
   "execution_count": 12,
   "id": "c0b78be1-1428-477d-9fb1-edb4093ba7a4",
   "metadata": {},
   "outputs": [],
   "source": [
    "with open(\"test3.csv\",\"w\")as f :\n",
    "    w =csv.writer(f)\n",
    "    for i in data :\n",
    "        w.writerow(i)"
   ]
  },
  {
   "cell_type": "code",
   "execution_count": 13,
   "id": "a1d22eaf-e0e9-4505-a2e8-bb56150f62d7",
   "metadata": {},
   "outputs": [
    {
     "name": "stdout",
     "output_type": "stream",
     "text": [
      "['name', 'email_id', 'number']\n",
      "['sudh', 'sudh@gmail.com', '3145857568']\n",
      "['krish', 'krish@gmail.com', '91565871425']\n"
     ]
    }
   ],
   "source": [
    "with open(\"test3.csv\",\"r\") as f :\n",
    "    read = csv.reader(f)\n",
    "    for i in read:\n",
    "        print(i)"
   ]
  },
  {
   "cell_type": "code",
   "execution_count": 14,
   "id": "b00f8fec-8997-4c91-a3ed-5fa61c745cc3",
   "metadata": {},
   "outputs": [],
   "source": [
    "with open(\"test4.bin\",\"wb\") as f :\n",
    "    f.write(b\"\\x01\\x02\\x03\")"
   ]
  },
  {
   "cell_type": "code",
   "execution_count": 15,
   "id": "7536131d-f60b-4bbb-8f43-320a44280b48",
   "metadata": {},
   "outputs": [
    {
     "name": "stdout",
     "output_type": "stream",
     "text": [
      "b'\\x01\\x02\\x03'\n"
     ]
    }
   ],
   "source": [
    "with open (\"test4.bin\",\"rb\")as f :\n",
    "    print(f.read())"
   ]
  },
  {
   "cell_type": "code",
   "execution_count": null,
   "id": "d0f735e6-7751-4c1f-95a2-992503938ef0",
   "metadata": {},
   "outputs": [],
   "source": []
  }
 ],
 "metadata": {
  "kernelspec": {
   "display_name": "Python 3 (ipykernel)",
   "language": "python",
   "name": "python3"
  },
  "language_info": {
   "codemirror_mode": {
    "name": "ipython",
    "version": 3
   },
   "file_extension": ".py",
   "mimetype": "text/x-python",
   "name": "python",
   "nbconvert_exporter": "python",
   "pygments_lexer": "ipython3",
   "version": "3.10.8"
  }
 },
 "nbformat": 4,
 "nbformat_minor": 5
}
