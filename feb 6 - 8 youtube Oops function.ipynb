{
 "cells": [
  {
   "cell_type": "code",
   "execution_count": 1,
   "id": "5b8eaad7-4ac5-44e7-b91c-b8b6d2a5063e",
   "metadata": {},
   "outputs": [],
   "source": [
    "lst1=[1,2,3,4]"
   ]
  },
  {
   "cell_type": "code",
   "execution_count": 2,
   "id": "7280b074-d56f-40ef-bb7f-947fee47ce42",
   "metadata": {},
   "outputs": [
    {
     "data": {
      "text/plain": [
       "[1, 2, 3, 4]"
      ]
     },
     "execution_count": 2,
     "metadata": {},
     "output_type": "execute_result"
    }
   ],
   "source": [
    "lst1"
   ]
  },
  {
   "cell_type": "code",
   "execution_count": 3,
   "id": "c02dcd7f-71d8-40b1-b8aa-897f98d3beba",
   "metadata": {},
   "outputs": [
    {
     "ename": "AttributeError",
     "evalue": "'list' object has no attribute 'upper'",
     "output_type": "error",
     "traceback": [
      "\u001b[0;31m---------------------------------------------------------------------------\u001b[0m",
      "\u001b[0;31mAttributeError\u001b[0m                            Traceback (most recent call last)",
      "Cell \u001b[0;32mIn[3], line 1\u001b[0m\n\u001b[0;32m----> 1\u001b[0m \u001b[43mlst1\u001b[49m\u001b[38;5;241;43m.\u001b[39;49m\u001b[43mupper\u001b[49m()\n",
      "\u001b[0;31mAttributeError\u001b[0m: 'list' object has no attribute 'upper'"
     ]
    }
   ],
   "source": [
    "lst1.upper()"
   ]
  },
  {
   "cell_type": "code",
   "execution_count": 4,
   "id": "672137e6-0fda-4bb3-ad83-edb39ed3c0cd",
   "metadata": {},
   "outputs": [],
   "source": [
    "city=\"kolkata\""
   ]
  },
  {
   "cell_type": "code",
   "execution_count": 5,
   "id": "c6e150ed-8461-4aa1-8570-aaf8ace094f5",
   "metadata": {},
   "outputs": [
    {
     "data": {
      "text/plain": [
       "'kolkata'"
      ]
     },
     "execution_count": 5,
     "metadata": {},
     "output_type": "execute_result"
    }
   ],
   "source": [
    "city"
   ]
  },
  {
   "cell_type": "code",
   "execution_count": 6,
   "id": "1502ce35-c127-442b-b962-21d7bf646ba3",
   "metadata": {},
   "outputs": [
    {
     "ename": "AttributeError",
     "evalue": "'str' object has no attribute 'append'",
     "output_type": "error",
     "traceback": [
      "\u001b[0;31m---------------------------------------------------------------------------\u001b[0m",
      "\u001b[0;31mAttributeError\u001b[0m                            Traceback (most recent call last)",
      "Cell \u001b[0;32mIn[6], line 1\u001b[0m\n\u001b[0;32m----> 1\u001b[0m \u001b[43mcity\u001b[49m\u001b[38;5;241;43m.\u001b[39;49m\u001b[43mappend\u001b[49m(\u001b[38;5;124m\"\u001b[39m\u001b[38;5;124ma\u001b[39m\u001b[38;5;124m\"\u001b[39m)\n",
      "\u001b[0;31mAttributeError\u001b[0m: 'str' object has no attribute 'append'"
     ]
    }
   ],
   "source": [
    "city.append(\"a\")"
   ]
  },
  {
   "cell_type": "code",
   "execution_count": 7,
   "id": "a269210c-3541-428f-b213-99335f855d55",
   "metadata": {},
   "outputs": [],
   "source": [
    "a=3"
   ]
  },
  {
   "cell_type": "code",
   "execution_count": 8,
   "id": "b8ee4a2f-b20b-42a5-aeb6-d35f151de2a5",
   "metadata": {},
   "outputs": [
    {
     "data": {
      "text/plain": [
       "3"
      ]
     },
     "execution_count": 8,
     "metadata": {},
     "output_type": "execute_result"
    }
   ],
   "source": [
    "a"
   ]
  },
  {
   "cell_type": "code",
   "execution_count": 9,
   "id": "a408f1bc-4d57-47a5-ad27-0bd7274b0b14",
   "metadata": {},
   "outputs": [
    {
     "ename": "AttributeError",
     "evalue": "'int' object has no attribute 'upper'",
     "output_type": "error",
     "traceback": [
      "\u001b[0;31m---------------------------------------------------------------------------\u001b[0m",
      "\u001b[0;31mAttributeError\u001b[0m                            Traceback (most recent call last)",
      "Cell \u001b[0;32mIn[9], line 1\u001b[0m\n\u001b[0;32m----> 1\u001b[0m \u001b[43ma\u001b[49m\u001b[38;5;241;43m.\u001b[39;49m\u001b[43mupper\u001b[49m()\n",
      "\u001b[0;31mAttributeError\u001b[0m: 'int' object has no attribute 'upper'"
     ]
    }
   ],
   "source": [
    "a.upper()"
   ]
  },
  {
   "cell_type": "markdown",
   "id": "dc209295-389a-4718-8235-ceba5d49d232",
   "metadata": {},
   "source": [
    "Everything in python is an object"
   ]
  },
  {
   "cell_type": "code",
   "execution_count": 10,
   "id": "e4c5d728-0b90-4370-97fb-ff7f8f8d5082",
   "metadata": {},
   "outputs": [],
   "source": [
    "a=2"
   ]
  },
  {
   "cell_type": "code",
   "execution_count": 12,
   "id": "ca1c1e1b-abcf-4c80-8a04-9af3976a81ea",
   "metadata": {},
   "outputs": [
    {
     "name": "stdout",
     "output_type": "stream",
     "text": [
      "<class 'int'>\n"
     ]
    }
   ],
   "source": [
    "print(type(a))"
   ]
  },
  {
   "cell_type": "code",
   "execution_count": 13,
   "id": "1bcb12e0-fa28-46e6-8687-5a4406556907",
   "metadata": {},
   "outputs": [],
   "source": [
    "# class name should be in pascal case (e.g ThisIsPascalCase)\n",
    "# object & variables in snake case(e.g this_is_snake_case)"
   ]
  },
  {
   "cell_type": "code",
   "execution_count": 14,
   "id": "90261be7-493f-4b72-b40b-d8e85d50a4d8",
   "metadata": {},
   "outputs": [],
   "source": [
    "# objects : object is an instance of the class "
   ]
  },
  {
   "cell_type": "code",
   "execution_count": 15,
   "id": "2ee38274-dbb6-4248-8afb-5a2c003cfc91",
   "metadata": {},
   "outputs": [],
   "source": [
    "# lets make class\n",
    "# __init__ it is an constructor(it is special method code automatically executed)"
   ]
  },
  {
   "cell_type": "code",
   "execution_count": 1,
   "id": "062b02cc-4efd-44ba-974a-2187742300b8",
   "metadata": {},
   "outputs": [],
   "source": [
    "class Atm:\n",
    "    \n",
    "    def __init__(self):\n",
    "        \n",
    "        self.pin=\"\"\n",
    "        self.balance=0\n",
    "        \n",
    "        self.menu()\n",
    "        \n",
    "    def menu(self):\n",
    "        user_input=input(\"\"\" \n",
    "        Hellow,how would you like to proceed?\n",
    "        1.enter 1 to create pin\n",
    "        2.Enter 2 to deposit\n",
    "        3.Enter 3 to withdraw\n",
    "        4.Enter 4 to check balance\n",
    "        5.Enter 5 to exit \n",
    "\"\"\")\n",
    "        if user_input==\"1\":\n",
    "            print(\"create pin\")\n",
    "        elif user_input==\"2\":\n",
    "            print(\"deposit\")\n",
    "        elif user_input==\"3\":\n",
    "            print(\"withdraw\")\n",
    "        elif user_input==\"4\":\n",
    "            print(\"balance\")\n",
    "        else:\n",
    "            print(\"exit\")"
   ]
  },
  {
   "cell_type": "code",
   "execution_count": 5,
   "id": "1771bb8f-063b-4bd4-bb1a-b79bd81dc276",
   "metadata": {},
   "outputs": [
    {
     "name": "stdin",
     "output_type": "stream",
     "text": [
      " \n",
      "        Hellow,how would you like to proceed?\n",
      "        1.enter 1 to create pin\n",
      "        2.Enter 2 to deposit\n",
      "        3.Enter 3 to withdraw\n",
      "        4.Enter 4 to check balance\n",
      "        5.Enter 5 to exit \n",
      " 1\n"
     ]
    },
    {
     "name": "stdout",
     "output_type": "stream",
     "text": [
      "create pin\n"
     ]
    }
   ],
   "source": [
    "sbi=Atm()"
   ]
  },
  {
   "cell_type": "code",
   "execution_count": 11,
   "id": "374f3cdc-be65-43d0-bba4-48dbc4635696",
   "metadata": {},
   "outputs": [],
   "source": [
    "class Atm1:\n",
    "    \n",
    "    def __init__(self):\n",
    "        \n",
    "        self.pin=\"\"\n",
    "        self.balance=0\n",
    "        \n",
    "        self.menu()\n",
    "        \n",
    "    def menu(self):\n",
    "        user_input=input(\"\"\" \n",
    "        Hello,how would you like to proceed?\n",
    "        1.enter 1 to create pin\n",
    "        2.Enter 2 to deposit\n",
    "        3.Enter 3 to withdraw\n",
    "        4.Enter 4 to check balance\n",
    "        5.Enter 5 to exit \n",
    "\"\"\")\n",
    "        if user_input==\"1\":\n",
    "            self.create_pin()\n",
    "        elif user_input==\"2\":\n",
    "            self.deposit()\n",
    "        elif user_input==\"3\":\n",
    "            self.withdraw()\n",
    "        elif user_input==\"4\":\n",
    "            self.check_balance()\n",
    "        else:\n",
    "            print(\"exit\")\n",
    "            \n",
    "    def create_pin(self):\n",
    "        self.pin=input(\"Enter Your Pin\")\n",
    "        print(\"pin set successfully\")\n",
    "        \n",
    "    def deposit(self):\n",
    "        temp=input(\"enter your pin\")\n",
    "        if temp== self.pin:\n",
    "            amount=int(input(\"Enter the amount\"))\n",
    "            self.balance=self.balance+amount\n",
    "            print(\"deposit\")\n",
    "        else:\n",
    "            print(\"invalid pin\")\n",
    "      \n",
    "    def withdraw(self):\n",
    "        temp=input(\"Enter your pin\")\n",
    "        if temp==self.pin:\n",
    "            amount=int(input(\"Enter the amount\"))\n",
    "            if amount <self.balance:\n",
    "                self.balance=self.balance-amount\n",
    "                print(\"operation successfully\")\n",
    "            else:\n",
    "                print(\"insufficient balance\")\n",
    "        else:\n",
    "            print(\"invalid pin\")\n",
    "                \n",
    "    def check_balance(self):\n",
    "        temp=input(\"enter your pin\")\n",
    "        if temp==self.pin:\n",
    "            print(self.balance)\n",
    "        else:\n",
    "            (\"invalid pin\")\n",
    "            \n",
    "                \n",
    "            "
   ]
  },
  {
   "cell_type": "code",
   "execution_count": 14,
   "id": "b1c2388e-80bd-4656-b835-4cfb62b3433a",
   "metadata": {},
   "outputs": [],
   "source": [
    "sbi=Atm1()"
   ]
  },
  {
   "cell_type": "code",
   "execution_count": 15,
   "id": "567ea9f6-6de3-427d-8ba2-c6fd9e28b23e",
   "metadata": {},
   "outputs": [],
   "source": [
    "class AtmOne:\n",
    "    \n",
    "    def __init__(self):\n",
    "        \n",
    "        self.pin=\"\"\n",
    "        self.balance=0\n",
    "        \n",
    "        self.menu()\n",
    "        \n",
    "    def menu(self):\n",
    "        user_input=input(\"\"\" \n",
    "        Hello,how would you like to proceed?\n",
    "        1.enter 1 to create pin\n",
    "        2.Enter 2 to deposit\n",
    "        3.Enter 3 to withdraw\n",
    "        4.Enter 4 to check balance\n",
    "        5.Enter 5 to exit \n",
    "\"\"\")\n",
    "        if user_input==\"1\":\n",
    "            self.create_pin()\n",
    "        elif user_input==\"2\":\n",
    "            self.deposit()\n",
    "        elif user_input==\"3\":\n",
    "            self.withdraw()\n",
    "        elif user_input==\"4\":\n",
    "            self.check_balance()\n",
    "        else:\n",
    "            print(\"exit\")\n",
    "            \n",
    "    def create_pin(self):\n",
    "        self.pin=input(\"Enter Your Pin\")\n",
    "        print(\"pin set successfully\")\n",
    "        \n",
    "    def deposit(self):\n",
    "        temp=input(\"enter your pin\")\n",
    "        if temp== self.pin:\n",
    "            amount=int(input(\"Enter the amount\"))\n",
    "            self.balance=self.balance+amount\n",
    "            print(\"deposit\")\n",
    "        else:\n",
    "            print(\"invalid pin\")\n",
    "      \n",
    "    def withdraw(self):\n",
    "        temp=input(\"Enter your pin\")\n",
    "        if temp==self.pin:\n",
    "            amount=int(input(\"Enter the amount\"))\n",
    "            if amount <self.balance:\n",
    "                self.balance=self.balance-amount\n",
    "                print(\"operation successfully\")\n",
    "            else:\n",
    "                print(\"insufficient balance\")\n",
    "        else:\n",
    "            print(\"invalid pin\")\n",
    "                \n",
    "    def check_balance(self):\n",
    "        temp=input(\"enter your pin\")\n",
    "        if temp==self.pin:\n",
    "            print(self.balance)\n",
    "        else:\n",
    "            (\"invalid pin\")"
   ]
  },
  {
   "cell_type": "code",
   "execution_count": 19,
   "id": "4e199e82-2d66-4fb8-ba91-7b605ad01b8d",
   "metadata": {},
   "outputs": [
    {
     "name": "stdin",
     "output_type": "stream",
     "text": [
      " \n",
      "        Hello,how would you like to proceed?\n",
      "        1.enter 1 to create pin\n",
      "        2.Enter 2 to deposit\n",
      "        3.Enter 3 to withdraw\n",
      "        4.Enter 4 to check balance\n",
      "        5.Enter 5 to exit \n",
      " 1\n",
      "Enter Your Pin 1234\n"
     ]
    },
    {
     "name": "stdout",
     "output_type": "stream",
     "text": [
      "pin set successfully\n"
     ]
    }
   ],
   "source": [
    "sbi=AtmOne()"
   ]
  },
  {
   "cell_type": "code",
   "execution_count": 21,
   "id": "42bb3d4a-116b-4c02-907c-b6b241de955f",
   "metadata": {},
   "outputs": [
    {
     "name": "stdin",
     "output_type": "stream",
     "text": [
      "enter your pin 1234\n",
      "Enter the amount 100000\n"
     ]
    },
    {
     "name": "stdout",
     "output_type": "stream",
     "text": [
      "deposit\n"
     ]
    }
   ],
   "source": [
    "sbi.deposit()"
   ]
  },
  {
   "cell_type": "code",
   "execution_count": 22,
   "id": "65ee84ca-34f9-4bfd-8a5e-3d4a72ba5c97",
   "metadata": {},
   "outputs": [
    {
     "name": "stdin",
     "output_type": "stream",
     "text": [
      "Enter your pin 1234\n",
      "Enter the amount 25000\n"
     ]
    },
    {
     "name": "stdout",
     "output_type": "stream",
     "text": [
      "operation successfully\n"
     ]
    }
   ],
   "source": [
    "sbi.withdraw()"
   ]
  },
  {
   "cell_type": "code",
   "execution_count": 23,
   "id": "6f5bdbb1-b0ed-4b31-975c-4cc18d33cf73",
   "metadata": {},
   "outputs": [
    {
     "name": "stdin",
     "output_type": "stream",
     "text": [
      "enter your pin 1234\n"
     ]
    },
    {
     "name": "stdout",
     "output_type": "stream",
     "text": [
      "75000\n"
     ]
    }
   ],
   "source": [
    "sbi.check_balance()"
   ]
  },
  {
   "cell_type": "code",
   "execution_count": 25,
   "id": "1b22dd65-86a5-4821-a670-c37a903fc791",
   "metadata": {},
   "outputs": [
    {
     "name": "stdin",
     "output_type": "stream",
     "text": [
      " \n",
      "        Hello,how would you like to proceed?\n",
      "        1.enter 1 to create pin\n",
      "        2.Enter 2 to deposit\n",
      "        3.Enter 3 to withdraw\n",
      "        4.Enter 4 to check balance\n",
      "        5.Enter 5 to exit \n",
      " 1\n",
      "Enter Your Pin 1234\n"
     ]
    },
    {
     "name": "stdout",
     "output_type": "stream",
     "text": [
      "pin set successfully\n"
     ]
    }
   ],
   "source": [
    "hdfc=AtmOne()"
   ]
  },
  {
   "cell_type": "code",
   "execution_count": 26,
   "id": "f2b0110a-a0d6-4630-a3db-c18706fb0905",
   "metadata": {},
   "outputs": [
    {
     "name": "stdin",
     "output_type": "stream",
     "text": [
      "enter your pin 1234\n",
      "Enter the amount 25000\n"
     ]
    },
    {
     "name": "stdout",
     "output_type": "stream",
     "text": [
      "deposit\n"
     ]
    }
   ],
   "source": [
    "hdfc.deposit()"
   ]
  },
  {
   "cell_type": "code",
   "execution_count": 27,
   "id": "5356c7a8-aa9b-4640-9f50-4255257599e2",
   "metadata": {},
   "outputs": [
    {
     "name": "stdin",
     "output_type": "stream",
     "text": [
      "enter your pin 1234\n"
     ]
    },
    {
     "name": "stdout",
     "output_type": "stream",
     "text": [
      "25000\n"
     ]
    }
   ],
   "source": [
    "hdfc.check_balance()"
   ]
  },
  {
   "cell_type": "code",
   "execution_count": 28,
   "id": "e152ab5a-832f-45cf-acbb-2decef0b6adf",
   "metadata": {},
   "outputs": [
    {
     "name": "stdin",
     "output_type": "stream",
     "text": [
      "enter your pin 1234\n"
     ]
    },
    {
     "name": "stdout",
     "output_type": "stream",
     "text": [
      "75000\n"
     ]
    }
   ],
   "source": [
    "sbi.check_balance()"
   ]
  },
  {
   "cell_type": "code",
   "execution_count": 29,
   "id": "5dc61e3b-c355-4926-b2be-23de053f358c",
   "metadata": {},
   "outputs": [],
   "source": [
    "#  magic method = __init__,__add__ (check google)\n",
    "# magic method is special method - automatically trigger"
   ]
  },
  {
   "cell_type": "code",
   "execution_count": 31,
   "id": "1964679b-849c-4111-a05e-6aef198af777",
   "metadata": {},
   "outputs": [],
   "source": [
    "class Atm2:\n",
    "    \n",
    "    def __init__(self):\n",
    "        \n",
    "        self.pin=\"\"\n",
    "        self.balance=0\n",
    "        \n",
    "        print(id(self))\n",
    "        self.menu()\n",
    "        \n",
    "    def menu(self):\n",
    "        user_input=input(\"\"\" \n",
    "        Hello,how would you like to proceed?\n",
    "        1.enter 1 to create pin\n",
    "        2.Enter 2 to deposit\n",
    "        3.Enter 3 to withdraw\n",
    "        4.Enter 4 to check balance\n",
    "        5.Enter 5 to exit \n",
    "\"\"\")\n",
    "        if user_input==\"1\":\n",
    "            self.create_pin()\n",
    "        elif user_input==\"2\":\n",
    "            self.deposit()\n",
    "        elif user_input==\"3\":\n",
    "            self.withdraw()\n",
    "        elif user_input==\"4\":\n",
    "            self.check_balance()\n",
    "        else:\n",
    "            print(\"exit\")\n",
    "            \n",
    "    def create_pin(self):\n",
    "        self.pin=input(\"Enter Your Pin\")\n",
    "        print(\"pin set successfully\")\n",
    "        \n",
    "    def deposit(self):\n",
    "        temp=input(\"enter your pin\")\n",
    "        if temp== self.pin:\n",
    "            amount=int(input(\"Enter the amount\"))\n",
    "            self.balance=self.balance+amount\n",
    "            print(\"deposit\")\n",
    "        else:\n",
    "            print(\"invalid pin\")\n",
    "      \n",
    "    def withdraw(self):\n",
    "        temp=input(\"Enter your pin\")\n",
    "        if temp==self.pin:\n",
    "            amount=int(input(\"Enter the amount\"))\n",
    "            if amount <self.balance:\n",
    "                self.balance=self.balance-amount\n",
    "                print(\"operation successfully\")\n",
    "            else:\n",
    "                print(\"insufficient balance\")\n",
    "        else:\n",
    "            print(\"invalid pin\")\n",
    "                \n",
    "    def check_balance(self):\n",
    "        temp=input(\"enter your pin\")\n",
    "        if temp==self.pin:\n",
    "            print(self.balance)\n",
    "        else:\n",
    "            (\"invalid pin\")"
   ]
  },
  {
   "cell_type": "code",
   "execution_count": 32,
   "id": "7eef22d1-7c80-41c8-9ae9-5b630cdecd04",
   "metadata": {},
   "outputs": [
    {
     "name": "stdout",
     "output_type": "stream",
     "text": [
      "139738956801904\n"
     ]
    },
    {
     "name": "stdin",
     "output_type": "stream",
     "text": [
      " \n",
      "        Hello,how would you like to proceed?\n",
      "        1.enter 1 to create pin\n",
      "        2.Enter 2 to deposit\n",
      "        3.Enter 3 to withdraw\n",
      "        4.Enter 4 to check balance\n",
      "        5.Enter 5 to exit \n",
      " 5\n"
     ]
    },
    {
     "name": "stdout",
     "output_type": "stream",
     "text": [
      "exit\n"
     ]
    }
   ],
   "source": [
    "sbi=Atm1()\n",
    "# self is an object and store and we check the address (id) of self"
   ]
  },
  {
   "cell_type": "code",
   "execution_count": 33,
   "id": "9587627f-f999-48ea-9bdf-7c6e5f7beea0",
   "metadata": {},
   "outputs": [
    {
     "data": {
      "text/plain": [
       "139738956801904"
      ]
     },
     "execution_count": 33,
     "metadata": {},
     "output_type": "execute_result"
    }
   ],
   "source": [
    "id(sbi)"
   ]
  },
  {
   "cell_type": "code",
   "execution_count": 34,
   "id": "1031e438-3471-4f0f-89ea-5d64ba620942",
   "metadata": {},
   "outputs": [],
   "source": [
    "# id of sbi and self is same ; thats mean self = sbi \n",
    "# jis object ke saath aap abhi kam krr rahe ho wo hi self hai "
   ]
  },
  {
   "cell_type": "code",
   "execution_count": 35,
   "id": "80f3f178-2a58-471a-ae5a-be28a5f38cfc",
   "metadata": {},
   "outputs": [
    {
     "name": "stdout",
     "output_type": "stream",
     "text": [
      "139738956799360\n"
     ]
    },
    {
     "name": "stdin",
     "output_type": "stream",
     "text": [
      " \n",
      "        Hello,how would you like to proceed?\n",
      "        1.enter 1 to create pin\n",
      "        2.Enter 2 to deposit\n",
      "        3.Enter 3 to withdraw\n",
      "        4.Enter 4 to check balance\n",
      "        5.Enter 5 to exit \n",
      " 5\n"
     ]
    },
    {
     "name": "stdout",
     "output_type": "stream",
     "text": [
      "exit\n"
     ]
    }
   ],
   "source": [
    "bom=Atm1()"
   ]
  },
  {
   "cell_type": "code",
   "execution_count": 36,
   "id": "ae037d7a-6327-43b2-a746-22ad3030ae9f",
   "metadata": {},
   "outputs": [
    {
     "data": {
      "text/plain": [
       "139738956799360"
      ]
     },
     "execution_count": 36,
     "metadata": {},
     "output_type": "execute_result"
    }
   ],
   "source": [
    "id(bom)"
   ]
  },
  {
   "cell_type": "code",
   "execution_count": 37,
   "id": "a555fa9d-91d2-4214-800e-1d1bfe93a850",
   "metadata": {},
   "outputs": [
    {
     "data": {
      "text/plain": [
       "139738956801904"
      ]
     },
     "execution_count": 37,
     "metadata": {},
     "output_type": "execute_result"
    }
   ],
   "source": [
    "id(sbi)"
   ]
  },
  {
   "cell_type": "code",
   "execution_count": 38,
   "id": "e760caf1-42b1-423e-93d4-a14dbf299ab5",
   "metadata": {},
   "outputs": [],
   "source": [
    "class Atm1:\n",
    "    \n",
    "    def __init__(self):\n",
    "        \n",
    "        self.pin=\"\"\n",
    "        self.balance=0\n",
    "        \n",
    "        self.menu()\n",
    "        \n",
    "    def menu(self):\n",
    "        user_input=input(\"\"\" \n",
    "        Hello,how would you like to proceed?\n",
    "        1.enter 1 to create pin\n",
    "        2.Enter 2 to deposit\n",
    "        3.Enter 3 to withdraw\n",
    "        4.Enter 4 to check balance\n",
    "        5.Enter 5 to exit \n",
    "\"\"\")\n",
    "        if user_input==\"1\":\n",
    "            self.create_pin()\n",
    "        elif user_input==\"2\":\n",
    "            self.deposit()\n",
    "        elif user_input==\"3\":\n",
    "            self.withdraw()\n",
    "        elif user_input==\"4\":\n",
    "            self.check_balance()\n",
    "        else:\n",
    "            print(\"exit\")\n",
    "            \n",
    "    def create_pin():\n",
    "        self.pin=input(\"Enter Your Pin\")\n",
    "        print(\"pin set successfully\")\n",
    "        \n",
    "    def deposit(self):\n",
    "        temp=input(\"enter your pin\")\n",
    "        if temp== self.pin:\n",
    "            amount=int(input(\"Enter the amount\"))\n",
    "            self.balance=self.balance+amount\n",
    "            print(\"deposit\")\n",
    "        else:\n",
    "            print(\"invalid pin\")\n",
    "      \n",
    "    def withdraw(self):\n",
    "        temp=input(\"Enter your pin\")\n",
    "        if temp==self.pin:\n",
    "            amount=int(input(\"Enter the amount\"))\n",
    "            if amount <self.balance:\n",
    "                self.balance=self.balance-amount\n",
    "                print(\"operation successfully\")\n",
    "            else:\n",
    "                print(\"insufficient balance\")\n",
    "        else:\n",
    "            print(\"invalid pin\")\n",
    "                \n",
    "    def check_balance(self):\n",
    "        temp=input(\"enter your pin\")\n",
    "        if temp==self.pin:\n",
    "            print(self.balance)\n",
    "        else:\n",
    "            (\"invalid pin\")"
   ]
  },
  {
   "cell_type": "code",
   "execution_count": 39,
   "id": "0b0697b3-abc3-4299-a787-6e3b96691c27",
   "metadata": {},
   "outputs": [
    {
     "name": "stdin",
     "output_type": "stream",
     "text": [
      " \n",
      "        Hello,how would you like to proceed?\n",
      "        1.enter 1 to create pin\n",
      "        2.Enter 2 to deposit\n",
      "        3.Enter 3 to withdraw\n",
      "        4.Enter 4 to check balance\n",
      "        5.Enter 5 to exit \n",
      " 1\n"
     ]
    },
    {
     "ename": "TypeError",
     "evalue": "Atm1.create_pin() takes 0 positional arguments but 1 was given",
     "output_type": "error",
     "traceback": [
      "\u001b[0;31m---------------------------------------------------------------------------\u001b[0m",
      "\u001b[0;31mTypeError\u001b[0m                                 Traceback (most recent call last)",
      "Cell \u001b[0;32mIn[39], line 1\u001b[0m\n\u001b[0;32m----> 1\u001b[0m sbi\u001b[38;5;241m=\u001b[39m\u001b[43mAtm1\u001b[49m\u001b[43m(\u001b[49m\u001b[43m)\u001b[49m\n",
      "Cell \u001b[0;32mIn[38], line 8\u001b[0m, in \u001b[0;36mAtm1.__init__\u001b[0;34m(self)\u001b[0m\n\u001b[1;32m      5\u001b[0m \u001b[38;5;28mself\u001b[39m\u001b[38;5;241m.\u001b[39mpin\u001b[38;5;241m=\u001b[39m\u001b[38;5;124m\"\u001b[39m\u001b[38;5;124m\"\u001b[39m\n\u001b[1;32m      6\u001b[0m \u001b[38;5;28mself\u001b[39m\u001b[38;5;241m.\u001b[39mbalance\u001b[38;5;241m=\u001b[39m\u001b[38;5;241m0\u001b[39m\n\u001b[0;32m----> 8\u001b[0m \u001b[38;5;28;43mself\u001b[39;49m\u001b[38;5;241;43m.\u001b[39;49m\u001b[43mmenu\u001b[49m\u001b[43m(\u001b[49m\u001b[43m)\u001b[49m\n",
      "Cell \u001b[0;32mIn[38], line 20\u001b[0m, in \u001b[0;36mAtm1.menu\u001b[0;34m(self)\u001b[0m\n\u001b[1;32m     11\u001b[0m         user_input\u001b[38;5;241m=\u001b[39m\u001b[38;5;28minput\u001b[39m(\u001b[38;5;124m\"\"\"\u001b[39m\u001b[38;5;124m \u001b[39m\n\u001b[1;32m     12\u001b[0m \u001b[38;5;124m        Hello,how would you like to proceed?\u001b[39m\n\u001b[1;32m     13\u001b[0m \u001b[38;5;124m        1.enter 1 to create pin\u001b[39m\n\u001b[0;32m   (...)\u001b[0m\n\u001b[1;32m     17\u001b[0m \u001b[38;5;124m        5.Enter 5 to exit \u001b[39m\n\u001b[1;32m     18\u001b[0m \u001b[38;5;124m\"\"\"\u001b[39m)\n\u001b[1;32m     19\u001b[0m         \u001b[38;5;28;01mif\u001b[39;00m user_input\u001b[38;5;241m==\u001b[39m\u001b[38;5;124m\"\u001b[39m\u001b[38;5;124m1\u001b[39m\u001b[38;5;124m\"\u001b[39m:\n\u001b[0;32m---> 20\u001b[0m             \u001b[38;5;28;43mself\u001b[39;49m\u001b[38;5;241;43m.\u001b[39;49m\u001b[43mcreate_pin\u001b[49m\u001b[43m(\u001b[49m\u001b[43m)\u001b[49m\n\u001b[1;32m     21\u001b[0m         \u001b[38;5;28;01melif\u001b[39;00m user_input\u001b[38;5;241m==\u001b[39m\u001b[38;5;124m\"\u001b[39m\u001b[38;5;124m2\u001b[39m\u001b[38;5;124m\"\u001b[39m:\n\u001b[1;32m     22\u001b[0m             \u001b[38;5;28mself\u001b[39m\u001b[38;5;241m.\u001b[39mdeposit()\n",
      "\u001b[0;31mTypeError\u001b[0m: Atm1.create_pin() takes 0 positional arguments but 1 was given"
     ]
    }
   ],
   "source": [
    "sbi=Atm1()"
   ]
  },
  {
   "cell_type": "code",
   "execution_count": null,
   "id": "78392a5c-f906-43fe-802a-79af2a3b86b8",
   "metadata": {},
   "outputs": [],
   "source": [
    "# error bcoz of we remove self from create_pin\n",
    "# class mein ek method dusre method ko call nahi krr sakta hain usko call karne ke liye python mein\n",
    "# self ki jarurat padti hain \n",
    "# methods ko sirf objects hi execute krr sakte hain "
   ]
  }
 ],
 "metadata": {
  "kernelspec": {
   "display_name": "Python 3 (ipykernel)",
   "language": "python",
   "name": "python3"
  },
  "language_info": {
   "codemirror_mode": {
    "name": "ipython",
    "version": 3
   },
   "file_extension": ".py",
   "mimetype": "text/x-python",
   "name": "python",
   "nbconvert_exporter": "python",
   "pygments_lexer": "ipython3",
   "version": "3.10.8"
  }
 },
 "nbformat": 4,
 "nbformat_minor": 5
}
