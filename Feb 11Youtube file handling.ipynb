{
 "cells": [
  {
   "cell_type": "markdown",
   "id": "dbaf118b-470b-4275-9796-a84b193b62fb",
   "metadata": {},
   "source": [
    "### youtbe file handling + serialization + deserialization"
   ]
  },
  {
   "cell_type": "code",
   "execution_count": 1,
   "id": "9498d35d-5074-4d8a-8e94-6dd910fc0224",
   "metadata": {},
   "outputs": [],
   "source": [
    "f=open(\"sample.txt\",\"w\")"
   ]
  },
  {
   "cell_type": "code",
   "execution_count": 2,
   "id": "ea0cde67-0b48-48bb-8eb8-b1470d2b5443",
   "metadata": {},
   "outputs": [
    {
     "data": {
      "text/plain": [
       "11"
      ]
     },
     "execution_count": 2,
     "metadata": {},
     "output_type": "execute_result"
    }
   ],
   "source": [
    "f.write(\"hello world\")"
   ]
  },
  {
   "cell_type": "code",
   "execution_count": 3,
   "id": "2d832622-378f-4a24-a725-53fbebb36a9f",
   "metadata": {},
   "outputs": [],
   "source": [
    "f.close()"
   ]
  },
  {
   "cell_type": "code",
   "execution_count": 4,
   "id": "6799b31b-3b0a-4b3c-bd6a-1362dfb4f138",
   "metadata": {},
   "outputs": [],
   "source": [
    "# since file is closed hence this will not work "
   ]
  },
  {
   "cell_type": "code",
   "execution_count": 5,
   "id": "c8c52d1c-6ede-4f78-b3a0-9d2c0b406b35",
   "metadata": {},
   "outputs": [
    {
     "ename": "ValueError",
     "evalue": "I/O operation on closed file.",
     "output_type": "error",
     "traceback": [
      "\u001b[0;31m---------------------------------------------------------------------------\u001b[0m",
      "\u001b[0;31mValueError\u001b[0m                                Traceback (most recent call last)",
      "Cell \u001b[0;32mIn[5], line 1\u001b[0m\n\u001b[0;32m----> 1\u001b[0m \u001b[43mf\u001b[49m\u001b[38;5;241;43m.\u001b[39;49m\u001b[43mwrite\u001b[49m\u001b[43m(\u001b[49m\u001b[38;5;124;43m'\u001b[39;49m\u001b[38;5;124;43mhello\u001b[39;49m\u001b[38;5;124;43m'\u001b[39;49m\u001b[43m)\u001b[49m\n",
      "\u001b[0;31mValueError\u001b[0m: I/O operation on closed file."
     ]
    }
   ],
   "source": [
    "f.write('hello')"
   ]
  },
  {
   "cell_type": "code",
   "execution_count": 6,
   "id": "8ba47125-b3f3-418f-b1dc-95d8f03402e5",
   "metadata": {},
   "outputs": [],
   "source": [
    "# Que - write multiline strings"
   ]
  },
  {
   "cell_type": "code",
   "execution_count": 7,
   "id": "87466b23-6247-40c2-a98d-71d3b5f74257",
   "metadata": {},
   "outputs": [],
   "source": [
    "f=open(\"sample1.txt\",\"w\")"
   ]
  },
  {
   "cell_type": "code",
   "execution_count": 8,
   "id": "7689a3c7-a028-48db-92ec-c0c849b3cc21",
   "metadata": {},
   "outputs": [
    {
     "data": {
      "text/plain": [
       "11"
      ]
     },
     "execution_count": 8,
     "metadata": {},
     "output_type": "execute_result"
    }
   ],
   "source": [
    "f.write(\"hello world\")"
   ]
  },
  {
   "cell_type": "code",
   "execution_count": 9,
   "id": "4cecacde-a1b4-412d-a480-a0b5581d5133",
   "metadata": {},
   "outputs": [
    {
     "data": {
      "text/plain": [
       "13"
      ]
     },
     "execution_count": 9,
     "metadata": {},
     "output_type": "execute_result"
    }
   ],
   "source": [
    "f.write(\"\\n how are you\")"
   ]
  },
  {
   "cell_type": "code",
   "execution_count": 11,
   "id": "fa9c1bb5-5550-4872-9e45-30414ee8ca47",
   "metadata": {},
   "outputs": [],
   "source": [
    "f.close()"
   ]
  },
  {
   "cell_type": "code",
   "execution_count": 16,
   "id": "08eb276b-2d16-4750-9656-ceb9caa33412",
   "metadata": {},
   "outputs": [],
   "source": [
    "# que - if the file is already present\n",
    "# agar aap existing file ke uppar write karenge to puran content remove ho jayega aur new content aa jayega "
   ]
  },
  {
   "cell_type": "code",
   "execution_count": 13,
   "id": "e04ff5c8-856f-44dd-86d7-65cb480c9211",
   "metadata": {},
   "outputs": [],
   "source": [
    "f = open('sample.txt','w')"
   ]
  },
  {
   "cell_type": "code",
   "execution_count": 14,
   "id": "ae6ab743-72cc-43d5-b849-f9b48f6c10ee",
   "metadata": {},
   "outputs": [
    {
     "data": {
      "text/plain": [
       "11"
      ]
     },
     "execution_count": 14,
     "metadata": {},
     "output_type": "execute_result"
    }
   ],
   "source": [
    "f.write('salman khan')"
   ]
  },
  {
   "cell_type": "code",
   "execution_count": 15,
   "id": "cae4d9e7-653e-4dae-9661-281e96f3c959",
   "metadata": {},
   "outputs": [],
   "source": [
    "f.close()"
   ]
  },
  {
   "cell_type": "code",
   "execution_count": 17,
   "id": "f5013200-8f1a-49b9-8953-c3db52077e26",
   "metadata": {},
   "outputs": [],
   "source": [
    "## que problem with w mode \n",
    "# intriducing append mode "
   ]
  },
  {
   "cell_type": "code",
   "execution_count": 21,
   "id": "65e71aed-4c80-4315-bdee-6920363b10db",
   "metadata": {},
   "outputs": [],
   "source": [
    "f=open(\"sample1.txt\",\"a\")"
   ]
  },
  {
   "cell_type": "code",
   "execution_count": 22,
   "id": "f19c2456-250a-477b-ba61-43ae51030552",
   "metadata": {},
   "outputs": [
    {
     "data": {
      "text/plain": [
       "11"
      ]
     },
     "execution_count": 22,
     "metadata": {},
     "output_type": "execute_result"
    }
   ],
   "source": [
    "f.write(\"\\n i am fine\")"
   ]
  },
  {
   "cell_type": "code",
   "execution_count": 23,
   "id": "815d5c51-20f8-434b-a1cf-6908f8535abe",
   "metadata": {},
   "outputs": [],
   "source": [
    "f.close()"
   ]
  },
  {
   "cell_type": "code",
   "execution_count": 25,
   "id": "75e8c60f-3b84-42e7-9783-625a82b65e2c",
   "metadata": {},
   "outputs": [],
   "source": [
    "# write list on multiple lines \n",
    "l = ['hello\\n','hi\\n','how are you\\n','i am fine']\n",
    "f = open(\"sample1.txt\",\"a\")\n",
    "f.writelines(l)\n",
    "f.close()"
   ]
  },
  {
   "cell_type": "code",
   "execution_count": 27,
   "id": "5dad7fff-9cd3-4c4c-9d6c-96f52e659035",
   "metadata": {},
   "outputs": [
    {
     "name": "stdout",
     "output_type": "stream",
     "text": [
      "hello world\n",
      " how are you\n",
      " i am finehello\n",
      "hi\n",
      "how are you\n",
      "i am fine\n"
     ]
    }
   ],
   "source": [
    "# reading from file \n",
    "# using read\n",
    "f = open(\"sample1.txt\",\"r\")\n",
    "s=f.read()\n",
    "print(s)\n",
    "f.close()"
   ]
  },
  {
   "cell_type": "code",
   "execution_count": 30,
   "id": "22736761-e5d8-4959-9b5d-96c7567228b6",
   "metadata": {},
   "outputs": [
    {
     "name": "stdout",
     "output_type": "stream",
     "text": [
      "hello worl\n"
     ]
    }
   ],
   "source": [
    "# reading upto n charcters\n",
    "f = open(\"sample1.txt\",\"r\")\n",
    "s=f.read(10)\n",
    "print(s)\n",
    "f.close()"
   ]
  },
  {
   "cell_type": "code",
   "execution_count": 31,
   "id": "f98bff71-4f47-48b9-903a-0bd286b4a7cc",
   "metadata": {},
   "outputs": [
    {
     "name": "stdout",
     "output_type": "stream",
     "text": [
      "hello world\n",
      "\n",
      " how are you\n",
      "\n"
     ]
    }
   ],
   "source": [
    "# readline () - to read line by line \n",
    "f = open(\"sample1.txt\",\"r\")\n",
    "print(f.readline())\n",
    "print(f.readline())\n",
    "f.close()"
   ]
  },
  {
   "cell_type": "code",
   "execution_count": null,
   "id": "2897f12f-148e-4b74-802a-c5d9f3817743",
   "metadata": {},
   "outputs": [
    {
     "name": "stdout",
     "output_type": "stream",
     "text": [
      "hello world\n",
      " how are you\n",
      " i am finehello\n",
      "hi\n",
      "how are you\n",
      "i am fine"
     ]
    }
   ],
   "source": [
    "# reading entire using readline\n",
    "f = open(\"sample1.txt\",\"r\")\n",
    "while True:\n",
    "    data = f.readline()\n",
    "    \n",
    "    if data == \" \":\n",
    "        break\n",
    "    else:\n",
    "        print(data,end='')\n",
    "f.close()        "
   ]
  },
  {
   "cell_type": "markdown",
   "id": "030b7e3d-71ac-4fe2-a7a1-f8a5ebd10aa9",
   "metadata": {},
   "source": [
    "## using context manager(with)\n",
    "### its a good idea to close a file after usage as it will free up the resources\n",
    "### if we dont close it garbage collector would close it \n",
    "### with keyword closes the files as soon as the usage is over"
   ]
  },
  {
   "cell_type": "code",
   "execution_count": 1,
   "id": "5e1dff57-f78c-43ea-97f3-ae3fba081690",
   "metadata": {},
   "outputs": [],
   "source": [
    "# with (jaise hi kam khatam ho gaya with keyword file ko close krr diya)\n",
    "with open ('sample1.txt','w') as f :\n",
    "    f.write(\"program is awesome\")"
   ]
  },
  {
   "cell_type": "code",
   "execution_count": 3,
   "id": "00f33620-0e32-41bc-91aa-92b9da6ab878",
   "metadata": {},
   "outputs": [
    {
     "ename": "ValueError",
     "evalue": "I/O operation on closed file.",
     "output_type": "error",
     "traceback": [
      "\u001b[0;31m---------------------------------------------------------------------------\u001b[0m",
      "\u001b[0;31mValueError\u001b[0m                                Traceback (most recent call last)",
      "Cell \u001b[0;32mIn[3], line 1\u001b[0m\n\u001b[0;32m----> 1\u001b[0m \u001b[43mf\u001b[49m\u001b[38;5;241;43m.\u001b[39;49m\u001b[43mwrite\u001b[49m\u001b[43m(\u001b[49m\u001b[38;5;124;43m'\u001b[39;49m\u001b[38;5;124;43mhello\u001b[39;49m\u001b[38;5;124;43m'\u001b[39;49m\u001b[43m)\u001b[49m\n\u001b[1;32m      2\u001b[0m \u001b[38;5;66;03m# error aa gaya reason is file close ho gayi \u001b[39;00m\n",
      "\u001b[0;31mValueError\u001b[0m: I/O operation on closed file."
     ]
    }
   ],
   "source": [
    "f.write('hello')\n",
    "# error aa gaya reason is file close ho gayi "
   ]
  },
  {
   "cell_type": "code",
   "execution_count": 4,
   "id": "7102f70b-02d9-4bcf-9637-7b0b10565aa8",
   "metadata": {},
   "outputs": [
    {
     "name": "stdout",
     "output_type": "stream",
     "text": [
      "program is awesome\n"
     ]
    }
   ],
   "source": [
    "# try f.read () now \n",
    "with open ('sample1.txt','r') as f:\n",
    "    print(f.read())"
   ]
  },
  {
   "cell_type": "code",
   "execution_count": 10,
   "id": "04b504ab-0fa9-45c4-9890-e56a5606d14d",
   "metadata": {},
   "outputs": [],
   "source": [
    "l = ['hello\\n','hi\\n','how are you\\n','i am fine']\n",
    "f = open(\"sample1.txt\",\"w\")\n",
    "f.writelines(l)\n",
    "f.close()"
   ]
  },
  {
   "cell_type": "code",
   "execution_count": 12,
   "id": "655cb632-a3df-43cd-952b-9ff6e9e67cbe",
   "metadata": {},
   "outputs": [
    {
     "name": "stdout",
     "output_type": "stream",
     "text": [
      "hello\n",
      "hi\n",
      "h\n",
      "ow are you\n"
     ]
    }
   ],
   "source": [
    "# moving within file - 10 char then 10 char\n",
    "with open(\"sample1.txt\",'r')as f:\n",
    "    print(f.read(10))\n",
    "    print(f.read(10))"
   ]
  },
  {
   "cell_type": "code",
   "execution_count": 15,
   "id": "c831b817-ba4d-47b8-808e-abc8e2b78d5a",
   "metadata": {},
   "outputs": [],
   "source": [
    "# benefit ? to load a big file in memory \n",
    "# que is agar hamare pass data 10 gb se jada hoga to hum etna load nahi krr sakte reason is \n",
    "# jab bhi hum data load karte hain tab wo RAM mein chala jata hain prr hamari RAM ki capacity utni nahi hogi tab hum data ko chunks me file ko load karenge\n",
    "big_L=[' hello world ' for i in range (1000)]\n",
    "\n",
    "with open ('big.txt','w') as f :\n",
    "    f.writelines(big_L)"
   ]
  },
  {
   "cell_type": "code",
   "execution_count": 16,
   "id": "2004b5d8-a69d-4403-8142-a7335468e011",
   "metadata": {},
   "outputs": [
    {
     "name": "stdout",
     "output_type": "stream",
     "text": [
      "rld  hello world  hello world  hello world  hello world  hello world  hello world  hello world  hell\n",
      "ld  hello world  hello world  hello world  hello world  hello world  hello world  hello world  hello\n",
      "d  hello world  hello world  hello world  hello world  hello world  hello world  hello world  hello \n",
      "  hello world  hello world  hello world  hello world  hello world  hello world  hello world  hello w\n",
      " hello world  hello world  hello world  hello world  hello world  hello world  hello world  hello wo\n",
      "hello world  hello world  hello world  hello world  hello world  hello world  hello world  hello wor\n",
      "ello world  hello world  hello world  hello world  hello world  hello world  hello world  hello worl\n",
      "llo world  hello world  hello world  hello world  hello world  hello world  hello world  hello world\n",
      "lo world  hello world  hello world  hello world  hello world  hello world  hello world  hello world \n",
      "o world  hello world  hello world  hello world  hello world  hello world  hello world  hello world  \n",
      " world  hello world  hello world  hello world  hello world  hello world  hello world  hello world  h\n",
      "world  hello world  hello world  hello world  hello world  hello world  hello world  hello world  he\n",
      "orld  hello world  hello world  hello world  hello world  hello world  hello world  hello world  hel\n",
      "rld  hello world  hello world  hello world  hello world  hello world  hello world  hello world  hell\n",
      "ld  hello world  hello world  hello world  hello world  hello world  hello world  hello world  hello\n",
      "d  hello world  hello world  hello world  hello world  hello world  hello world  hello world  hello \n",
      "  hello world  hello world  hello world  hello world  hello world  hello world  hello world  hello w\n",
      " hello world  hello world  hello world  hello world  hello world  hello world  hello world  hello wo\n",
      "hello world  hello world  hello world  hello world  hello world  hello world  hello world  hello wor\n",
      "ello world  hello world  hello world  hello world  hello world  hello world  hello world  hello worl\n",
      "llo world  hello world  hello world  hello world  hello world  hello world  hello world  hello world\n",
      "lo world  hello world  hello world  hello world  hello world  hello world  hello world  hello world \n",
      "o world  hello world  hello world  hello world  hello world  hello world  hello world  hello world  \n",
      " world  hello world  hello world  hello world  hello world  hello world  hello world  hello world  h\n",
      "world  hello world  hello world  hello world  hello world  hello world  hello world  hello world  he\n",
      "orld  hello world  hello world  hello world  hello world  hello world  hello world  hello world  hel\n",
      "rld  hello world  hello world  hello world  hello world  hello world  hello world  hello world  hell\n",
      "ld  hello world  hello world  hello world  hello world  hello world  hello world  hello world  hello\n",
      "d  hello world  hello world  hello world  hello world  hello world  hello world  hello world  hello \n",
      "  hello world  hello world  hello world  hello world  hello world  hello world  hello world  hello w\n",
      " hello world  hello world  hello world  hello world  hello world  hello world  hello world  hello wo\n",
      "hello world  hello world  hello world  hello world  hello world  hello world  hello world  hello wor\n",
      "ello world  hello world  hello world  hello world  hello world  hello world  hello world  hello worl\n",
      "llo world  hello world  hello world  hello world  hello world  hello world  hello world  hello world\n",
      "lo world  hello world  hello world  hello world  hello world  hello world  hello world  hello world \n",
      "o world  hello world  hello world  hello world  hello world  hello world  hello world  hello world  \n",
      " world  hello world  hello world  hello world  hello world  hello world  hello world  hello world  h\n",
      "world  hello world  hello world  hello world  hello world  hello world  hello world  hello world  he\n",
      "orld  hello world  hello world  hello world  hello world  hello world  hello world  hello world  hel\n",
      "rld  hello world  hello world  hello world  hello world  hello world  hello world  hello world  hell\n",
      "ld  hello world  hello world  hello world  hello world  hello world  hello world  hello world  hello\n",
      "d  hello world  hello world  hello world  hello world  hello world  hello world  hello world  hello \n",
      "  hello world  hello world  hello world  hello world  hello world  hello world  hello world  hello w\n",
      "\n"
     ]
    }
   ],
   "source": [
    "with open('big.txt','r')as f:\n",
    "    chunk_size=100\n",
    "    \n",
    "    while len(f.read(chunk_size)) >0 :\n",
    "        print(f.read(chunk_size))\n",
    "        f.read(chunk_size)\n"
   ]
  },
  {
   "cell_type": "code",
   "execution_count": 18,
   "id": "c3a3b6c6-be26-4a31-a40c-24efe8938209",
   "metadata": {},
   "outputs": [
    {
     "name": "stdout",
     "output_type": "stream",
     "text": [
      "rld  hello world  hello world  hello world  hello world  hello world  hello world  hello world  hell**ld  hello world  hello world  hello world  hello world  hello world  hello world  hello world  hello**d  hello world  hello world  hello world  hello world  hello world  hello world  hello world  hello **  hello world  hello world  hello world  hello world  hello world  hello world  hello world  hello w** hello world  hello world  hello world  hello world  hello world  hello world  hello world  hello wo**hello world  hello world  hello world  hello world  hello world  hello world  hello world  hello wor**ello world  hello world  hello world  hello world  hello world  hello world  hello world  hello worl**llo world  hello world  hello world  hello world  hello world  hello world  hello world  hello world**lo world  hello world  hello world  hello world  hello world  hello world  hello world  hello world **o world  hello world  hello world  hello world  hello world  hello world  hello world  hello world  ** world  hello world  hello world  hello world  hello world  hello world  hello world  hello world  h**world  hello world  hello world  hello world  hello world  hello world  hello world  hello world  he**orld  hello world  hello world  hello world  hello world  hello world  hello world  hello world  hel**rld  hello world  hello world  hello world  hello world  hello world  hello world  hello world  hell**ld  hello world  hello world  hello world  hello world  hello world  hello world  hello world  hello**d  hello world  hello world  hello world  hello world  hello world  hello world  hello world  hello **  hello world  hello world  hello world  hello world  hello world  hello world  hello world  hello w** hello world  hello world  hello world  hello world  hello world  hello world  hello world  hello wo**hello world  hello world  hello world  hello world  hello world  hello world  hello world  hello wor**ello world  hello world  hello world  hello world  hello world  hello world  hello world  hello worl**llo world  hello world  hello world  hello world  hello world  hello world  hello world  hello world**lo world  hello world  hello world  hello world  hello world  hello world  hello world  hello world **o world  hello world  hello world  hello world  hello world  hello world  hello world  hello world  ** world  hello world  hello world  hello world  hello world  hello world  hello world  hello world  h**world  hello world  hello world  hello world  hello world  hello world  hello world  hello world  he**orld  hello world  hello world  hello world  hello world  hello world  hello world  hello world  hel**rld  hello world  hello world  hello world  hello world  hello world  hello world  hello world  hell**ld  hello world  hello world  hello world  hello world  hello world  hello world  hello world  hello**d  hello world  hello world  hello world  hello world  hello world  hello world  hello world  hello **  hello world  hello world  hello world  hello world  hello world  hello world  hello world  hello w** hello world  hello world  hello world  hello world  hello world  hello world  hello world  hello wo**hello world  hello world  hello world  hello world  hello world  hello world  hello world  hello wor**ello world  hello world  hello world  hello world  hello world  hello world  hello world  hello worl**llo world  hello world  hello world  hello world  hello world  hello world  hello world  hello world**lo world  hello world  hello world  hello world  hello world  hello world  hello world  hello world **o world  hello world  hello world  hello world  hello world  hello world  hello world  hello world  ** world  hello world  hello world  hello world  hello world  hello world  hello world  hello world  h**world  hello world  hello world  hello world  hello world  hello world  hello world  hello world  he**orld  hello world  hello world  hello world  hello world  hello world  hello world  hello world  hel**rld  hello world  hello world  hello world  hello world  hello world  hello world  hello world  hell**ld  hello world  hello world  hello world  hello world  hello world  hello world  hello world  hello**d  hello world  hello world  hello world  hello world  hello world  hello world  hello world  hello **  hello world  hello world  hello world  hello world  hello world  hello world  hello world  hello w****"
     ]
    }
   ],
   "source": [
    "with open('big.txt','r')as f:\n",
    "    chunk_size=100\n",
    "    \n",
    "    while len(f.read(chunk_size)) >0 :\n",
    "        print(f.read(chunk_size),end='**')\n",
    "        f.read(chunk_size)\n"
   ]
  },
  {
   "cell_type": "code",
   "execution_count": 22,
   "id": "37eac1cf-9f43-4575-accb-f4a54732e1f4",
   "metadata": {},
   "outputs": [
    {
     "name": "stdout",
     "output_type": "stream",
     "text": [
      "hello\n",
      "hi\n",
      "h\n",
      "10\n",
      "hello\n",
      "hi\n",
      "h\n"
     ]
    }
   ],
   "source": [
    "# seek and tell function\n",
    "# tell hame position of handler bata ta hain\n",
    "# seek ka use hum tab karte hai jab hame ek specific no se data chahiye hhoga to\n",
    "with open('sample1.txt','r') as f :\n",
    "    print(f.read(10))\n",
    "    print(f.tell())\n",
    "    f.seek(0)\n",
    "    print(f.read(10))"
   ]
  },
  {
   "cell_type": "code",
   "execution_count": 23,
   "id": "f8c77c09-ae1d-4095-8510-936d43d9d2e5",
   "metadata": {},
   "outputs": [],
   "source": [
    "# seek during write\n",
    "with open('sample.txt','w')as f:\n",
    "    f.write('hello')\n",
    "    f.seek(0)\n",
    "    f.write('x')"
   ]
  },
  {
   "cell_type": "code",
   "execution_count": 24,
   "id": "3f72af3f-109d-490b-afec-91a61f4847a0",
   "metadata": {},
   "outputs": [],
   "source": [
    "with open('sample.txt','w')as f:\n",
    "    f.write('hello')\n",
    "    f.seek(0)\n",
    "    f.write('xa')"
   ]
  },
  {
   "cell_type": "markdown",
   "id": "895419cf-7bd5-4240-81b8-e296855a6171",
   "metadata": {},
   "source": [
    "### Problems with working in text mode \n",
    "#### can't work with binary files like images \n",
    "#### not good for other data types like int/float/list/tuples"
   ]
  },
  {
   "cell_type": "code",
   "execution_count": 26,
   "id": "08577933-b777-482a-ab94-66ffa049ec85",
   "metadata": {},
   "outputs": [
    {
     "ename": "UnicodeDecodeError",
     "evalue": "'utf-8' codec can't decode byte 0xff in position 0: invalid start byte",
     "output_type": "error",
     "traceback": [
      "\u001b[0;31m---------------------------------------------------------------------------\u001b[0m",
      "\u001b[0;31mUnicodeDecodeError\u001b[0m                        Traceback (most recent call last)",
      "Cell \u001b[0;32mIn[26], line 3\u001b[0m\n\u001b[1;32m      1\u001b[0m \u001b[38;5;66;03m# working with binary files (img)\u001b[39;00m\n\u001b[1;32m      2\u001b[0m \u001b[38;5;28;01mwith\u001b[39;00m \u001b[38;5;28mopen\u001b[39m(\u001b[38;5;124m'\u001b[39m\u001b[38;5;124mimgphone.jpg\u001b[39m\u001b[38;5;124m'\u001b[39m,\u001b[38;5;124m'\u001b[39m\u001b[38;5;124mr\u001b[39m\u001b[38;5;124m'\u001b[39m)\u001b[38;5;28;01mas\u001b[39;00m f:\n\u001b[0;32m----> 3\u001b[0m     \u001b[43mf\u001b[49m\u001b[38;5;241;43m.\u001b[39;49m\u001b[43mread\u001b[49m\u001b[43m(\u001b[49m\u001b[43m)\u001b[49m\n",
      "File \u001b[0;32m/opt/conda/lib/python3.10/codecs.py:322\u001b[0m, in \u001b[0;36mBufferedIncrementalDecoder.decode\u001b[0;34m(self, input, final)\u001b[0m\n\u001b[1;32m    319\u001b[0m \u001b[38;5;28;01mdef\u001b[39;00m \u001b[38;5;21mdecode\u001b[39m(\u001b[38;5;28mself\u001b[39m, \u001b[38;5;28minput\u001b[39m, final\u001b[38;5;241m=\u001b[39m\u001b[38;5;28;01mFalse\u001b[39;00m):\n\u001b[1;32m    320\u001b[0m     \u001b[38;5;66;03m# decode input (taking the buffer into account)\u001b[39;00m\n\u001b[1;32m    321\u001b[0m     data \u001b[38;5;241m=\u001b[39m \u001b[38;5;28mself\u001b[39m\u001b[38;5;241m.\u001b[39mbuffer \u001b[38;5;241m+\u001b[39m \u001b[38;5;28minput\u001b[39m\n\u001b[0;32m--> 322\u001b[0m     (result, consumed) \u001b[38;5;241m=\u001b[39m \u001b[38;5;28;43mself\u001b[39;49m\u001b[38;5;241;43m.\u001b[39;49m\u001b[43m_buffer_decode\u001b[49m\u001b[43m(\u001b[49m\u001b[43mdata\u001b[49m\u001b[43m,\u001b[49m\u001b[43m \u001b[49m\u001b[38;5;28;43mself\u001b[39;49m\u001b[38;5;241;43m.\u001b[39;49m\u001b[43merrors\u001b[49m\u001b[43m,\u001b[49m\u001b[43m \u001b[49m\u001b[43mfinal\u001b[49m\u001b[43m)\u001b[49m\n\u001b[1;32m    323\u001b[0m     \u001b[38;5;66;03m# keep undecoded input until the next call\u001b[39;00m\n\u001b[1;32m    324\u001b[0m     \u001b[38;5;28mself\u001b[39m\u001b[38;5;241m.\u001b[39mbuffer \u001b[38;5;241m=\u001b[39m data[consumed:]\n",
      "\u001b[0;31mUnicodeDecodeError\u001b[0m: 'utf-8' codec can't decode byte 0xff in position 0: invalid start byte"
     ]
    }
   ],
   "source": [
    "# working with binary files (img)\n",
    "with open('imgphone.jpg','r')as f:\n",
    "    f.read()"
   ]
  },
  {
   "cell_type": "code",
   "execution_count": 27,
   "id": "3d53675f-cbe6-4e57-aa6a-46ed4c7a03b1",
   "metadata": {},
   "outputs": [],
   "source": [
    "# read binary files rb stands for = read binary , wb stands for = write binary mode \n",
    "with open('imgphone.jpg','rb')as f:\n",
    "    with open('screenshot_copy.jpg','wb')as wf:\n",
    "        wf.write(f.read())"
   ]
  },
  {
   "cell_type": "code",
   "execution_count": 29,
   "id": "33903b9c-81cb-4e34-a772-f924d45889d0",
   "metadata": {},
   "outputs": [
    {
     "ename": "AttributeError",
     "evalue": "'_io.TextIOWrapper' object has no attribute 'writes'",
     "output_type": "error",
     "traceback": [
      "\u001b[0;31m---------------------------------------------------------------------------\u001b[0m",
      "\u001b[0;31mAttributeError\u001b[0m                            Traceback (most recent call last)",
      "Cell \u001b[0;32mIn[29], line 3\u001b[0m\n\u001b[1;32m      1\u001b[0m \u001b[38;5;66;03m# working with other data types \u001b[39;00m\n\u001b[1;32m      2\u001b[0m \u001b[38;5;28;01mwith\u001b[39;00m \u001b[38;5;28mopen\u001b[39m(\u001b[38;5;124m'\u001b[39m\u001b[38;5;124msample.txt\u001b[39m\u001b[38;5;124m'\u001b[39m,\u001b[38;5;124m'\u001b[39m\u001b[38;5;124mw\u001b[39m\u001b[38;5;124m'\u001b[39m) \u001b[38;5;28;01mas\u001b[39;00m f:\n\u001b[0;32m----> 3\u001b[0m     \u001b[43mf\u001b[49m\u001b[38;5;241;43m.\u001b[39;49m\u001b[43mwrites\u001b[49m(\u001b[38;5;241m5\u001b[39m)\n\u001b[1;32m      4\u001b[0m \u001b[38;5;66;03m# error aa raha hain reason is text file mein integer load nahi ho sakte isliye ab hame uss integer ko string mein convert karna padega \u001b[39;00m\n",
      "\u001b[0;31mAttributeError\u001b[0m: '_io.TextIOWrapper' object has no attribute 'writes'"
     ]
    }
   ],
   "source": [
    "# working with other data types \n",
    "with open('sample.txt','w') as f:\n",
    "    f.writes(5)\n",
    "# error aa raha hain reason is text file mein integer load nahi ho sakte isliye ab hame uss integer ko string mein convert karna padega "
   ]
  },
  {
   "cell_type": "code",
   "execution_count": 32,
   "id": "6e51b071-4671-4c52-8f87-1209b87e1372",
   "metadata": {},
   "outputs": [],
   "source": [
    "with open('sample.txt','w') as f:\n",
    "    f.write('5')"
   ]
  },
  {
   "cell_type": "code",
   "execution_count": 36,
   "id": "e9dcce6b-508e-4594-a7d6-22926a982d96",
   "metadata": {},
   "outputs": [
    {
     "ename": "TypeError",
     "evalue": "can only concatenate str (not \"int\") to str",
     "output_type": "error",
     "traceback": [
      "\u001b[0;31m---------------------------------------------------------------------------\u001b[0m",
      "\u001b[0;31mTypeError\u001b[0m                                 Traceback (most recent call last)",
      "Cell \u001b[0;32mIn[36], line 2\u001b[0m\n\u001b[1;32m      1\u001b[0m \u001b[38;5;28;01mwith\u001b[39;00m \u001b[38;5;28mopen\u001b[39m(\u001b[38;5;124m'\u001b[39m\u001b[38;5;124msample.txt\u001b[39m\u001b[38;5;124m'\u001b[39m,\u001b[38;5;124m'\u001b[39m\u001b[38;5;124mr\u001b[39m\u001b[38;5;124m'\u001b[39m) \u001b[38;5;28;01mas\u001b[39;00m f:\n\u001b[0;32m----> 2\u001b[0m     \u001b[38;5;28mprint\u001b[39m(\u001b[43mf\u001b[49m\u001b[38;5;241;43m.\u001b[39;49m\u001b[43mread\u001b[49m\u001b[43m(\u001b[49m\u001b[43m)\u001b[49m\u001b[43m \u001b[49m\u001b[38;5;241;43m+\u001b[39;49m\u001b[43m \u001b[49m\u001b[38;5;241;43m5\u001b[39;49m)\n\u001b[1;32m      3\u001b[0m \u001b[38;5;66;03m# string ke saath integer add nahi hoga     \u001b[39;00m\n",
      "\u001b[0;31mTypeError\u001b[0m: can only concatenate str (not \"int\") to str"
     ]
    }
   ],
   "source": [
    "with open('sample.txt','r') as f:\n",
    "    print(f.read() + 5)\n",
    "# string ke saath integer add nahi hoga     "
   ]
  },
  {
   "cell_type": "code",
   "execution_count": 35,
   "id": "754956aa-8b72-4895-8de2-681c0f0e8f69",
   "metadata": {},
   "outputs": [
    {
     "name": "stdout",
     "output_type": "stream",
     "text": [
      "10\n"
     ]
    }
   ],
   "source": [
    "with open('sample.txt','r') as f:\n",
    "    print(int(f.read()) + 5)\n",
    "# idhar hamne string ko integer ban diya     "
   ]
  },
  {
   "cell_type": "code",
   "execution_count": 37,
   "id": "7f368586-0c3e-46b4-a564-536501209ff5",
   "metadata": {},
   "outputs": [
    {
     "ename": "TypeError",
     "evalue": "write() argument must be str, not dict",
     "output_type": "error",
     "traceback": [
      "\u001b[0;31m---------------------------------------------------------------------------\u001b[0m",
      "\u001b[0;31mTypeError\u001b[0m                                 Traceback (most recent call last)",
      "Cell \u001b[0;32mIn[37], line 10\u001b[0m\n\u001b[1;32m      3\u001b[0m d\u001b[38;5;241m=\u001b[39m{\n\u001b[1;32m      4\u001b[0m     \u001b[38;5;124m'\u001b[39m\u001b[38;5;124mname\u001b[39m\u001b[38;5;124m'\u001b[39m:\u001b[38;5;124m'\u001b[39m\u001b[38;5;124mnitish\u001b[39m\u001b[38;5;124m'\u001b[39m,\n\u001b[1;32m      5\u001b[0m     \u001b[38;5;124m'\u001b[39m\u001b[38;5;124mage\u001b[39m\u001b[38;5;124m'\u001b[39m:\u001b[38;5;241m33\u001b[39m,\n\u001b[1;32m      6\u001b[0m     \u001b[38;5;124m'\u001b[39m\u001b[38;5;124mgender\u001b[39m\u001b[38;5;124m'\u001b[39m:\u001b[38;5;124m'\u001b[39m\u001b[38;5;124mmale\u001b[39m\u001b[38;5;124m'\u001b[39m\n\u001b[1;32m      7\u001b[0m }\n\u001b[1;32m      9\u001b[0m \u001b[38;5;28;01mwith\u001b[39;00m \u001b[38;5;28mopen\u001b[39m(\u001b[38;5;124m'\u001b[39m\u001b[38;5;124msample.txt\u001b[39m\u001b[38;5;124m'\u001b[39m,\u001b[38;5;124m'\u001b[39m\u001b[38;5;124mw\u001b[39m\u001b[38;5;124m'\u001b[39m)\u001b[38;5;28;01mas\u001b[39;00m f:\n\u001b[0;32m---> 10\u001b[0m     \u001b[43mf\u001b[49m\u001b[38;5;241;43m.\u001b[39;49m\u001b[43mwrite\u001b[49m\u001b[43m(\u001b[49m\u001b[43md\u001b[49m\u001b[43m)\u001b[49m\n",
      "\u001b[0;31mTypeError\u001b[0m: write() argument must be str, not dict"
     ]
    }
   ],
   "source": [
    "## more complex data \n",
    "\n",
    "d={\n",
    "    'name':'nitish',\n",
    "    'age':33,\n",
    "    'gender':'male'\n",
    "}\n",
    "\n",
    "with open('sample.txt','w')as f:\n",
    "    f.write(d)"
   ]
  },
  {
   "cell_type": "code",
   "execution_count": 38,
   "id": "972a0d26-d064-4004-b8e8-465151372c1f",
   "metadata": {},
   "outputs": [],
   "source": [
    "d={\n",
    "    'name':'nitish',\n",
    "    'age':33,\n",
    "    'gender':'male'\n",
    "}\n",
    "\n",
    "with open('sample.txt','w')as f:\n",
    "    f.write(str(d))"
   ]
  },
  {
   "cell_type": "code",
   "execution_count": 41,
   "id": "f8101285-36d8-45aa-a308-ea8e1938b13c",
   "metadata": {},
   "outputs": [
    {
     "name": "stdout",
     "output_type": "stream",
     "text": [
      "{'name': 'nitish', 'age': 33, 'gender': 'male'}\n"
     ]
    }
   ],
   "source": [
    "with open('sample.txt','r')as f:\n",
    "    print(f.read())"
   ]
  },
  {
   "cell_type": "code",
   "execution_count": 42,
   "id": "256e88cf-5b3a-4c35-9ee3-db71f95451fa",
   "metadata": {},
   "outputs": [
    {
     "name": "stdout",
     "output_type": "stream",
     "text": [
      "{'name': 'nitish', 'age': 33, 'gender': 'male'}\n",
      "<class 'str'>\n"
     ]
    }
   ],
   "source": [
    "with open('sample.txt','r')as f:\n",
    "    print(f.read())\n",
    "    print(type(f.read()))"
   ]
  },
  {
   "cell_type": "code",
   "execution_count": 43,
   "id": "ae767f51-3783-4b8d-9094-31c2390b317a",
   "metadata": {},
   "outputs": [],
   "source": [
    "## agar ek baar hamne dictionary ko text file me as string daal diya tab hum uss file ko kabhi bhi as dictionary firse nahi use krr sakte hamesha wo string hi rahega "
   ]
  },
  {
   "cell_type": "markdown",
   "id": "c5b1e749-e030-4b5f-9e0e-0674eb6dde36",
   "metadata": {},
   "source": [
    "### serialization and deserialization\n",
    "#### serialization - process of converting python data types to JSON format\n",
    "#### deserilization - process of converting JSON to python data types"
   ]
  },
  {
   "cell_type": "markdown",
   "id": "fa52b622-618d-4a69-a918-c90f5a080f6f",
   "metadata": {},
   "source": [
    "#### JSON stands for Java script On Notation "
   ]
  },
  {
   "cell_type": "code",
   "execution_count": 45,
   "id": "0b8805f9-fca7-474d-8ae1-6b0ab3cb047f",
   "metadata": {},
   "outputs": [],
   "source": [
    "## JSON it is universal data format "
   ]
  },
  {
   "cell_type": "code",
   "execution_count": 54,
   "id": "8251421a-7527-4d71-a9c8-07e430f20bd6",
   "metadata": {},
   "outputs": [],
   "source": [
    "# serialization using jason module\n",
    "# list\n",
    "\n",
    "import json \n",
    "\n",
    "L=[1,2,3,4]\n",
    "\n",
    "with open('demo_json','w')as f:\n",
    "    json.dump(L,f)"
   ]
  },
  {
   "cell_type": "code",
   "execution_count": 48,
   "id": "32b81365-f071-487b-8c42-a1db70340218",
   "metadata": {},
   "outputs": [],
   "source": [
    "# Dict\n",
    "\n",
    "d={\n",
    "    'name':'nitish',\n",
    "    'age':33,\n",
    "    'gender':'male'\n",
    "}\n",
    "\n",
    "with open('demo_json','w')as f:\n",
    "    json.dump(d,f)\n"
   ]
  },
  {
   "cell_type": "code",
   "execution_count": 49,
   "id": "3cccee83-c2fb-498a-9428-b5cf786719de",
   "metadata": {},
   "outputs": [],
   "source": [
    "## for better representation\n",
    "d={\n",
    "    'name':'nitish',\n",
    "    'age':33,\n",
    "    'gender':'male'\n",
    "}\n",
    "\n",
    "with open('demo_json','w')as f:\n",
    "    json.dump(d,f,indent=4)\n"
   ]
  },
  {
   "cell_type": "code",
   "execution_count": 50,
   "id": "96d02e08-d101-441c-910c-b0de81b2bc59",
   "metadata": {},
   "outputs": [
    {
     "name": "stdout",
     "output_type": "stream",
     "text": [
      "{'name': 'nitish', 'age': 33, 'gender': 'male'}\n"
     ]
    }
   ],
   "source": [
    "# deserilization\n",
    "\n",
    "import json\n",
    "\n",
    "with open('demo_json','r')as f:\n",
    "    print(json.load(f))"
   ]
  },
  {
   "cell_type": "code",
   "execution_count": 51,
   "id": "79aee1e3-96f7-469e-800d-6839f6067205",
   "metadata": {},
   "outputs": [
    {
     "name": "stdout",
     "output_type": "stream",
     "text": [
      "{'name': 'nitish', 'age': 33, 'gender': 'male'}\n",
      "<class 'dict'>\n"
     ]
    }
   ],
   "source": [
    "import json\n",
    "\n",
    "with open('demo_json','r')as f:\n",
    "    d=json.load(f)\n",
    "    print(d)\n",
    "    print(type(d)) "
   ]
  },
  {
   "cell_type": "code",
   "execution_count": 59,
   "id": "6ea8faad-4745-4570-ad09-8957b322ec8d",
   "metadata": {},
   "outputs": [],
   "source": [
    "# serialize and deseriliaze tuples\n",
    "import json\n",
    "\n",
    "t=(1,2,3,4,5)\n",
    "\n",
    "with open('demo_json1','w')as f:\n",
    "    json.dump(t,f)"
   ]
  },
  {
   "cell_type": "code",
   "execution_count": 2,
   "id": "d3ea9dba-156c-4ae8-9a1c-29de8db60422",
   "metadata": {},
   "outputs": [],
   "source": [
    "# serialize and deserialize a nested dict\n",
    "import json\n",
    "\n",
    "d={\n",
    "    'student':'nitish',\n",
    "    'marks':[23,14,34,45,56]\n",
    "}\n",
    "\n",
    "with open('demo_json','w')as f:\n",
    "    json.dump(d,f)"
   ]
  },
  {
   "cell_type": "markdown",
   "id": "eda85789-a6d8-4cb8-8d83-13c1b57d66ca",
   "metadata": {},
   "source": [
    "### serializing and deserializing custom objects"
   ]
  },
  {
   "cell_type": "code",
   "execution_count": 3,
   "id": "26138b2f-3ccc-4847-b225-2e270bd4eb10",
   "metadata": {},
   "outputs": [],
   "source": [
    "class Person:\n",
    "    def __init__(self,fname,lname,age,gender):\n",
    "        self.fname=fname\n",
    "        self.lname=lname\n",
    "        self.age=age\n",
    "        self.gender=gender\n",
    "        \n",
    "        # format to printed in \n",
    "        # = nitish singh age 33 gender male"
   ]
  },
  {
   "cell_type": "code",
   "execution_count": 4,
   "id": "0619fd52-e2fe-415f-956c-f721d3e16ec9",
   "metadata": {},
   "outputs": [],
   "source": [
    "person=Person(\"nitish \",\"singh\",33,\"male\")"
   ]
  },
  {
   "cell_type": "code",
   "execution_count": 5,
   "id": "243f2ec5-88c7-4d86-b445-ee6b73745537",
   "metadata": {},
   "outputs": [
    {
     "ename": "TypeError",
     "evalue": "Object of type Person is not JSON serializable",
     "output_type": "error",
     "traceback": [
      "\u001b[0;31m---------------------------------------------------------------------------\u001b[0m",
      "\u001b[0;31mTypeError\u001b[0m                                 Traceback (most recent call last)",
      "Cell \u001b[0;32mIn[5], line 6\u001b[0m\n\u001b[1;32m      3\u001b[0m \u001b[38;5;28;01mimport\u001b[39;00m \u001b[38;5;21;01mjson\u001b[39;00m\n\u001b[1;32m      5\u001b[0m \u001b[38;5;28;01mwith\u001b[39;00m \u001b[38;5;28mopen\u001b[39m(\u001b[38;5;124m'\u001b[39m\u001b[38;5;124mdemo_json\u001b[39m\u001b[38;5;124m'\u001b[39m,\u001b[38;5;124m'\u001b[39m\u001b[38;5;124mw\u001b[39m\u001b[38;5;124m'\u001b[39m)\u001b[38;5;28;01mas\u001b[39;00m f:\n\u001b[0;32m----> 6\u001b[0m     \u001b[43mjson\u001b[49m\u001b[38;5;241;43m.\u001b[39;49m\u001b[43mdump\u001b[49m\u001b[43m(\u001b[49m\u001b[43mperson\u001b[49m\u001b[43m,\u001b[49m\u001b[43mf\u001b[49m\u001b[43m)\u001b[49m\n",
      "File \u001b[0;32m/opt/conda/lib/python3.10/json/__init__.py:179\u001b[0m, in \u001b[0;36mdump\u001b[0;34m(obj, fp, skipkeys, ensure_ascii, check_circular, allow_nan, cls, indent, separators, default, sort_keys, **kw)\u001b[0m\n\u001b[1;32m    173\u001b[0m     iterable \u001b[38;5;241m=\u001b[39m \u001b[38;5;28mcls\u001b[39m(skipkeys\u001b[38;5;241m=\u001b[39mskipkeys, ensure_ascii\u001b[38;5;241m=\u001b[39mensure_ascii,\n\u001b[1;32m    174\u001b[0m         check_circular\u001b[38;5;241m=\u001b[39mcheck_circular, allow_nan\u001b[38;5;241m=\u001b[39mallow_nan, indent\u001b[38;5;241m=\u001b[39mindent,\n\u001b[1;32m    175\u001b[0m         separators\u001b[38;5;241m=\u001b[39mseparators,\n\u001b[1;32m    176\u001b[0m         default\u001b[38;5;241m=\u001b[39mdefault, sort_keys\u001b[38;5;241m=\u001b[39msort_keys, \u001b[38;5;241m*\u001b[39m\u001b[38;5;241m*\u001b[39mkw)\u001b[38;5;241m.\u001b[39miterencode(obj)\n\u001b[1;32m    177\u001b[0m \u001b[38;5;66;03m# could accelerate with writelines in some versions of Python, at\u001b[39;00m\n\u001b[1;32m    178\u001b[0m \u001b[38;5;66;03m# a debuggability cost\u001b[39;00m\n\u001b[0;32m--> 179\u001b[0m \u001b[38;5;28;01mfor\u001b[39;00m chunk \u001b[38;5;129;01min\u001b[39;00m iterable:\n\u001b[1;32m    180\u001b[0m     fp\u001b[38;5;241m.\u001b[39mwrite(chunk)\n",
      "File \u001b[0;32m/opt/conda/lib/python3.10/json/encoder.py:438\u001b[0m, in \u001b[0;36m_make_iterencode.<locals>._iterencode\u001b[0;34m(o, _current_indent_level)\u001b[0m\n\u001b[1;32m    436\u001b[0m         \u001b[38;5;28;01mraise\u001b[39;00m \u001b[38;5;167;01mValueError\u001b[39;00m(\u001b[38;5;124m\"\u001b[39m\u001b[38;5;124mCircular reference detected\u001b[39m\u001b[38;5;124m\"\u001b[39m)\n\u001b[1;32m    437\u001b[0m     markers[markerid] \u001b[38;5;241m=\u001b[39m o\n\u001b[0;32m--> 438\u001b[0m o \u001b[38;5;241m=\u001b[39m \u001b[43m_default\u001b[49m\u001b[43m(\u001b[49m\u001b[43mo\u001b[49m\u001b[43m)\u001b[49m\n\u001b[1;32m    439\u001b[0m \u001b[38;5;28;01myield from\u001b[39;00m _iterencode(o, _current_indent_level)\n\u001b[1;32m    440\u001b[0m \u001b[38;5;28;01mif\u001b[39;00m markers \u001b[38;5;129;01mis\u001b[39;00m \u001b[38;5;129;01mnot\u001b[39;00m \u001b[38;5;28;01mNone\u001b[39;00m:\n",
      "File \u001b[0;32m/opt/conda/lib/python3.10/json/encoder.py:179\u001b[0m, in \u001b[0;36mJSONEncoder.default\u001b[0;34m(self, o)\u001b[0m\n\u001b[1;32m    160\u001b[0m \u001b[38;5;28;01mdef\u001b[39;00m \u001b[38;5;21mdefault\u001b[39m(\u001b[38;5;28mself\u001b[39m, o):\n\u001b[1;32m    161\u001b[0m     \u001b[38;5;124;03m\"\"\"Implement this method in a subclass such that it returns\u001b[39;00m\n\u001b[1;32m    162\u001b[0m \u001b[38;5;124;03m    a serializable object for ``o``, or calls the base implementation\u001b[39;00m\n\u001b[1;32m    163\u001b[0m \u001b[38;5;124;03m    (to raise a ``TypeError``).\u001b[39;00m\n\u001b[0;32m   (...)\u001b[0m\n\u001b[1;32m    177\u001b[0m \n\u001b[1;32m    178\u001b[0m \u001b[38;5;124;03m    \"\"\"\u001b[39;00m\n\u001b[0;32m--> 179\u001b[0m     \u001b[38;5;28;01mraise\u001b[39;00m \u001b[38;5;167;01mTypeError\u001b[39;00m(\u001b[38;5;124mf\u001b[39m\u001b[38;5;124m'\u001b[39m\u001b[38;5;124mObject of type \u001b[39m\u001b[38;5;132;01m{\u001b[39;00mo\u001b[38;5;241m.\u001b[39m\u001b[38;5;18m__class__\u001b[39m\u001b[38;5;241m.\u001b[39m\u001b[38;5;18m__name__\u001b[39m\u001b[38;5;132;01m}\u001b[39;00m\u001b[38;5;124m \u001b[39m\u001b[38;5;124m'\u001b[39m\n\u001b[1;32m    180\u001b[0m                     \u001b[38;5;124mf\u001b[39m\u001b[38;5;124m'\u001b[39m\u001b[38;5;124mis not JSON serializable\u001b[39m\u001b[38;5;124m'\u001b[39m)\n",
      "\u001b[0;31mTypeError\u001b[0m: Object of type Person is not JSON serializable"
     ]
    }
   ],
   "source": [
    "# as a string\n",
    "\n",
    "import json\n",
    "\n",
    "with open('demo_json','w')as f:\n",
    "    json.dump(person,f)"
   ]
  },
  {
   "cell_type": "code",
   "execution_count": 6,
   "id": "cb9aeea4-da93-4b6f-a880-48e24f0254ec",
   "metadata": {},
   "outputs": [],
   "source": [
    "import json\n",
    "\n",
    "def show_object(person):\n",
    "    if isinstance(person,Person):\n",
    "        return \"{} {} ,age {},gender {}\".format(person.fname,person.lname,person.age,person.gender)\n",
    "\n",
    "with open('demo_json','w')as f:\n",
    "    json.dump(person,f,default=show_object)"
   ]
  },
  {
   "cell_type": "code",
   "execution_count": 8,
   "id": "9811d5e2-1f36-492b-99c9-1dabeee720ec",
   "metadata": {},
   "outputs": [],
   "source": [
    "import json\n",
    "\n",
    "def show_object(person):\n",
    "    if isinstance(person,Person):\n",
    "        return {\"name\":person.fname + \" \" + person.lname,'age':person.age,'gender':person.gender}\n",
    "\n",
    "with open('demo_json','w')as f:\n",
    "    json.dump(person,f,default=show_object,indent=4)"
   ]
  },
  {
   "cell_type": "code",
   "execution_count": 10,
   "id": "fb93623e-68de-49fb-bfff-c6194f21d8e3",
   "metadata": {},
   "outputs": [
    {
     "name": "stdout",
     "output_type": "stream",
     "text": [
      "<class 'dict'>\n"
     ]
    }
   ],
   "source": [
    "# deserilization \n",
    "\n",
    "import json \n",
    "\n",
    "with open('demo_json','r')as f:\n",
    "    d=json.load(f)\n",
    "    print(type(d))"
   ]
  },
  {
   "cell_type": "markdown",
   "id": "91831097-720f-4b48-9f96-07f11f404c3d",
   "metadata": {},
   "source": [
    "### pickling"
   ]
  },
  {
   "cell_type": "code",
   "execution_count": 11,
   "id": "72fbd1ce-30f2-4dae-995e-4e967f0b0db0",
   "metadata": {},
   "outputs": [],
   "source": [
    "# pickling is the process whereby a python object hierarchy is converted into a byte stream,and uplicking is the inverse operation\n",
    "# whereby a bytes stream (form a binary file or bytes like objects) is converted back into an object hierrarchy"
   ]
  },
  {
   "cell_type": "code",
   "execution_count": 12,
   "id": "4194ce04-9f8c-45a8-b35c-fd054c581309",
   "metadata": {},
   "outputs": [],
   "source": [
    "class Person:\n",
    "    \n",
    "    def __init__(self,name,age):\n",
    "        self.name=name\n",
    "        self.age=age\n",
    "        \n",
    "    def display_info(self):\n",
    "        print(\"hi my name is\",self.name,\"and i am\",self.age,\"year old\")"
   ]
  },
  {
   "cell_type": "code",
   "execution_count": 13,
   "id": "556e371c-bf16-4936-805a-84155d6cbc27",
   "metadata": {},
   "outputs": [],
   "source": [
    "p=Person(\"nitish\",33)"
   ]
  },
  {
   "cell_type": "code",
   "execution_count": null,
   "id": "8a05fe07-4d19-416e-9c0b-9ee92e1aa6fd",
   "metadata": {},
   "outputs": [],
   "source": [
    "# pickle dump (objects converted into binary bytes)\n",
    "\n",
    "import pickle\n",
    "\n",
    "with open('person.pk1','w')as f:\n",
    "    pickle.dump()"
   ]
  }
 ],
 "metadata": {
  "kernelspec": {
   "display_name": "Python 3 (ipykernel)",
   "language": "python",
   "name": "python3"
  },
  "language_info": {
   "codemirror_mode": {
    "name": "ipython",
    "version": 3
   },
   "file_extension": ".py",
   "mimetype": "text/x-python",
   "name": "python",
   "nbconvert_exporter": "python",
   "pygments_lexer": "ipython3",
   "version": "3.10.8"
  }
 },
 "nbformat": 4,
 "nbformat_minor": 5
}
