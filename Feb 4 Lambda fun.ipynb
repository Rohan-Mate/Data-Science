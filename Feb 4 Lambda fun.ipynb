{
 "cells": [
  {
   "cell_type": "code",
   "execution_count": null,
   "id": "f25328d5-4b21-47d2-bd3b-822dfa549c1e",
   "metadata": {},
   "outputs": [],
   "source": [
    "# [**] use for power operators"
   ]
  },
  {
   "cell_type": "code",
   "execution_count": 1,
   "id": "01996f03-8c7d-4226-83a7-2118691cfdfc",
   "metadata": {},
   "outputs": [],
   "source": [
    "n=3\n",
    "p=2"
   ]
  },
  {
   "cell_type": "code",
   "execution_count": 2,
   "id": "011fc847-e28b-4653-bdd4-4c0ebd58b249",
   "metadata": {},
   "outputs": [],
   "source": [
    "def test(n,p):\n",
    "    return n**p"
   ]
  },
  {
   "cell_type": "code",
   "execution_count": 5,
   "id": "26f7d82c-eb94-4fae-9168-901585517abe",
   "metadata": {},
   "outputs": [
    {
     "data": {
      "text/plain": [
       "8"
      ]
     },
     "execution_count": 5,
     "metadata": {},
     "output_type": "execute_result"
    }
   ],
   "source": [
    "test(2,3)"
   ]
  },
  {
   "cell_type": "code",
   "execution_count": 4,
   "id": "da7c08e8-c5c4-49cf-8153-e7f14613524c",
   "metadata": {},
   "outputs": [
    {
     "data": {
      "text/plain": [
       "6561"
      ]
     },
     "execution_count": 4,
     "metadata": {},
     "output_type": "execute_result"
    }
   ],
   "source": [
    "test(9,4)"
   ]
  },
  {
   "cell_type": "code",
   "execution_count": 7,
   "id": "c04d12ad-17ee-46e6-abae-61b4a6fd54b7",
   "metadata": {},
   "outputs": [
    {
     "data": {
      "text/plain": [
       "<function __main__.<lambda>(n, p)>"
      ]
     },
     "execution_count": 7,
     "metadata": {},
     "output_type": "execute_result"
    }
   ],
   "source": [
    "lambda n,p : n**p"
   ]
  },
  {
   "cell_type": "code",
   "execution_count": 8,
   "id": "f305aa8f-4058-4c3f-a170-c060674bb9fe",
   "metadata": {},
   "outputs": [],
   "source": [
    "a=lambda n,p :n**p"
   ]
  },
  {
   "cell_type": "code",
   "execution_count": 9,
   "id": "650defb4-7cd0-4d42-9682-6854137d0b30",
   "metadata": {},
   "outputs": [
    {
     "data": {
      "text/plain": [
       "8"
      ]
     },
     "execution_count": 9,
     "metadata": {},
     "output_type": "execute_result"
    }
   ],
   "source": [
    "a(2,3)"
   ]
  },
  {
   "cell_type": "code",
   "execution_count": 10,
   "id": "a5e118e6-cc3d-4f6f-8409-b804ea5f16a0",
   "metadata": {},
   "outputs": [
    {
     "data": {
      "text/plain": [
       "6561"
      ]
     },
     "execution_count": 10,
     "metadata": {},
     "output_type": "execute_result"
    }
   ],
   "source": [
    "a(9,4)"
   ]
  },
  {
   "cell_type": "code",
   "execution_count": 11,
   "id": "cfc9cc99-2556-4133-a7a8-3c69477ead2b",
   "metadata": {},
   "outputs": [],
   "source": [
    "add = lambda x,y : x + y"
   ]
  },
  {
   "cell_type": "code",
   "execution_count": 12,
   "id": "3b66d421-6ed4-4a86-a57b-d5bc465a08c9",
   "metadata": {},
   "outputs": [
    {
     "data": {
      "text/plain": [
       "9"
      ]
     },
     "execution_count": 12,
     "metadata": {},
     "output_type": "execute_result"
    }
   ],
   "source": [
    "add(4,5)"
   ]
  },
  {
   "cell_type": "code",
   "execution_count": 25,
   "id": "623fd7ec-3fc1-4566-9ddc-cb0f3c4ab5ff",
   "metadata": {},
   "outputs": [],
   "source": [
    "f_to_c = lambda f :(9/5)*f+32"
   ]
  },
  {
   "cell_type": "code",
   "execution_count": 26,
   "id": "41a89309-589a-4a49-9720-32e8b1155f71",
   "metadata": {},
   "outputs": [
    {
     "data": {
      "text/plain": [
       "89.6"
      ]
     },
     "execution_count": 26,
     "metadata": {},
     "output_type": "execute_result"
    }
   ],
   "source": [
    "f_to_c(32)"
   ]
  },
  {
   "cell_type": "code",
   "execution_count": 35,
   "id": "bee484f4-1ee6-4a0a-b208-6ca1fab7f124",
   "metadata": {},
   "outputs": [],
   "source": [
    "c_to_f =lambda c : (5/9)*(c-32)"
   ]
  },
  {
   "cell_type": "code",
   "execution_count": 36,
   "id": "53696d6f-b366-4c4f-872e-53796c6bf30a",
   "metadata": {},
   "outputs": [
    {
     "data": {
      "text/plain": [
       "0.0"
      ]
     },
     "execution_count": 36,
     "metadata": {},
     "output_type": "execute_result"
    }
   ],
   "source": [
    "c_to_f(32)"
   ]
  },
  {
   "cell_type": "code",
   "execution_count": 37,
   "id": "009b04f9-592f-48f5-8d13-32bd0d1287d3",
   "metadata": {},
   "outputs": [],
   "source": [
    "max_two = lambda x,y : x if x > y else y"
   ]
  },
  {
   "cell_type": "code",
   "execution_count": 38,
   "id": "6c8d5e80-0831-4fdf-8a30-2f08848d8202",
   "metadata": {},
   "outputs": [
    {
     "data": {
      "text/plain": [
       "72"
      ]
     },
     "execution_count": 38,
     "metadata": {},
     "output_type": "execute_result"
    }
   ],
   "source": [
    "max_two(72,65)"
   ]
  },
  {
   "cell_type": "code",
   "execution_count": 39,
   "id": "9b4e9fcd-2825-4f25-b32c-c6d27dcec202",
   "metadata": {},
   "outputs": [
    {
     "data": {
      "text/plain": [
       "96"
      ]
     },
     "execution_count": 39,
     "metadata": {},
     "output_type": "execute_result"
    }
   ],
   "source": [
    "max_two(65,96)"
   ]
  },
  {
   "cell_type": "code",
   "execution_count": 40,
   "id": "57db6235-1409-480c-ae92-c5e49057dc78",
   "metadata": {},
   "outputs": [],
   "source": [
    "s=\"pwskills\""
   ]
  },
  {
   "cell_type": "code",
   "execution_count": 42,
   "id": "2e725f47-b57c-47a5-b856-55125c743035",
   "metadata": {},
   "outputs": [],
   "source": [
    "len_str= lambda s : len(s)"
   ]
  },
  {
   "cell_type": "code",
   "execution_count": 43,
   "id": "a68db7ae-a6b0-4698-b966-2e24a2ba6361",
   "metadata": {},
   "outputs": [
    {
     "data": {
      "text/plain": [
       "8"
      ]
     },
     "execution_count": 43,
     "metadata": {},
     "output_type": "execute_result"
    }
   ],
   "source": [
    "len_str(s)"
   ]
  }
 ],
 "metadata": {
  "kernelspec": {
   "display_name": "Python 3 (ipykernel)",
   "language": "python",
   "name": "python3"
  },
  "language_info": {
   "codemirror_mode": {
    "name": "ipython",
    "version": 3
   },
   "file_extension": ".py",
   "mimetype": "text/x-python",
   "name": "python",
   "nbconvert_exporter": "python",
   "pygments_lexer": "ipython3",
   "version": "3.10.8"
  }
 },
 "nbformat": 4,
 "nbformat_minor": 5
}
