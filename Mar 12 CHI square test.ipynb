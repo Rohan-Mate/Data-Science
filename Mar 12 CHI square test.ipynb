{
 "cells": [
  {
   "cell_type": "markdown",
   "id": "47903480-6bdb-48a9-9d2e-9d94548ebe6d",
   "metadata": {},
   "source": [
    "### CHI Square test with python"
   ]
  },
  {
   "cell_type": "code",
   "execution_count": 1,
   "id": "3e1bbdab-95d0-495a-8e25-105fa7f3ae8a",
   "metadata": {},
   "outputs": [],
   "source": [
    "import scipy.stats as stat\n",
    "import numpy as np"
   ]
  },
  {
   "cell_type": "code",
   "execution_count": 5,
   "id": "cc9c2dfd-b790-4728-8f12-fc89ac0c26d7",
   "metadata": {},
   "outputs": [],
   "source": [
    "## No of hours students study daily on weekly basis \n",
    "# monday,tuesday,wednesday,thursday,friday,saturday\n",
    "expected_data=[8,6,7,9,6,9,7]\n",
    "observed_data=[7,8,6,9,9,6,7]"
   ]
  },
  {
   "cell_type": "code",
   "execution_count": 6,
   "id": "f2d3a7b0-b306-4ab1-a3c5-c5bc4317b193",
   "metadata": {},
   "outputs": [
    {
     "data": {
      "text/plain": [
       "(52, 52)"
      ]
     },
     "execution_count": 6,
     "metadata": {},
     "output_type": "execute_result"
    }
   ],
   "source": [
    "sum(expected_data),sum(observed_data)"
   ]
  },
  {
   "cell_type": "code",
   "execution_count": 9,
   "id": "1451ecce-5d76-49ec-8281-c2257a360ce7",
   "metadata": {},
   "outputs": [],
   "source": [
    "## CHI SQUARE Goodness of fit\n",
    "chisquare_test_statistics,p_value=stat.chisquare(observed_data,expected_data)"
   ]
  },
  {
   "cell_type": "code",
   "execution_count": 10,
   "id": "b9005bc3-a57f-4ad8-942b-6457e3cb2cbc",
   "metadata": {},
   "outputs": [
    {
     "name": "stdout",
     "output_type": "stream",
     "text": [
      "3.4345238095238093\n",
      "0.7526596580922865\n"
     ]
    },
    {
     "data": {
      "text/plain": [
       "(None, None)"
      ]
     },
     "execution_count": 10,
     "metadata": {},
     "output_type": "execute_result"
    }
   ],
   "source": [
    "print(chisquare_test_statistics),print(p_value)"
   ]
  },
  {
   "cell_type": "code",
   "execution_count": 12,
   "id": "85ab2cdb-f6b4-4925-871a-4b6296b11fc4",
   "metadata": {},
   "outputs": [],
   "source": [
    "## find the critical value\n",
    "significance=0.05\n",
    "dof=len(observed_data)-1\n",
    "critical_value=stat.chi2.ppf(1-significance,dof)"
   ]
  },
  {
   "cell_type": "code",
   "execution_count": 13,
   "id": "89f58c07-3532-45a4-b0bf-305319b59c34",
   "metadata": {},
   "outputs": [
    {
     "data": {
      "text/plain": [
       "12.591587243743977"
      ]
     },
     "execution_count": 13,
     "metadata": {},
     "output_type": "execute_result"
    }
   ],
   "source": [
    "critical_value"
   ]
  },
  {
   "cell_type": "code",
   "execution_count": 14,
   "id": "dd1d3eb5-fb8c-4d19-877d-5e227a249ab1",
   "metadata": {},
   "outputs": [
    {
     "name": "stdout",
     "output_type": "stream",
     "text": [
      "Accept the null hypothesis\n"
     ]
    }
   ],
   "source": [
    "if chisquare_test_statistics > critical_value:\n",
    "    print(\"reject the null hypothesis\")\n",
    "else:\n",
    "    print(\"Accept the null hypothesis\")"
   ]
  },
  {
   "cell_type": "code",
   "execution_count": null,
   "id": "872513a7-cd63-4e8e-92bd-81b52d5f7400",
   "metadata": {},
   "outputs": [],
   "source": []
  }
 ],
 "metadata": {
  "kernelspec": {
   "display_name": "Python 3 (ipykernel)",
   "language": "python",
   "name": "python3"
  },
  "language_info": {
   "codemirror_mode": {
    "name": "ipython",
    "version": 3
   },
   "file_extension": ".py",
   "mimetype": "text/x-python",
   "name": "python",
   "nbconvert_exporter": "python",
   "pygments_lexer": "ipython3",
   "version": "3.10.8"
  }
 },
 "nbformat": 4,
 "nbformat_minor": 5
}
