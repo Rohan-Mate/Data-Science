{
 "cells": [
  {
   "cell_type": "code",
   "execution_count": 1,
   "id": "6d2128d2-b9f2-412f-94af-a69dd286ffb9",
   "metadata": {},
   "outputs": [],
   "source": [
    "name=\"Data Science Masters\""
   ]
  },
  {
   "cell_type": "code",
   "execution_count": 2,
   "id": "a3967901-77a0-473f-90fa-e2551e80342f",
   "metadata": {},
   "outputs": [
    {
     "data": {
      "text/plain": [
       "'dATA sCIENCE mASTERS'"
      ]
     },
     "execution_count": 2,
     "metadata": {},
     "output_type": "execute_result"
    }
   ],
   "source": [
    "name.swapcase()"
   ]
  },
  {
   "cell_type": "code",
   "execution_count": 3,
   "id": "972c3a36-de2b-454a-a428-5abc85c6d234",
   "metadata": {},
   "outputs": [
    {
     "data": {
      "text/plain": [
       "'Data Science Masters'"
      ]
     },
     "execution_count": 3,
     "metadata": {},
     "output_type": "execute_result"
    }
   ],
   "source": [
    "name.title()"
   ]
  },
  {
   "cell_type": "code",
   "execution_count": 4,
   "id": "d0ac4fb9-d367-48ed-bd88-b780f9c77005",
   "metadata": {},
   "outputs": [
    {
     "data": {
      "text/plain": [
       "'Data science masters'"
      ]
     },
     "execution_count": 4,
     "metadata": {},
     "output_type": "execute_result"
    }
   ],
   "source": [
    "name.capitalize()"
   ]
  },
  {
   "cell_type": "markdown",
   "id": "14e0db9e-ae9d-4d6d-b2c5-e7bcfb74031f",
   "metadata": {},
   "source": [
    "## reversing a string"
   ]
  },
  {
   "cell_type": "code",
   "execution_count": 5,
   "id": "928c3ebd-062a-4044-9314-cafcfd247519",
   "metadata": {},
   "outputs": [
    {
     "data": {
      "text/plain": [
       "'sretsaM ecneicS ataD'"
      ]
     },
     "execution_count": 5,
     "metadata": {},
     "output_type": "execute_result"
    }
   ],
   "source": [
    "name[::-1]"
   ]
  },
  {
   "cell_type": "code",
   "execution_count": 6,
   "id": "fafd9b69-fec6-46d8-a80c-a1d9124ebe4c",
   "metadata": {},
   "outputs": [
    {
     "data": {
      "text/plain": [
       "<reversed at 0x7f73e834eaa0>"
      ]
     },
     "execution_count": 6,
     "metadata": {},
     "output_type": "execute_result"
    }
   ],
   "source": [
    "reversed(name)"
   ]
  },
  {
   "cell_type": "code",
   "execution_count": 7,
   "id": "25e4c232-6e7c-46d5-98cd-e37e2340919e",
   "metadata": {},
   "outputs": [
    {
     "data": {
      "text/plain": [
       "'s r e t s a M   e c n e i c S   a t a D'"
      ]
     },
     "execution_count": 7,
     "metadata": {},
     "output_type": "execute_result"
    }
   ],
   "source": [
    "' '.join(reversed(name))"
   ]
  },
  {
   "cell_type": "code",
   "execution_count": 8,
   "id": "c7ce1fdf-5747-4edb-a0e9-d86b16701365",
   "metadata": {},
   "outputs": [
    {
     "data": {
      "text/plain": [
       "'MRohanaRohantRohane'"
      ]
     },
     "execution_count": 8,
     "metadata": {},
     "output_type": "execute_result"
    }
   ],
   "source": [
    "\"Rohan\".join(\"Mate\")"
   ]
  },
  {
   "cell_type": "code",
   "execution_count": 9,
   "id": "28d99693-7da5-4f00-a134-7170ec506fd6",
   "metadata": {},
   "outputs": [
    {
     "data": {
      "text/plain": [
       "'a b c d'"
      ]
     },
     "execution_count": 9,
     "metadata": {},
     "output_type": "execute_result"
    }
   ],
   "source": [
    "\" \".join(\"abcd\")"
   ]
  },
  {
   "cell_type": "code",
   "execution_count": 11,
   "id": "4de4e69b-7c77-447d-87a8-627436e577b2",
   "metadata": {},
   "outputs": [
    {
     "data": {
      "text/plain": [
       "'a n t'"
      ]
     },
     "execution_count": 11,
     "metadata": {},
     "output_type": "execute_result"
    }
   ],
   "source": [
    "\" \".join(\"ant\")"
   ]
  },
  {
   "cell_type": "code",
   "execution_count": 10,
   "id": "3adfcb94-f5d3-40dd-bec7-1a26044921dd",
   "metadata": {},
   "outputs": [
    {
     "data": {
      "text/plain": [
       "'t n a'"
      ]
     },
     "execution_count": 10,
     "metadata": {},
     "output_type": "execute_result"
    }
   ],
   "source": [
    "\" \".join(reversed(\"ant\"))"
   ]
  },
  {
   "cell_type": "code",
   "execution_count": 12,
   "id": "e95abf00-2c0a-4fec-92e4-5b8d40787fb8",
   "metadata": {},
   "outputs": [
    {
     "data": {
      "text/plain": [
       "'a pwskills n pwskills t'"
      ]
     },
     "execution_count": 12,
     "metadata": {},
     "output_type": "execute_result"
    }
   ],
   "source": [
    "' pwskills '.join(\"ant\")"
   ]
  },
  {
   "cell_type": "code",
   "execution_count": 13,
   "id": "6b4a1426-22ac-423a-a8cc-21ada9a8fafa",
   "metadata": {},
   "outputs": [
    {
     "data": {
      "text/plain": [
       "'t pwskills n pwskills a'"
      ]
     },
     "execution_count": 13,
     "metadata": {},
     "output_type": "execute_result"
    }
   ],
   "source": [
    "' pwskills '.join(reversed(\"ant\"))"
   ]
  },
  {
   "cell_type": "code",
   "execution_count": 14,
   "id": "c1a74851-b52a-487f-b888-8ef2e91b99e8",
   "metadata": {},
   "outputs": [
    {
     "data": {
      "text/plain": [
       "<reversed at 0x7f73e051bf10>"
      ]
     },
     "execution_count": 14,
     "metadata": {},
     "output_type": "execute_result"
    }
   ],
   "source": [
    "reversed(\"ant\")"
   ]
  },
  {
   "cell_type": "code",
   "execution_count": 18,
   "id": "f4ab416c-4d14-4100-91a0-c363e1353738",
   "metadata": {},
   "outputs": [
    {
     "data": {
      "text/plain": [
       "['t', 'n', 'a']"
      ]
     },
     "execution_count": 18,
     "metadata": {},
     "output_type": "execute_result"
    }
   ],
   "source": [
    "# typecasted\n",
    "list(reversed(\"ant\"))"
   ]
  },
  {
   "cell_type": "code",
   "execution_count": 16,
   "id": "d2a47648-a4c1-4a86-8ff9-a960b98677b0",
   "metadata": {},
   "outputs": [],
   "source": [
    "str1=\"pw is a good company\""
   ]
  },
  {
   "cell_type": "code",
   "execution_count": 17,
   "id": "34e01a5e-1ffc-4a8b-b72d-bea059a6e672",
   "metadata": {},
   "outputs": [
    {
     "data": {
      "text/plain": [
       "'pskillswskills skillsiskillssskills skillsaskills skillsgskillsoskillsoskillsdskills skillscskillsoskillsmskillspskillsaskillsnskillsy'"
      ]
     },
     "execution_count": 17,
     "metadata": {},
     "output_type": "execute_result"
    }
   ],
   "source": [
    "\"skills\".join(str1)"
   ]
  },
  {
   "cell_type": "code",
   "execution_count": 21,
   "id": "3eea8752-28fd-4ec6-8027-bc1210ff0feb",
   "metadata": {},
   "outputs": [
    {
     "name": "stdout",
     "output_type": "stream",
     "text": [
      "sretsaM ecneicS ataD"
     ]
    }
   ],
   "source": [
    "for i in list(reversed(name)):\n",
    "    print(i,end='')"
   ]
  },
  {
   "cell_type": "code",
   "execution_count": null,
   "id": "7b73d46f-4819-45e2-add7-5896141929c4",
   "metadata": {},
   "outputs": [],
   "source": [
    "# removing character from the end of the string"
   ]
  },
  {
   "cell_type": "code",
   "execution_count": 5,
   "id": "87ee1e25-70c2-4e93-95d3-702218221f90",
   "metadata": {},
   "outputs": [],
   "source": [
    "string_a =\" pwskills \""
   ]
  },
  {
   "cell_type": "code",
   "execution_count": 6,
   "id": "01368086-415d-4bf3-b6ca-4499f9e5c908",
   "metadata": {},
   "outputs": [
    {
     "data": {
      "text/plain": [
       "'pwskills'"
      ]
     },
     "execution_count": 6,
     "metadata": {},
     "output_type": "execute_result"
    }
   ],
   "source": [
    "string_a.strip(\" \")"
   ]
  },
  {
   "cell_type": "code",
   "execution_count": 7,
   "id": "8c9254c0-1170-4e3b-919f-1ed319cfd0c2",
   "metadata": {},
   "outputs": [
    {
     "data": {
      "text/plain": [
       "'pwskills '"
      ]
     },
     "execution_count": 7,
     "metadata": {},
     "output_type": "execute_result"
    }
   ],
   "source": [
    "string_a.lstrip(\" \")"
   ]
  },
  {
   "cell_type": "code",
   "execution_count": 29,
   "id": "06a2f20e-8062-4b3c-a897-34e101561220",
   "metadata": {},
   "outputs": [
    {
     "data": {
      "text/plain": [
       "' pwskills'"
      ]
     },
     "execution_count": 29,
     "metadata": {},
     "output_type": "execute_result"
    }
   ],
   "source": [
    "string_a.rstrip(\" \")"
   ]
  },
  {
   "cell_type": "code",
   "execution_count": 2,
   "id": "90e33372-b21c-4aef-af13-fd594cb451bc",
   "metadata": {},
   "outputs": [
    {
     "data": {
      "text/plain": [
       "' Greeting from pwskills '"
      ]
     },
     "execution_count": 2,
     "metadata": {},
     "output_type": "execute_result"
    }
   ],
   "source": [
    "#string is immutable but we can not replace element we replace the word (replace function create new strings )\n",
    "string_n=\" Greeting to pwskills \"\n",
    "\n",
    "string_n.replace(\"to\",\"from\")"
   ]
  },
  {
   "cell_type": "code",
   "execution_count": 32,
   "id": "36246ef7-03ea-4ddc-bc81-f34868ad1e7c",
   "metadata": {},
   "outputs": [],
   "source": [
    "name=\"krish\""
   ]
  },
  {
   "cell_type": "code",
   "execution_count": 36,
   "id": "cb443dc0-3a52-4e7a-8a85-ecc11208546a",
   "metadata": {},
   "outputs": [],
   "source": [
    "name=\"pwskills\""
   ]
  },
  {
   "cell_type": "code",
   "execution_count": 3,
   "id": "3268e5be-0cb1-4a43-88a1-df03ee7d0a0f",
   "metadata": {},
   "outputs": [
    {
     "data": {
      "text/plain": [
       "' Welcome to pwskills '"
      ]
     },
     "execution_count": 3,
     "metadata": {},
     "output_type": "execute_result"
    }
   ],
   "source": [
    "string_n.replace(\"Greeting\",\"Welcome\")"
   ]
  },
  {
   "cell_type": "code",
   "execution_count": 40,
   "id": "ad3ce7df-cbea-419c-9270-dec9c7c8e471",
   "metadata": {},
   "outputs": [
    {
     "data": {
      "text/plain": [
       "' Treeting to pwskills '"
      ]
     },
     "execution_count": 40,
     "metadata": {},
     "output_type": "execute_result"
    }
   ],
   "source": [
    "   #replace function (creating new strings) \n",
    "string_n.replace(\"G\",\"T\")"
   ]
  },
  {
   "cell_type": "code",
   "execution_count": 42,
   "id": "cbe16c55-0613-424f-a7c4-7ddcf0f37e38",
   "metadata": {},
   "outputs": [
    {
     "name": "stdout",
     "output_type": "stream",
     "text": [
      "140135240976304\n",
      "140135240986224\n"
     ]
    }
   ],
   "source": [
    "var_a=string_n.replace(\"G\",\"T\")\n",
    "print(id(string_n))\n",
    "print(id(var_a))\n",
    "\n",
    "# The id of both are diffrent thats mean var_a (created a new string)"
   ]
  },
  {
   "cell_type": "code",
   "execution_count": 45,
   "id": "6297a114-1593-47c7-9a8b-a59bc307cf59",
   "metadata": {},
   "outputs": [
    {
     "data": {
      "text/plain": [
       "'hello world'"
      ]
     },
     "execution_count": 45,
     "metadata": {},
     "output_type": "execute_result"
    }
   ],
   "source": [
    "'hello world'"
   ]
  },
  {
   "cell_type": "code",
   "execution_count": 46,
   "id": "f7a6d96a-30ac-42c4-8a99-e0f440c2af39",
   "metadata": {},
   "outputs": [
    {
     "data": {
      "text/plain": [
       "'test gmail.com'"
      ]
     },
     "execution_count": 46,
     "metadata": {},
     "output_type": "execute_result"
    }
   ],
   "source": [
    "string_d=\"test@gmail.com\"\n",
    "var_q=string_d.replace(\"@\",\" \")\n",
    "var_q"
   ]
  },
  {
   "cell_type": "code",
   "execution_count": 47,
   "id": "d803f0c0-aa24-41e2-88b6-a19be37afea0",
   "metadata": {},
   "outputs": [
    {
     "data": {
      "text/plain": [
       "'hello \\nworld'"
      ]
     },
     "execution_count": 47,
     "metadata": {},
     "output_type": "execute_result"
    }
   ],
   "source": [
    "'hello \\nworld'"
   ]
  },
  {
   "cell_type": "code",
   "execution_count": 48,
   "id": "931ca958-e721-48ba-986c-2db321ed2e90",
   "metadata": {},
   "outputs": [
    {
     "data": {
      "text/plain": [
       "'hello   world'"
      ]
     },
     "execution_count": 48,
     "metadata": {},
     "output_type": "execute_result"
    }
   ],
   "source": [
    "'hello \\tworld'.expandtabs()"
   ]
  },
  {
   "cell_type": "code",
   "execution_count": 52,
   "id": "d09fbefe-eae0-4b4e-83f5-43f923d1841a",
   "metadata": {},
   "outputs": [],
   "source": [
    "str1=\"welcome to pw skills. welcome to dat cience masters\""
   ]
  },
  {
   "cell_type": "code",
   "execution_count": 53,
   "id": "eee3233e-858c-4f45-9b89-b32e17c6594d",
   "metadata": {},
   "outputs": [
    {
     "data": {
      "text/plain": [
       "'welcome to pw skills. welcome to data science masters'"
      ]
     },
     "execution_count": 53,
     "metadata": {},
     "output_type": "execute_result"
    }
   ],
   "source": [
    "str1.replace(\"dat\",\"data\").replace(\"cience\",\"science\")"
   ]
  },
  {
   "cell_type": "code",
   "execution_count": 54,
   "id": "92bbc899-5ed3-4619-bc80-954975845c51",
   "metadata": {},
   "outputs": [
    {
     "data": {
      "text/plain": [
       "'welcome to pw skills. welcome to dat cience masters'"
      ]
     },
     "execution_count": 54,
     "metadata": {},
     "output_type": "execute_result"
    }
   ],
   "source": [
    "str1"
   ]
  },
  {
   "cell_type": "code",
   "execution_count": 56,
   "id": "bc099b74-d001-4b67-8971-4d62d2fdb27e",
   "metadata": {},
   "outputs": [
    {
     "data": {
      "text/plain": [
       "False"
      ]
     },
     "execution_count": 56,
     "metadata": {},
     "output_type": "execute_result"
    }
   ],
   "source": [
    "str1.isupper()"
   ]
  },
  {
   "cell_type": "code",
   "execution_count": 58,
   "id": "cc84af5e-bb42-48a4-9e6c-99c439797885",
   "metadata": {},
   "outputs": [],
   "source": [
    "str1=\"KRISH\""
   ]
  },
  {
   "cell_type": "code",
   "execution_count": 59,
   "id": "40e6e762-44ee-4fe6-87c5-a09c1843a3f7",
   "metadata": {},
   "outputs": [
    {
     "data": {
      "text/plain": [
       "True"
      ]
     },
     "execution_count": 59,
     "metadata": {},
     "output_type": "execute_result"
    }
   ],
   "source": [
    "str1.isupper()"
   ]
  },
  {
   "cell_type": "code",
   "execution_count": 60,
   "id": "b88040b1-ed87-43d5-8c88-cbaba797a982",
   "metadata": {},
   "outputs": [
    {
     "data": {
      "text/plain": [
       "False"
      ]
     },
     "execution_count": 60,
     "metadata": {},
     "output_type": "execute_result"
    }
   ],
   "source": [
    "str1.isspace()"
   ]
  },
  {
   "cell_type": "code",
   "execution_count": 61,
   "id": "87d0f291-7e31-4118-9775-4b336b72243a",
   "metadata": {},
   "outputs": [
    {
     "data": {
      "text/plain": [
       "False"
      ]
     },
     "execution_count": 61,
     "metadata": {},
     "output_type": "execute_result"
    }
   ],
   "source": [
    "str1.islower()"
   ]
  },
  {
   "cell_type": "code",
   "execution_count": 63,
   "id": "78b6f3b7-aa2b-4f2d-ba6c-b32e9933eba2",
   "metadata": {},
   "outputs": [
    {
     "data": {
      "text/plain": [
       "True"
      ]
     },
     "execution_count": 63,
     "metadata": {},
     "output_type": "execute_result"
    }
   ],
   "source": [
    "\" \".isspace()"
   ]
  },
  {
   "cell_type": "code",
   "execution_count": 66,
   "id": "9f6931f6-2271-4596-b9c7-08d51cfbe00f",
   "metadata": {},
   "outputs": [
    {
     "name": "stdout",
     "output_type": "stream",
     "text": [
      "hello\n"
     ]
    }
   ],
   "source": [
    "if \" \".isspace():\n",
    "    print(\"hello\")"
   ]
  },
  {
   "cell_type": "code",
   "execution_count": 67,
   "id": "1d69b6f9-5f91-4cc8-8d13-8677e4c011ae",
   "metadata": {},
   "outputs": [],
   "source": [
    "str2=\"pwskills\""
   ]
  },
  {
   "cell_type": "code",
   "execution_count": 68,
   "id": "32a41906-6f13-413d-8224-97bfbeaba2a5",
   "metadata": {},
   "outputs": [
    {
     "data": {
      "text/plain": [
       "True"
      ]
     },
     "execution_count": 68,
     "metadata": {},
     "output_type": "execute_result"
    }
   ],
   "source": [
    "str2.endswith('s')"
   ]
  },
  {
   "cell_type": "code",
   "execution_count": 69,
   "id": "df6a431b-30de-4262-9190-3d5dd2415780",
   "metadata": {},
   "outputs": [
    {
     "data": {
      "text/plain": [
       "True"
      ]
     },
     "execution_count": 69,
     "metadata": {},
     "output_type": "execute_result"
    }
   ],
   "source": [
    "str2.startswith('p')"
   ]
  },
  {
   "cell_type": "code",
   "execution_count": 71,
   "id": "9171a755-7836-4d90-9aea-3af37bd77332",
   "metadata": {},
   "outputs": [],
   "source": [
    "# chk if all the character in string are alphanumeric\n",
    "a=\"abcd1234\""
   ]
  },
  {
   "cell_type": "code",
   "execution_count": 74,
   "id": "94852ba5-d944-4b19-82dd-51c521150a29",
   "metadata": {},
   "outputs": [
    {
     "data": {
      "text/plain": [
       "True"
      ]
     },
     "execution_count": 74,
     "metadata": {},
     "output_type": "execute_result"
    }
   ],
   "source": [
    "a.isalnum()"
   ]
  },
  {
   "cell_type": "code",
   "execution_count": 75,
   "id": "a7b47f3d-e5e5-4e84-9b8a-e7c2c9c6b5cb",
   "metadata": {},
   "outputs": [],
   "source": [
    "## to count the number of character in the string"
   ]
  },
  {
   "cell_type": "code",
   "execution_count": 76,
   "id": "f697f4c9-45c2-4b96-9a18-6fc11252628b",
   "metadata": {},
   "outputs": [
    {
     "name": "stdout",
     "output_type": "stream",
     "text": [
      "8\n"
     ]
    }
   ],
   "source": [
    "count=0\n",
    "for i in str2:\n",
    "    count=count+1\n",
    "    \n",
    "print(count)    "
   ]
  },
  {
   "cell_type": "code",
   "execution_count": 77,
   "id": "b42e8706-3cde-4e9f-a1ac-0de855ffb9a4",
   "metadata": {},
   "outputs": [
    {
     "data": {
      "text/plain": [
       "8"
      ]
     },
     "execution_count": 77,
     "metadata": {},
     "output_type": "execute_result"
    }
   ],
   "source": [
    "len(str2)"
   ]
  },
  {
   "cell_type": "code",
   "execution_count": 78,
   "id": "292a5df9-5786-4ad2-bf82-ecfac6c6ecec",
   "metadata": {},
   "outputs": [
    {
     "data": {
      "text/plain": [
       "'pwskills'"
      ]
     },
     "execution_count": 78,
     "metadata": {},
     "output_type": "execute_result"
    }
   ],
   "source": [
    "str2"
   ]
  },
  {
   "cell_type": "code",
   "execution_count": 79,
   "id": "0c0d2903-7e20-44dc-95a1-79805810c133",
   "metadata": {},
   "outputs": [
    {
     "name": "stdout",
     "output_type": "stream",
     "text": [
      "p\n",
      "w\n",
      "s\n",
      "k\n",
      "i\n",
      "l\n",
      "l\n",
      "s\n"
     ]
    }
   ],
   "source": [
    "for i in str2:\n",
    "    print(i)"
   ]
  },
  {
   "cell_type": "code",
   "execution_count": 81,
   "id": "0240e4d4-7c0c-452e-a00d-1f16b8ed85d0",
   "metadata": {},
   "outputs": [
    {
     "data": {
      "text/plain": [
       "range(0, 8)"
      ]
     },
     "execution_count": 81,
     "metadata": {},
     "output_type": "execute_result"
    }
   ],
   "source": [
    "range(len(str2))"
   ]
  },
  {
   "cell_type": "code",
   "execution_count": 80,
   "id": "5c516544-011d-48dc-8c9d-934ef253be3d",
   "metadata": {},
   "outputs": [
    {
     "name": "stdout",
     "output_type": "stream",
     "text": [
      "p\n",
      "w\n",
      "s\n",
      "k\n",
      "i\n",
      "l\n",
      "l\n",
      "s\n"
     ]
    }
   ],
   "source": [
    "for i in range(len(str2)):\n",
    "    print(str2[i])"
   ]
  },
  {
   "cell_type": "code",
   "execution_count": 82,
   "id": "7a7a4ce2-f0bd-476c-9a4a-1c013545525b",
   "metadata": {},
   "outputs": [
    {
     "name": "stdout",
     "output_type": "stream",
     "text": [
      "0 = p\n",
      "1 = w\n",
      "2 = s\n",
      "3 = k\n",
      "4 = i\n",
      "5 = l\n",
      "6 = l\n",
      "7 = s\n"
     ]
    }
   ],
   "source": [
    "for i in range(len(str2)):\n",
    "    print(i, \"=\", str2[i])"
   ]
  },
  {
   "cell_type": "code",
   "execution_count": null,
   "id": "00e58730-65fa-4421-b8f4-f7994204a50d",
   "metadata": {},
   "outputs": [],
   "source": [
    "# we can use index to iterate string reverse direction"
   ]
  },
  {
   "cell_type": "code",
   "execution_count": 83,
   "id": "f06cda9f-caa3-4695-b3d8-30dddf45c281",
   "metadata": {},
   "outputs": [
    {
     "data": {
      "text/plain": [
       "'sllikswp'"
      ]
     },
     "execution_count": 83,
     "metadata": {},
     "output_type": "execute_result"
    }
   ],
   "source": [
    "str2[::-1]"
   ]
  },
  {
   "cell_type": "code",
   "execution_count": 89,
   "id": "e480027a-7628-4b97-8753-a6a13c060a63",
   "metadata": {},
   "outputs": [
    {
     "data": {
      "text/plain": [
       "7"
      ]
     },
     "execution_count": 89,
     "metadata": {},
     "output_type": "execute_result"
    }
   ],
   "source": [
    "len(str2)-1"
   ]
  },
  {
   "cell_type": "code",
   "execution_count": 93,
   "id": "0386c350-9758-47ab-b581-f2cf868ed6af",
   "metadata": {},
   "outputs": [
    {
     "name": "stdout",
     "output_type": "stream",
     "text": [
      "s\n",
      "l\n",
      "l\n",
      "i\n",
      "k\n",
      "s\n",
      "w\n",
      "p\n"
     ]
    }
   ],
   "source": [
    "for i in range(len(str2)-1,-1,-1):\n",
    "    print(str2[i])"
   ]
  },
  {
   "cell_type": "code",
   "execution_count": 94,
   "id": "a93083fc-7ddc-4d26-b1a0-515d146254c1",
   "metadata": {},
   "outputs": [
    {
     "name": "stdout",
     "output_type": "stream",
     "text": [
      "s\n",
      "l\n",
      "l\n",
      "i\n",
      "k\n",
      "s\n",
      "w\n",
      "p\n"
     ]
    }
   ],
   "source": [
    "string=\"pwskills\"\n",
    "ch=len(string)-1\n",
    "while ch>=0:\n",
    "    print(string[ch])\n",
    "    ch=ch-1"
   ]
  },
  {
   "cell_type": "code",
   "execution_count": 95,
   "id": "86ad5308-6039-417d-a96e-2202dc8fac30",
   "metadata": {},
   "outputs": [
    {
     "data": {
      "text/plain": [
       "8"
      ]
     },
     "execution_count": 95,
     "metadata": {},
     "output_type": "execute_result"
    }
   ],
   "source": [
    "len(string)"
   ]
  },
  {
   "cell_type": "code",
   "execution_count": 2,
   "id": "d810a44b-4846-4f95-b3c4-ecb1d00ce617",
   "metadata": {},
   "outputs": [],
   "source": [
    "string=\"pwskills\""
   ]
  },
  {
   "cell_type": "code",
   "execution_count": 3,
   "id": "292f5d1f-a9c6-416e-9f5f-cf562983edb9",
   "metadata": {},
   "outputs": [
    {
     "name": "stdout",
     "output_type": "stream",
     "text": [
      "s\n",
      "l\n",
      "l\n",
      "i\n",
      "k\n",
      "s\n",
      "w\n",
      "p\n"
     ]
    }
   ],
   "source": [
    "for i in range(len(string)):\n",
    "    print(string[len(string)-(i+1)])"
   ]
  },
  {
   "cell_type": "code",
   "execution_count": 4,
   "id": "1f289bba-23eb-4a8d-8904-71e8ac39fddc",
   "metadata": {},
   "outputs": [
    {
     "name": "stdout",
     "output_type": "stream",
     "text": [
      "sllikswp"
     ]
    }
   ],
   "source": [
    "for i in range(len(string)):\n",
    "    print(string[len(string)-(i+1)],end=\"\")"
   ]
  },
  {
   "cell_type": "code",
   "execution_count": 5,
   "id": "1b96e3dc-56f8-4181-ad16-b089a003bd32",
   "metadata": {},
   "outputs": [],
   "source": [
    "name=\"pwskills\"\n",
    "vowels=\"AaEeIiOoUu\""
   ]
  },
  {
   "cell_type": "code",
   "execution_count": 8,
   "id": "7b3a7ac9-ee87-40ac-b757-413d0cc20aec",
   "metadata": {},
   "outputs": [
    {
     "name": "stdout",
     "output_type": "stream",
     "text": [
      "p is not vowel\n",
      "w is not vowel\n",
      "s is not vowel\n",
      "k is not vowel\n",
      "i is a vowel\n",
      "l is not vowel\n",
      "l is not vowel\n",
      "s is not vowel\n"
     ]
    }
   ],
   "source": [
    "for ch in name:\n",
    "    if ch in vowels:\n",
    "        print(\"{} is a vowel\".format(ch))\n",
    "    else:\n",
    "            print(\"{} is not vowel\".format(ch))"
   ]
  },
  {
   "cell_type": "markdown",
   "id": "0aba0168-4127-49a8-839a-688823ad615c",
   "metadata": {},
   "source": [
    "## List"
   ]
  },
  {
   "cell_type": "code",
   "execution_count": 1,
   "id": "19cb862a-5d84-4bac-ad9e-93f100785ab0",
   "metadata": {},
   "outputs": [
    {
     "data": {
      "text/plain": [
       "[]"
      ]
     },
     "execution_count": 1,
     "metadata": {},
     "output_type": "execute_result"
    }
   ],
   "source": [
    "[]"
   ]
  },
  {
   "cell_type": "code",
   "execution_count": 3,
   "id": "f32295bd-d458-42f9-83c6-91bb2c77f000",
   "metadata": {},
   "outputs": [
    {
     "data": {
      "text/plain": [
       "list"
      ]
     },
     "execution_count": 3,
     "metadata": {},
     "output_type": "execute_result"
    }
   ],
   "source": [
    "type([])"
   ]
  },
  {
   "cell_type": "code",
   "execution_count": 9,
   "id": "1ba5c9f0-617d-46fd-aa60-e04cf013bb2c",
   "metadata": {},
   "outputs": [
    {
     "data": {
      "text/plain": [
       "['krish', 'naik', 'pwskills', 32]"
      ]
     },
     "execution_count": 9,
     "metadata": {},
     "output_type": "execute_result"
    }
   ],
   "source": [
    "[\"krish\",\"naik\",\"pwskills\",32]"
   ]
  },
  {
   "cell_type": "code",
   "execution_count": 7,
   "id": "23cb4861-50cd-4c35-be1f-e302bc014341",
   "metadata": {},
   "outputs": [
    {
     "data": {
      "text/plain": [
       "[1, 2, 3, 4, 5]"
      ]
     },
     "execution_count": 7,
     "metadata": {},
     "output_type": "execute_result"
    }
   ],
   "source": [
    "list([1,2,3,4,5])"
   ]
  },
  {
   "cell_type": "code",
   "execution_count": 12,
   "id": "80e14df2-3b58-4cc0-8d50-116d9ba2cd9b",
   "metadata": {},
   "outputs": [],
   "source": [
    "str1=\"pw skills data science masters\""
   ]
  },
  {
   "cell_type": "code",
   "execution_count": 14,
   "id": "8d4b622c-749c-497b-bec5-07400386fad0",
   "metadata": {},
   "outputs": [
    {
     "data": {
      "text/plain": [
       "['p',\n",
       " 'w',\n",
       " ' ',\n",
       " 's',\n",
       " 'k',\n",
       " 'i',\n",
       " 'l',\n",
       " 'l',\n",
       " 's',\n",
       " ' ',\n",
       " 'd',\n",
       " 'a',\n",
       " 't',\n",
       " 'a',\n",
       " ' ',\n",
       " 's',\n",
       " 'c',\n",
       " 'i',\n",
       " 'e',\n",
       " 'n',\n",
       " 'c',\n",
       " 'e',\n",
       " ' ',\n",
       " 'm',\n",
       " 'a',\n",
       " 's',\n",
       " 't',\n",
       " 'e',\n",
       " 'r',\n",
       " 's']"
      ]
     },
     "execution_count": 14,
     "metadata": {},
     "output_type": "execute_result"
    }
   ],
   "source": [
    "list(str1)"
   ]
  },
  {
   "cell_type": "code",
   "execution_count": 15,
   "id": "1c204fd0-f46f-421f-ab60-73fec82a88cd",
   "metadata": {},
   "outputs": [
    {
     "data": {
      "text/plain": [
       "['pw', 'skills', 'data', 'science', 'masters']"
      ]
     },
     "execution_count": 15,
     "metadata": {},
     "output_type": "execute_result"
    }
   ],
   "source": [
    "list(str1.split(\" \"))"
   ]
  },
  {
   "cell_type": "code",
   "execution_count": 16,
   "id": "14ab8d37-8577-44b2-9950-8d60adb602a9",
   "metadata": {},
   "outputs": [
    {
     "data": {
      "text/plain": [
       "['pw', 'skills', 'data', 'science', 'masters']"
      ]
     },
     "execution_count": 16,
     "metadata": {},
     "output_type": "execute_result"
    }
   ],
   "source": [
    "str1.split(\" \")"
   ]
  },
  {
   "cell_type": "code",
   "execution_count": 17,
   "id": "ed8e1215-deef-4409-af1c-a3c9a95a7aa1",
   "metadata": {},
   "outputs": [],
   "source": [
    "lst1=str1.split(\" \")"
   ]
  },
  {
   "cell_type": "code",
   "execution_count": 18,
   "id": "6f2c00c7-3649-4c58-bd93-f282fe3f91ac",
   "metadata": {},
   "outputs": [
    {
     "data": {
      "text/plain": [
       "'skills'"
      ]
     },
     "execution_count": 18,
     "metadata": {},
     "output_type": "execute_result"
    }
   ],
   "source": [
    "lst1[1]"
   ]
  },
  {
   "cell_type": "code",
   "execution_count": 20,
   "id": "6509df26-d565-4e8b-8fc3-cb268ace0960",
   "metadata": {},
   "outputs": [
    {
     "data": {
      "text/plain": [
       "['skills', 'data', 'science', 'masters']"
      ]
     },
     "execution_count": 20,
     "metadata": {},
     "output_type": "execute_result"
    }
   ],
   "source": [
    "lst1[1:]"
   ]
  },
  {
   "cell_type": "code",
   "execution_count": 21,
   "id": "d54a188a-19ab-4e35-9acc-5fedcb8d9b7c",
   "metadata": {},
   "outputs": [],
   "source": [
    "lst1[2]=\"datas\""
   ]
  },
  {
   "cell_type": "code",
   "execution_count": 23,
   "id": "5665c860-7c2d-4b26-811b-2fc32a6a8fb8",
   "metadata": {},
   "outputs": [
    {
     "data": {
      "text/plain": [
       "['pw', 'skills', 'datas', 'science', 'masters']"
      ]
     },
     "execution_count": 23,
     "metadata": {},
     "output_type": "execute_result"
    }
   ],
   "source": [
    "lst1"
   ]
  },
  {
   "cell_type": "code",
   "execution_count": 24,
   "id": "cec9b0d0-4d06-40fa-b363-63d0228eb49b",
   "metadata": {},
   "outputs": [
    {
     "data": {
      "text/plain": [
       "['pw', 'skills', 'datas', 'science', 'masters']"
      ]
     },
     "execution_count": 24,
     "metadata": {},
     "output_type": "execute_result"
    }
   ],
   "source": [
    "lst1"
   ]
  },
  {
   "cell_type": "code",
   "execution_count": 26,
   "id": "5a508f3e-1294-4ffd-87a1-f285a7c1f8ae",
   "metadata": {},
   "outputs": [
    {
     "data": {
      "text/plain": [
       "['pw', 'skills', 'datas', 'science', 'masters', 'new element', 3]"
      ]
     },
     "execution_count": 26,
     "metadata": {},
     "output_type": "execute_result"
    }
   ],
   "source": [
    "## Concatenation operation\n",
    "lst1 + ['new element',3]"
   ]
  },
  {
   "cell_type": "code",
   "execution_count": 29,
   "id": "d1c7159e-3fc1-4884-824a-a56d9070cee9",
   "metadata": {},
   "outputs": [
    {
     "data": {
      "text/plain": [
       "['pw', 'skills', 'datas', 'science', 'masters', ['new elements', 3]]"
      ]
     },
     "execution_count": 29,
     "metadata": {},
     "output_type": "execute_result"
    }
   ],
   "source": [
    "## multi nested list (list inside list)||\n",
    "lst1 + [['new elements',3]]"
   ]
  },
  {
   "cell_type": "code",
   "execution_count": 32,
   "id": "39262e48-9140-4ea2-8629-4be787e08512",
   "metadata": {},
   "outputs": [],
   "source": [
    "lst2=lst1 + [['new elements',3,2]]"
   ]
  },
  {
   "cell_type": "code",
   "execution_count": 31,
   "id": "6c2259c3-8886-4d28-b14a-256b7929c2fb",
   "metadata": {},
   "outputs": [
    {
     "data": {
      "text/plain": [
       "['pw', 'skills', 'datas', 'science', 'masters', ['new elements', 3]]"
      ]
     },
     "execution_count": 31,
     "metadata": {},
     "output_type": "execute_result"
    }
   ],
   "source": [
    "lst2"
   ]
  },
  {
   "cell_type": "code",
   "execution_count": 33,
   "id": "0ae57fbb-a4c0-467e-8ddf-3462e1a98752",
   "metadata": {},
   "outputs": [
    {
     "data": {
      "text/plain": [
       "['new elements', 3, 2]"
      ]
     },
     "execution_count": 33,
     "metadata": {},
     "output_type": "execute_result"
    }
   ],
   "source": [
    "lst2 [-1]"
   ]
  },
  {
   "cell_type": "code",
   "execution_count": 34,
   "id": "5843a7d1-9d58-4483-af6a-292b443c9f4b",
   "metadata": {},
   "outputs": [
    {
     "data": {
      "text/plain": [
       "'new elements'"
      ]
     },
     "execution_count": 34,
     "metadata": {},
     "output_type": "execute_result"
    }
   ],
   "source": [
    "lst2[-1][0]"
   ]
  },
  {
   "cell_type": "code",
   "execution_count": 37,
   "id": "e92d89c8-a045-481b-8516-520710e0b76b",
   "metadata": {},
   "outputs": [
    {
     "data": {
      "text/plain": [
       "['pw',\n",
       " 'skills',\n",
       " 'datas',\n",
       " 'science',\n",
       " 'masters',\n",
       " 'pw',\n",
       " 'skills',\n",
       " 'datas',\n",
       " 'science',\n",
       " 'masters']"
      ]
     },
     "execution_count": 37,
     "metadata": {},
     "output_type": "execute_result"
    }
   ],
   "source": [
    "lst1 * 2"
   ]
  },
  {
   "cell_type": "code",
   "execution_count": 38,
   "id": "06279af6-54ad-4ec2-ba9d-63a61cf734ea",
   "metadata": {},
   "outputs": [
    {
     "data": {
      "text/plain": [
       "['pw', 'skills', 'datas', 'science', 'masters']"
      ]
     },
     "execution_count": 38,
     "metadata": {},
     "output_type": "execute_result"
    }
   ],
   "source": [
    "lst1"
   ]
  },
  {
   "cell_type": "code",
   "execution_count": 39,
   "id": "6a7facab-d284-497d-b0f3-5f0e35aab5e5",
   "metadata": {},
   "outputs": [
    {
     "name": "stdout",
     "output_type": "stream",
     "text": [
      "present\n"
     ]
    }
   ],
   "source": [
    "if \"science\" in lst1:\n",
    "    print(\"present\")\n",
    "        "
   ]
  },
  {
   "cell_type": "code",
   "execution_count": 41,
   "id": "1cfdbd72-0ddf-47c3-971e-34fdc0acbb70",
   "metadata": {},
   "outputs": [
    {
     "name": "stdout",
     "output_type": "stream",
     "text": [
      "science\n"
     ]
    }
   ],
   "source": [
    "for elements in lst1:\n",
    "    if elements==\"science\":\n",
    "        print(elements)"
   ]
  },
  {
   "cell_type": "code",
   "execution_count": 42,
   "id": "e5981bdf-3379-43d5-9522-818baef371f8",
   "metadata": {},
   "outputs": [
    {
     "data": {
      "text/plain": [
       "True"
      ]
     },
     "execution_count": 42,
     "metadata": {},
     "output_type": "execute_result"
    }
   ],
   "source": [
    "## check elements inside a list \n",
    "lst=[1,2,3,4,5]\n",
    "4 in lst"
   ]
  },
  {
   "cell_type": "code",
   "execution_count": 43,
   "id": "290bb8da-eacc-419e-b1b6-e051fb6ad078",
   "metadata": {},
   "outputs": [
    {
     "data": {
      "text/plain": [
       "False"
      ]
     },
     "execution_count": 43,
     "metadata": {},
     "output_type": "execute_result"
    }
   ],
   "source": [
    "6 in lst"
   ]
  },
  {
   "cell_type": "code",
   "execution_count": null,
   "id": "d44480cb-641f-4297-9185-110e48e99164",
   "metadata": {},
   "outputs": [],
   "source": [
    "lst1=[\"zebra\",\"monkey\",\"donkey\",\"lion\"]\n",
    "lst2=[5,6,2,9,5,8,6]"
   ]
  },
  {
   "cell_type": "code",
   "execution_count": null,
   "id": "845cfead-48a6-48e5-8bf4-76461374eec5",
   "metadata": {},
   "outputs": [],
   "source": [
    "## ascii value\n",
    "print(max(lst1))"
   ]
  },
  {
   "cell_type": "code",
   "execution_count": 46,
   "id": "d1d0ed1d-e262-4c8c-b78c-a11c7b43c6c8",
   "metadata": {},
   "outputs": [
    {
     "name": "stdout",
     "output_type": "stream",
     "text": [
      "9\n"
     ]
    }
   ],
   "source": [
    "print(max(lst2))"
   ]
  },
  {
   "cell_type": "code",
   "execution_count": 47,
   "id": "572f3e69-b659-4c39-93bf-763cf10a2779",
   "metadata": {},
   "outputs": [
    {
     "data": {
      "text/plain": [
       "'donkey'"
      ]
     },
     "execution_count": 47,
     "metadata": {},
     "output_type": "execute_result"
    }
   ],
   "source": [
    "min(lst1)"
   ]
  },
  {
   "cell_type": "code",
   "execution_count": 48,
   "id": "481dd200-ac8a-4ba1-8791-39324692daed",
   "metadata": {},
   "outputs": [
    {
     "data": {
      "text/plain": [
       "2"
      ]
     },
     "execution_count": 48,
     "metadata": {},
     "output_type": "execute_result"
    }
   ],
   "source": [
    "min(lst2)"
   ]
  },
  {
   "cell_type": "code",
   "execution_count": 49,
   "id": "09c16c2e-aa36-4886-ae3a-0c75e7fd14b8",
   "metadata": {},
   "outputs": [],
   "source": [
    "## append "
   ]
  },
  {
   "cell_type": "code",
   "execution_count": 4,
   "id": "6e53adb5-619d-46f6-b91d-9a1ba6502437",
   "metadata": {},
   "outputs": [],
   "source": [
    "lst3=[5,6,2,5,9,8,6]\n"
   ]
  },
  {
   "cell_type": "code",
   "execution_count": 5,
   "id": "11ab933a-825d-4314-91fc-4b758f065226",
   "metadata": {},
   "outputs": [
    {
     "data": {
      "text/plain": [
       "int"
      ]
     },
     "execution_count": 5,
     "metadata": {},
     "output_type": "execute_result"
    }
   ],
   "source": [
    "type(lst3[0])"
   ]
  },
  {
   "cell_type": "code",
   "execution_count": 2,
   "id": "ecd35ee8-4321-4730-8a7d-fec8bebb21f4",
   "metadata": {},
   "outputs": [
    {
     "data": {
      "text/plain": [
       "float"
      ]
     },
     "execution_count": 2,
     "metadata": {},
     "output_type": "execute_result"
    }
   ],
   "source": [
    "type(5.0)"
   ]
  },
  {
   "cell_type": "code",
   "execution_count": 8,
   "id": "eb5ef86f-745e-45ca-a8d0-2089dc660bc9",
   "metadata": {},
   "outputs": [
    {
     "data": {
      "text/plain": [
       "True"
      ]
     },
     "execution_count": 8,
     "metadata": {},
     "output_type": "execute_result"
    }
   ],
   "source": [
    "5.0 in lst3"
   ]
  },
  {
   "cell_type": "code",
   "execution_count": 11,
   "id": "22ddad3f-3d5a-4e42-b3ab-fc06cb64bf0a",
   "metadata": {},
   "outputs": [
    {
     "data": {
      "text/plain": [
       "True"
      ]
     },
     "execution_count": 11,
     "metadata": {},
     "output_type": "execute_result"
    }
   ],
   "source": [
    "## double equal sign use for check the type and value are same or not \n",
    "4==4.0"
   ]
  },
  {
   "cell_type": "code",
   "execution_count": 12,
   "id": "adc25383-fd62-4aac-91bc-586e60233ef5",
   "metadata": {},
   "outputs": [],
   "source": [
    "lst=[1,2,3,4,5,6]"
   ]
  },
  {
   "cell_type": "code",
   "execution_count": 13,
   "id": "9ef316ce-7e30-4432-a536-7697a9c83383",
   "metadata": {},
   "outputs": [
    {
     "data": {
      "text/plain": [
       "[1, 2, 3, 4, 5, 6]"
      ]
     },
     "execution_count": 13,
     "metadata": {},
     "output_type": "execute_result"
    }
   ],
   "source": [
    "lst"
   ]
  },
  {
   "cell_type": "code",
   "execution_count": null,
   "id": "b0d46a8c-cfcf-486f-9c8f-e255537272c2",
   "metadata": {},
   "outputs": [],
   "source": [
    "## append function use for update list \n",
    "lst.append(\"pwskills\")"
   ]
  },
  {
   "cell_type": "code",
   "execution_count": 15,
   "id": "84fd9b2a-4eda-453d-b14d-4f47731e8f31",
   "metadata": {},
   "outputs": [
    {
     "data": {
      "text/plain": [
       "[1, 2, 3, 4, 5, 6, 'pwskills']"
      ]
     },
     "execution_count": 15,
     "metadata": {},
     "output_type": "execute_result"
    }
   ],
   "source": [
    "lst"
   ]
  },
  {
   "cell_type": "code",
   "execution_count": 17,
   "id": "50affcee-596d-4ee6-95e7-5c68964c3baa",
   "metadata": {},
   "outputs": [],
   "source": [
    "lst.append(['data','science','master'])"
   ]
  },
  {
   "cell_type": "code",
   "execution_count": 18,
   "id": "3d343c78-41e5-4ea9-8d77-53fad7a6afc3",
   "metadata": {},
   "outputs": [
    {
     "data": {
      "text/plain": [
       "[1, 2, 3, 4, 5, 6, 'pwskills', ['data', 'science', 'master']]"
      ]
     },
     "execution_count": 18,
     "metadata": {},
     "output_type": "execute_result"
    }
   ],
   "source": [
    "lst"
   ]
  },
  {
   "cell_type": "code",
   "execution_count": 19,
   "id": "475bc59d-df8f-4fb5-9b7d-357029928f35",
   "metadata": {},
   "outputs": [],
   "source": [
    "lst1=['zebra','monkey','donkey','lion']"
   ]
  },
  {
   "cell_type": "code",
   "execution_count": 20,
   "id": "09074bb3-b162-4b75-9ed9-cc72e6efd48c",
   "metadata": {},
   "outputs": [
    {
     "data": {
      "text/plain": [
       "'lion'"
      ]
     },
     "execution_count": 20,
     "metadata": {},
     "output_type": "execute_result"
    }
   ],
   "source": [
    "lst1.pop()"
   ]
  },
  {
   "cell_type": "code",
   "execution_count": 21,
   "id": "b2430500-b41f-4117-9dde-2a68f29fc198",
   "metadata": {},
   "outputs": [
    {
     "data": {
      "text/plain": [
       "['zebra', 'monkey', 'donkey']"
      ]
     },
     "execution_count": 21,
     "metadata": {},
     "output_type": "execute_result"
    }
   ],
   "source": [
    "lst1"
   ]
  },
  {
   "cell_type": "code",
   "execution_count": 22,
   "id": "07c09452-f70b-4ef5-8bf6-2c0929ae881c",
   "metadata": {},
   "outputs": [
    {
     "data": {
      "text/plain": [
       "'donkey'"
      ]
     },
     "execution_count": 22,
     "metadata": {},
     "output_type": "execute_result"
    }
   ],
   "source": [
    "lst1.pop(2)"
   ]
  },
  {
   "cell_type": "code",
   "execution_count": 23,
   "id": "acd6c1d6-299d-4b19-b590-f3ff6fd07057",
   "metadata": {},
   "outputs": [
    {
     "data": {
      "text/plain": [
       "['zebra', 'monkey']"
      ]
     },
     "execution_count": 23,
     "metadata": {},
     "output_type": "execute_result"
    }
   ],
   "source": [
    "lst1"
   ]
  },
  {
   "cell_type": "code",
   "execution_count": 33,
   "id": "c6582d75-fd90-482f-b427-dbbb5af46c1d",
   "metadata": {},
   "outputs": [],
   "source": [
    "lst1=['zebra','monkey','donkey','lion']"
   ]
  },
  {
   "cell_type": "code",
   "execution_count": 34,
   "id": "f7857b32-9989-4dcf-93e8-833ab533846e",
   "metadata": {},
   "outputs": [
    {
     "data": {
      "text/plain": [
       "['zebra', 'monkey', 'donkey', 'lion']"
      ]
     },
     "execution_count": 34,
     "metadata": {},
     "output_type": "execute_result"
    }
   ],
   "source": [
    "lst1"
   ]
  },
  {
   "cell_type": "code",
   "execution_count": 35,
   "id": "36228c9d-3a12-4954-bdad-920b298e7d2a",
   "metadata": {},
   "outputs": [
    {
     "data": {
      "text/plain": [
       "'zebra'"
      ]
     },
     "execution_count": 35,
     "metadata": {},
     "output_type": "execute_result"
    }
   ],
   "source": [
    "removed_element=lst1.pop(0)\n",
    "removed_element"
   ]
  },
  {
   "cell_type": "code",
   "execution_count": 36,
   "id": "5d86f82f-85c0-4175-bd6b-a56a77d5e4cf",
   "metadata": {},
   "outputs": [
    {
     "name": "stdout",
     "output_type": "stream",
     "text": [
      "monkey\n"
     ]
    }
   ],
   "source": [
    "removed_elements=lst1.pop(0)\n",
    "print(removed_elements)"
   ]
  },
  {
   "cell_type": "code",
   "execution_count": 37,
   "id": "2ef3105b-394a-4323-be0e-f772c068e545",
   "metadata": {},
   "outputs": [
    {
     "data": {
      "text/plain": [
       "['donkey', 'lion']"
      ]
     },
     "execution_count": 37,
     "metadata": {},
     "output_type": "execute_result"
    }
   ],
   "source": [
    "lst1"
   ]
  },
  {
   "cell_type": "code",
   "execution_count": 39,
   "id": "b8ca31eb-8d9d-4786-9def-e3e86aba3c8c",
   "metadata": {},
   "outputs": [
    {
     "ename": "IndexError",
     "evalue": "list index out of range",
     "output_type": "error",
     "traceback": [
      "\u001b[0;31m---------------------------------------------------------------------------\u001b[0m",
      "\u001b[0;31mIndexError\u001b[0m                                Traceback (most recent call last)",
      "Cell \u001b[0;32mIn[39], line 1\u001b[0m\n\u001b[0;32m----> 1\u001b[0m \u001b[43mlst1\u001b[49m\u001b[43m[\u001b[49m\u001b[38;5;241;43m100\u001b[39;49m\u001b[43m]\u001b[49m\n",
      "\u001b[0;31mIndexError\u001b[0m: list index out of range"
     ]
    }
   ],
   "source": [
    "lst1[100]"
   ]
  },
  {
   "cell_type": "code",
   "execution_count": 40,
   "id": "59d5122d-cba7-4256-ae5f-3aff6bc51e74",
   "metadata": {},
   "outputs": [],
   "source": [
    "## sorting and reverse method in list"
   ]
  },
  {
   "cell_type": "code",
   "execution_count": 41,
   "id": "e189ac4d-3eb7-4eeb-a5f6-87ed4413e690",
   "metadata": {},
   "outputs": [
    {
     "data": {
      "text/plain": [
       "['q', 'e', 'f', 's', 't', 'u']"
      ]
     },
     "execution_count": 41,
     "metadata": {},
     "output_type": "execute_result"
    }
   ],
   "source": [
    "new_list=['q','e','f','s','t','u']\n",
    "new_list"
   ]
  },
  {
   "cell_type": "code",
   "execution_count": 42,
   "id": "4f49b18d-a94e-4d36-a15a-9d51fb86791e",
   "metadata": {},
   "outputs": [
    {
     "data": {
      "text/plain": [
       "['u', 't', 's', 'f', 'e', 'q']"
      ]
     },
     "execution_count": 42,
     "metadata": {},
     "output_type": "execute_result"
    }
   ],
   "source": [
    "new_list[::-1]"
   ]
  },
  {
   "cell_type": "code",
   "execution_count": 45,
   "id": "4d2e4de8-dd07-4f4f-a179-071541011c1c",
   "metadata": {},
   "outputs": [],
   "source": [
    "## inplace operation\n",
    "new_list.reverse()"
   ]
  },
  {
   "cell_type": "markdown",
   "id": "c2c770c4-780e-4e12-98a5-e0ea6c1de9a7",
   "metadata": {},
   "source": [
    "new_list"
   ]
  },
  {
   "cell_type": "code",
   "execution_count": 46,
   "id": "122f7311-30d8-4a4a-b8a5-cc5687c3f337",
   "metadata": {},
   "outputs": [],
   "source": [
    "new_list.sort()"
   ]
  },
  {
   "cell_type": "code",
   "execution_count": 47,
   "id": "1f7ad4e1-2b14-4dc3-8502-64b681dc57a8",
   "metadata": {},
   "outputs": [
    {
     "data": {
      "text/plain": [
       "['e', 'f', 'q', 's', 't', 'u']"
      ]
     },
     "execution_count": 47,
     "metadata": {},
     "output_type": "execute_result"
    }
   ],
   "source": [
    "new_list"
   ]
  },
  {
   "cell_type": "code",
   "execution_count": 48,
   "id": "d21c41d5-3205-488c-b212-3a77bfd6dd45",
   "metadata": {},
   "outputs": [],
   "source": [
    "lst=[1,2,3,4,5,6]\n",
    "lst.append(10)"
   ]
  },
  {
   "cell_type": "code",
   "execution_count": 49,
   "id": "fc500d27-856f-433f-b19b-d9c54a002043",
   "metadata": {},
   "outputs": [
    {
     "data": {
      "text/plain": [
       "[1, 2, 3, 4, 5, 6, 10]"
      ]
     },
     "execution_count": 49,
     "metadata": {},
     "output_type": "execute_result"
    }
   ],
   "source": [
    "lst"
   ]
  },
  {
   "cell_type": "code",
   "execution_count": 50,
   "id": "5e90dbc0-8f33-4a2d-9a4a-8829e08dbea5",
   "metadata": {},
   "outputs": [],
   "source": [
    "lst.append(['pw','skills'])"
   ]
  },
  {
   "cell_type": "code",
   "execution_count": 51,
   "id": "81123184-2083-4e18-9c31-f453adc82db7",
   "metadata": {},
   "outputs": [
    {
     "data": {
      "text/plain": [
       "[1, 2, 3, 4, 5, 6, 10, ['pw', 'skills']]"
      ]
     },
     "execution_count": 51,
     "metadata": {},
     "output_type": "execute_result"
    }
   ],
   "source": [
    "lst"
   ]
  },
  {
   "cell_type": "code",
   "execution_count": 52,
   "id": "21118d5f-fa1f-4fd5-837d-caa172fb916a",
   "metadata": {},
   "outputs": [],
   "source": [
    "lst=[1,2,3,4,5,6]"
   ]
  },
  {
   "cell_type": "code",
   "execution_count": 53,
   "id": "9e7f74cd-f35a-43cc-85fd-49e575e6cc26",
   "metadata": {},
   "outputs": [],
   "source": [
    "lst.extend(['pw','skills'])"
   ]
  },
  {
   "cell_type": "code",
   "execution_count": 54,
   "id": "3a603800-57dd-46b0-bbba-c0bdbfcb8412",
   "metadata": {},
   "outputs": [
    {
     "data": {
      "text/plain": [
       "[1, 2, 3, 4, 5, 6, 'pw', 'skills']"
      ]
     },
     "execution_count": 54,
     "metadata": {},
     "output_type": "execute_result"
    }
   ],
   "source": [
    "lst"
   ]
  },
  {
   "cell_type": "markdown",
   "id": "3ef8838e-1143-44b8-b340-4e411c1ec657",
   "metadata": {},
   "source": [
    "## Nested list"
   ]
  },
  {
   "cell_type": "code",
   "execution_count": 55,
   "id": "e2345a5f-c42a-425f-8b9e-63cc7ca72c04",
   "metadata": {},
   "outputs": [],
   "source": [
    "# lets's make three list\n",
    "lst_1=[1,2,3]\n",
    "lst_2=[4,5,6]\n",
    "lst_3=[7,8,9]\n",
    "\n",
    "# make a list of list to form a matrix \n",
    "matrix=[lst_1,lst_2,lst_3]"
   ]
  },
  {
   "cell_type": "code",
   "execution_count": 56,
   "id": "a4730bc3-77d8-449a-ad1d-33a48ec46404",
   "metadata": {},
   "outputs": [
    {
     "data": {
      "text/plain": [
       "[[1, 2, 3], [4, 5, 6], [7, 8, 9]]"
      ]
     },
     "execution_count": 56,
     "metadata": {},
     "output_type": "execute_result"
    }
   ],
   "source": [
    "matrix"
   ]
  },
  {
   "cell_type": "code",
   "execution_count": 58,
   "id": "598a040c-793a-4b43-be31-0b079722b15e",
   "metadata": {},
   "outputs": [
    {
     "data": {
      "text/plain": [
       "[4, 5, 6]"
      ]
     },
     "execution_count": 58,
     "metadata": {},
     "output_type": "execute_result"
    }
   ],
   "source": [
    "matrix[1]"
   ]
  },
  {
   "cell_type": "code",
   "execution_count": 59,
   "id": "829ded68-3e72-4c6e-8975-5dd3af647ce6",
   "metadata": {},
   "outputs": [
    {
     "data": {
      "text/plain": [
       "6"
      ]
     },
     "execution_count": 59,
     "metadata": {},
     "output_type": "execute_result"
    }
   ],
   "source": [
    "matrix[1][2]"
   ]
  },
  {
   "cell_type": "code",
   "execution_count": 60,
   "id": "5894d29e-c256-4f6c-abb0-f93dd6d091ee",
   "metadata": {},
   "outputs": [
    {
     "data": {
      "text/plain": [
       "[8, 9]"
      ]
     },
     "execution_count": 60,
     "metadata": {},
     "output_type": "execute_result"
    }
   ],
   "source": [
    "matrix[2][1:]"
   ]
  },
  {
   "cell_type": "code",
   "execution_count": 68,
   "id": "5159249e-c22c-4302-9cef-98fabece5944",
   "metadata": {},
   "outputs": [],
   "source": [
    "## list comprehension"
   ]
  },
  {
   "cell_type": "code",
   "execution_count": 73,
   "id": "70e9f918-b502-456c-8eac-2e0ff90afc33",
   "metadata": {},
   "outputs": [
    {
     "data": {
      "text/plain": [
       "[0, 1, 2, 3, 4, 5, 6, 7, 8, 9, 10, 11, 12, 13, 14, 15, 16, 17, 18, 19]"
      ]
     },
     "execution_count": 73,
     "metadata": {},
     "output_type": "execute_result"
    }
   ],
   "source": [
    "[i for i in range(20)]"
   ]
  },
  {
   "cell_type": "code",
   "execution_count": 74,
   "id": "89c7c139-b58f-43ba-b70f-7986ab36d612",
   "metadata": {},
   "outputs": [],
   "source": [
    "## even number"
   ]
  },
  {
   "cell_type": "code",
   "execution_count": 4,
   "id": "8f951621-b552-4d2d-9910-6266cc176393",
   "metadata": {},
   "outputs": [
    {
     "data": {
      "text/plain": [
       "[0,\n",
       " 'odd',\n",
       " 2,\n",
       " 'odd',\n",
       " 4,\n",
       " 'odd',\n",
       " 6,\n",
       " 'odd',\n",
       " 8,\n",
       " 'odd',\n",
       " 10,\n",
       " 'odd',\n",
       " 12,\n",
       " 'odd',\n",
       " 14,\n",
       " 'odd',\n",
       " 16,\n",
       " 'odd',\n",
       " 18,\n",
       " 'odd']"
      ]
     },
     "execution_count": 4,
     "metadata": {},
     "output_type": "execute_result"
    }
   ],
   "source": [
    "\n",
    "[i if i%2==0 else \"odd\" for i in range(20)]"
   ]
  },
  {
   "cell_type": "code",
   "execution_count": 82,
   "id": "4cd4b920-74f9-4af5-9600-562d0273e6e8",
   "metadata": {},
   "outputs": [
    {
     "data": {
      "text/plain": [
       "[0, '', 2, '', 4, '', 6, '', 8, '', 10, '', 12, '', 14, '', 16, '', 18, '']"
      ]
     },
     "execution_count": 82,
     "metadata": {},
     "output_type": "execute_result"
    }
   ],
   "source": [
    "[i if i%2==0 else \"\" for i in range(20)]"
   ]
  },
  {
   "cell_type": "code",
   "execution_count": 85,
   "id": "462a681c-49bf-4953-9575-29cf5db615f2",
   "metadata": {},
   "outputs": [
    {
     "data": {
      "text/plain": [
       "['', 1, '', 3, '', 5, '', 7, '', 9, '', 11, '', 13, '', 15, '', 17, '', 19]"
      ]
     },
     "execution_count": 85,
     "metadata": {},
     "output_type": "execute_result"
    }
   ],
   "source": [
    "[i if i%2==1 else \"\" for i in range(20)]"
   ]
  },
  {
   "cell_type": "code",
   "execution_count": 83,
   "id": "7a919700-8273-484d-8ba3-5a02cd91eb50",
   "metadata": {},
   "outputs": [],
   "source": [
    "## Assignment\n",
    "# sum of even number and odd number\n",
    "lst=[1,2,3,4,5,6,7,8,9]"
   ]
  },
  {
   "cell_type": "code",
   "execution_count": 87,
   "id": "41f0758d-1c52-44bf-9dd0-339a73942b8a",
   "metadata": {},
   "outputs": [
    {
     "name": "stdout",
     "output_type": "stream",
     "text": [
      "2\n",
      "4\n",
      "6\n",
      "8\n"
     ]
    }
   ],
   "source": [
    "for i in lst:\n",
    "    if i%2==0:\n",
    "        print(i)"
   ]
  },
  {
   "cell_type": "code",
   "execution_count": 92,
   "id": "b8721c18-20a4-4e58-a245-8f13f650ab1b",
   "metadata": {},
   "outputs": [
    {
     "name": "stdout",
     "output_type": "stream",
     "text": [
      "20\n",
      "16\n"
     ]
    }
   ],
   "source": [
    "lst=[1,2,3,4,5,6,7,8]\n",
    "\n",
    "even_sum=0\n",
    "odd_sum=0\n",
    "\n",
    "for i in lst:\n",
    "    if i%2==0:\n",
    "        even_sum +=i\n",
    "    else:\n",
    "        odd_sum +=i\n",
    "        \n",
    "print(even_sum)\n",
    "print(odd_sum)"
   ]
  },
  {
   "cell_type": "code",
   "execution_count": 93,
   "id": "5c150ed6-18f3-4650-bc96-0d43fab6dbff",
   "metadata": {},
   "outputs": [
    {
     "data": {
      "text/plain": [
       "[2, 4, 6, 8]"
      ]
     },
     "execution_count": 93,
     "metadata": {},
     "output_type": "execute_result"
    }
   ],
   "source": [
    "[num for num in lst if num%2==0]"
   ]
  },
  {
   "cell_type": "code",
   "execution_count": 95,
   "id": "621b85c7-2748-43cb-a120-9529fea7afee",
   "metadata": {},
   "outputs": [
    {
     "data": {
      "text/plain": [
       "20"
      ]
     },
     "execution_count": 95,
     "metadata": {},
     "output_type": "execute_result"
    }
   ],
   "source": [
    "sum([num for num in lst if num%2==0])"
   ]
  },
  {
   "cell_type": "code",
   "execution_count": 100,
   "id": "fd4d8bc6-f6f2-4a7c-a02d-ae179f3d7466",
   "metadata": {},
   "outputs": [
    {
     "data": {
      "text/plain": [
       "16"
      ]
     },
     "execution_count": 100,
     "metadata": {},
     "output_type": "execute_result"
    }
   ],
   "source": [
    "sum([no for no in lst if no%2==1])"
   ]
  },
  {
   "cell_type": "code",
   "execution_count": 101,
   "id": "4a2b028f-b83a-456c-9a7d-9a7d1eb6399e",
   "metadata": {},
   "outputs": [],
   "source": [
    "## sir explaination\n",
    "even_sum=sum([num for num in lst if num%2==0])\n",
    "odd_sum=sum([num for num in lst if num%2!=0])"
   ]
  },
  {
   "cell_type": "code",
   "execution_count": 102,
   "id": "5c047ae5-0afd-4a4f-98ec-3c8b24c22db2",
   "metadata": {},
   "outputs": [
    {
     "name": "stdout",
     "output_type": "stream",
     "text": [
      "20\n",
      "16\n"
     ]
    }
   ],
   "source": [
    "print(even_sum)\n",
    "print(odd_sum)"
   ]
  },
  {
   "cell_type": "code",
   "execution_count": 109,
   "id": "9a2bf4fa-a237-44b0-996f-c6574b7d0a77",
   "metadata": {},
   "outputs": [],
   "source": [
    "## is equal sign ( == )\n",
    "## is not equal sign ( != )\n",
    "## square the number ( **2 )"
   ]
  },
  {
   "cell_type": "code",
   "execution_count": 104,
   "id": "12bd74c5-20b8-4e3e-977e-470d9b6e5c4f",
   "metadata": {},
   "outputs": [],
   "source": [
    "## Assignment   find the square of all numbers"
   ]
  },
  {
   "cell_type": "code",
   "execution_count": 105,
   "id": "407524b0-3cec-4bdc-a2dd-946a2a576659",
   "metadata": {},
   "outputs": [],
   "source": [
    "lst=[1,2,3,4,5,6,7,8,9]"
   ]
  },
  {
   "cell_type": "code",
   "execution_count": 107,
   "id": "8655d4e2-2b40-410f-b35b-ca776126ec55",
   "metadata": {},
   "outputs": [
    {
     "name": "stdout",
     "output_type": "stream",
     "text": [
      "1\n",
      "4\n",
      "9\n",
      "16\n",
      "25\n",
      "36\n",
      "49\n",
      "64\n",
      "81\n"
     ]
    }
   ],
   "source": [
    "for i in lst:\n",
    "    if i%2==0:\n",
    "        print(i*i)\n",
    "    else:\n",
    "        print(i*i)"
   ]
  },
  {
   "cell_type": "code",
   "execution_count": 108,
   "id": "0d0590e7-10ec-4577-94d3-841d9da9c03d",
   "metadata": {},
   "outputs": [
    {
     "data": {
      "text/plain": [
       "[1, 4, 9, 16, 25, 36, 49, 64, 81]"
      ]
     },
     "execution_count": 108,
     "metadata": {},
     "output_type": "execute_result"
    }
   ],
   "source": [
    "## Sir's explaination\n",
    "lst=[1,2,3,4,5,6,7,8,9]\n",
    "[num**2 for num in lst]"
   ]
  },
  {
   "cell_type": "code",
   "execution_count": 111,
   "id": "3b529da9-264d-4442-b4b5-d86677afed3b",
   "metadata": {},
   "outputs": [],
   "source": [
    "# example 2 : create a list of only the positive number from a given list\n",
    "numbers=[-2,-1,0,1,2,3,4]"
   ]
  },
  {
   "cell_type": "code",
   "execution_count": 110,
   "id": "a4ce1ca1-8726-4c99-bebb-514108de1b03",
   "metadata": {},
   "outputs": [
    {
     "data": {
      "text/plain": [
       "[1, 4, 9, 16, 25, 36, 49, 64, 81]"
      ]
     },
     "execution_count": 110,
     "metadata": {},
     "output_type": "execute_result"
    }
   ],
   "source": [
    "[num*num for num in lst]"
   ]
  },
  {
   "cell_type": "code",
   "execution_count": 112,
   "id": "182e5749-7028-4aac-83ba-ff43ea99088b",
   "metadata": {},
   "outputs": [
    {
     "data": {
      "text/plain": [
       "[1, 2, 3, 4]"
      ]
     },
     "execution_count": 112,
     "metadata": {},
     "output_type": "execute_result"
    }
   ],
   "source": [
    "[num for num in numbers if num > 0]"
   ]
  },
  {
   "cell_type": "code",
   "execution_count": 113,
   "id": "f7ef2b95-2685-4f31-9a04-9f1b6cba02fa",
   "metadata": {},
   "outputs": [
    {
     "data": {
      "text/plain": [
       "[-2, -1]"
      ]
     },
     "execution_count": 113,
     "metadata": {},
     "output_type": "execute_result"
    }
   ],
   "source": [
    "[num for num in numbers if num < 0]"
   ]
  },
  {
   "cell_type": "code",
   "execution_count": 114,
   "id": "c32ecf3d-7699-446b-9c46-c594fe739cd1",
   "metadata": {},
   "outputs": [],
   "source": [
    "# example 3 : create a list of only the first letters of words in a list\n",
    "words = ['apple','banana','cherry','date']"
   ]
  },
  {
   "cell_type": "code",
   "execution_count": 115,
   "id": "f427b13c-09b9-4054-b1e2-05bd9454d4d2",
   "metadata": {},
   "outputs": [
    {
     "data": {
      "text/plain": [
       "['a', 'b', 'c', 'd']"
      ]
     },
     "execution_count": 115,
     "metadata": {},
     "output_type": "execute_result"
    }
   ],
   "source": [
    "[i[0] for i in words]"
   ]
  },
  {
   "cell_type": "code",
   "execution_count": 116,
   "id": "3e808a8f-fbce-419d-8304-3b24e78d4c6e",
   "metadata": {},
   "outputs": [
    {
     "data": {
      "text/plain": [
       "['a', 'b', 'c', 'd']"
      ]
     },
     "execution_count": 116,
     "metadata": {},
     "output_type": "execute_result"
    }
   ],
   "source": [
    "[word[0] for word in words]"
   ]
  },
  {
   "cell_type": "code",
   "execution_count": 119,
   "id": "ff8b3f99-0751-4dd3-bf56-daef2650d5e4",
   "metadata": {},
   "outputs": [],
   "source": [
    "# example 4: convert a list of temperature from celsius to fahrenheit\n",
    "cel_temp = [0,10,20,30,40,50,60]\n",
    "# formula degree celsius into fah = (9/5)*cel+32"
   ]
  },
  {
   "cell_type": "code",
   "execution_count": 118,
   "id": "50aff6af-817c-48ef-93f4-7f88d5eea80c",
   "metadata": {},
   "outputs": [
    {
     "name": "stdout",
     "output_type": "stream",
     "text": [
      "32.0\n",
      "50.0\n",
      "68.0\n",
      "86.0\n",
      "104.0\n",
      "122.0\n",
      "140.0\n"
     ]
    }
   ],
   "source": [
    "for fah_temp in cel_temp:\n",
    "    print(((9/5)*fah_temp)+32)"
   ]
  },
  {
   "cell_type": "code",
   "execution_count": 127,
   "id": "9b15cd09-a499-4654-903d-320d76fdf2e8",
   "metadata": {},
   "outputs": [
    {
     "data": {
      "text/plain": [
       "[32.0, 50.0, 68.0, 86.0, 104.0, 122.0, 140.0]"
      ]
     },
     "execution_count": 127,
     "metadata": {},
     "output_type": "execute_result"
    }
   ],
   "source": [
    "## sir explaination\n",
    "[(9/5)*temp+32 for temp in cel_temp]"
   ]
  },
  {
   "cell_type": "code",
   "execution_count": 121,
   "id": "74316e92-059a-41e8-be67-9794f11a5274",
   "metadata": {},
   "outputs": [],
   "source": [
    "# example 5: flatten a list of lists into a single list\n",
    "lists=[[1,2,3],[4,5,6],[7,8,9]]"
   ]
  },
  {
   "cell_type": "code",
   "execution_count": 126,
   "id": "6a29ab74-3743-4fa4-9ad5-9192351e48cf",
   "metadata": {},
   "outputs": [
    {
     "data": {
      "text/plain": [
       "[1, 2, 3, 4, 5, 6, 7, 8, 9]"
      ]
     },
     "execution_count": 126,
     "metadata": {},
     "output_type": "execute_result"
    }
   ],
   "source": [
    "[num for sublist in lists for num in sublist]"
   ]
  },
  {
   "cell_type": "code",
   "execution_count": 128,
   "id": "b1a31386-c703-4460-a4de-f90815400d22",
   "metadata": {},
   "outputs": [],
   "source": [
    "## Assignment \n",
    "## using both code and list comprehension\n",
    "# example 2 : create a list of only the prime numbers from a given lists \n",
    "numbers=[1,2,3,4,5,6,7,8,9,10]"
   ]
  },
  {
   "cell_type": "code",
   "execution_count": null,
   "id": "1a10e1b2-1b5e-4ba4-aa38-c16ddb93fa55",
   "metadata": {},
   "outputs": [],
   "source": []
  },
  {
   "cell_type": "code",
   "execution_count": null,
   "id": "0eec81f6-9256-4179-abf4-0d9543ad85c9",
   "metadata": {},
   "outputs": [],
   "source": []
  },
  {
   "cell_type": "code",
   "execution_count": 2,
   "id": "c80b586d-fa85-461d-8711-907d4d94ae26",
   "metadata": {},
   "outputs": [],
   "source": [
    "# example 3: create a list of all possible combinations of 2 elements from a list\n",
    "numbers=[1,2,3,4,5]"
   ]
  },
  {
   "cell_type": "code",
   "execution_count": 17,
   "id": "f5eb6dce-8c2a-4de8-b3a8-3c3b8baf9503",
   "metadata": {},
   "outputs": [],
   "source": [
    "num1=str(a)\n",
    "num2=str(b)"
   ]
  },
  {
   "cell_type": "code",
   "execution_count": null,
   "id": "6214c8c7-8f6e-4800-b9f9-cda33b223e02",
   "metadata": {},
   "outputs": [],
   "source": []
  },
  {
   "cell_type": "code",
   "execution_count": 18,
   "id": "19826da3-1d8a-4d74-adb8-0e565ff0e84d",
   "metadata": {},
   "outputs": [
    {
     "data": {
      "text/plain": [
       "int"
      ]
     },
     "execution_count": 18,
     "metadata": {},
     "output_type": "execute_result"
    }
   ],
   "source": [
    "type(a)"
   ]
  },
  {
   "cell_type": "code",
   "execution_count": 20,
   "id": "ff6b5889-d8e9-42f8-91dd-fa176e624fce",
   "metadata": {},
   "outputs": [],
   "source": [
    "digits = len(str(num2))"
   ]
  },
  {
   "cell_type": "code",
   "execution_count": 21,
   "id": "1e11472d-1625-4f23-a213-6b6c8b07c89f",
   "metadata": {},
   "outputs": [],
   "source": [
    "num1 = num1 * (10**digits)"
   ]
  },
  {
   "cell_type": "code",
   "execution_count": 22,
   "id": "3a6242e2-de6e-4b9a-9a2b-7c89e8cedef7",
   "metadata": {},
   "outputs": [],
   "source": [
    "print(num1 += num2"
   ]
  },
  {
   "cell_type": "code",
   "execution_count": null,
   "id": "e091062f-8e31-42a0-8c5e-ef7abb0f9bf4",
   "metadata": {},
   "outputs": [],
   "source": []
  },
  {
   "cell_type": "code",
   "execution_count": 19,
   "id": "1898ee29-098a-48a0-a748-0383e017509e",
   "metadata": {},
   "outputs": [],
   "source": [
    "num1=56214\n",
    "num2=556536"
   ]
  }
 ],
 "metadata": {
  "kernelspec": {
   "display_name": "Python 3 (ipykernel)",
   "language": "python",
   "name": "python3"
  },
  "language_info": {
   "codemirror_mode": {
    "name": "ipython",
    "version": 3
   },
   "file_extension": ".py",
   "mimetype": "text/x-python",
   "name": "python",
   "nbconvert_exporter": "python",
   "pygments_lexer": "ipython3",
   "version": "3.10.8"
  }
 },
 "nbformat": 4,
 "nbformat_minor": 5
}
