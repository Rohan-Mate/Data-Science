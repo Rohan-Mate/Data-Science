{
 "cells": [
  {
   "cell_type": "markdown",
   "id": "5f7f162e-7ef6-4ae8-9001-76266f98a295",
   "metadata": {},
   "source": [
    "### List of general use exception"
   ]
  },
  {
   "cell_type": "code",
   "execution_count": 1,
   "id": "592c842d-0e60-4304-83f8-1fec564110dc",
   "metadata": {},
   "outputs": [
    {
     "name": "stdout",
     "output_type": "stream",
     "text": [
      "division by zero\n"
     ]
    }
   ],
   "source": [
    "try:\n",
    "    a=10\n",
    "    10/0\n",
    "except ZeroDivisionError as e:\n",
    "    print(e)"
   ]
  },
  {
   "cell_type": "code",
   "execution_count": 2,
   "id": "87f11ba8-ce35-4609-a8f0-33959c6e43a0",
   "metadata": {},
   "outputs": [
    {
     "name": "stdout",
     "output_type": "stream",
     "text": [
      "invalid literal for int() with base 10: 'sudh'\n"
     ]
    }
   ],
   "source": [
    "try:\n",
    "    int(\"sudh\")\n",
    "except (ValueError,TypeError) as e:\n",
    "    print(e)    "
   ]
  },
  {
   "cell_type": "code",
   "execution_count": 3,
   "id": "ded570bd-b6e2-428f-8d34-16cbd4a5b7ed",
   "metadata": {},
   "outputs": [
    {
     "name": "stdout",
     "output_type": "stream",
     "text": [
      "this will catch an error\n"
     ]
    }
   ],
   "source": [
    "try:\n",
    "    int(\"sudh\")\n",
    "except:\n",
    "    print(\"this will catch an error\")  "
   ]
  },
  {
   "cell_type": "code",
   "execution_count": 4,
   "id": "97bf45a6-a414-43ae-9b6e-eb7d10760421",
   "metadata": {},
   "outputs": [
    {
     "name": "stdout",
     "output_type": "stream",
     "text": [
      "No module named 'sudh'\n"
     ]
    }
   ],
   "source": [
    "try:\n",
    "    import sudh\n",
    "except ImportError as e :\n",
    "    print(e)"
   ]
  },
  {
   "cell_type": "code",
   "execution_count": 5,
   "id": "91582038-143a-4518-a332-8fb5c957a086",
   "metadata": {},
   "outputs": [
    {
     "name": "stdout",
     "output_type": "stream",
     "text": [
      "'key10'\n"
     ]
    }
   ],
   "source": [
    "try:\n",
    "    d={1:[3,4,5,6],\"key\":\"sudh\"}\n",
    "    d[\"key10\"]\n",
    "except KeyError as e:\n",
    "    print(e)"
   ]
  },
  {
   "cell_type": "code",
   "execution_count": 6,
   "id": "a6a303db-2e0b-481c-987a-e1f73e743670",
   "metadata": {},
   "outputs": [
    {
     "name": "stdout",
     "output_type": "stream",
     "text": [
      "'str' object has no attribute 'test'\n"
     ]
    }
   ],
   "source": [
    "try:\n",
    "    \"sudh\".test()\n",
    "except AttributeError as e:\n",
    "    print(e)"
   ]
  },
  {
   "cell_type": "code",
   "execution_count": 7,
   "id": "93375e5e-e294-4c0b-bd56-ee90411054dd",
   "metadata": {},
   "outputs": [
    {
     "name": "stdout",
     "output_type": "stream",
     "text": [
      "list index out of range\n"
     ]
    }
   ],
   "source": [
    "try:\n",
    "    l=[1,2,3,4]\n",
    "    l[10]\n",
    "except IndexError as e:\n",
    "    print(e)"
   ]
  },
  {
   "cell_type": "code",
   "execution_count": 8,
   "id": "39d42183-5d4f-4237-817b-6e0d61f8e8dd",
   "metadata": {},
   "outputs": [
    {
     "name": "stdout",
     "output_type": "stream",
     "text": [
      "unsupported operand type(s) for +: 'int' and 'str'\n"
     ]
    }
   ],
   "source": [
    "try:\n",
    "    123 + \"sudh\"\n",
    "except TypeError as e:\n",
    "    print(e)"
   ]
  },
  {
   "cell_type": "code",
   "execution_count": 9,
   "id": "761c2722-cc23-4260-a4b3-504b0cb051fa",
   "metadata": {},
   "outputs": [
    {
     "name": "stdout",
     "output_type": "stream",
     "text": [
      "[Errno 2] No such file or directory: 'test.txt'\n"
     ]
    }
   ],
   "source": [
    "try:\n",
    "    with open(\"test.txt\",\"r\") as f:\n",
    "        f.read()\n",
    "except FileNotFoundError as e:\n",
    "    print(e)"
   ]
  },
  {
   "cell_type": "code",
   "execution_count": 10,
   "id": "b3d55be3-8514-4ade-ae6a-75400ecdf0c0",
   "metadata": {},
   "outputs": [
    {
     "name": "stdout",
     "output_type": "stream",
     "text": [
      "[Errno 2] No such file or directory: 'test.txt'\n"
     ]
    }
   ],
   "source": [
    "try:\n",
    "    with open(\"test.txt\",\"r\") as f:\n",
    "        f.read()\n",
    "except Exception as e:\n",
    "    print(e)\n",
    "except FileNotFoundError as e:\n",
    "    print(e)"
   ]
  },
  {
   "cell_type": "code",
   "execution_count": 11,
   "id": "a02f7ab2-5056-4d53-b389-9ffd8eccd736",
   "metadata": {},
   "outputs": [
    {
     "name": "stdout",
     "output_type": "stream",
     "text": [
      "[Errno 2] No such file or directory: 'test.txt'\n"
     ]
    }
   ],
   "source": [
    "try:\n",
    "    with open(\"test.txt\",\"r\") as f:\n",
    "        f.read()\n",
    "except Exception as e:\n",
    "    print(e)\n",
    "except FileNotFoundError as e:\n",
    "    print(\"this is my file not found type  error\",e)"
   ]
  },
  {
   "cell_type": "code",
   "execution_count": 12,
   "id": "d648ecc2-1e29-4dd2-b30d-521a3513b291",
   "metadata": {},
   "outputs": [],
   "source": [
    "def test(file):\n",
    "    \n",
    "    try:\n",
    "        with open(file,\"r\") as f:\n",
    "            f.read()\n",
    "    except Exception as e:\n",
    "        print(e)\n",
    "    except FileNotFoundError as e:\n",
    "        print(\"this is my file not found type  error\",e)"
   ]
  },
  {
   "cell_type": "code",
   "execution_count": null,
   "id": "3c355a17-6141-4f63-941a-ecc71a591e02",
   "metadata": {},
   "outputs": [],
   "source": []
  }
 ],
 "metadata": {
  "kernelspec": {
   "display_name": "Python 3 (ipykernel)",
   "language": "python",
   "name": "python3"
  },
  "language_info": {
   "codemirror_mode": {
    "name": "ipython",
    "version": 3
   },
   "file_extension": ".py",
   "mimetype": "text/x-python",
   "name": "python",
   "nbconvert_exporter": "python",
   "pygments_lexer": "ipython3",
   "version": "3.10.8"
  }
 },
 "nbformat": 4,
 "nbformat_minor": 5
}
