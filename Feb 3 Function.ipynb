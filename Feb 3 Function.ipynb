{
 "cells": [
  {
   "cell_type": "code",
   "execution_count": 1,
   "id": "20f9ad40-705e-4bde-8f36-6506598b530f",
   "metadata": {},
   "outputs": [
    {
     "name": "stdout",
     "output_type": "stream",
     "text": [
      "This is my programm\n"
     ]
    }
   ],
   "source": [
    "print(\"This is my programm\")"
   ]
  },
  {
   "cell_type": "code",
   "execution_count": 2,
   "id": "e079c7a3-4b1f-4ffc-be6d-fdb38994f5f8",
   "metadata": {},
   "outputs": [],
   "source": [
    "l=[1,2,3,4]"
   ]
  },
  {
   "cell_type": "code",
   "execution_count": 3,
   "id": "18fb0f35-2309-4f41-a64a-0c1d1ddbc6ba",
   "metadata": {},
   "outputs": [
    {
     "data": {
      "text/plain": [
       "4"
      ]
     },
     "execution_count": 3,
     "metadata": {},
     "output_type": "execute_result"
    }
   ],
   "source": [
    "len(l)"
   ]
  },
  {
   "cell_type": "markdown",
   "id": "07c71fff-e005-42ce-b865-d6f70012f243",
   "metadata": {},
   "source": [
    "### def (defination) of a function "
   ]
  },
  {
   "cell_type": "code",
   "execution_count": 1,
   "id": "a7cfadc3-8418-47a3-9de5-a524d7d887d2",
   "metadata": {},
   "outputs": [
    {
     "ename": "SyntaxError",
     "evalue": "incomplete input (3861551224.py, line 1)",
     "output_type": "error",
     "traceback": [
      "\u001b[0;36m  Cell \u001b[0;32mIn[1], line 1\u001b[0;36m\u001b[0m\n\u001b[0;31m    def test():\u001b[0m\n\u001b[0m               ^\u001b[0m\n\u001b[0;31mSyntaxError\u001b[0m\u001b[0;31m:\u001b[0m incomplete input\n"
     ]
    }
   ],
   "source": [
    "def test():"
   ]
  },
  {
   "cell_type": "code",
   "execution_count": 2,
   "id": "bdafa3c2-bfbd-410b-9161-85c1daed5120",
   "metadata": {},
   "outputs": [],
   "source": [
    "def test():\n",
    "    pass"
   ]
  },
  {
   "cell_type": "code",
   "execution_count": 3,
   "id": "2b3aba33-5bca-414e-9bb0-3cb7b4a8c93f",
   "metadata": {},
   "outputs": [],
   "source": [
    "def test1():\n",
    "    print(\"This is my very very first fun\")"
   ]
  },
  {
   "cell_type": "code",
   "execution_count": 4,
   "id": "70ac1f48-31d0-4201-84c3-e614d9dbddac",
   "metadata": {},
   "outputs": [
    {
     "name": "stdout",
     "output_type": "stream",
     "text": [
      "This is my very very first fun\n"
     ]
    }
   ],
   "source": [
    "test1()"
   ]
  },
  {
   "cell_type": "code",
   "execution_count": 6,
   "id": "0bbfe1ef-ca2d-4405-abd0-10911093bf8a",
   "metadata": {},
   "outputs": [
    {
     "name": "stdout",
     "output_type": "stream",
     "text": [
      "This is my very very first fun\n"
     ]
    },
    {
     "ename": "TypeError",
     "evalue": "unsupported operand type(s) for +: 'NoneType' and 'str'",
     "output_type": "error",
     "traceback": [
      "\u001b[0;31m---------------------------------------------------------------------------\u001b[0m",
      "\u001b[0;31mTypeError\u001b[0m                                 Traceback (most recent call last)",
      "Cell \u001b[0;32mIn[6], line 1\u001b[0m\n\u001b[0;32m----> 1\u001b[0m \u001b[43mtest1\u001b[49m\u001b[43m(\u001b[49m\u001b[43m)\u001b[49m\u001b[38;5;241;43m+\u001b[39;49m\u001b[43m \u001b[49m\u001b[38;5;124;43m\"\u001b[39;49m\u001b[38;5;124;43mRohan\u001b[39;49m\u001b[38;5;124;43m\"\u001b[39;49m\n\u001b[1;32m      2\u001b[0m \u001b[38;5;66;03m## none type means print function\u001b[39;00m\n",
      "\u001b[0;31mTypeError\u001b[0m: unsupported operand type(s) for +: 'NoneType' and 'str'"
     ]
    }
   ],
   "source": [
    "test1()+ \"Rohan\"\n",
    "## none type means print function"
   ]
  },
  {
   "cell_type": "code",
   "execution_count": 13,
   "id": "91f76fb9-a958-4c03-b9b5-4a50e49c1e53",
   "metadata": {},
   "outputs": [],
   "source": [
    "def test2():\n",
    "    return \"This is my function with return\""
   ]
  },
  {
   "cell_type": "code",
   "execution_count": 14,
   "id": "af7e4f36-39ce-411e-8802-1b141061f207",
   "metadata": {},
   "outputs": [
    {
     "data": {
      "text/plain": [
       "'This is my function with return'"
      ]
     },
     "execution_count": 14,
     "metadata": {},
     "output_type": "execute_result"
    }
   ],
   "source": [
    "test2()"
   ]
  },
  {
   "cell_type": "code",
   "execution_count": 16,
   "id": "fcf9a41f-b6a2-4737-8f58-4aaca933023a",
   "metadata": {},
   "outputs": [
    {
     "data": {
      "text/plain": [
       "'This is my function with returnrohan'"
      ]
     },
     "execution_count": 16,
     "metadata": {},
     "output_type": "execute_result"
    }
   ],
   "source": [
    "test2() + \"rohan\"           "
   ]
  },
  {
   "cell_type": "code",
   "execution_count": 17,
   "id": "fc9905c7-ac3b-4946-8efb-9d6dc7fb584e",
   "metadata": {},
   "outputs": [],
   "source": [
    "def test3():\n",
    "    return 1,4,\"pwskills\",34.56"
   ]
  },
  {
   "cell_type": "code",
   "execution_count": 18,
   "id": "941ae058-196e-4ae7-8dd2-5bc72984f7ee",
   "metadata": {},
   "outputs": [
    {
     "data": {
      "text/plain": [
       "(1, 4, 'pwskills', 34.56)"
      ]
     },
     "execution_count": 18,
     "metadata": {},
     "output_type": "execute_result"
    }
   ],
   "source": [
    "test3()"
   ]
  },
  {
   "cell_type": "code",
   "execution_count": 19,
   "id": "97e7b482-3745-4bdc-a781-c45dd5f3188b",
   "metadata": {},
   "outputs": [],
   "source": [
    "a = 1,2,3,4,5"
   ]
  },
  {
   "cell_type": "code",
   "execution_count": 20,
   "id": "bf3bb920-25e9-4219-8111-c2d7f577ac43",
   "metadata": {},
   "outputs": [
    {
     "data": {
      "text/plain": [
       "(1, 2, 3, 4, 5)"
      ]
     },
     "execution_count": 20,
     "metadata": {},
     "output_type": "execute_result"
    }
   ],
   "source": [
    "a"
   ]
  },
  {
   "cell_type": "code",
   "execution_count": 26,
   "id": "eb79612c-d788-4c6f-af59-6c44e656a665",
   "metadata": {},
   "outputs": [],
   "source": [
    "# multiple variable at same time \n",
    "a,b,c,d=1,2,34.56,True"
   ]
  },
  {
   "cell_type": "code",
   "execution_count": 22,
   "id": "35267262-9cfb-40d1-9dc3-e39f70c430e8",
   "metadata": {},
   "outputs": [
    {
     "data": {
      "text/plain": [
       "1"
      ]
     },
     "execution_count": 22,
     "metadata": {},
     "output_type": "execute_result"
    }
   ],
   "source": [
    "a"
   ]
  },
  {
   "cell_type": "code",
   "execution_count": 23,
   "id": "de4b5406-820c-4416-aa8c-4433c6e8e7b8",
   "metadata": {},
   "outputs": [
    {
     "data": {
      "text/plain": [
       "2"
      ]
     },
     "execution_count": 23,
     "metadata": {},
     "output_type": "execute_result"
    }
   ],
   "source": [
    "b"
   ]
  },
  {
   "cell_type": "code",
   "execution_count": 24,
   "id": "ea0f8919-121e-4def-812a-39e9cada5670",
   "metadata": {},
   "outputs": [
    {
     "data": {
      "text/plain": [
       "34.56"
      ]
     },
     "execution_count": 24,
     "metadata": {},
     "output_type": "execute_result"
    }
   ],
   "source": [
    "c"
   ]
  },
  {
   "cell_type": "code",
   "execution_count": 25,
   "id": "58f9e9e8-bc65-4cb1-9b09-7054ff8ef454",
   "metadata": {},
   "outputs": [
    {
     "data": {
      "text/plain": [
       "True"
      ]
     },
     "execution_count": 25,
     "metadata": {},
     "output_type": "execute_result"
    }
   ],
   "source": [
    "d"
   ]
  },
  {
   "cell_type": "code",
   "execution_count": 27,
   "id": "f9e2fed1-2ee0-4416-99f6-4e2651e63973",
   "metadata": {},
   "outputs": [
    {
     "data": {
      "text/plain": [
       "(1, 4, 'pwskills', 34.56)"
      ]
     },
     "execution_count": 27,
     "metadata": {},
     "output_type": "execute_result"
    }
   ],
   "source": [
    "test3()"
   ]
  },
  {
   "cell_type": "code",
   "execution_count": 28,
   "id": "8f58e818-d99d-4a95-ae08-448e862ceb73",
   "metadata": {},
   "outputs": [
    {
     "data": {
      "text/plain": [
       "1"
      ]
     },
     "execution_count": 28,
     "metadata": {},
     "output_type": "execute_result"
    }
   ],
   "source": [
    "test3()[0]"
   ]
  },
  {
   "cell_type": "code",
   "execution_count": 29,
   "id": "230442e7-da34-4b38-b7d5-6838093b6bb8",
   "metadata": {},
   "outputs": [
    {
     "data": {
      "text/plain": [
       "4"
      ]
     },
     "execution_count": 29,
     "metadata": {},
     "output_type": "execute_result"
    }
   ],
   "source": [
    "test3()[1]"
   ]
  },
  {
   "cell_type": "code",
   "execution_count": 30,
   "id": "c4d70da7-c2df-40da-974e-57c61f837136",
   "metadata": {},
   "outputs": [
    {
     "data": {
      "text/plain": [
       "'pwskills'"
      ]
     },
     "execution_count": 30,
     "metadata": {},
     "output_type": "execute_result"
    }
   ],
   "source": [
    "test3()[2]"
   ]
  },
  {
   "cell_type": "code",
   "execution_count": 32,
   "id": "d0899fd9-fdca-46f9-86f7-ba4d3bd03f14",
   "metadata": {},
   "outputs": [],
   "source": [
    "a,b,c,d = test3()"
   ]
  },
  {
   "cell_type": "code",
   "execution_count": 33,
   "id": "11e62273-9f14-4bd1-8a7e-505499f22cd0",
   "metadata": {},
   "outputs": [
    {
     "data": {
      "text/plain": [
       "'pwskills'"
      ]
     },
     "execution_count": 33,
     "metadata": {},
     "output_type": "execute_result"
    }
   ],
   "source": [
    "c"
   ]
  },
  {
   "cell_type": "code",
   "execution_count": 35,
   "id": "81b4e8e0-7219-4292-be53-245582a001e9",
   "metadata": {},
   "outputs": [],
   "source": [
    "def test4():\n",
    "    a = 3*4 +5\n",
    "    return a"
   ]
  },
  {
   "cell_type": "code",
   "execution_count": 36,
   "id": "eb82615b-09db-4847-aa2e-690a6efc254d",
   "metadata": {},
   "outputs": [
    {
     "data": {
      "text/plain": [
       "17"
      ]
     },
     "execution_count": 36,
     "metadata": {},
     "output_type": "execute_result"
    }
   ],
   "source": [
    "test4()"
   ]
  },
  {
   "cell_type": "code",
   "execution_count": 37,
   "id": "587c0f9a-ecdb-4998-a949-231c3df47454",
   "metadata": {},
   "outputs": [
    {
     "data": {
      "text/plain": [
       "int"
      ]
     },
     "execution_count": 37,
     "metadata": {},
     "output_type": "execute_result"
    }
   ],
   "source": [
    "type(test4())"
   ]
  },
  {
   "cell_type": "code",
   "execution_count": 38,
   "id": "ad8f0d10-89a0-40a7-ab62-c003b0352a91",
   "metadata": {},
   "outputs": [],
   "source": [
    "def test5(a,b):\n",
    "    c= a+b\n",
    "    return c "
   ]
  },
  {
   "cell_type": "code",
   "execution_count": 39,
   "id": "e1c46768-b2a3-467c-821f-14b4e039b425",
   "metadata": {},
   "outputs": [
    {
     "ename": "TypeError",
     "evalue": "test5() missing 2 required positional arguments: 'a' and 'b'",
     "output_type": "error",
     "traceback": [
      "\u001b[0;31m---------------------------------------------------------------------------\u001b[0m",
      "\u001b[0;31mTypeError\u001b[0m                                 Traceback (most recent call last)",
      "Cell \u001b[0;32mIn[39], line 1\u001b[0m\n\u001b[0;32m----> 1\u001b[0m \u001b[43mtest5\u001b[49m\u001b[43m(\u001b[49m\u001b[43m)\u001b[49m\n",
      "\u001b[0;31mTypeError\u001b[0m: test5() missing 2 required positional arguments: 'a' and 'b'"
     ]
    }
   ],
   "source": [
    "test5()"
   ]
  },
  {
   "cell_type": "code",
   "execution_count": 40,
   "id": "f91e0a53-8684-46ce-a159-6a2ab01f65b7",
   "metadata": {},
   "outputs": [
    {
     "data": {
      "text/plain": [
       "8"
      ]
     },
     "execution_count": 40,
     "metadata": {},
     "output_type": "execute_result"
    }
   ],
   "source": [
    "test5(5,3)"
   ]
  },
  {
   "cell_type": "code",
   "execution_count": 41,
   "id": "cb55b988-03ec-424e-bbb8-ca83ac2bfbce",
   "metadata": {},
   "outputs": [
    {
     "data": {
      "text/plain": [
       "'sudhkumar'"
      ]
     },
     "execution_count": 41,
     "metadata": {},
     "output_type": "execute_result"
    }
   ],
   "source": [
    "test5(\"sudh\",\"kumar\")"
   ]
  },
  {
   "cell_type": "code",
   "execution_count": 42,
   "id": "d5b26300-c222-43b8-9f16-e69385166d7e",
   "metadata": {},
   "outputs": [
    {
     "data": {
      "text/plain": [
       "[1, 2, 3, 4, 5, 6, 7, 8, 9]"
      ]
     },
     "execution_count": 42,
     "metadata": {},
     "output_type": "execute_result"
    }
   ],
   "source": [
    "test5([1,2,3,4,5],[6,7,8,9])"
   ]
  },
  {
   "cell_type": "code",
   "execution_count": 43,
   "id": "e26d4cea-93b6-4d4d-a9ea-bc9073341d23",
   "metadata": {},
   "outputs": [
    {
     "data": {
      "text/plain": [
       "'kumarsudh'"
      ]
     },
     "execution_count": 43,
     "metadata": {},
     "output_type": "execute_result"
    }
   ],
   "source": [
    "test5(b=\"sudh\",a=\"kumar\")"
   ]
  },
  {
   "cell_type": "code",
   "execution_count": 61,
   "id": "e4ba8b9b-8985-46fd-9389-0064a9549027",
   "metadata": {},
   "outputs": [],
   "source": [
    "lst1=[1,2,3,4,5,\"sudh\",\"pwskills\",[1,2,3,4,55,66]]"
   ]
  },
  {
   "cell_type": "code",
   "execution_count": 45,
   "id": "56610b41-022a-451a-aeec-5be856322e1c",
   "metadata": {},
   "outputs": [],
   "source": [
    "# create a function which will take list as a input and give me a final list all the numeric value "
   ]
  },
  {
   "cell_type": "code",
   "execution_count": 76,
   "id": "61c94ce6-a8ee-45c8-bd44-ffd7e62b9393",
   "metadata": {},
   "outputs": [],
   "source": [
    "def test6(a):\n",
    "    n= []\n",
    "    for i in a :\n",
    "        if type(i)== int or type(i)==float:\n",
    "            n.append(i)\n",
    "    return n "
   ]
  },
  {
   "cell_type": "code",
   "execution_count": 77,
   "id": "2624ee8b-61f1-4409-8722-2d0c4348e032",
   "metadata": {},
   "outputs": [
    {
     "data": {
      "text/plain": [
       "[1, 2, 3, 4, 5]"
      ]
     },
     "execution_count": 77,
     "metadata": {},
     "output_type": "execute_result"
    }
   ],
   "source": [
    "test6(lst1)"
   ]
  },
  {
   "cell_type": "code",
   "execution_count": 65,
   "id": "73ffc518-11b5-4535-8492-65dea471f793",
   "metadata": {},
   "outputs": [],
   "source": [
    "lst2=[1,2,3,4,\"rohan\",\"pwskills\",[1,2,33,44,55]]"
   ]
  },
  {
   "cell_type": "code",
   "execution_count": 78,
   "id": "e1b17119-587a-4e80-8167-09e20c5a9010",
   "metadata": {},
   "outputs": [],
   "source": [
    "def test7(a):\n",
    "    n=[]\n",
    "    for i in a :\n",
    "        if type(i) == str :\n",
    "            n.append(i)\n",
    "    return n "
   ]
  },
  {
   "cell_type": "code",
   "execution_count": 79,
   "id": "fec9b84a-2290-4bd7-beec-e8f0252364c7",
   "metadata": {},
   "outputs": [
    {
     "data": {
      "text/plain": [
       "['rohan', 'pwskills']"
      ]
     },
     "execution_count": 79,
     "metadata": {},
     "output_type": "execute_result"
    }
   ],
   "source": [
    "test7(lst2)"
   ]
  },
  {
   "cell_type": "code",
   "execution_count": 80,
   "id": "57c24d17-68e5-4a45-8d2e-11dc3991192c",
   "metadata": {},
   "outputs": [
    {
     "data": {
      "text/plain": [
       "[1, 2, 3, 4, 'rohan', 'pwskills', [1, 2, 33, 44, 55]]"
      ]
     },
     "execution_count": 80,
     "metadata": {},
     "output_type": "execute_result"
    }
   ],
   "source": [
    "lst2"
   ]
  },
  {
   "cell_type": "code",
   "execution_count": 91,
   "id": "5fcfdb76-0b0d-4600-b56a-e567862866eb",
   "metadata": {},
   "outputs": [],
   "source": [
    "def test8(a):\n",
    "    n =[]\n",
    "    for i in a :\n",
    "        if type(i) == list :\n",
    "            for j in i :\n",
    "                if type(j) == int or type(j) == float:\n",
    "                    n.append(j)\n",
    "        else:\n",
    "            if type(i) == int or type(i) == float :\n",
    "                n.append(i)\n",
    "    return n   \n",
    "    "
   ]
  },
  {
   "cell_type": "code",
   "execution_count": 92,
   "id": "af2702ee-495c-4c4a-9159-4818e6bb6973",
   "metadata": {},
   "outputs": [
    {
     "data": {
      "text/plain": [
       "[1, 2, 3, 4, 1, 2, 33, 44, 55]"
      ]
     },
     "execution_count": 92,
     "metadata": {},
     "output_type": "execute_result"
    }
   ],
   "source": [
    "test8(lst2)"
   ]
  },
  {
   "cell_type": "code",
   "execution_count": 84,
   "id": "b6382e0c-ab7b-4ff6-b50c-e76afe549e1f",
   "metadata": {},
   "outputs": [
    {
     "data": {
      "text/plain": [
       "[1, 2, 3, 4, 'rohan', 'pwskills', [1, 2, 33, 44, 55]]"
      ]
     },
     "execution_count": 84,
     "metadata": {},
     "output_type": "execute_result"
    }
   ],
   "source": [
    "lst2"
   ]
  },
  {
   "cell_type": "code",
   "execution_count": 89,
   "id": "88cceb66-0764-4bae-a900-d6c12d7f9e35",
   "metadata": {},
   "outputs": [],
   "source": [
    "def test9(a):\n",
    "    n =[]\n",
    "    for i in a :\n",
    "        if type(i) == list:\n",
    "            for j in i :\n",
    "                if type(j) == int or type(j) == float :\n",
    "                    n.append(j)\n",
    "        else:\n",
    "            if type(i) == int or type(i) == float :\n",
    "                n.append(i)\n",
    "    return n           "
   ]
  },
  {
   "cell_type": "code",
   "execution_count": 90,
   "id": "9c426352-22e3-4c25-b14d-e6605dbb82f8",
   "metadata": {},
   "outputs": [
    {
     "data": {
      "text/plain": [
       "[1, 2, 3, 4, 1, 2, 33, 44, 55]"
      ]
     },
     "execution_count": 90,
     "metadata": {},
     "output_type": "execute_result"
    }
   ],
   "source": [
    "test9(lst2)"
   ]
  }
 ],
 "metadata": {
  "kernelspec": {
   "display_name": "Python 3 (ipykernel)",
   "language": "python",
   "name": "python3"
  },
  "language_info": {
   "codemirror_mode": {
    "name": "ipython",
    "version": 3
   },
   "file_extension": ".py",
   "mimetype": "text/x-python",
   "name": "python",
   "nbconvert_exporter": "python",
   "pygments_lexer": "ipython3",
   "version": "3.10.8"
  }
 },
 "nbformat": 4,
 "nbformat_minor": 5
}
