{
 "cells": [
  {
   "cell_type": "markdown",
   "id": "2b4faf1c-bef9-4b08-b5f4-d61672e20fb7",
   "metadata": {},
   "source": [
    "### Logging & debugging"
   ]
  },
  {
   "cell_type": "code",
   "execution_count": 1,
   "id": "641e0652-8a84-4a5b-b1f3-044028acd99c",
   "metadata": {},
   "outputs": [
    {
     "name": "stdout",
     "output_type": "stream",
     "text": [
      "this is my print statement\n"
     ]
    }
   ],
   "source": [
    "print(\"this is my print statement\")"
   ]
  },
  {
   "cell_type": "code",
   "execution_count": 1,
   "id": "43a4a9f6-8e54-4bee-805e-d3b2a8a1490a",
   "metadata": {},
   "outputs": [],
   "source": [
    "import logging"
   ]
  },
  {
   "cell_type": "code",
   "execution_count": 3,
   "id": "cfc7e71f-922a-43f4-8a6d-fece89ce35e5",
   "metadata": {},
   "outputs": [],
   "source": [
    "logging.basicConfig(filename = \"test.log\",level = logging.INFO)"
   ]
  },
  {
   "cell_type": "code",
   "execution_count": 4,
   "id": "50b67997-d148-4fa0-8408-1cce13b0feee",
   "metadata": {},
   "outputs": [],
   "source": [
    "logging.info(\"this is my line of execution\")"
   ]
  },
  {
   "cell_type": "code",
   "execution_count": 5,
   "id": "695bdeee-6c03-4543-bd82-2d0fd743e3fe",
   "metadata": {},
   "outputs": [],
   "source": [
    "logging.error(\"this is my error\")"
   ]
  },
  {
   "cell_type": "code",
   "execution_count": 6,
   "id": "93b207d9-6d60-4069-849c-206bab44b2d9",
   "metadata": {},
   "outputs": [],
   "source": [
    "logging.critical(\"this is my critical\")"
   ]
  },
  {
   "cell_type": "code",
   "execution_count": 7,
   "id": "55d772a0-b126-47de-9496-ddf3187d8a6e",
   "metadata": {},
   "outputs": [],
   "source": [
    "logging.warning(\"this is my warning\")"
   ]
  },
  {
   "cell_type": "code",
   "execution_count": 8,
   "id": "a22e3f50-bd6c-4f17-80de-d8a53b7d10bf",
   "metadata": {},
   "outputs": [],
   "source": [
    "logging.debug(\"this is my info releated to debug\")"
   ]
  },
  {
   "cell_type": "code",
   "execution_count": 9,
   "id": "4866fc35-d118-4ef1-ba20-68111d22b105",
   "metadata": {},
   "outputs": [
    {
     "ename": "AttributeError",
     "evalue": "module 'logging' has no attribute 'noset'",
     "output_type": "error",
     "traceback": [
      "\u001b[0;31m---------------------------------------------------------------------------\u001b[0m",
      "\u001b[0;31mAttributeError\u001b[0m                            Traceback (most recent call last)",
      "Cell \u001b[0;32mIn[9], line 1\u001b[0m\n\u001b[0;32m----> 1\u001b[0m \u001b[43mlogging\u001b[49m\u001b[38;5;241;43m.\u001b[39;49m\u001b[43mnoset\u001b[49m(\u001b[38;5;124m\"\u001b[39m\u001b[38;5;124mthis is my noset releated log\u001b[39m\u001b[38;5;124m\"\u001b[39m)\n",
      "\u001b[0;31mAttributeError\u001b[0m: module 'logging' has no attribute 'noset'"
     ]
    }
   ],
   "source": [
    "logging.noset(\"this is my noset releated log\")"
   ]
  },
  {
   "cell_type": "code",
   "execution_count": 10,
   "id": "d2310966-e2c3-423b-8974-227e494fe4bc",
   "metadata": {},
   "outputs": [],
   "source": [
    "logging.shutdown()"
   ]
  },
  {
   "cell_type": "code",
   "execution_count": null,
   "id": "643ad6ae-3972-451b-8642-c60aab5edfe3",
   "metadata": {},
   "outputs": [],
   "source": [
    "1.NOSET\n",
    "2.DEBUG\n",
    "3.INFO\n",
    "4.WARNING\n",
    "5.ERROR\n",
    "6.CRITICAL"
   ]
  },
  {
   "cell_type": "code",
   "execution_count": 2,
   "id": "0540e07b-b903-4f8f-a0d9-9b2306275a61",
   "metadata": {},
   "outputs": [],
   "source": [
    "logging.basicConfig(filename = \"test1.log\",level=logging.DEBUG,format=\"%(asctime)s%(message)s\")"
   ]
  },
  {
   "cell_type": "code",
   "execution_count": 3,
   "id": "1a87e8ed-10ee-49f8-935a-cc701e738309",
   "metadata": {},
   "outputs": [],
   "source": [
    "logging.info(\"this is my info log\")"
   ]
  },
  {
   "cell_type": "code",
   "execution_count": 4,
   "id": "322c8256-ef0b-4a0e-a8ae-ae0f14c2e02f",
   "metadata": {},
   "outputs": [],
   "source": [
    "logging.debug(\"this is my debug log\")"
   ]
  },
  {
   "cell_type": "code",
   "execution_count": 5,
   "id": "dbf8005f-5ca9-4959-a28e-60643087f674",
   "metadata": {},
   "outputs": [],
   "source": [
    "logging.warning(\"this is my warning\")"
   ]
  },
  {
   "cell_type": "code",
   "execution_count": 6,
   "id": "4cc68576-9305-492d-ac12-70a0a7f1f392",
   "metadata": {},
   "outputs": [],
   "source": [
    "logging.shutdown()"
   ]
  },
  {
   "cell_type": "code",
   "execution_count": 3,
   "id": "723c05e8-89cf-4e02-be21-56290c559196",
   "metadata": {},
   "outputs": [],
   "source": [
    "logging.basicConfig(filename=\"test3.log\",level = logging.DEBUG,format = \"%(asctime)s %(name)s %(levelname)s %(message)s\")"
   ]
  },
  {
   "cell_type": "code",
   "execution_count": 4,
   "id": "2b78aa2d-3288-416f-8a0f-853ad960625e",
   "metadata": {},
   "outputs": [],
   "source": [
    "logging.info(\"this is my info log\")"
   ]
  },
  {
   "cell_type": "code",
   "execution_count": 5,
   "id": "04148802-ae20-411b-99d2-cc346ad89d06",
   "metadata": {},
   "outputs": [],
   "source": [
    "l=[1,2,3,4,5,[6,7,8,9],\"sudh\",\"kumar\"]"
   ]
  },
  {
   "cell_type": "code",
   "execution_count": 6,
   "id": "77506230-5e28-474c-ac82-76ee3ead8151",
   "metadata": {},
   "outputs": [],
   "source": [
    "l1_int =[]\n",
    "l2_str=[]\n",
    "for i in l:\n",
    "    if type(i) == list:\n",
    "        for j in i :\n",
    "            if type(j) == int:\n",
    "                l1_int.append(j)\n",
    "    elif type(i) == int:\n",
    "        l1_int.append(i)\n",
    "        \n",
    "    else:\n",
    "        if type(i) == str:\n",
    "            l2_str.append(i)"
   ]
  },
  {
   "cell_type": "code",
   "execution_count": 7,
   "id": "f7861961-f693-46d2-a335-00774a4ee0fa",
   "metadata": {},
   "outputs": [
    {
     "data": {
      "text/plain": [
       "[1, 2, 3, 4, 5, 6, 7, 8, 9]"
      ]
     },
     "execution_count": 7,
     "metadata": {},
     "output_type": "execute_result"
    }
   ],
   "source": [
    "l1_int"
   ]
  },
  {
   "cell_type": "code",
   "execution_count": 8,
   "id": "9fb869ed-eb02-400e-9a73-022406a47b4a",
   "metadata": {},
   "outputs": [
    {
     "data": {
      "text/plain": [
       "['sudh', 'kumar']"
      ]
     },
     "execution_count": 8,
     "metadata": {},
     "output_type": "execute_result"
    }
   ],
   "source": [
    "l2_str"
   ]
  },
  {
   "cell_type": "code",
   "execution_count": 11,
   "id": "4392a0f6-c631-44d0-abcb-8d1649c1f132",
   "metadata": {},
   "outputs": [],
   "source": [
    "l1_int =[]\n",
    "l2_str=[]\n",
    "for i in l:\n",
    "    logging.info(\"this is the start of my first for loop {}\".format(l))\n",
    "    logging.info(\"this is the value of i am logging {}\".format(i))\n",
    "    if type(i) == list:\n",
    "        for j in i :\n",
    "            logging.info(\"logging my j {j} and i is {i}\".format(i=i , j=j))\n",
    "            if type(j) == int:\n",
    "                l1_int.append(j)\n",
    "    elif type(i) == int:\n",
    "        l1_int.append(i)\n",
    "        \n",
    "    else:\n",
    "        if type(i) == str:\n",
    "            l2_str.append(i)\n",
    "logging.info(\"this is my final result with all int {l1},with all str {l2}\".format(l1=l1_int,l2=l2_str))            "
   ]
  },
  {
   "cell_type": "code",
   "execution_count": null,
   "id": "87344ec5-5a35-46fa-b1a6-499ebed3c402",
   "metadata": {},
   "outputs": [],
   "source": []
  }
 ],
 "metadata": {
  "kernelspec": {
   "display_name": "Python 3 (ipykernel)",
   "language": "python",
   "name": "python3"
  },
  "language_info": {
   "codemirror_mode": {
    "name": "ipython",
    "version": 3
   },
   "file_extension": ".py",
   "mimetype": "text/x-python",
   "name": "python",
   "nbconvert_exporter": "python",
   "pygments_lexer": "ipython3",
   "version": "3.10.8"
  }
 },
 "nbformat": 4,
 "nbformat_minor": 5
}
