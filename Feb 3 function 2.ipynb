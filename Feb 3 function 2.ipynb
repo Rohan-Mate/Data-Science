{
 "cells": [
  {
   "cell_type": "code",
   "execution_count": 2,
   "id": "edcebf54-0cd1-4577-ae25-676580d354bc",
   "metadata": {},
   "outputs": [],
   "source": [
    "def test(a,b,c,d,e):\n",
    "    pass"
   ]
  },
  {
   "cell_type": "code",
   "execution_count": 3,
   "id": "ce450245-d4f9-48d4-87c1-6f64d91d413e",
   "metadata": {},
   "outputs": [],
   "source": [
    "test(1,2,3,4,5)"
   ]
  },
  {
   "cell_type": "code",
   "execution_count": 4,
   "id": "846df93c-3bc1-4b97-98f1-182581fdc059",
   "metadata": {},
   "outputs": [
    {
     "ename": "TypeError",
     "evalue": "test() takes 5 positional arguments but 7 were given",
     "output_type": "error",
     "traceback": [
      "\u001b[0;31m---------------------------------------------------------------------------\u001b[0m",
      "\u001b[0;31mTypeError\u001b[0m                                 Traceback (most recent call last)",
      "Cell \u001b[0;32mIn[4], line 1\u001b[0m\n\u001b[0;32m----> 1\u001b[0m \u001b[43mtest\u001b[49m\u001b[43m(\u001b[49m\u001b[38;5;241;43m1\u001b[39;49m\u001b[43m,\u001b[49m\u001b[38;5;241;43m2\u001b[39;49m\u001b[43m,\u001b[49m\u001b[38;5;241;43m3\u001b[39;49m\u001b[43m,\u001b[49m\u001b[38;5;241;43m4\u001b[39;49m\u001b[43m,\u001b[49m\u001b[38;5;241;43m5\u001b[39;49m\u001b[43m,\u001b[49m\u001b[38;5;241;43m6\u001b[39;49m\u001b[43m,\u001b[49m\u001b[38;5;241;43m7\u001b[39;49m\u001b[43m)\u001b[49m\n",
      "\u001b[0;31mTypeError\u001b[0m: test() takes 5 positional arguments but 7 were given"
     ]
    }
   ],
   "source": [
    "test(1,2,3,4,5,6,7)"
   ]
  },
  {
   "cell_type": "code",
   "execution_count": 12,
   "id": "257e2b59-89f7-4723-af0c-eea71c1050b2",
   "metadata": {},
   "outputs": [],
   "source": [
    "def test1(*args):\n",
    "    return args\n",
    "# (*) means n no of arguments"
   ]
  },
  {
   "cell_type": "code",
   "execution_count": 9,
   "id": "444c057e-acde-4a26-9cef-ad547eed3dc8",
   "metadata": {},
   "outputs": [
    {
     "data": {
      "text/plain": [
       "(2,)"
      ]
     },
     "execution_count": 9,
     "metadata": {},
     "output_type": "execute_result"
    }
   ],
   "source": [
    "test1(2)"
   ]
  },
  {
   "cell_type": "code",
   "execution_count": 10,
   "id": "6e548a7a-e579-4060-8a05-d37d972e667b",
   "metadata": {},
   "outputs": [
    {
     "data": {
      "text/plain": [
       "(1, 2, 3, 4, 5)"
      ]
     },
     "execution_count": 10,
     "metadata": {},
     "output_type": "execute_result"
    }
   ],
   "source": [
    "test1(1,2,3,4,5)"
   ]
  },
  {
   "cell_type": "code",
   "execution_count": 11,
   "id": "35af4bb4-0f98-4197-a959-0e34ca4ba0f5",
   "metadata": {},
   "outputs": [
    {
     "data": {
      "text/plain": [
       "('sudh', [1, 2, 3, 4, 5], (1, 2, 3, 4, 5))"
      ]
     },
     "execution_count": 11,
     "metadata": {},
     "output_type": "execute_result"
    }
   ],
   "source": [
    "test1(\"sudh\",[1,2,3,4,5],(1,2,3,4,5))"
   ]
  },
  {
   "cell_type": "code",
   "execution_count": 13,
   "id": "e8e76d5c-c7b0-4717-a67a-f78441848fd1",
   "metadata": {},
   "outputs": [],
   "source": [
    "def test2(*sudh):\n",
    "    return sudh"
   ]
  },
  {
   "cell_type": "code",
   "execution_count": 14,
   "id": "55cd1a8f-acf7-4f31-b5e5-1e6558a23069",
   "metadata": {},
   "outputs": [
    {
     "data": {
      "text/plain": [
       "(3, 4, 5, 6, 78, 9, 89, 56)"
      ]
     },
     "execution_count": 14,
     "metadata": {},
     "output_type": "execute_result"
    }
   ],
   "source": [
    "test2(3,4,5,6,78,9,89,56)"
   ]
  },
  {
   "cell_type": "code",
   "execution_count": 15,
   "id": "ab763f41-4bdb-4d33-8434-f79d6200891f",
   "metadata": {},
   "outputs": [],
   "source": [
    "def test3(*args,a):\n",
    "    return args,a"
   ]
  },
  {
   "cell_type": "code",
   "execution_count": 16,
   "id": "9e59cc60-c15e-4b1f-ac0b-dc3321205fdd",
   "metadata": {},
   "outputs": [
    {
     "ename": "TypeError",
     "evalue": "test3() missing 1 required keyword-only argument: 'a'",
     "output_type": "error",
     "traceback": [
      "\u001b[0;31m---------------------------------------------------------------------------\u001b[0m",
      "\u001b[0;31mTypeError\u001b[0m                                 Traceback (most recent call last)",
      "Cell \u001b[0;32mIn[16], line 1\u001b[0m\n\u001b[0;32m----> 1\u001b[0m \u001b[43mtest3\u001b[49m\u001b[43m(\u001b[49m\u001b[38;5;241;43m3\u001b[39;49m\u001b[43m)\u001b[49m\n",
      "\u001b[0;31mTypeError\u001b[0m: test3() missing 1 required keyword-only argument: 'a'"
     ]
    }
   ],
   "source": [
    "test3(3)"
   ]
  },
  {
   "cell_type": "code",
   "execution_count": 17,
   "id": "9c368de4-5738-4374-8336-cff651d5c1de",
   "metadata": {},
   "outputs": [
    {
     "data": {
      "text/plain": [
       "((1, 2, 3, 4), 'Rohan')"
      ]
     },
     "execution_count": 17,
     "metadata": {},
     "output_type": "execute_result"
    }
   ],
   "source": [
    "test3(1,2,3,4,a=\"Rohan\")"
   ]
  },
  {
   "cell_type": "code",
   "execution_count": 20,
   "id": "1b5a7e06-67bc-406f-a09f-e40ffa1e57f6",
   "metadata": {},
   "outputs": [],
   "source": [
    "def test4 (*args):\n",
    "    l =[]\n",
    "    for i in args:\n",
    "        if type(i) == list:\n",
    "            l.append(i)\n",
    "    return l    "
   ]
  },
  {
   "cell_type": "code",
   "execution_count": 21,
   "id": "c6eb881d-c085-4631-adda-37108cd016ee",
   "metadata": {},
   "outputs": [
    {
     "data": {
      "text/plain": [
       "[[1, 2, 3, 4]]"
      ]
     },
     "execution_count": 21,
     "metadata": {},
     "output_type": "execute_result"
    }
   ],
   "source": [
    "test4(1,2,3,4,[1,2,3,4],(1,2,3,4),\"sudh\")"
   ]
  },
  {
   "cell_type": "code",
   "execution_count": 24,
   "id": "0705872a-1daa-43ff-adc8-cc1fc4e57d15",
   "metadata": {},
   "outputs": [
    {
     "data": {
      "text/plain": [
       "[[1, 2, 3, 4], [78, 89, 56, 45, 12], ['skills', 'pw']]"
      ]
     },
     "execution_count": 24,
     "metadata": {},
     "output_type": "execute_result"
    }
   ],
   "source": [
    "test4(1,2,3,4,[1,2,3,4],(1,2,3,4),\"sudh\",[78,89,56,45,12],[\"skills\",\"pw\"])"
   ]
  },
  {
   "cell_type": "code",
   "execution_count": 31,
   "id": "886be4ae-4a4d-4a91-ab2a-acb11525c1c7",
   "metadata": {},
   "outputs": [],
   "source": [
    "## we are dealing with dictionary (**) use for dictionary keys and values"
   ]
  },
  {
   "cell_type": "code",
   "execution_count": 26,
   "id": "e45c7822-c7d3-415d-aa99-e1d7918a5f5e",
   "metadata": {},
   "outputs": [],
   "source": [
    "def test5(** kwrgs):\n",
    "    return kwrgs"
   ]
  },
  {
   "cell_type": "code",
   "execution_count": 27,
   "id": "5182ea8f-c18b-4db8-9ee6-a780d7e67b55",
   "metadata": {},
   "outputs": [
    {
     "data": {
      "text/plain": [
       "{}"
      ]
     },
     "execution_count": 27,
     "metadata": {},
     "output_type": "execute_result"
    }
   ],
   "source": [
    "test5()"
   ]
  },
  {
   "cell_type": "code",
   "execution_count": 29,
   "id": "3ee1cd15-44cf-41f8-9db1-9ac9e6ce6825",
   "metadata": {},
   "outputs": [
    {
     "data": {
      "text/plain": [
       "dict"
      ]
     },
     "execution_count": 29,
     "metadata": {},
     "output_type": "execute_result"
    }
   ],
   "source": [
    "type(test5())"
   ]
  },
  {
   "cell_type": "code",
   "execution_count": 30,
   "id": "41f8e229-bfee-4a4a-83e1-8accdd64df7a",
   "metadata": {},
   "outputs": [
    {
     "data": {
      "text/plain": [
       "{'a': 34, 'b': 23, 'c': [2, 3, 4, 5, 6, 9], 'd': ('sudh', 'pwskills')}"
      ]
     },
     "execution_count": 30,
     "metadata": {},
     "output_type": "execute_result"
    }
   ],
   "source": [
    "test5(a=34,b=23,c=[2,3,4,5,6,9],d=(\"sudh\",\"pwskills\"))"
   ]
  },
  {
   "cell_type": "code",
   "execution_count": 33,
   "id": "df5c6a8f-16d8-4fa7-bfa1-9131d76d2c51",
   "metadata": {},
   "outputs": [],
   "source": [
    "def test6(** kwrgs):\n",
    "    for i in kwrgs.keys():\n",
    "        if type(kwrgs[i]) == list :\n",
    "            return i, kwrgs[i]"
   ]
  },
  {
   "cell_type": "code",
   "execution_count": 34,
   "id": "ab8fc966-5d37-4642-ab3a-40044250e00d",
   "metadata": {},
   "outputs": [
    {
     "data": {
      "text/plain": [
       "('c', [2, 3, 4, 5, 6, 9])"
      ]
     },
     "execution_count": 34,
     "metadata": {},
     "output_type": "execute_result"
    }
   ],
   "source": [
    "test6(a=34,b=23,c=[2,3,4,5,6,9],d=(\"sudh\",\"pwskills\"))"
   ]
  },
  {
   "cell_type": "code",
   "execution_count": 40,
   "id": "02c9ba98-d60c-45f8-89b7-ef4097f84334",
   "metadata": {},
   "outputs": [],
   "source": [
    "def test7 (*args,**kwargs) :\n",
    "    return args,kwargs"
   ]
  },
  {
   "cell_type": "code",
   "execution_count": 41,
   "id": "b00f4597-dc4f-48f6-8fc4-d9c1e1a9cfae",
   "metadata": {},
   "outputs": [
    {
     "data": {
      "text/plain": [
       "((2, 3, 4, 5), {'a': 34, 'b': 65})"
      ]
     },
     "execution_count": 41,
     "metadata": {},
     "output_type": "execute_result"
    }
   ],
   "source": [
    "test7(2,3,4,5,a=34,b=65)"
   ]
  },
  {
   "cell_type": "code",
   "execution_count": null,
   "id": "6821fd0f-2971-4ad7-9c94-524432ea10b2",
   "metadata": {},
   "outputs": [],
   "source": []
  }
 ],
 "metadata": {
  "kernelspec": {
   "display_name": "Python 3 (ipykernel)",
   "language": "python",
   "name": "python3"
  },
  "language_info": {
   "codemirror_mode": {
    "name": "ipython",
    "version": 3
   },
   "file_extension": ".py",
   "mimetype": "text/x-python",
   "name": "python",
   "nbconvert_exporter": "python",
   "pygments_lexer": "ipython3",
   "version": "3.10.8"
  }
 },
 "nbformat": 4,
 "nbformat_minor": 5
}
