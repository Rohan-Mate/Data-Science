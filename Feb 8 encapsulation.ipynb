{
 "cells": [
  {
   "cell_type": "markdown",
   "id": "9c06a1a6-5b83-473d-a619-8e06fabb3796",
   "metadata": {},
   "source": [
    "encapsulation"
   ]
  },
  {
   "cell_type": "code",
   "execution_count": 1,
   "id": "80161dae-f984-460a-bf6f-1919ae0a5267",
   "metadata": {},
   "outputs": [],
   "source": [
    "class test:\n",
    "    def __init__(self,a,b):\n",
    "        self.a=a\n",
    "        self.b=b\n",
    "        "
   ]
  },
  {
   "cell_type": "code",
   "execution_count": 2,
   "id": "ea8f57e9-9614-4312-9ec2-7b5d94f2efe9",
   "metadata": {},
   "outputs": [
    {
     "ename": "TypeError",
     "evalue": "test.__init__() missing 2 required positional arguments: 'a' and 'b'",
     "output_type": "error",
     "traceback": [
      "\u001b[0;31m---------------------------------------------------------------------------\u001b[0m",
      "\u001b[0;31mTypeError\u001b[0m                                 Traceback (most recent call last)",
      "Cell \u001b[0;32mIn[2], line 1\u001b[0m\n\u001b[0;32m----> 1\u001b[0m t\u001b[38;5;241m=\u001b[39m\u001b[43mtest\u001b[49m\u001b[43m(\u001b[49m\u001b[43m)\u001b[49m\n",
      "\u001b[0;31mTypeError\u001b[0m: test.__init__() missing 2 required positional arguments: 'a' and 'b'"
     ]
    }
   ],
   "source": [
    "t=test()"
   ]
  },
  {
   "cell_type": "code",
   "execution_count": 3,
   "id": "2b6d46e4-f9fb-4e80-9070-500693dd23b0",
   "metadata": {},
   "outputs": [],
   "source": [
    "t=test(45,56)"
   ]
  },
  {
   "cell_type": "code",
   "execution_count": 4,
   "id": "992331cd-87af-4502-972c-acecd7fac9b5",
   "metadata": {},
   "outputs": [
    {
     "data": {
      "text/plain": [
       "45"
      ]
     },
     "execution_count": 4,
     "metadata": {},
     "output_type": "execute_result"
    }
   ],
   "source": [
    "t.a"
   ]
  },
  {
   "cell_type": "code",
   "execution_count": 5,
   "id": "66686274-fab0-4c14-898e-134999227d6a",
   "metadata": {},
   "outputs": [
    {
     "data": {
      "text/plain": [
       "56"
      ]
     },
     "execution_count": 5,
     "metadata": {},
     "output_type": "execute_result"
    }
   ],
   "source": [
    "t.b"
   ]
  },
  {
   "cell_type": "code",
   "execution_count": 6,
   "id": "c0c86633-ff0d-47d7-952a-5e28488149ca",
   "metadata": {},
   "outputs": [],
   "source": [
    "t.a=3256"
   ]
  },
  {
   "cell_type": "code",
   "execution_count": 7,
   "id": "6a910ccc-bd13-4bdc-b3d2-3d413c45553c",
   "metadata": {},
   "outputs": [
    {
     "data": {
      "text/plain": [
       "3256"
      ]
     },
     "execution_count": 7,
     "metadata": {},
     "output_type": "execute_result"
    }
   ],
   "source": [
    "t.a"
   ]
  },
  {
   "cell_type": "code",
   "execution_count": 20,
   "id": "aa0b86d3-2e63-4ddc-a38b-a6676b99ff9b",
   "metadata": {},
   "outputs": [],
   "source": [
    "class car:\n",
    "    \n",
    "    def __init__(self,year,make,model,speed):\n",
    "        \n",
    "        self.__year=year\n",
    "        self.__make=make\n",
    "        self.__model=model\n",
    "        self.__speed= 0\n",
    "        \n",
    "obj_car=car(2021,'toyota','innova',150)    "
   ]
  },
  {
   "cell_type": "code",
   "execution_count": 15,
   "id": "f061c18e-3186-4cc1-96fe-42d44d63ecc3",
   "metadata": {},
   "outputs": [
    {
     "data": {
      "text/plain": [
       "'toyota'"
      ]
     },
     "execution_count": 15,
     "metadata": {},
     "output_type": "execute_result"
    }
   ],
   "source": [
    "obj_car._car__make"
   ]
  },
  {
   "cell_type": "code",
   "execution_count": 21,
   "id": "720cd398-27e6-4227-82f5-11350b4aa3bb",
   "metadata": {},
   "outputs": [],
   "source": [
    "obj_car._car__speed =350"
   ]
  },
  {
   "cell_type": "code",
   "execution_count": 22,
   "id": "46141184-74a8-42eb-bccc-3ef1125afaa1",
   "metadata": {},
   "outputs": [
    {
     "data": {
      "text/plain": [
       "350"
      ]
     },
     "execution_count": 22,
     "metadata": {},
     "output_type": "execute_result"
    }
   ],
   "source": [
    "obj_car._car__speed"
   ]
  },
  {
   "cell_type": "code",
   "execution_count": 28,
   "id": "3b139295-bed9-4acc-bcc4-699c71c3e19c",
   "metadata": {},
   "outputs": [],
   "source": [
    "class car:\n",
    "    \n",
    "    def __init__(self,year,make,model,speed):\n",
    "        \n",
    "        self.__year=year\n",
    "        self.__make=make\n",
    "        self.__model=model\n",
    "        self.__speed= 0\n",
    "        \n",
    "    def set_speed(self,speed):\n",
    "        self.__speed = 0 if speed < 0 else speed\n",
    "        \n",
    "obj_car=car(2021,'toyota','innova',150)         "
   ]
  },
  {
   "cell_type": "code",
   "execution_count": 29,
   "id": "bee2f69b-df06-4a56-ac0b-22c2dda958e2",
   "metadata": {},
   "outputs": [],
   "source": [
    "obj_car.set_speed(1234)"
   ]
  },
  {
   "cell_type": "code",
   "execution_count": 33,
   "id": "4957e389-a140-4864-9054-66fe9509ad1c",
   "metadata": {},
   "outputs": [
    {
     "data": {
      "text/plain": [
       "1234"
      ]
     },
     "execution_count": 33,
     "metadata": {},
     "output_type": "execute_result"
    }
   ],
   "source": [
    "obj_car._car__speed"
   ]
  },
  {
   "cell_type": "code",
   "execution_count": 39,
   "id": "9ac20279-de77-4364-a922-2d685a51ce9c",
   "metadata": {},
   "outputs": [],
   "source": [
    "class car:\n",
    "    \n",
    "    def __init__(self,year,make,model,speed):\n",
    "        \n",
    "        self.__year=year\n",
    "        self.__make=make\n",
    "        self.__model=model\n",
    "        self.__speed= 0\n",
    "        \n",
    "    def set_speed(self,speed):\n",
    "        self.__speed = 0 if speed < 0 else speed\n",
    "        \n",
    "    def get_speed(self):\n",
    "        return self.__speed\n",
    "    \n",
    "obj_car=car(2021,'toyota','innova',150)             "
   ]
  },
  {
   "cell_type": "code",
   "execution_count": 40,
   "id": "bbd01704-45b4-49a0-b5d9-33890f133976",
   "metadata": {},
   "outputs": [],
   "source": [
    "obj_car._car__speed=2525"
   ]
  },
  {
   "cell_type": "code",
   "execution_count": 41,
   "id": "722e5f15-8439-4790-a85b-5dbd56a4e926",
   "metadata": {},
   "outputs": [
    {
     "data": {
      "text/plain": [
       "2525"
      ]
     },
     "execution_count": 41,
     "metadata": {},
     "output_type": "execute_result"
    }
   ],
   "source": [
    "obj_car.get_speed()"
   ]
  },
  {
   "cell_type": "code",
   "execution_count": 50,
   "id": "f787cfe2-4edc-4fee-a69c-0692ca8dbbe2",
   "metadata": {},
   "outputs": [],
   "source": [
    "class BankAcc:\n",
    "    \n",
    "    def __init__(self,balance):\n",
    "        self.__balance=balance\n",
    "        \n",
    "    def deposit(self,amount):\n",
    "        self.__balance=self.__balance + amount\n",
    "        \n",
    "    def withdraw (self,amount):\n",
    "        if self.__balance >= amount:\n",
    "            self.__balance=self.__balance - amount\n",
    "            return True\n",
    "        else:\n",
    "            return False\n",
    "        \n",
    "    def get_balance(self):\n",
    "        return self.__balance"
   ]
  },
  {
   "cell_type": "code",
   "execution_count": 51,
   "id": "7d92d937-d6ff-4d59-863c-f24d7aac2cff",
   "metadata": {},
   "outputs": [],
   "source": [
    "obj1=BankAcc(1000)"
   ]
  },
  {
   "cell_type": "code",
   "execution_count": 52,
   "id": "52345c02-5b50-480d-9a14-9c30b703f154",
   "metadata": {},
   "outputs": [],
   "source": [
    "obj1.deposit(50000)"
   ]
  },
  {
   "cell_type": "code",
   "execution_count": 53,
   "id": "11c04f88-5fef-45e4-82fd-61f35e9aa774",
   "metadata": {},
   "outputs": [
    {
     "data": {
      "text/plain": [
       "51000"
      ]
     },
     "execution_count": 53,
     "metadata": {},
     "output_type": "execute_result"
    }
   ],
   "source": [
    "obj1.get_balance()"
   ]
  },
  {
   "cell_type": "code",
   "execution_count": 54,
   "id": "2a84b039-eb12-4a29-8d24-b83cd3762332",
   "metadata": {},
   "outputs": [
    {
     "data": {
      "text/plain": [
       "True"
      ]
     },
     "execution_count": 54,
     "metadata": {},
     "output_type": "execute_result"
    }
   ],
   "source": [
    "obj1.withdraw(5000)"
   ]
  },
  {
   "cell_type": "code",
   "execution_count": null,
   "id": "43e44c71-1e15-4db0-93fb-09a4464a08f9",
   "metadata": {},
   "outputs": [],
   "source": []
  }
 ],
 "metadata": {
  "kernelspec": {
   "display_name": "Python 3 (ipykernel)",
   "language": "python",
   "name": "python3"
  },
  "language_info": {
   "codemirror_mode": {
    "name": "ipython",
    "version": 3
   },
   "file_extension": ".py",
   "mimetype": "text/x-python",
   "name": "python",
   "nbconvert_exporter": "python",
   "pygments_lexer": "ipython3",
   "version": "3.10.8"
  }
 },
 "nbformat": 4,
 "nbformat_minor": 5
}
