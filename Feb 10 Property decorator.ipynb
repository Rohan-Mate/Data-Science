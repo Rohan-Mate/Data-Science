{
 "cells": [
  {
   "cell_type": "markdown",
   "id": "341fc829-331a-4150-84b7-2c2b49bddfb7",
   "metadata": {},
   "source": [
    "### property decorator"
   ]
  },
  {
   "cell_type": "code",
   "execution_count": null,
   "id": "47e9e7ad-b324-47c1-bfb3-097df43f6c9c",
   "metadata": {},
   "outputs": [],
   "source": [
    "## (__ double underscore means it is a private variable\n",
    "## (_) single underscore means it is a protected variable"
   ]
  },
  {
   "cell_type": "code",
   "execution_count": 3,
   "id": "1cd47cff-ec17-4e4e-833d-48966b85f894",
   "metadata": {},
   "outputs": [],
   "source": [
    "class Pwskills:\n",
    "    \n",
    "    def __init__(self,course_price,course_name):\n",
    "        self.__course_price =course_price\n",
    "        self.course_name=course_name"
   ]
  },
  {
   "cell_type": "code",
   "execution_count": 4,
   "id": "ef0eee6c-eb60-4219-972c-e34476dd9cb6",
   "metadata": {},
   "outputs": [],
   "source": [
    "pw=Pwskills(3500,\"data science masters\")"
   ]
  },
  {
   "cell_type": "code",
   "execution_count": 5,
   "id": "7245e2fe-7dc7-4d22-9582-bc2fa9bac678",
   "metadata": {},
   "outputs": [
    {
     "data": {
      "text/plain": [
       "'data science masters'"
      ]
     },
     "execution_count": 5,
     "metadata": {},
     "output_type": "execute_result"
    }
   ],
   "source": [
    "pw.course_name"
   ]
  },
  {
   "cell_type": "code",
   "execution_count": 7,
   "id": "36ac1952-801c-4940-a753-290da1a2bf5d",
   "metadata": {},
   "outputs": [
    {
     "ename": "AttributeError",
     "evalue": "'Pwskills' object has no attribute '__course_price'",
     "output_type": "error",
     "traceback": [
      "\u001b[0;31m---------------------------------------------------------------------------\u001b[0m",
      "\u001b[0;31mAttributeError\u001b[0m                            Traceback (most recent call last)",
      "Cell \u001b[0;32mIn[7], line 1\u001b[0m\n\u001b[0;32m----> 1\u001b[0m \u001b[43mpw\u001b[49m\u001b[38;5;241;43m.\u001b[39;49m\u001b[43m__course_price\u001b[49m\n\u001b[1;32m      2\u001b[0m \u001b[38;5;66;03m## private variable it is not access\u001b[39;00m\n",
      "\u001b[0;31mAttributeError\u001b[0m: 'Pwskills' object has no attribute '__course_price'"
     ]
    }
   ],
   "source": [
    "pw.__course_price\n",
    "## private variable it is not access"
   ]
  },
  {
   "cell_type": "code",
   "execution_count": 8,
   "id": "a7717c08-e6b4-4088-a585-908dc11de1d1",
   "metadata": {},
   "outputs": [
    {
     "data": {
      "text/plain": [
       "3500"
      ]
     },
     "execution_count": 8,
     "metadata": {},
     "output_type": "execute_result"
    }
   ],
   "source": [
    "pw._Pwskills__course_price"
   ]
  },
  {
   "cell_type": "code",
   "execution_count": 9,
   "id": "f4009a33-7099-4aec-a7e6-92cd073b9b96",
   "metadata": {},
   "outputs": [],
   "source": [
    "class Pwskills1:\n",
    "    \n",
    "    def __init__(self,course_price,course_name):\n",
    "        self.__course_price =course_price\n",
    "        self.course_name=course_name\n",
    "        \n",
    "    @property\n",
    "    def course_price_access(self):\n",
    "        return self.__course_price"
   ]
  },
  {
   "cell_type": "code",
   "execution_count": 10,
   "id": "1661e658-b7ad-47ce-a1f2-ac69a74d2078",
   "metadata": {},
   "outputs": [],
   "source": [
    "pw1=Pwskills1(3500,\"data science\")"
   ]
  },
  {
   "cell_type": "code",
   "execution_count": 11,
   "id": "56986b4b-4485-464b-9897-17485d25ee4d",
   "metadata": {},
   "outputs": [
    {
     "data": {
      "text/plain": [
       "'data science'"
      ]
     },
     "execution_count": 11,
     "metadata": {},
     "output_type": "execute_result"
    }
   ],
   "source": [
    "pw1.course_name"
   ]
  },
  {
   "cell_type": "code",
   "execution_count": 12,
   "id": "974c5d43-5bc4-4a5f-80d4-97f15902ee42",
   "metadata": {},
   "outputs": [
    {
     "data": {
      "text/plain": [
       "3500"
      ]
     },
     "execution_count": 12,
     "metadata": {},
     "output_type": "execute_result"
    }
   ],
   "source": [
    "pw1.course_price_access"
   ]
  },
  {
   "cell_type": "code",
   "execution_count": null,
   "id": "91f35db5-1b69-4db7-b4aa-3fcf21710726",
   "metadata": {},
   "outputs": [],
   "source": [
    "## if outsider require modification in price then we use setter to give option"
   ]
  },
  {
   "cell_type": "code",
   "execution_count": 13,
   "id": "cdb396f8-b4a9-4cbd-8b27-dfa8cdb382f3",
   "metadata": {},
   "outputs": [],
   "source": [
    "class Pwskills2:\n",
    "    \n",
    "    def __init__(self,course_price,course_name):\n",
    "        self.__course_price =course_price\n",
    "        self.course_name=course_name\n",
    "        \n",
    "    @property\n",
    "    def course_price_access(self):\n",
    "        return self.__course_price\n",
    "    \n",
    "    @course_price_access.setter\n",
    "    def course_price_set(self,price):\n",
    "        if price <= 3500:\n",
    "            pass\n",
    "        else:\n",
    "            self.__course_price=price"
   ]
  },
  {
   "cell_type": "code",
   "execution_count": 15,
   "id": "2ccf9069-ca88-4070-9625-210a9d8cdd1c",
   "metadata": {},
   "outputs": [],
   "source": [
    "pw2=Pwskills2(4000,\"data science\")"
   ]
  },
  {
   "cell_type": "code",
   "execution_count": 17,
   "id": "1dbd5e7b-e7f0-4daf-8741-04ea207bd8de",
   "metadata": {},
   "outputs": [
    {
     "data": {
      "text/plain": [
       "4000"
      ]
     },
     "execution_count": 17,
     "metadata": {},
     "output_type": "execute_result"
    }
   ],
   "source": [
    "pw2.course_price_access"
   ]
  },
  {
   "cell_type": "code",
   "execution_count": 18,
   "id": "83421508-1307-4015-bfc1-c634a83be179",
   "metadata": {},
   "outputs": [],
   "source": [
    "pw2.course_price_set = 2500"
   ]
  },
  {
   "cell_type": "code",
   "execution_count": 19,
   "id": "e43591ab-0e7f-4461-9212-186892579d6e",
   "metadata": {},
   "outputs": [
    {
     "data": {
      "text/plain": [
       "4000"
      ]
     },
     "execution_count": 19,
     "metadata": {},
     "output_type": "execute_result"
    }
   ],
   "source": [
    "pw2.course_price_access"
   ]
  },
  {
   "cell_type": "code",
   "execution_count": 20,
   "id": "0328a123-aeb0-4e42-a81b-0940ef053a36",
   "metadata": {},
   "outputs": [],
   "source": [
    "pw2.course_price_set =4500"
   ]
  },
  {
   "cell_type": "code",
   "execution_count": 21,
   "id": "fac2f1dc-1d7f-483b-9542-1dfd950fb559",
   "metadata": {},
   "outputs": [
    {
     "data": {
      "text/plain": [
       "4500"
      ]
     },
     "execution_count": 21,
     "metadata": {},
     "output_type": "execute_result"
    }
   ],
   "source": [
    "pw2.course_price_access"
   ]
  },
  {
   "cell_type": "code",
   "execution_count": 22,
   "id": "5363878a-16ba-48a6-85bf-514b2a5d1eaf",
   "metadata": {},
   "outputs": [],
   "source": [
    "class Pwskills3:\n",
    "    \n",
    "    def __init__(self,course_price,course_name):\n",
    "        self.__course_price =course_price\n",
    "        self.course_name=course_name\n",
    "        \n",
    "    @property\n",
    "    def course_price_access(self):\n",
    "        return self.__course_price\n",
    "    \n",
    "    @course_price_access.setter\n",
    "    def course_price_set(self,price):\n",
    "        if price <= 3500:\n",
    "            pass\n",
    "        else:\n",
    "            self.__course_price=price\n",
    "            \n",
    "    @course_price_access.deleter\n",
    "    def course_price_del(self):\n",
    "        del self.__course_price"
   ]
  },
  {
   "cell_type": "code",
   "execution_count": 23,
   "id": "02225c60-7325-486a-a1e7-20105af5edd0",
   "metadata": {},
   "outputs": [],
   "source": [
    "pw3=Pwskills3(3500,\"data science\")"
   ]
  },
  {
   "cell_type": "code",
   "execution_count": 24,
   "id": "cd2bcda2-978c-4c89-abf2-3b5a7caceacc",
   "metadata": {},
   "outputs": [
    {
     "data": {
      "text/plain": [
       "3500"
      ]
     },
     "execution_count": 24,
     "metadata": {},
     "output_type": "execute_result"
    }
   ],
   "source": [
    "pw3.course_price_access"
   ]
  },
  {
   "cell_type": "code",
   "execution_count": 25,
   "id": "ebc23ef3-f257-4688-8147-35fda32f2f4a",
   "metadata": {},
   "outputs": [
    {
     "data": {
      "text/plain": [
       "'data science'"
      ]
     },
     "execution_count": 25,
     "metadata": {},
     "output_type": "execute_result"
    }
   ],
   "source": [
    "pw3.course_name"
   ]
  },
  {
   "cell_type": "code",
   "execution_count": 28,
   "id": "f2b16b76-d842-4995-b510-89086221af46",
   "metadata": {},
   "outputs": [],
   "source": [
    "del pw3.course_price_del"
   ]
  },
  {
   "cell_type": "code",
   "execution_count": 29,
   "id": "10d00837-bb1e-4939-bb67-5e6c117d05eb",
   "metadata": {},
   "outputs": [
    {
     "ename": "AttributeError",
     "evalue": "'Pwskills3' object has no attribute '_Pwskills3__course_price'",
     "output_type": "error",
     "traceback": [
      "\u001b[0;31m---------------------------------------------------------------------------\u001b[0m",
      "\u001b[0;31mAttributeError\u001b[0m                            Traceback (most recent call last)",
      "Cell \u001b[0;32mIn[29], line 1\u001b[0m\n\u001b[0;32m----> 1\u001b[0m \u001b[43mpw3\u001b[49m\u001b[38;5;241;43m.\u001b[39;49m\u001b[43mcourse_price_access\u001b[49m\n",
      "Cell \u001b[0;32mIn[22], line 9\u001b[0m, in \u001b[0;36mPwskills3.course_price_access\u001b[0;34m(self)\u001b[0m\n\u001b[1;32m      7\u001b[0m \u001b[38;5;129m@property\u001b[39m\n\u001b[1;32m      8\u001b[0m \u001b[38;5;28;01mdef\u001b[39;00m \u001b[38;5;21mcourse_price_access\u001b[39m(\u001b[38;5;28mself\u001b[39m):\n\u001b[0;32m----> 9\u001b[0m     \u001b[38;5;28;01mreturn\u001b[39;00m \u001b[38;5;28;43mself\u001b[39;49m\u001b[38;5;241;43m.\u001b[39;49m\u001b[43m__course_price\u001b[49m\n",
      "\u001b[0;31mAttributeError\u001b[0m: 'Pwskills3' object has no attribute '_Pwskills3__course_price'"
     ]
    }
   ],
   "source": [
    "pw3.course_price_access"
   ]
  }
 ],
 "metadata": {
  "kernelspec": {
   "display_name": "Python 3 (ipykernel)",
   "language": "python",
   "name": "python3"
  },
  "language_info": {
   "codemirror_mode": {
    "name": "ipython",
    "version": 3
   },
   "file_extension": ".py",
   "mimetype": "text/x-python",
   "name": "python",
   "nbconvert_exporter": "python",
   "pygments_lexer": "ipython3",
   "version": "3.10.8"
  }
 },
 "nbformat": 4,
 "nbformat_minor": 5
}
