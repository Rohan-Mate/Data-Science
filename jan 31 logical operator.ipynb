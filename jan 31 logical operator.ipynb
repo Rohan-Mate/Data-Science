{
 "cells": [
  {
   "cell_type": "markdown",
   "id": "c626ce75-f907-4c2f-ae4c-8ad05f340b25",
   "metadata": {},
   "source": [
    "## logical Operators\n",
    "1.And\n",
    "2.or\n",
    "3.not\n",
    "\n"
   ]
  },
  {
   "cell_type": "code",
   "execution_count": 3,
   "id": "ca5d30ec-f959-499a-9a6d-22de4140c429",
   "metadata": {},
   "outputs": [
    {
     "data": {
      "text/plain": [
       "True"
      ]
     },
     "execution_count": 3,
     "metadata": {},
     "output_type": "execute_result"
    }
   ],
   "source": [
    "True and True"
   ]
  },
  {
   "cell_type": "code",
   "execution_count": 24,
   "id": "f5148627-068f-42e9-a64f-efa07ba0f11e",
   "metadata": {},
   "outputs": [
    {
     "data": {
      "text/plain": [
       "False"
      ]
     },
     "execution_count": 24,
     "metadata": {},
     "output_type": "execute_result"
    }
   ],
   "source": [
    "True and False"
   ]
  },
  {
   "cell_type": "code",
   "execution_count": 6,
   "id": "a17f7419-9d84-436c-a4b0-b8b5b8a18ea7",
   "metadata": {},
   "outputs": [
    {
     "data": {
      "text/plain": [
       "True"
      ]
     },
     "execution_count": 6,
     "metadata": {},
     "output_type": "execute_result"
    }
   ],
   "source": [
    "True or False"
   ]
  },
  {
   "cell_type": "code",
   "execution_count": 8,
   "id": "f752e65c-7a2d-4d8c-b289-0cb4670fb972",
   "metadata": {},
   "outputs": [
    {
     "data": {
      "text/plain": [
       "False"
      ]
     },
     "execution_count": 8,
     "metadata": {},
     "output_type": "execute_result"
    }
   ],
   "source": [
    "not True"
   ]
  },
  {
   "cell_type": "code",
   "execution_count": 16,
   "id": "1158889d-4c55-4fa3-8174-8544831d94d4",
   "metadata": {},
   "outputs": [
    {
     "data": {
      "text/plain": [
       "False"
      ]
     },
     "execution_count": 16,
     "metadata": {},
     "output_type": "execute_result"
    }
   ],
   "source": [
    "bool(0)"
   ]
  },
  {
   "cell_type": "code",
   "execution_count": 10,
   "id": "996fbef1-19be-4288-95c9-c79e04040448",
   "metadata": {},
   "outputs": [
    {
     "data": {
      "text/plain": [
       "True"
      ]
     },
     "execution_count": 10,
     "metadata": {},
     "output_type": "execute_result"
    }
   ],
   "source": [
    "not bool(0)"
   ]
  },
  {
   "cell_type": "code",
   "execution_count": 13,
   "id": "10601eab-0b56-4be0-b837-f3b2e05e35bd",
   "metadata": {},
   "outputs": [
    {
     "data": {
      "text/plain": [
       "True"
      ]
     },
     "execution_count": 13,
     "metadata": {},
     "output_type": "execute_result"
    }
   ],
   "source": [
    "not int(bool(0))"
   ]
  },
  {
   "cell_type": "code",
   "execution_count": 17,
   "id": "d901f747-4670-48f0-bfd4-222e638bc41f",
   "metadata": {},
   "outputs": [
    {
     "data": {
      "text/plain": [
       "True"
      ]
     },
     "execution_count": 17,
     "metadata": {},
     "output_type": "execute_result"
    }
   ],
   "source": [
    "bool (1)"
   ]
  },
  {
   "cell_type": "code",
   "execution_count": 14,
   "id": "61af1691-b516-48f7-ab31-1961aaf19870",
   "metadata": {},
   "outputs": [
    {
     "data": {
      "text/plain": [
       "False"
      ]
     },
     "execution_count": 14,
     "metadata": {},
     "output_type": "execute_result"
    }
   ],
   "source": [
    "not bool(1)"
   ]
  },
  {
   "cell_type": "code",
   "execution_count": 15,
   "id": "03395542-0e73-42e5-a73b-ac9179431540",
   "metadata": {},
   "outputs": [
    {
     "data": {
      "text/plain": [
       "False"
      ]
     },
     "execution_count": 15,
     "metadata": {},
     "output_type": "execute_result"
    }
   ],
   "source": [
    "not int(bool(1))"
   ]
  },
  {
   "cell_type": "code",
   "execution_count": 18,
   "id": "f22ec122-d5fc-49b2-bc38-ef3f1ff0e5e6",
   "metadata": {},
   "outputs": [
    {
     "data": {
      "text/plain": [
       "False"
      ]
     },
     "execution_count": 18,
     "metadata": {},
     "output_type": "execute_result"
    }
   ],
   "source": [
    "not 1"
   ]
  },
  {
   "cell_type": "code",
   "execution_count": 19,
   "id": "80dd27c3-e777-4131-8c42-bdf703b92e02",
   "metadata": {},
   "outputs": [
    {
     "data": {
      "text/plain": [
       "True"
      ]
     },
     "execution_count": 19,
     "metadata": {},
     "output_type": "execute_result"
    }
   ],
   "source": [
    "not 0"
   ]
  },
  {
   "cell_type": "code",
   "execution_count": 22,
   "id": "9cfd5566-bde1-4fc0-ae4f-8a9ca5356fa0",
   "metadata": {},
   "outputs": [
    {
     "data": {
      "text/plain": [
       "1"
      ]
     },
     "execution_count": 22,
     "metadata": {},
     "output_type": "execute_result"
    }
   ],
   "source": [
    "int (not 0)"
   ]
  },
  {
   "cell_type": "code",
   "execution_count": 25,
   "id": "2d375f5e-acca-4284-8743-a7dc46f996e6",
   "metadata": {},
   "outputs": [
    {
     "data": {
      "text/plain": [
       "False"
      ]
     },
     "execution_count": 25,
     "metadata": {},
     "output_type": "execute_result"
    }
   ],
   "source": [
    "not 2"
   ]
  },
  {
   "cell_type": "code",
   "execution_count": 26,
   "id": "7adec2a0-426b-474b-b7f3-76a03761f92f",
   "metadata": {},
   "outputs": [
    {
     "data": {
      "text/plain": [
       "False"
      ]
     },
     "execution_count": 26,
     "metadata": {},
     "output_type": "execute_result"
    }
   ],
   "source": [
    "not 100"
   ]
  },
  {
   "cell_type": "code",
   "execution_count": 27,
   "id": "66224b96-bfdb-498d-b773-b1bdef200875",
   "metadata": {},
   "outputs": [
    {
     "data": {
      "text/plain": [
       "False"
      ]
     },
     "execution_count": 27,
     "metadata": {},
     "output_type": "execute_result"
    }
   ],
   "source": [
    "not -5"
   ]
  },
  {
   "cell_type": "markdown",
   "id": "bf315d31-9963-47dd-b750-e85540f273c0",
   "metadata": {},
   "source": [
    "## Logical And "
   ]
  },
  {
   "cell_type": "code",
   "execution_count": 28,
   "id": "68a8a95a-db81-4cbe-af19-2a01cc3877a7",
   "metadata": {},
   "outputs": [
    {
     "data": {
      "text/plain": [
       "0"
      ]
     },
     "execution_count": 28,
     "metadata": {},
     "output_type": "execute_result"
    }
   ],
   "source": [
    "True * False "
   ]
  },
  {
   "cell_type": "code",
   "execution_count": 29,
   "id": "88049757-d633-44da-b576-383f60e4cad3",
   "metadata": {},
   "outputs": [
    {
     "data": {
      "text/plain": [
       "1"
      ]
     },
     "execution_count": 29,
     "metadata": {},
     "output_type": "execute_result"
    }
   ],
   "source": [
    "True * True"
   ]
  },
  {
   "cell_type": "code",
   "execution_count": 30,
   "id": "56e0eec8-145a-4ab5-b6bf-a32c48eb93ef",
   "metadata": {},
   "outputs": [
    {
     "data": {
      "text/plain": [
       "True"
      ]
     },
     "execution_count": 30,
     "metadata": {},
     "output_type": "execute_result"
    }
   ],
   "source": [
    "not False * True"
   ]
  },
  {
   "cell_type": "code",
   "execution_count": 31,
   "id": "734a1460-3149-4c81-8df3-9c32f9679deb",
   "metadata": {},
   "outputs": [
    {
     "data": {
      "text/plain": [
       "1"
      ]
     },
     "execution_count": 31,
     "metadata": {},
     "output_type": "execute_result"
    }
   ],
   "source": [
    "int (not False) * True"
   ]
  },
  {
   "cell_type": "code",
   "execution_count": 32,
   "id": "15bc1277-0c04-467b-8471-4cce73a04f6f",
   "metadata": {},
   "outputs": [
    {
     "data": {
      "text/plain": [
       "0"
      ]
     },
     "execution_count": 32,
     "metadata": {},
     "output_type": "execute_result"
    }
   ],
   "source": [
    "False * False"
   ]
  },
  {
   "cell_type": "code",
   "execution_count": 33,
   "id": "e91593fa-44ea-4dbd-8127-c5000a91f8b1",
   "metadata": {},
   "outputs": [
    {
     "data": {
      "text/plain": [
       "True"
      ]
     },
     "execution_count": 33,
     "metadata": {},
     "output_type": "execute_result"
    }
   ],
   "source": [
    "not True * False"
   ]
  },
  {
   "cell_type": "code",
   "execution_count": 34,
   "id": "ea63d32d-dde0-427c-9446-4ac0351bd975",
   "metadata": {},
   "outputs": [
    {
     "data": {
      "text/plain": [
       "0"
      ]
     },
     "execution_count": 34,
     "metadata": {},
     "output_type": "execute_result"
    }
   ],
   "source": [
    "(not True) * False"
   ]
  },
  {
   "cell_type": "code",
   "execution_count": 36,
   "id": "38cb72a3-1c6a-44c2-a651-c4211a5ed190",
   "metadata": {},
   "outputs": [
    {
     "data": {
      "text/plain": [
       "0"
      ]
     },
     "execution_count": 36,
     "metadata": {},
     "output_type": "execute_result"
    }
   ],
   "source": [
    "(not(True)) * False"
   ]
  },
  {
   "cell_type": "code",
   "execution_count": 38,
   "id": "132c0d03-d7f5-4778-813a-a80a0bdd6f98",
   "metadata": {},
   "outputs": [
    {
     "data": {
      "text/plain": [
       "True"
      ]
     },
     "execution_count": 38,
     "metadata": {},
     "output_type": "execute_result"
    }
   ],
   "source": [
    "not ( False * True )"
   ]
  },
  {
   "cell_type": "code",
   "execution_count": 50,
   "id": "68a176e7-deda-40c5-8433-5431c593f955",
   "metadata": {},
   "outputs": [],
   "source": [
    "# check the memory address is equal or not \n",
    "lst_a=[1,2,3,4]\n",
    "lst_b=[1,2,3,4]"
   ]
  },
  {
   "cell_type": "code",
   "execution_count": 43,
   "id": "d2309432-b773-4a17-967e-d7e0a46b240c",
   "metadata": {},
   "outputs": [
    {
     "data": {
      "text/plain": [
       "140474355378304"
      ]
     },
     "execution_count": 43,
     "metadata": {},
     "output_type": "execute_result"
    }
   ],
   "source": [
    "id(lst_a)"
   ]
  },
  {
   "cell_type": "code",
   "execution_count": 44,
   "id": "4956b28d-d6a9-44d1-998c-1efb65208d02",
   "metadata": {},
   "outputs": [
    {
     "data": {
      "text/plain": [
       "140474355451456"
      ]
     },
     "execution_count": 44,
     "metadata": {},
     "output_type": "execute_result"
    }
   ],
   "source": [
    "id(lst_b)"
   ]
  },
  {
   "cell_type": "code",
   "execution_count": 45,
   "id": "15b1f58e-32df-4bbd-b496-da749b7f4a6f",
   "metadata": {},
   "outputs": [
    {
     "data": {
      "text/plain": [
       "False"
      ]
     },
     "execution_count": 45,
     "metadata": {},
     "output_type": "execute_result"
    }
   ],
   "source": [
    "lst_a is lst_b"
   ]
  },
  {
   "cell_type": "code",
   "execution_count": 46,
   "id": "5de781bc-925a-4c3e-b957-faf5ef82dce7",
   "metadata": {},
   "outputs": [],
   "source": [
    "lst_a=[1,2,3]\n",
    "lst_b=lst_a"
   ]
  },
  {
   "cell_type": "code",
   "execution_count": 58,
   "id": "bf2c32ed-8431-4fcf-bfa8-2192ca5c81c2",
   "metadata": {},
   "outputs": [
    {
     "name": "stdout",
     "output_type": "stream",
     "text": [
      "140474355615296\n",
      "140474355378304\n"
     ]
    }
   ],
   "source": [
    "print(id(lst_a))\n",
    "print(id(lst_b))\n",
    "# elements are more than 1 thats why id is different"
   ]
  },
  {
   "cell_type": "code",
   "execution_count": 48,
   "id": "a7ffbdf7-43d6-4f42-90e1-9464f540fa4e",
   "metadata": {},
   "outputs": [
    {
     "data": {
      "text/plain": [
       "True"
      ]
     },
     "execution_count": 48,
     "metadata": {},
     "output_type": "execute_result"
    }
   ],
   "source": [
    "lst_a is lst_b"
   ]
  },
  {
   "cell_type": "code",
   "execution_count": 49,
   "id": "5686e3ea-55e9-404a-a6ba-b8d78f42ea94",
   "metadata": {},
   "outputs": [
    {
     "data": {
      "text/plain": [
       "True"
      ]
     },
     "execution_count": 49,
     "metadata": {},
     "output_type": "execute_result"
    }
   ],
   "source": [
    "lst_a=[1,2,3,4]\n",
    "lst_b=[1,2,3,4]\n",
    "\n",
    "lst_a is not lst_b"
   ]
  },
  {
   "cell_type": "code",
   "execution_count": 52,
   "id": "6985dc8d-4bc8-4b92-8ba7-3bb3d828f3ac",
   "metadata": {},
   "outputs": [
    {
     "data": {
      "text/plain": [
       "True"
      ]
     },
     "execution_count": 52,
     "metadata": {},
     "output_type": "execute_result"
    }
   ],
   "source": [
    "# to check the list is equal or not ( to chk elements contents present)\n",
    "lst_a == lst_b"
   ]
  },
  {
   "cell_type": "code",
   "execution_count": 53,
   "id": "90a3eed2-b60b-4965-b33f-4c0a8a3a6564",
   "metadata": {},
   "outputs": [],
   "source": [
    "a = 2\n",
    "b = 2"
   ]
  },
  {
   "cell_type": "code",
   "execution_count": 59,
   "id": "6b8ec6bd-ced7-4103-a8f0-2207fe8f5e1c",
   "metadata": {},
   "outputs": [
    {
     "name": "stdout",
     "output_type": "stream",
     "text": [
      "140474486735120\n",
      "140474486735120\n"
     ]
    }
   ],
   "source": [
    "print(id(a))\n",
    "print(id(b))\n",
    "# elements are 1 thats why id is same"
   ]
  },
  {
   "cell_type": "code",
   "execution_count": 56,
   "id": "00cd84cc-f3d8-4b9d-a717-1ea9e3ae1fa9",
   "metadata": {},
   "outputs": [
    {
     "name": "stdout",
     "output_type": "stream",
     "text": [
      "140474357315056\n",
      "140474357315056\n"
     ]
    }
   ],
   "source": [
    "str1=\"Rohan\"\n",
    "str2=\"Rohan\"\n",
    "\n",
    "print(id(str1))\n",
    "print(id(str2))"
   ]
  },
  {
   "cell_type": "code",
   "execution_count": 57,
   "id": "7d9a2a78-3d68-4ee5-9e15-9106b2610c4c",
   "metadata": {},
   "outputs": [
    {
     "name": "stdout",
     "output_type": "stream",
     "text": [
      "140474357315056\n",
      "140474357309936\n"
     ]
    }
   ],
   "source": [
    "str1=\"Rohan\"\n",
    "str2=\"Rohan1\"\n",
    "\n",
    "print(id(str1))\n",
    "print(id(str2))"
   ]
  },
  {
   "cell_type": "code",
   "execution_count": 60,
   "id": "206fc1d1-7b67-483e-95d2-911b0b06ba0a",
   "metadata": {},
   "outputs": [
    {
     "data": {
      "text/plain": [
       "[1, 2, 3, 4]"
      ]
     },
     "execution_count": 60,
     "metadata": {},
     "output_type": "execute_result"
    }
   ],
   "source": [
    "lst_a"
   ]
  },
  {
   "cell_type": "code",
   "execution_count": 62,
   "id": "dcfdacd2-51ad-4e4f-b784-fb6b9b67fe36",
   "metadata": {},
   "outputs": [
    {
     "data": {
      "text/plain": [
       "1"
      ]
     },
     "execution_count": 62,
     "metadata": {},
     "output_type": "execute_result"
    }
   ],
   "source": [
    "lst_a[0]"
   ]
  },
  {
   "cell_type": "code",
   "execution_count": 64,
   "id": "3313889c-a67d-4350-a8a9-5f110547cf75",
   "metadata": {},
   "outputs": [],
   "source": [
    "lst_a[0]=10"
   ]
  },
  {
   "cell_type": "code",
   "execution_count": 65,
   "id": "f7ac4472-a8db-4f96-bcc5-73b1617fc9b7",
   "metadata": {},
   "outputs": [
    {
     "data": {
      "text/plain": [
       "[10, 2, 3, 4]"
      ]
     },
     "execution_count": 65,
     "metadata": {},
     "output_type": "execute_result"
    }
   ],
   "source": [
    "lst_a"
   ]
  },
  {
   "cell_type": "code",
   "execution_count": 66,
   "id": "40ea9691-72d4-4d25-bc34-1045ea260c48",
   "metadata": {},
   "outputs": [
    {
     "data": {
      "text/plain": [
       "'Rohan'"
      ]
     },
     "execution_count": 66,
     "metadata": {},
     "output_type": "execute_result"
    }
   ],
   "source": [
    "str1"
   ]
  },
  {
   "cell_type": "code",
   "execution_count": 67,
   "id": "1ad96b97-71c8-4cbc-b515-00cf3d707b95",
   "metadata": {},
   "outputs": [
    {
     "data": {
      "text/plain": [
       "'R'"
      ]
     },
     "execution_count": 67,
     "metadata": {},
     "output_type": "execute_result"
    }
   ],
   "source": [
    "str1[0]"
   ]
  },
  {
   "cell_type": "code",
   "execution_count": 70,
   "id": "4687e70d-15a0-4440-b470-72c52f4f34de",
   "metadata": {},
   "outputs": [
    {
     "ename": "NameError",
     "evalue": "name 'S' is not defined",
     "output_type": "error",
     "traceback": [
      "\u001b[0;31m---------------------------------------------------------------------------\u001b[0m",
      "\u001b[0;31mNameError\u001b[0m                                 Traceback (most recent call last)",
      "Cell \u001b[0;32mIn[70], line 1\u001b[0m\n\u001b[0;32m----> 1\u001b[0m str1[\u001b[38;5;241m0\u001b[39m]\u001b[38;5;241m=\u001b[39m\u001b[43mS\u001b[49m  \u001b[38;5;66;03m## string is calles as immutable, you cannaot change the element in string\u001b[39;00m\n",
      "\u001b[0;31mNameError\u001b[0m: name 'S' is not defined"
     ]
    }
   ],
   "source": [
    "str1[0]=S  ## string is calles as immutable, you cannaot change the element in string"
   ]
  },
  {
   "cell_type": "markdown",
   "id": "86426e28-5b09-480b-b085-b4fae8ceeeab",
   "metadata": {},
   "source": [
    "## compairision operation"
   ]
  },
  {
   "cell_type": "code",
   "execution_count": 75,
   "id": "fe2ddba6-020b-4d39-b463-552873d6623b",
   "metadata": {},
   "outputs": [
    {
     "name": "stdout",
     "output_type": "stream",
     "text": [
      "bike is faster than car: False\n"
     ]
    }
   ],
   "source": [
    "maximum_speed_of_bike=150\n",
    "max_speed_of_car=200\n",
    "\n",
    "print(f\"bike is faster than car: { maximum_speed_of_bike > max_speed_of_car }\")"
   ]
  },
  {
   "cell_type": "code",
   "execution_count": 76,
   "id": "05fd40e7-a42c-47c1-a60f-8b9c4b5cad9c",
   "metadata": {},
   "outputs": [
    {
     "name": "stdout",
     "output_type": "stream",
     "text": [
      "bike is faster than car: True\n"
     ]
    }
   ],
   "source": [
    "maximum_speed_of_bike=150\n",
    "max_speed_of_car=200\n",
    "\n",
    "print(f\"bike is faster than car: { maximum_speed_of_bike < max_speed_of_car }\")"
   ]
  },
  {
   "cell_type": "code",
   "execution_count": 77,
   "id": "a17eab71-69d1-4820-b3db-74d0e27921d6",
   "metadata": {},
   "outputs": [
    {
     "name": "stdout",
     "output_type": "stream",
     "text": [
      "bike is faster than car: False\n"
     ]
    }
   ],
   "source": [
    "maximum_speed_of_bike=200\n",
    "max_speed_of_car=200\n",
    "\n",
    "print(f\"bike is faster than car: { maximum_speed_of_bike > max_speed_of_car }\")"
   ]
  },
  {
   "cell_type": "code",
   "execution_count": 78,
   "id": "5ae4bec3-b66c-409b-a71d-4c599174640d",
   "metadata": {},
   "outputs": [
    {
     "name": "stdout",
     "output_type": "stream",
     "text": [
      "bike is faster than car: True\n"
     ]
    }
   ],
   "source": [
    "maximum_speed_of_bike=150\n",
    "max_speed_of_car=200\n",
    "\n",
    "print(f\"bike is faster than car: { maximum_speed_of_bike < max_speed_of_car }\")"
   ]
  },
  {
   "cell_type": "code",
   "execution_count": 79,
   "id": "b74e5f6a-10a3-4c11-aa20-d3339e0fff79",
   "metadata": {},
   "outputs": [
    {
     "name": "stdout",
     "output_type": "stream",
     "text": [
      "bike is faster than car: False\n"
     ]
    }
   ],
   "source": [
    "maximum_speed_of_bike=150\n",
    "max_speed_of_car=200\n",
    "\n",
    "print(f\"bike is faster than car: { maximum_speed_of_bike >= max_speed_of_car }\")"
   ]
  },
  {
   "cell_type": "code",
   "execution_count": 80,
   "id": "ca64f2f5-417c-4779-b666-a60e77508aee",
   "metadata": {},
   "outputs": [
    {
     "name": "stdout",
     "output_type": "stream",
     "text": [
      "bike is faster than car: True\n"
     ]
    }
   ],
   "source": [
    "maximum_speed_of_bike=150\n",
    "max_speed_of_car=200\n",
    "\n",
    "print(f\"bike is faster than car: { maximum_speed_of_bike <= max_speed_of_car }\")"
   ]
  },
  {
   "cell_type": "markdown",
   "id": "74df077c-95c4-4134-b33a-75effa20e178",
   "metadata": {},
   "source": [
    "## Airthmatic operation"
   ]
  },
  {
   "cell_type": "code",
   "execution_count": 81,
   "id": "e5bdaebd-e06f-4a19-9ae2-4130256a98c6",
   "metadata": {},
   "outputs": [],
   "source": [
    "a=25\n",
    "b=101"
   ]
  },
  {
   "cell_type": "code",
   "execution_count": 82,
   "id": "26f30f26-b6b3-4d4b-a703-2d589fee15a4",
   "metadata": {},
   "outputs": [
    {
     "data": {
      "text/plain": [
       "2525"
      ]
     },
     "execution_count": 82,
     "metadata": {},
     "output_type": "execute_result"
    }
   ],
   "source": [
    "b*a"
   ]
  },
  {
   "cell_type": "code",
   "execution_count": 83,
   "id": "1d5f0484-f947-4e90-b1ab-6f6fd3662b89",
   "metadata": {},
   "outputs": [
    {
     "data": {
      "text/plain": [
       "126"
      ]
     },
     "execution_count": 83,
     "metadata": {},
     "output_type": "execute_result"
    }
   ],
   "source": [
    "a+b"
   ]
  },
  {
   "cell_type": "code",
   "execution_count": 84,
   "id": "f052f415-d16e-4426-8e26-7deb0a054abd",
   "metadata": {},
   "outputs": [
    {
     "data": {
      "text/plain": [
       "4.04"
      ]
     },
     "execution_count": 84,
     "metadata": {},
     "output_type": "execute_result"
    }
   ],
   "source": [
    "b/a"
   ]
  },
  {
   "cell_type": "code",
   "execution_count": 87,
   "id": "97d2831d-19ef-4405-a91a-20c57e748676",
   "metadata": {},
   "outputs": [
    {
     "data": {
      "text/plain": [
       "0"
      ]
     },
     "execution_count": 87,
     "metadata": {},
     "output_type": "execute_result"
    }
   ],
   "source": [
    "## (// gives you only no not decimal no)\n",
    "a//b"
   ]
  },
  {
   "cell_type": "code",
   "execution_count": 86,
   "id": "ca67ec24-e9ff-447d-92ae-c3db75fd5bd9",
   "metadata": {},
   "outputs": [
    {
     "data": {
      "text/plain": [
       "4"
      ]
     },
     "execution_count": 86,
     "metadata": {},
     "output_type": "execute_result"
    }
   ],
   "source": [
    "b//a"
   ]
  },
  {
   "cell_type": "code",
   "execution_count": 88,
   "id": "ab6b0ca0-2107-46d4-89e9-a6555ec8e98d",
   "metadata": {},
   "outputs": [
    {
     "data": {
      "text/plain": [
       "1"
      ]
     },
     "execution_count": 88,
     "metadata": {},
     "output_type": "execute_result"
    }
   ],
   "source": [
    "b%a"
   ]
  },
  {
   "cell_type": "code",
   "execution_count": 90,
   "id": "c9b0e177-7949-4de2-8f9e-deed0052e381",
   "metadata": {},
   "outputs": [
    {
     "data": {
      "text/plain": [
       "25"
      ]
     },
     "execution_count": 90,
     "metadata": {},
     "output_type": "execute_result"
    }
   ],
   "source": [
    "# display the remainder\n",
    "a%b"
   ]
  },
  {
   "cell_type": "markdown",
   "id": "17fed9ef-db5f-4985-bceb-9d8da7d33872",
   "metadata": {},
   "source": [
    "## Bitwise operators\n",
    "\n",
    "1.bitwisw And (&)\n",
    "2.bitwise Or (|)\n",
    "3.bitwise Exclusive - Or ( ^ )\n",
    "4.Shift left <<\n",
    "5.shift right >>\n",
    "6.Not Negation (~)"
   ]
  },
  {
   "cell_type": "code",
   "execution_count": 2,
   "id": "0615af82-57b4-4a5e-b902-97e8ce34c686",
   "metadata": {},
   "outputs": [
    {
     "data": {
      "text/plain": [
       "'0b1010'"
      ]
     },
     "execution_count": 2,
     "metadata": {},
     "output_type": "execute_result"
    }
   ],
   "source": [
    "var=10\n",
    "bin(var)"
   ]
  },
  {
   "cell_type": "code",
   "execution_count": 3,
   "id": "8ae05d13-c882-40b3-844c-78079c35a3d5",
   "metadata": {},
   "outputs": [
    {
     "data": {
      "text/plain": [
       "-11"
      ]
     },
     "execution_count": 3,
     "metadata": {},
     "output_type": "execute_result"
    }
   ],
   "source": [
    "~var"
   ]
  },
  {
   "cell_type": "markdown",
   "id": "73188101-83d3-4d7b-83f8-d53d39231815",
   "metadata": {},
   "source": [
    "## strings "
   ]
  },
  {
   "cell_type": "code",
   "execution_count": null,
   "id": "5a6a4eb7-2e5d-4135-9154-44639db2d102",
   "metadata": {},
   "outputs": [],
   "source": [
    "# how do you define string \n",
    "# Single quote/ double quote\n",
    "# \"Rohan\"\n",
    "# 'Rohan'"
   ]
  },
  {
   "cell_type": "code",
   "execution_count": 4,
   "id": "d27b4c26-2604-404c-ae93-2418dfd8b6c2",
   "metadata": {},
   "outputs": [],
   "source": [
    "str1=\"Welcome to data science\""
   ]
  },
  {
   "cell_type": "code",
   "execution_count": 3,
   "id": "c4f4cf5d-ccbf-4f21-a3f8-25dccf2c7832",
   "metadata": {},
   "outputs": [
    {
     "data": {
      "text/plain": [
       "str"
      ]
     },
     "execution_count": 3,
     "metadata": {},
     "output_type": "execute_result"
    }
   ],
   "source": [
    "type(str1)"
   ]
  },
  {
   "cell_type": "code",
   "execution_count": 5,
   "id": "2d8d4130-2c8e-485f-b784-2b53c9e843c2",
   "metadata": {},
   "outputs": [
    {
     "data": {
      "text/plain": [
       "'W'"
      ]
     },
     "execution_count": 5,
     "metadata": {},
     "output_type": "execute_result"
    }
   ],
   "source": [
    "str1[0]"
   ]
  },
  {
   "cell_type": "code",
   "execution_count": 8,
   "id": "9a60b6c3-0bcc-4b3c-a440-c2251b4092bb",
   "metadata": {},
   "outputs": [
    {
     "ename": "NameError",
     "evalue": "name 's' is not defined",
     "output_type": "error",
     "traceback": [
      "\u001b[0;31m---------------------------------------------------------------------------\u001b[0m",
      "\u001b[0;31mNameError\u001b[0m                                 Traceback (most recent call last)",
      "Cell \u001b[0;32mIn[8], line 2\u001b[0m\n\u001b[1;32m      1\u001b[0m \u001b[38;5;66;03m# string is immutable thats why its an error \u001b[39;00m\n\u001b[0;32m----> 2\u001b[0m \u001b[38;5;28mstr\u001b[39m[\u001b[38;5;241m0\u001b[39m]\u001b[38;5;241m=\u001b[39m\u001b[43ms\u001b[49m\n",
      "\u001b[0;31mNameError\u001b[0m: name 's' is not defined"
     ]
    }
   ],
   "source": [
    "# string is immutable thats why its an error \n",
    "str[0]=s"
   ]
  },
  {
   "cell_type": "code",
   "execution_count": 12,
   "id": "73b7ba3c-0025-460c-8d6d-c1fb1cb515ea",
   "metadata": {},
   "outputs": [],
   "source": [
    "# can i replace entire thing with sth else ans is Yes "
   ]
  },
  {
   "cell_type": "code",
   "execution_count": 10,
   "id": "98d90d28-9d77-4146-8384-3a0e22f40e75",
   "metadata": {},
   "outputs": [],
   "source": [
    "str1=\"Rohan Mate\""
   ]
  },
  {
   "cell_type": "code",
   "execution_count": 11,
   "id": "03c84c9f-0a80-46a3-9a78-419a3ef238a5",
   "metadata": {},
   "outputs": [
    {
     "data": {
      "text/plain": [
       "'Rohan Mate'"
      ]
     },
     "execution_count": 11,
     "metadata": {},
     "output_type": "execute_result"
    }
   ],
   "source": [
    "str1"
   ]
  },
  {
   "cell_type": "code",
   "execution_count": 13,
   "id": "e2435e78-9744-4248-b24b-6846d4a9b0bf",
   "metadata": {},
   "outputs": [],
   "source": [
    "string=\"pw skills data science\""
   ]
  },
  {
   "cell_type": "code",
   "execution_count": 84,
   "id": "e8e67b67-9a28-46da-947e-797131b08bab",
   "metadata": {},
   "outputs": [
    {
     "data": {
      "text/plain": [
       "'p'"
      ]
     },
     "execution_count": 84,
     "metadata": {},
     "output_type": "execute_result"
    }
   ],
   "source": [
    "string[0]"
   ]
  },
  {
   "cell_type": "code",
   "execution_count": 85,
   "id": "9e8bbff5-18db-4089-8e71-5ee3f0884487",
   "metadata": {},
   "outputs": [
    {
     "data": {
      "text/plain": [
       "'e'"
      ]
     },
     "execution_count": 85,
     "metadata": {},
     "output_type": "execute_result"
    }
   ],
   "source": [
    "string[-1]"
   ]
  },
  {
   "cell_type": "code",
   "execution_count": 14,
   "id": "94dae0f7-b613-4954-82b6-cef86a0e83c1",
   "metadata": {},
   "outputs": [
    {
     "data": {
      "text/plain": [
       "'i'"
      ]
     },
     "execution_count": 14,
     "metadata": {},
     "output_type": "execute_result"
    }
   ],
   "source": [
    "string[5]"
   ]
  },
  {
   "cell_type": "code",
   "execution_count": 17,
   "id": "75a5e670-37a6-4b2f-9231-067ff43abcd3",
   "metadata": {},
   "outputs": [
    {
     "data": {
      "text/plain": [
       "'ills data science'"
      ]
     },
     "execution_count": 17,
     "metadata": {},
     "output_type": "execute_result"
    }
   ],
   "source": [
    "# this operation is called as slice operation \n",
    "string[5:]"
   ]
  },
  {
   "cell_type": "code",
   "execution_count": 18,
   "id": "60dae380-4fda-49c1-a110-853f1be2c23c",
   "metadata": {},
   "outputs": [
    {
     "data": {
      "text/plain": [
       "'e'"
      ]
     },
     "execution_count": 18,
     "metadata": {},
     "output_type": "execute_result"
    }
   ],
   "source": [
    "string[-1]"
   ]
  },
  {
   "cell_type": "code",
   "execution_count": 20,
   "id": "788de932-c3b5-487f-b527-d49973ac722a",
   "metadata": {},
   "outputs": [
    {
     "data": {
      "text/plain": [
       "'e'"
      ]
     },
     "execution_count": 20,
     "metadata": {},
     "output_type": "execute_result"
    }
   ],
   "source": [
    "string[-1:]"
   ]
  },
  {
   "cell_type": "code",
   "execution_count": 21,
   "id": "b1d7b2ac-4ff4-4f2f-9edb-a1b2e2100392",
   "metadata": {},
   "outputs": [
    {
     "data": {
      "text/plain": [
       "'science'"
      ]
     },
     "execution_count": 21,
     "metadata": {},
     "output_type": "execute_result"
    }
   ],
   "source": [
    "string[-7:]"
   ]
  },
  {
   "cell_type": "code",
   "execution_count": 22,
   "id": "f83b6f62-ae89-4951-ae75-42585666ab7f",
   "metadata": {},
   "outputs": [
    {
     "data": {
      "text/plain": [
       "'pw skills data scienc'"
      ]
     },
     "execution_count": 22,
     "metadata": {},
     "output_type": "execute_result"
    }
   ],
   "source": [
    "string[:-1]"
   ]
  },
  {
   "cell_type": "code",
   "execution_count": 23,
   "id": "85e8d880-2139-406f-bc60-d5b8433e4dde",
   "metadata": {},
   "outputs": [
    {
     "data": {
      "text/plain": [
       "'pw skills data '"
      ]
     },
     "execution_count": 23,
     "metadata": {},
     "output_type": "execute_result"
    }
   ],
   "source": [
    "string[:-7]"
   ]
  },
  {
   "cell_type": "code",
   "execution_count": 25,
   "id": "f398a7f7-1d10-4b8a-8d13-d201afad2ca5",
   "metadata": {},
   "outputs": [
    {
     "data": {
      "text/plain": [
       "'pw skills data science'"
      ]
     },
     "execution_count": 25,
     "metadata": {},
     "output_type": "execute_result"
    }
   ],
   "source": [
    "string[:]"
   ]
  },
  {
   "cell_type": "code",
   "execution_count": 28,
   "id": "d370bfed-6a44-4c28-bef9-7677dd924111",
   "metadata": {},
   "outputs": [
    {
     "data": {
      "text/plain": [
       "'pw skills data science'"
      ]
     },
     "execution_count": 28,
     "metadata": {},
     "output_type": "execute_result"
    }
   ],
   "source": [
    "string[::]"
   ]
  },
  {
   "cell_type": "code",
   "execution_count": 29,
   "id": "11f4243c-2b99-4af3-9ec2-a1a9d8f21df4",
   "metadata": {},
   "outputs": [
    {
     "data": {
      "text/plain": [
       "'ecneics atad slliks wp'"
      ]
     },
     "execution_count": 29,
     "metadata": {},
     "output_type": "execute_result"
    }
   ],
   "source": [
    "string[:: -1]"
   ]
  },
  {
   "cell_type": "code",
   "execution_count": 30,
   "id": "366a6673-a2ce-4414-a130-6df921473524",
   "metadata": {},
   "outputs": [
    {
     "data": {
      "text/plain": [
       "'enisaa lisw'"
      ]
     },
     "execution_count": 30,
     "metadata": {},
     "output_type": "execute_result"
    }
   ],
   "source": [
    "string[:: -2]"
   ]
  },
  {
   "cell_type": "code",
   "execution_count": 33,
   "id": "f1ef23d1-568a-44fc-a5d6-172168e5732b",
   "metadata": {},
   "outputs": [],
   "source": [
    "name=\"Rohan\""
   ]
  },
  {
   "cell_type": "code",
   "execution_count": 36,
   "id": "606131e8-1ebe-4f42-b11c-b4db588ea68c",
   "metadata": {},
   "outputs": [
    {
     "data": {
      "text/plain": [
       "'Rhn'"
      ]
     },
     "execution_count": 36,
     "metadata": {},
     "output_type": "execute_result"
    }
   ],
   "source": [
    "name[:: 2]"
   ]
  },
  {
   "cell_type": "code",
   "execution_count": 37,
   "id": "eecd147e-ff32-438b-8a2d-5e861bdc3e3c",
   "metadata": {},
   "outputs": [
    {
     "data": {
      "text/plain": [
       "'nahoR'"
      ]
     },
     "execution_count": 37,
     "metadata": {},
     "output_type": "execute_result"
    }
   ],
   "source": [
    "name[:: -1]"
   ]
  },
  {
   "cell_type": "code",
   "execution_count": 38,
   "id": "3042b4cb-5f4b-4375-9a2e-829300055edb",
   "metadata": {},
   "outputs": [
    {
     "data": {
      "text/plain": [
       "'nhR'"
      ]
     },
     "execution_count": 38,
     "metadata": {},
     "output_type": "execute_result"
    }
   ],
   "source": [
    "name[:: -2]"
   ]
  },
  {
   "cell_type": "code",
   "execution_count": 39,
   "id": "9369ae5b-f92c-4e5a-ba9b-dd9ef65205db",
   "metadata": {},
   "outputs": [
    {
     "data": {
      "text/plain": [
       "'hoR'"
      ]
     },
     "execution_count": 39,
     "metadata": {},
     "output_type": "execute_result"
    }
   ],
   "source": [
    "name[2::-1]"
   ]
  },
  {
   "cell_type": "code",
   "execution_count": 68,
   "id": "6cb4a733-b07d-4919-8b0d-80d8f38d1a69",
   "metadata": {},
   "outputs": [],
   "source": [
    "course_name=\"Data Science Masters\""
   ]
  },
  {
   "cell_type": "code",
   "execution_count": 42,
   "id": "49c94ca7-e13c-4662-a743-7b58f11b5835",
   "metadata": {},
   "outputs": [
    {
     "data": {
      "text/plain": [
       "'data Science Masters'"
      ]
     },
     "execution_count": 42,
     "metadata": {},
     "output_type": "execute_result"
    }
   ],
   "source": [
    "course_name[:]"
   ]
  },
  {
   "cell_type": "code",
   "execution_count": 43,
   "id": "d7285904-19d8-4558-8a14-003ffb9ff57b",
   "metadata": {},
   "outputs": [
    {
     "data": {
      "text/plain": [
       "'sretsaM ecneicS atad'"
      ]
     },
     "execution_count": 43,
     "metadata": {},
     "output_type": "execute_result"
    }
   ],
   "source": [
    "course_name[:: -1]"
   ]
  },
  {
   "cell_type": "code",
   "execution_count": 44,
   "id": "2a3b8dee-05da-4869-bb74-44def56000c5",
   "metadata": {},
   "outputs": [
    {
     "data": {
      "text/plain": [
       "'Science'"
      ]
     },
     "execution_count": 44,
     "metadata": {},
     "output_type": "execute_result"
    }
   ],
   "source": [
    "course_name[5:12]"
   ]
  },
  {
   "cell_type": "code",
   "execution_count": 45,
   "id": "c52b46ae-4317-46a8-a824-646f79d12265",
   "metadata": {},
   "outputs": [
    {
     "data": {
      "text/plain": [
       "'data Science Masters Course '"
      ]
     },
     "execution_count": 45,
     "metadata": {},
     "output_type": "execute_result"
    }
   ],
   "source": [
    "# concatenetion\n",
    "course_name + \" Course \""
   ]
  },
  {
   "cell_type": "code",
   "execution_count": 46,
   "id": "95b273aa-7921-4585-91d1-221368701b81",
   "metadata": {},
   "outputs": [
    {
     "data": {
      "text/plain": [
       "'data Science Mastersdata Science Mastersdata Science Mastersdata Science Mastersdata Science Masters'"
      ]
     },
     "execution_count": 46,
     "metadata": {},
     "output_type": "execute_result"
    }
   ],
   "source": [
    "course_name * 5"
   ]
  },
  {
   "cell_type": "code",
   "execution_count": 47,
   "id": "3c5fe2b4-6a90-4e27-adfd-4375653c3da2",
   "metadata": {},
   "outputs": [
    {
     "name": "stdout",
     "output_type": "stream",
     "text": [
      "Hello Worlds\n"
     ]
    }
   ],
   "source": [
    "print (\"Hello\" + \" Worlds\")"
   ]
  },
  {
   "cell_type": "code",
   "execution_count": 48,
   "id": "76b86e18-74c3-4bf0-b799-c7f679754120",
   "metadata": {},
   "outputs": [
    {
     "data": {
      "text/plain": [
       "20"
      ]
     },
     "execution_count": 48,
     "metadata": {},
     "output_type": "execute_result"
    }
   ],
   "source": [
    "len(course_name)"
   ]
  },
  {
   "cell_type": "code",
   "execution_count": 50,
   "id": "584db0a4-eb16-44a9-b14f-8f45933c1f0d",
   "metadata": {},
   "outputs": [
    {
     "data": {
      "text/plain": [
       "9"
      ]
     },
     "execution_count": 50,
     "metadata": {},
     "output_type": "execute_result"
    }
   ],
   "source": [
    "# Find function\n",
    "course_name.find(\"n\")"
   ]
  },
  {
   "cell_type": "code",
   "execution_count": 51,
   "id": "13f1833b-2d48-4e26-99b3-388c4daa625c",
   "metadata": {},
   "outputs": [
    {
     "data": {
      "text/plain": [
       "15"
      ]
     },
     "execution_count": 51,
     "metadata": {},
     "output_type": "execute_result"
    }
   ],
   "source": [
    "course_name.find(\"s\")"
   ]
  },
  {
   "cell_type": "code",
   "execution_count": 53,
   "id": "21cedcff-bd30-4663-a91d-7efd97066e43",
   "metadata": {},
   "outputs": [
    {
     "data": {
      "text/plain": [
       "-1"
      ]
     },
     "execution_count": 53,
     "metadata": {},
     "output_type": "execute_result"
    }
   ],
   "source": [
    "# z is not present \n",
    "course_name.find(\"z\")"
   ]
  },
  {
   "cell_type": "code",
   "execution_count": 54,
   "id": "37fec1ea-8060-4266-90db-f65a4aa13870",
   "metadata": {},
   "outputs": [
    {
     "data": {
      "text/plain": [
       "3"
      ]
     },
     "execution_count": 54,
     "metadata": {},
     "output_type": "execute_result"
    }
   ],
   "source": [
    "## count\n",
    "course_name.count(\"a\")"
   ]
  },
  {
   "cell_type": "code",
   "execution_count": 55,
   "id": "fcaca222-e96c-4327-9e6c-258dc82532f7",
   "metadata": {},
   "outputs": [
    {
     "data": {
      "text/plain": [
       "21"
      ]
     },
     "execution_count": 55,
     "metadata": {},
     "output_type": "execute_result"
    }
   ],
   "source": [
    "course_name.count(\"\")"
   ]
  },
  {
   "cell_type": "code",
   "execution_count": 57,
   "id": "31782183-685b-4b76-8e50-834e186d7083",
   "metadata": {},
   "outputs": [
    {
     "data": {
      "text/plain": [
       "2"
      ]
     },
     "execution_count": 57,
     "metadata": {},
     "output_type": "execute_result"
    }
   ],
   "source": [
    "# count the spaces \n",
    "course_name.count(\" \")"
   ]
  },
  {
   "cell_type": "code",
   "execution_count": 58,
   "id": "96bb72b0-c8e9-42dc-8948-e184060bd2a6",
   "metadata": {},
   "outputs": [],
   "source": [
    "# string split function\n"
   ]
  },
  {
   "cell_type": "code",
   "execution_count": 59,
   "id": "07a5c3a4-366f-40ec-9d69-05a8b1890af9",
   "metadata": {},
   "outputs": [
    {
     "data": {
      "text/plain": [
       "['data', 'Science', 'Masters']"
      ]
     },
     "execution_count": 59,
     "metadata": {},
     "output_type": "execute_result"
    }
   ],
   "source": [
    "course_name.split(' ')"
   ]
  },
  {
   "cell_type": "code",
   "execution_count": 64,
   "id": "df5201c2-2e01-4ec7-b5b6-59563d10b716",
   "metadata": {},
   "outputs": [
    {
     "data": {
      "text/plain": [
       "['data ', 'cience Ma', 'ter', '']"
      ]
     },
     "execution_count": 64,
     "metadata": {},
     "output_type": "execute_result"
    }
   ],
   "source": [
    "course_name.split('s')"
   ]
  },
  {
   "cell_type": "code",
   "execution_count": 63,
   "id": "7d95d16f-1a91-4259-8803-5cb4f03b4d76",
   "metadata": {},
   "outputs": [
    {
     "data": {
      "text/plain": [
       "('data ', 's', 'cience Masters')"
      ]
     },
     "execution_count": 63,
     "metadata": {},
     "output_type": "execute_result"
    }
   ],
   "source": [
    "course_name.partition('s')"
   ]
  },
  {
   "cell_type": "code",
   "execution_count": null,
   "id": "217f4947-a015-47bf-b3f2-202c05f8e80e",
   "metadata": {},
   "outputs": [],
   "source": [
    "## string upper & lower case"
   ]
  },
  {
   "cell_type": "code",
   "execution_count": 65,
   "id": "0cd806f1-494d-4dc9-9a59-9452aa586922",
   "metadata": {},
   "outputs": [
    {
     "data": {
      "text/plain": [
       "'DATA SCIENCE MASTERS'"
      ]
     },
     "execution_count": 65,
     "metadata": {},
     "output_type": "execute_result"
    }
   ],
   "source": [
    "course_name.upper()"
   ]
  },
  {
   "cell_type": "code",
   "execution_count": 66,
   "id": "ebb5c5b4-f824-4cad-9f11-9b04eff7def4",
   "metadata": {},
   "outputs": [
    {
     "data": {
      "text/plain": [
       "'data science masters'"
      ]
     },
     "execution_count": 66,
     "metadata": {},
     "output_type": "execute_result"
    }
   ],
   "source": [
    "course_name.lower()"
   ]
  },
  {
   "cell_type": "code",
   "execution_count": 69,
   "id": "8bd7c3ea-1078-4458-993e-ab043f0243a4",
   "metadata": {},
   "outputs": [
    {
     "data": {
      "text/plain": [
       "'dATA sCIENCE mASTERS'"
      ]
     },
     "execution_count": 69,
     "metadata": {},
     "output_type": "execute_result"
    }
   ],
   "source": [
    "course_name.swapcase()"
   ]
  },
  {
   "cell_type": "code",
   "execution_count": 71,
   "id": "14ae2fd0-22ee-4966-b094-2d39d57a4700",
   "metadata": {},
   "outputs": [
    {
     "data": {
      "text/plain": [
       "'Data Science Masters'"
      ]
     },
     "execution_count": 71,
     "metadata": {},
     "output_type": "execute_result"
    }
   ],
   "source": [
    "course_name.title()"
   ]
  },
  {
   "cell_type": "code",
   "execution_count": 73,
   "id": "e3b4922b-4fb6-4db1-bb55-32b0cf0aaa34",
   "metadata": {},
   "outputs": [],
   "source": [
    "name=\"rohan mate\""
   ]
  },
  {
   "cell_type": "code",
   "execution_count": 75,
   "id": "e8065b87-5a3b-4d80-bd2d-30ce756af792",
   "metadata": {},
   "outputs": [
    {
     "data": {
      "text/plain": [
       "'Rohan Mate'"
      ]
     },
     "execution_count": 75,
     "metadata": {},
     "output_type": "execute_result"
    }
   ],
   "source": [
    "## proper case\n",
    "name.title()"
   ]
  },
  {
   "cell_type": "code",
   "execution_count": null,
   "id": "b44e14c9-7f94-4559-ab05-b496d196dc66",
   "metadata": {},
   "outputs": [],
   "source": []
  },
  {
   "cell_type": "code",
   "execution_count": null,
   "id": "67864180-79e6-4dc5-a464-8b002a122abb",
   "metadata": {},
   "outputs": [],
   "source": []
  },
  {
   "cell_type": "code",
   "execution_count": null,
   "id": "8e4dfeeb-743f-4e77-8999-7e26a72447dd",
   "metadata": {},
   "outputs": [],
   "source": []
  }
 ],
 "metadata": {
  "kernelspec": {
   "display_name": "Python 3 (ipykernel)",
   "language": "python",
   "name": "python3"
  },
  "language_info": {
   "codemirror_mode": {
    "name": "ipython",
    "version": 3
   },
   "file_extension": ".py",
   "mimetype": "text/x-python",
   "name": "python",
   "nbconvert_exporter": "python",
   "pygments_lexer": "ipython3",
   "version": "3.10.8"
  }
 },
 "nbformat": 4,
 "nbformat_minor": 5
}
