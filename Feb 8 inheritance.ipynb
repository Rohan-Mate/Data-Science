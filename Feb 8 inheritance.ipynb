{
 "cells": [
  {
   "cell_type": "markdown",
   "id": "625b6037-dba2-43e0-9a4c-1734ce3fc1b7",
   "metadata": {},
   "source": [
    "### inheritance"
   ]
  },
  {
   "cell_type": "code",
   "execution_count": 1,
   "id": "0cbb5185-79a5-4b1f-ba2b-77e286110746",
   "metadata": {},
   "outputs": [],
   "source": [
    "class Parent:\n",
    "    \n",
    "    def test_parent(self):\n",
    "        print(\"this is my parent class\")"
   ]
  },
  {
   "cell_type": "code",
   "execution_count": 5,
   "id": "6dffcbae-e078-4fbe-81a8-7fdd31f99204",
   "metadata": {},
   "outputs": [],
   "source": [
    "class Child(Parent):\n",
    "    pass"
   ]
  },
  {
   "cell_type": "code",
   "execution_count": 6,
   "id": "d7023a4f-d561-4632-9e7f-089a45086a1a",
   "metadata": {},
   "outputs": [],
   "source": [
    "obj=Child()"
   ]
  },
  {
   "cell_type": "code",
   "execution_count": 7,
   "id": "76497512-1196-40c6-bf24-062e9f997dd3",
   "metadata": {},
   "outputs": [
    {
     "name": "stdout",
     "output_type": "stream",
     "text": [
      "this is my parent class\n"
     ]
    }
   ],
   "source": [
    "obj.test_parent()"
   ]
  },
  {
   "cell_type": "code",
   "execution_count": 8,
   "id": "cd0756d7-b6a9-4f83-8cf0-c15ab2f63a1a",
   "metadata": {},
   "outputs": [],
   "source": [
    "class Class1:\n",
    "    \n",
    "    def test_class1(self):\n",
    "        print(\"this is my class 1\")"
   ]
  },
  {
   "cell_type": "code",
   "execution_count": 9,
   "id": "46201476-f43f-47d5-a0e8-3be6b00a88f9",
   "metadata": {},
   "outputs": [],
   "source": [
    "class Class2(Class1):\n",
    "    \n",
    "    def test_class2(self):\n",
    "        print(\"this is my class 2\")"
   ]
  },
  {
   "cell_type": "code",
   "execution_count": 10,
   "id": "e9a3268e-9b1d-4889-95d6-f383b73987c4",
   "metadata": {},
   "outputs": [],
   "source": [
    "class Class3(Class2):\n",
    "    \n",
    "    def test_class3(self):\n",
    "        print(\"this is my class 3\")"
   ]
  },
  {
   "cell_type": "code",
   "execution_count": 11,
   "id": "892dfa73-9551-493e-be02-3b8fef5ca816",
   "metadata": {},
   "outputs": [],
   "source": [
    "obj2=Class3()"
   ]
  },
  {
   "cell_type": "code",
   "execution_count": 13,
   "id": "68e2fa4e-3cf8-4495-898d-5c9033499cf9",
   "metadata": {},
   "outputs": [
    {
     "name": "stdout",
     "output_type": "stream",
     "text": [
      "this is my class 1\n"
     ]
    }
   ],
   "source": [
    "obj2.test_class1()"
   ]
  },
  {
   "cell_type": "code",
   "execution_count": 14,
   "id": "4e694eef-82a3-4dba-82f2-f1af5475c0d2",
   "metadata": {},
   "outputs": [
    {
     "name": "stdout",
     "output_type": "stream",
     "text": [
      "this is my class 2\n"
     ]
    }
   ],
   "source": [
    "obj2.test_class2()"
   ]
  },
  {
   "cell_type": "code",
   "execution_count": 15,
   "id": "46e0cc6a-59cd-4bc6-a5a1-30fbd3be672c",
   "metadata": {},
   "outputs": [
    {
     "name": "stdout",
     "output_type": "stream",
     "text": [
      "this is my class 3\n"
     ]
    }
   ],
   "source": [
    "obj2.test_class3()"
   ]
  },
  {
   "cell_type": "code",
   "execution_count": 16,
   "id": "6962ee91-d7cb-4248-ace8-04119f322a2b",
   "metadata": {},
   "outputs": [],
   "source": [
    "class Class1:\n",
    "    def test_class1(self):\n",
    "        print(\"this is my class 1 \")"
   ]
  },
  {
   "cell_type": "code",
   "execution_count": 17,
   "id": "4d03b408-ad4c-4946-8f90-53b3ac940dfb",
   "metadata": {},
   "outputs": [],
   "source": [
    "class Class2:\n",
    "    def test_class2(self):\n",
    "        print(\"this is my class 2\")"
   ]
  },
  {
   "cell_type": "code",
   "execution_count": 18,
   "id": "13fad3fa-408a-4c74-861d-5279d5f5396f",
   "metadata": {},
   "outputs": [],
   "source": [
    "class Class3(Class1,Class2):\n",
    "    pass"
   ]
  },
  {
   "cell_type": "code",
   "execution_count": 19,
   "id": "b7cbc524-6bf2-432d-835c-194c5565f913",
   "metadata": {},
   "outputs": [],
   "source": [
    "obj3=Class3()"
   ]
  },
  {
   "cell_type": "code",
   "execution_count": 20,
   "id": "561553a9-e935-47a3-b452-e0f063c6d6e6",
   "metadata": {},
   "outputs": [
    {
     "name": "stdout",
     "output_type": "stream",
     "text": [
      "this is my class 1 \n"
     ]
    }
   ],
   "source": [
    "obj3.test_class1()"
   ]
  },
  {
   "cell_type": "code",
   "execution_count": 21,
   "id": "f9ed8bb6-c8f4-4932-9106-602dfd0a76f7",
   "metadata": {},
   "outputs": [
    {
     "name": "stdout",
     "output_type": "stream",
     "text": [
      "this is my class 2\n"
     ]
    }
   ],
   "source": [
    "obj3.test_class2()"
   ]
  }
 ],
 "metadata": {
  "kernelspec": {
   "display_name": "Python 3 (ipykernel)",
   "language": "python",
   "name": "python3"
  },
  "language_info": {
   "codemirror_mode": {
    "name": "ipython",
    "version": 3
   },
   "file_extension": ".py",
   "mimetype": "text/x-python",
   "name": "python",
   "nbconvert_exporter": "python",
   "pygments_lexer": "ipython3",
   "version": "3.10.8"
  }
 },
 "nbformat": 4,
 "nbformat_minor": 5
}
