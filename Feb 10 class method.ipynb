{
 "cells": [
  {
   "cell_type": "markdown",
   "id": "a6810df5-3c98-4fd0-941a-a696c83e08c3",
   "metadata": {},
   "source": [
    "### Class Method"
   ]
  },
  {
   "cell_type": "code",
   "execution_count": 1,
   "id": "678de512-98c7-4f09-aa33-742a42214e13",
   "metadata": {},
   "outputs": [],
   "source": [
    "class Pwskills:\n",
    "    def __init__(self,name,email):\n",
    "        self.name=name\n",
    "        self.email=email\n",
    "        \n",
    "    def student_details(self):\n",
    "        print(self.name,self.email)\n",
    "    "
   ]
  },
  {
   "cell_type": "code",
   "execution_count": 2,
   "id": "441200ac-2f0e-4f7d-a9ff-c8975086e3a9",
   "metadata": {},
   "outputs": [],
   "source": [
    "pw=Pwskills(\"sudh\",\"sudh@gmail.com\")"
   ]
  },
  {
   "cell_type": "code",
   "execution_count": 3,
   "id": "d1cbd03f-bee8-4157-a0f4-ffa631850175",
   "metadata": {},
   "outputs": [
    {
     "data": {
      "text/plain": [
       "'sudh'"
      ]
     },
     "execution_count": 3,
     "metadata": {},
     "output_type": "execute_result"
    }
   ],
   "source": [
    "pw.name"
   ]
  },
  {
   "cell_type": "code",
   "execution_count": 4,
   "id": "05dd596c-ed4b-419d-a2f8-57a48e6525ed",
   "metadata": {},
   "outputs": [
    {
     "data": {
      "text/plain": [
       "'sudh@gmail.com'"
      ]
     },
     "execution_count": 4,
     "metadata": {},
     "output_type": "execute_result"
    }
   ],
   "source": [
    "pw.email"
   ]
  },
  {
   "cell_type": "code",
   "execution_count": 6,
   "id": "1862dc8f-022a-428c-bdef-5b71e71a30c4",
   "metadata": {},
   "outputs": [
    {
     "name": "stdout",
     "output_type": "stream",
     "text": [
      "sudh sudh@gmail.com\n"
     ]
    }
   ],
   "source": [
    "pw.student_details()"
   ]
  },
  {
   "cell_type": "code",
   "execution_count": 2,
   "id": "6a70e892-e26f-4e9f-8517-a3e5842441d8",
   "metadata": {},
   "outputs": [],
   "source": [
    "class Pwskills1:\n",
    "    def __init__(self,name,email):\n",
    "        self.name=name\n",
    "        self.email=email\n",
    "        \n",
    "    @classmethod\n",
    "    def details(cls,name,email):\n",
    "        return cls(name,email)\n",
    "        \n",
    "    def student_details(self):\n",
    "        print(self.name,self.email)\n",
    " \n",
    "        "
   ]
  },
  {
   "cell_type": "code",
   "execution_count": 7,
   "id": "0911c117-1eac-450f-8fab-db3a0ec2e2ab",
   "metadata": {},
   "outputs": [],
   "source": [
    "pw1=Pwskills1.details(\"mohan\",\"mohan@gmail.com\")"
   ]
  },
  {
   "cell_type": "code",
   "execution_count": 8,
   "id": "b887405e-ace5-4afa-9441-73c7206cadb8",
   "metadata": {},
   "outputs": [
    {
     "data": {
      "text/plain": [
       "'mohan'"
      ]
     },
     "execution_count": 8,
     "metadata": {},
     "output_type": "execute_result"
    }
   ],
   "source": [
    "pw1.name"
   ]
  },
  {
   "cell_type": "code",
   "execution_count": 9,
   "id": "4bdc3302-647d-4ab8-8edf-83b5a80569c6",
   "metadata": {},
   "outputs": [
    {
     "data": {
      "text/plain": [
       "'mohan@gmail.com'"
      ]
     },
     "execution_count": 9,
     "metadata": {},
     "output_type": "execute_result"
    }
   ],
   "source": [
    "pw1.email"
   ]
  },
  {
   "cell_type": "code",
   "execution_count": 11,
   "id": "9cca10d3-3b81-44bb-a1c2-f32bac4c13e2",
   "metadata": {},
   "outputs": [
    {
     "name": "stdout",
     "output_type": "stream",
     "text": [
      "mohan mohan@gmail.com\n"
     ]
    }
   ],
   "source": [
    "pw1.student_details()"
   ]
  },
  {
   "cell_type": "code",
   "execution_count": 23,
   "id": "b83887ee-13bb-4ab8-b69a-171f50b9d8ef",
   "metadata": {},
   "outputs": [],
   "source": [
    "class Pwskills2:\n",
    "    \n",
    "    mob_no = 7218725685\n",
    "    \n",
    "    def __init__(self,name,email):\n",
    "        self.name=name\n",
    "        self.email=email\n",
    "        \n",
    "    @classmethod\n",
    "    def details(cls,name,email):\n",
    "        return cls(name,email)\n",
    "        \n",
    "    def student_details(self):\n",
    "        print(self.name,self.email,Pwskills2.mob_no)"
   ]
  },
  {
   "cell_type": "code",
   "execution_count": 22,
   "id": "0e90a2fc-083c-4b53-9f36-76d460a78677",
   "metadata": {},
   "outputs": [
    {
     "data": {
      "text/plain": [
       "7218725685"
      ]
     },
     "execution_count": 22,
     "metadata": {},
     "output_type": "execute_result"
    }
   ],
   "source": [
    "Pwskills2.mob_no"
   ]
  },
  {
   "cell_type": "code",
   "execution_count": 26,
   "id": "724a1014-8800-4abd-a09d-c48ba2eaabd0",
   "metadata": {},
   "outputs": [],
   "source": [
    "pw2=Pwskills2.details(\"sohan\",\"sohan@gmail.com\")"
   ]
  },
  {
   "cell_type": "code",
   "execution_count": 27,
   "id": "e42f06ae-69b5-4581-b52f-c15b05b0e332",
   "metadata": {},
   "outputs": [
    {
     "name": "stdout",
     "output_type": "stream",
     "text": [
      "sohan sohan@gmail.com 7218725685\n"
     ]
    }
   ],
   "source": [
    "pw2.student_details()"
   ]
  },
  {
   "cell_type": "code",
   "execution_count": 28,
   "id": "fcef6680-ad7c-40a4-bc8b-0956228773a8",
   "metadata": {},
   "outputs": [],
   "source": [
    "pw2_obj = Pwskills2(\"rohan\",\"rohan@gmail.com\")"
   ]
  },
  {
   "cell_type": "code",
   "execution_count": 29,
   "id": "da305af8-f1c2-4bef-ba26-b87fdabde073",
   "metadata": {},
   "outputs": [
    {
     "name": "stdout",
     "output_type": "stream",
     "text": [
      "rohan rohan@gmail.com 7218725685\n"
     ]
    }
   ],
   "source": [
    "pw2_obj.student_details()"
   ]
  },
  {
   "cell_type": "code",
   "execution_count": 43,
   "id": "a1235676-a1f6-4a85-879e-6fcf513c6560",
   "metadata": {},
   "outputs": [],
   "source": [
    "class Pwskills3:\n",
    "    \n",
    "    mob_no = 7218725685\n",
    "    \n",
    "    def __init__(self,name,email):\n",
    "        self.name=name\n",
    "        self.email=email\n",
    "        \n",
    "    @classmethod\n",
    "    def change_number(cls,mobile):\n",
    "        Pwskills3.mob_no = mobile\n",
    "        \n",
    "    @classmethod\n",
    "    def details(cls,name,email):\n",
    "        return cls(name,email)\n",
    "        \n",
    "    def student_details(self):\n",
    "        print(self.name,self.email,Pwskills3.mob_no)"
   ]
  },
  {
   "cell_type": "code",
   "execution_count": 44,
   "id": "607b1f33-a939-4b07-a913-5c850735bbc0",
   "metadata": {},
   "outputs": [],
   "source": [
    "pw3 = Pwskills3(\"sohan\",\"sohan@gmail.com\")"
   ]
  },
  {
   "cell_type": "code",
   "execution_count": 45,
   "id": "0eeb5e0e-f921-40e8-94a6-be2043dc1215",
   "metadata": {},
   "outputs": [],
   "source": [
    "Pwskills3.change_number(9454134535)"
   ]
  },
  {
   "cell_type": "code",
   "execution_count": 46,
   "id": "b12c2b48-de51-4090-8585-d76b13978cff",
   "metadata": {},
   "outputs": [
    {
     "name": "stdout",
     "output_type": "stream",
     "text": [
      "sohan sohan@gmail.com 9454134535\n"
     ]
    }
   ],
   "source": [
    "pw3.student_details()"
   ]
  },
  {
   "cell_type": "code",
   "execution_count": 47,
   "id": "dfbcf296-a7f8-487d-8598-2f0d1e4ca807",
   "metadata": {},
   "outputs": [],
   "source": [
    "class Pwskills4:\n",
    "    \n",
    "    mob_no = 7218725685\n",
    "    \n",
    "    def __init__(self,name,email):\n",
    "        self.name=name\n",
    "        self.email=email\n",
    "        \n",
    "    @classmethod\n",
    "    def change_number(cls,mobile):\n",
    "        Pwskills3.mob_no = mobile\n",
    "        \n",
    "    @classmethod\n",
    "    def details(cls,name,email):\n",
    "        return cls(name,email)\n",
    "        \n",
    "    def student_details(self):\n",
    "        print(self.name,self.email,Pwskills2.mob_no)"
   ]
  },
  {
   "cell_type": "code",
   "execution_count": 48,
   "id": "47d3b451-88af-4757-802a-84a1a0a01a28",
   "metadata": {},
   "outputs": [],
   "source": [
    "def course_details(cls,course_name):\n",
    "    print(\"course_details\",course_name)"
   ]
  },
  {
   "cell_type": "code",
   "execution_count": 49,
   "id": "f7e0dde8-9782-4937-b4cf-8a93c4b08eab",
   "metadata": {},
   "outputs": [],
   "source": [
    "Pwskills4.course_details = classmethod(course_details)"
   ]
  },
  {
   "cell_type": "code",
   "execution_count": 50,
   "id": "f5f84625-b59e-493a-9bba-81d550fa83e3",
   "metadata": {},
   "outputs": [
    {
     "name": "stdout",
     "output_type": "stream",
     "text": [
      "course_details data science masters\n"
     ]
    }
   ],
   "source": [
    "Pwskills4.course_details(\"data science masters\")"
   ]
  },
  {
   "cell_type": "code",
   "execution_count": 51,
   "id": "d762eadf-e493-4a5f-b055-a56d6f41647f",
   "metadata": {},
   "outputs": [],
   "source": [
    "pw4=Pwskills4(\"sudh\",\"sudh@gmail.com\")"
   ]
  },
  {
   "cell_type": "code",
   "execution_count": 53,
   "id": "33bec14d-c990-45be-996f-1fb911b9e0e3",
   "metadata": {},
   "outputs": [
    {
     "name": "stdout",
     "output_type": "stream",
     "text": [
      "course_details web dev\n"
     ]
    }
   ],
   "source": [
    "pw4.course_details(\"web dev\")"
   ]
  },
  {
   "cell_type": "code",
   "execution_count": 54,
   "id": "4db819c7-fca5-4e48-a1c3-d031b3ed4132",
   "metadata": {},
   "outputs": [],
   "source": [
    "class Pwskills5:\n",
    "    \n",
    "    mob_no = 7218725685\n",
    "    \n",
    "    def __init__(self,name,email):\n",
    "        self.name=name\n",
    "        self.email=email\n",
    "        \n",
    "    @classmethod\n",
    "    def change_number(cls,mobile):\n",
    "        Pwskills3.mob_no = mobile\n",
    "        \n",
    "    @classmethod\n",
    "    def details(cls,name,email):\n",
    "        return cls(name,email)\n",
    "        \n",
    "    def student_details(self):\n",
    "        print(self.name,self.email,Pwskills5.mob_no)"
   ]
  },
  {
   "cell_type": "code",
   "execution_count": 55,
   "id": "f891b27f-4318-4300-b636-fe633bf31c94",
   "metadata": {},
   "outputs": [],
   "source": [
    "del Pwskills5.change_number"
   ]
  },
  {
   "cell_type": "code",
   "execution_count": 56,
   "id": "5647d44d-caa2-4930-92a9-6c0bda23edc4",
   "metadata": {},
   "outputs": [
    {
     "ename": "AttributeError",
     "evalue": "type object 'Pwskills5' has no attribute 'change_number'",
     "output_type": "error",
     "traceback": [
      "\u001b[0;31m---------------------------------------------------------------------------\u001b[0m",
      "\u001b[0;31mAttributeError\u001b[0m                            Traceback (most recent call last)",
      "Cell \u001b[0;32mIn[56], line 1\u001b[0m\n\u001b[0;32m----> 1\u001b[0m \u001b[43mPwskills5\u001b[49m\u001b[38;5;241;43m.\u001b[39;49m\u001b[43mchange_number\u001b[49m(\u001b[38;5;241m5646514535\u001b[39m)\n",
      "\u001b[0;31mAttributeError\u001b[0m: type object 'Pwskills5' has no attribute 'change_number'"
     ]
    }
   ],
   "source": [
    "Pwskills5.change_number(5646514535)"
   ]
  },
  {
   "cell_type": "code",
   "execution_count": 57,
   "id": "9a73e0e7-f4f4-4f2d-a2bc-bb6546dfa1f1",
   "metadata": {},
   "outputs": [],
   "source": [
    "delattr (Pwskills5,\"details\")"
   ]
  },
  {
   "cell_type": "code",
   "execution_count": 58,
   "id": "f725ce12-afa3-4cf9-b4c6-28697b10df0c",
   "metadata": {},
   "outputs": [],
   "source": [
    "delattr (Pwskills5,\"mob_no\")"
   ]
  },
  {
   "cell_type": "code",
   "execution_count": 59,
   "id": "1d6efd7f-b016-4c27-9d3a-296bde95af94",
   "metadata": {},
   "outputs": [
    {
     "ename": "AttributeError",
     "evalue": "type object 'Pwskills5' has no attribute 'mob_no'",
     "output_type": "error",
     "traceback": [
      "\u001b[0;31m---------------------------------------------------------------------------\u001b[0m",
      "\u001b[0;31mAttributeError\u001b[0m                            Traceback (most recent call last)",
      "Cell \u001b[0;32mIn[59], line 1\u001b[0m\n\u001b[0;32m----> 1\u001b[0m \u001b[43mPwskills5\u001b[49m\u001b[38;5;241;43m.\u001b[39;49m\u001b[43mmob_no\u001b[49m\n",
      "\u001b[0;31mAttributeError\u001b[0m: type object 'Pwskills5' has no attribute 'mob_no'"
     ]
    }
   ],
   "source": [
    "Pwskills5.mob_no"
   ]
  },
  {
   "cell_type": "code",
   "execution_count": 60,
   "id": "08fd73f2-daf3-46f1-9e58-73a4d59df431",
   "metadata": {},
   "outputs": [
    {
     "ename": "AttributeError",
     "evalue": "students_details",
     "output_type": "error",
     "traceback": [
      "\u001b[0;31m---------------------------------------------------------------------------\u001b[0m",
      "\u001b[0;31mAttributeError\u001b[0m                            Traceback (most recent call last)",
      "Cell \u001b[0;32mIn[60], line 1\u001b[0m\n\u001b[0;32m----> 1\u001b[0m \u001b[38;5;28;43mdelattr\u001b[39;49m\u001b[43m \u001b[49m\u001b[43m(\u001b[49m\u001b[43mPwskills5\u001b[49m\u001b[43m,\u001b[49m\u001b[38;5;124;43m\"\u001b[39;49m\u001b[38;5;124;43mstudents_details\u001b[39;49m\u001b[38;5;124;43m\"\u001b[39;49m\u001b[43m)\u001b[49m\n",
      "\u001b[0;31mAttributeError\u001b[0m: students_details"
     ]
    }
   ],
   "source": [
    "delattr (Pwskills5,\"students_details\")"
   ]
  },
  {
   "cell_type": "code",
   "execution_count": 61,
   "id": "ac93a867-899d-4c7a-9533-ea5baefd859c",
   "metadata": {},
   "outputs": [
    {
     "ename": "TypeError",
     "evalue": "Pwskills5.student_details() missing 1 required positional argument: 'self'",
     "output_type": "error",
     "traceback": [
      "\u001b[0;31m---------------------------------------------------------------------------\u001b[0m",
      "\u001b[0;31mTypeError\u001b[0m                                 Traceback (most recent call last)",
      "Cell \u001b[0;32mIn[61], line 1\u001b[0m\n\u001b[0;32m----> 1\u001b[0m \u001b[43mPwskills5\u001b[49m\u001b[38;5;241;43m.\u001b[39;49m\u001b[43mstudent_details\u001b[49m\u001b[43m(\u001b[49m\u001b[43m)\u001b[49m\n",
      "\u001b[0;31mTypeError\u001b[0m: Pwskills5.student_details() missing 1 required positional argument: 'self'"
     ]
    }
   ],
   "source": [
    "Pwskills5.student_details()"
   ]
  },
  {
   "cell_type": "code",
   "execution_count": 62,
   "id": "63e1e985-bc23-4adc-bdf4-a93dc3ee856c",
   "metadata": {},
   "outputs": [],
   "source": [
    "del Pwskills5"
   ]
  },
  {
   "cell_type": "code",
   "execution_count": null,
   "id": "a3989d6d-c2b5-492d-afe3-4eb7f4c21d92",
   "metadata": {},
   "outputs": [],
   "source": []
  }
 ],
 "metadata": {
  "kernelspec": {
   "display_name": "Python 3 (ipykernel)",
   "language": "python",
   "name": "python3"
  },
  "language_info": {
   "codemirror_mode": {
    "name": "ipython",
    "version": 3
   },
   "file_extension": ".py",
   "mimetype": "text/x-python",
   "name": "python",
   "nbconvert_exporter": "python",
   "pygments_lexer": "ipython3",
   "version": "3.10.8"
  }
 },
 "nbformat": 4,
 "nbformat_minor": 5
}
