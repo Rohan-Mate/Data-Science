{
 "cells": [
  {
   "cell_type": "markdown",
   "id": "ee7ee41c-d407-4ce6-ad79-5805169b073b",
   "metadata": {},
   "source": [
    "Polymorphism"
   ]
  },
  {
   "cell_type": "code",
   "execution_count": 1,
   "id": "3f8f01c3-403d-4481-9858-9c39f30c6047",
   "metadata": {},
   "outputs": [],
   "source": [
    "def test(a,b):\n",
    "    return a+b"
   ]
  },
  {
   "cell_type": "code",
   "execution_count": 2,
   "id": "abb6fd58-46c5-4f57-bd78-e535bb9b3e38",
   "metadata": {},
   "outputs": [
    {
     "data": {
      "text/plain": [
       "9"
      ]
     },
     "execution_count": 2,
     "metadata": {},
     "output_type": "execute_result"
    }
   ],
   "source": [
    "test(4,5)"
   ]
  },
  {
   "cell_type": "code",
   "execution_count": 3,
   "id": "5d67e7fc-6209-4668-9a8b-6c4a49dd22fc",
   "metadata": {},
   "outputs": [
    {
     "data": {
      "text/plain": [
       "'sudhkumar'"
      ]
     },
     "execution_count": 3,
     "metadata": {},
     "output_type": "execute_result"
    }
   ],
   "source": [
    "test(\"sudh\",\"kumar\")"
   ]
  },
  {
   "cell_type": "code",
   "execution_count": 4,
   "id": "5613add2-2255-4801-8bfa-4ce673c1309e",
   "metadata": {},
   "outputs": [
    {
     "data": {
      "text/plain": [
       "[2, 3, 4, 5, 6, 7, 8, 9, 4, 5, 6]"
      ]
     },
     "execution_count": 4,
     "metadata": {},
     "output_type": "execute_result"
    }
   ],
   "source": [
    "test([2,3,4,5,6],[7,8,9,4,5,6])"
   ]
  },
  {
   "cell_type": "code",
   "execution_count": 19,
   "id": "6b1174bb-2f9a-4659-a021-43f538267f69",
   "metadata": {},
   "outputs": [],
   "source": [
    "class data_sci:\n",
    "    def syllabus(self):\n",
    "        print(\"this is my method for data science \")"
   ]
  },
  {
   "cell_type": "code",
   "execution_count": 11,
   "id": "dc5f1b6e-4838-416d-ba4a-d702f7484c40",
   "metadata": {},
   "outputs": [],
   "source": [
    "class web_dev:\n",
    "    def syllabus(self):\n",
    "        print(\"this is my method for web dev\")"
   ]
  },
  {
   "cell_type": "code",
   "execution_count": 9,
   "id": "28e0b476-715a-4a77-ba5a-131cbfb9177b",
   "metadata": {},
   "outputs": [],
   "source": [
    "def class_parcer(class_obj):\n",
    "    for i in class_obj:\n",
    "        i.syllabus()"
   ]
  },
  {
   "cell_type": "code",
   "execution_count": 20,
   "id": "a0140ef9-318c-44c0-a8f9-f4e640f8007b",
   "metadata": {},
   "outputs": [],
   "source": [
    "obj_data_sci=data_sci()"
   ]
  },
  {
   "cell_type": "code",
   "execution_count": 21,
   "id": "dc265c12-e2fa-4a8b-a097-a80c8ab02148",
   "metadata": {},
   "outputs": [],
   "source": [
    "obj_web_dev=web_dev()"
   ]
  },
  {
   "cell_type": "code",
   "execution_count": 22,
   "id": "4e7b9a36-90d1-48a1-a74c-eb394e241af7",
   "metadata": {},
   "outputs": [],
   "source": [
    "class_obj=[obj_data_sci,obj_web_dev]"
   ]
  },
  {
   "cell_type": "code",
   "execution_count": 23,
   "id": "9ab4cd31-cf06-441b-9789-97b54c34f0ff",
   "metadata": {},
   "outputs": [
    {
     "name": "stdout",
     "output_type": "stream",
     "text": [
      "this is my method for data science \n",
      "this is my method for web dev\n"
     ]
    }
   ],
   "source": [
    "class_parcer(class_obj)"
   ]
  }
 ],
 "metadata": {
  "kernelspec": {
   "display_name": "Python 3 (ipykernel)",
   "language": "python",
   "name": "python3"
  },
  "language_info": {
   "codemirror_mode": {
    "name": "ipython",
    "version": 3
   },
   "file_extension": ".py",
   "mimetype": "text/x-python",
   "name": "python",
   "nbconvert_exporter": "python",
   "pygments_lexer": "ipython3",
   "version": "3.10.8"
  }
 },
 "nbformat": 4,
 "nbformat_minor": 5
}
