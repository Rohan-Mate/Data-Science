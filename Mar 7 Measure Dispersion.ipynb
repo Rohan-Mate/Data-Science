{
 "cells": [
  {
   "cell_type": "markdown",
   "id": "4d3a6cad-1b46-47b7-a111-32d9659ef9e9",
   "metadata": {},
   "source": [
    "### Measure Dispersion"
   ]
  },
  {
   "cell_type": "markdown",
   "id": "aa3b77b0-789e-490e-a4c5-39a20c550bb5",
   "metadata": {},
   "source": [
    "#### Variance & Standard Deviation"
   ]
  },
  {
   "cell_type": "code",
   "execution_count": 1,
   "id": "832deecd-af36-4ac8-ae02-e624f6474e69",
   "metadata": {},
   "outputs": [],
   "source": [
    "# variance\n",
    "\n",
    "ages_lst = [23,43,65,89,75,65,42,39,62,78,62]"
   ]
  },
  {
   "cell_type": "code",
   "execution_count": 2,
   "id": "972ed5a3-7f8c-499d-babc-8955fb55a60a",
   "metadata": {},
   "outputs": [],
   "source": [
    "import numpy as np "
   ]
  },
  {
   "cell_type": "code",
   "execution_count": 5,
   "id": "b389805c-38c4-4683-a0bd-c237faf35e75",
   "metadata": {},
   "outputs": [],
   "source": [
    "mean = np.mean(ages_lst)"
   ]
  },
  {
   "cell_type": "code",
   "execution_count": 6,
   "id": "ff706443-7304-4cf1-9a78-b1dc2073699e",
   "metadata": {},
   "outputs": [
    {
     "data": {
      "text/plain": [
       "58.45454545454545"
      ]
     },
     "execution_count": 6,
     "metadata": {},
     "output_type": "execute_result"
    }
   ],
   "source": [
    "mean"
   ]
  },
  {
   "cell_type": "code",
   "execution_count": 7,
   "id": "9d01883f-417a-4714-ba26-257ecc3a592e",
   "metadata": {},
   "outputs": [],
   "source": [
    "var = np.var(ages_lst)"
   ]
  },
  {
   "cell_type": "code",
   "execution_count": 8,
   "id": "d88906b6-0bff-466b-a4e3-935290b7ddf8",
   "metadata": {},
   "outputs": [
    {
     "data": {
      "text/plain": [
       "349.5206611570248"
      ]
     },
     "execution_count": 8,
     "metadata": {},
     "output_type": "execute_result"
    }
   ],
   "source": [
    "var"
   ]
  },
  {
   "cell_type": "code",
   "execution_count": 9,
   "id": "1bfeeb84-2e54-4268-a457-060068cbfa7a",
   "metadata": {},
   "outputs": [],
   "source": [
    "std =np.std(ages_lst)"
   ]
  },
  {
   "cell_type": "code",
   "execution_count": 10,
   "id": "f786d667-2609-46e1-aa91-08563d91082a",
   "metadata": {},
   "outputs": [
    {
     "data": {
      "text/plain": [
       "18.695471675168424"
      ]
     },
     "execution_count": 10,
     "metadata": {},
     "output_type": "execute_result"
    }
   ],
   "source": [
    "std"
   ]
  },
  {
   "cell_type": "code",
   "execution_count": 11,
   "id": "75e30659-a929-457d-bcd4-b52d542a176c",
   "metadata": {},
   "outputs": [],
   "source": [
    "import pandas as pd "
   ]
  },
  {
   "cell_type": "code",
   "execution_count": 12,
   "id": "2f0bffe8-7630-464c-8424-c0b70519c267",
   "metadata": {},
   "outputs": [],
   "source": [
    "data = [[10,12,13],[34,23,45],[32,34,21]]"
   ]
  },
  {
   "cell_type": "code",
   "execution_count": 13,
   "id": "f9f66189-cdcd-49c4-abc6-cfbe4f7bde59",
   "metadata": {},
   "outputs": [
    {
     "data": {
      "text/plain": [
       "[[10, 12, 13], [34, 23, 45], [32, 34, 21]]"
      ]
     },
     "execution_count": 13,
     "metadata": {},
     "output_type": "execute_result"
    }
   ],
   "source": [
    "data"
   ]
  },
  {
   "cell_type": "code",
   "execution_count": 18,
   "id": "d11e63de-e873-49dd-a030-c54c47801c58",
   "metadata": {},
   "outputs": [],
   "source": [
    "df = pd.DataFrame(data,columns=[\"A\",\"B\",\"C\"])"
   ]
  },
  {
   "cell_type": "code",
   "execution_count": 19,
   "id": "a91a099d-e3ca-49eb-9766-c9831024ebcc",
   "metadata": {},
   "outputs": [
    {
     "data": {
      "text/html": [
       "<div>\n",
       "<style scoped>\n",
       "    .dataframe tbody tr th:only-of-type {\n",
       "        vertical-align: middle;\n",
       "    }\n",
       "\n",
       "    .dataframe tbody tr th {\n",
       "        vertical-align: top;\n",
       "    }\n",
       "\n",
       "    .dataframe thead th {\n",
       "        text-align: right;\n",
       "    }\n",
       "</style>\n",
       "<table border=\"1\" class=\"dataframe\">\n",
       "  <thead>\n",
       "    <tr style=\"text-align: right;\">\n",
       "      <th></th>\n",
       "      <th>A</th>\n",
       "      <th>B</th>\n",
       "      <th>C</th>\n",
       "    </tr>\n",
       "  </thead>\n",
       "  <tbody>\n",
       "    <tr>\n",
       "      <th>0</th>\n",
       "      <td>10</td>\n",
       "      <td>12</td>\n",
       "      <td>13</td>\n",
       "    </tr>\n",
       "    <tr>\n",
       "      <th>1</th>\n",
       "      <td>34</td>\n",
       "      <td>23</td>\n",
       "      <td>45</td>\n",
       "    </tr>\n",
       "    <tr>\n",
       "      <th>2</th>\n",
       "      <td>32</td>\n",
       "      <td>34</td>\n",
       "      <td>21</td>\n",
       "    </tr>\n",
       "  </tbody>\n",
       "</table>\n",
       "</div>"
      ],
      "text/plain": [
       "    A   B   C\n",
       "0  10  12  13\n",
       "1  34  23  45\n",
       "2  32  34  21"
      ]
     },
     "execution_count": 19,
     "metadata": {},
     "output_type": "execute_result"
    }
   ],
   "source": [
    "df"
   ]
  },
  {
   "cell_type": "code",
   "execution_count": 21,
   "id": "16f06517-71dc-4f33-99c4-d2bab3129bc1",
   "metadata": {},
   "outputs": [
    {
     "data": {
      "text/plain": [
       "A    177.333333\n",
       "B    121.000000\n",
       "C    277.333333\n",
       "dtype: float64"
      ]
     },
     "execution_count": 21,
     "metadata": {},
     "output_type": "execute_result"
    }
   ],
   "source": [
    "df.var()\n",
    "# variance column wise"
   ]
  },
  {
   "cell_type": "code",
   "execution_count": 22,
   "id": "341be09f-3fca-448c-840b-61631d05cf63",
   "metadata": {},
   "outputs": [
    {
     "data": {
      "text/plain": [
       "0      2.333333\n",
       "1    121.000000\n",
       "2     49.000000\n",
       "dtype: float64"
      ]
     },
     "execution_count": 22,
     "metadata": {},
     "output_type": "execute_result"
    }
   ],
   "source": [
    "# variance rows wise\n",
    "\n",
    "df.var(axis=1)"
   ]
  }
 ],
 "metadata": {
  "kernelspec": {
   "display_name": "Python 3 (ipykernel)",
   "language": "python",
   "name": "python3"
  },
  "language_info": {
   "codemirror_mode": {
    "name": "ipython",
    "version": 3
   },
   "file_extension": ".py",
   "mimetype": "text/x-python",
   "name": "python",
   "nbconvert_exporter": "python",
   "pygments_lexer": "ipython3",
   "version": "3.10.8"
  }
 },
 "nbformat": 4,
 "nbformat_minor": 5
}
