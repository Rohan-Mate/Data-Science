{
 "cells": [
  {
   "cell_type": "markdown",
   "id": "5f3f8f4d-82c1-4d9e-9195-6faed117dc22",
   "metadata": {},
   "source": [
    "### Numpy"
   ]
  },
  {
   "cell_type": "code",
   "execution_count": 1,
   "id": "0786cc8b-c824-402a-86c4-999b8da1b938",
   "metadata": {},
   "outputs": [],
   "source": [
    "# sort , search & Counting functions "
   ]
  },
  {
   "cell_type": "code",
   "execution_count": 2,
   "id": "aeaff3a4-09d8-4403-b4a1-78cd426ace5b",
   "metadata": {},
   "outputs": [],
   "source": [
    "import numpy as np "
   ]
  },
  {
   "cell_type": "code",
   "execution_count": 9,
   "id": "963b89a8-0d38-4395-aae3-d9d372ff735b",
   "metadata": {},
   "outputs": [],
   "source": [
    "arr = np.array([2,3,8,9,10,5,6])"
   ]
  },
  {
   "cell_type": "code",
   "execution_count": 10,
   "id": "3ce19a18-6bb8-4446-970b-5a30b8321418",
   "metadata": {},
   "outputs": [
    {
     "data": {
      "text/plain": [
       "array([ 2,  3,  8,  9, 10,  5,  6])"
      ]
     },
     "execution_count": 10,
     "metadata": {},
     "output_type": "execute_result"
    }
   ],
   "source": [
    "arr"
   ]
  },
  {
   "cell_type": "code",
   "execution_count": 11,
   "id": "19457bdc-5ed1-41d7-b4d7-5e44e4f57f1d",
   "metadata": {},
   "outputs": [
    {
     "data": {
      "text/plain": [
       "array([ 2,  3,  5,  6,  8,  9, 10])"
      ]
     },
     "execution_count": 11,
     "metadata": {},
     "output_type": "execute_result"
    }
   ],
   "source": [
    "np.sort(arr)"
   ]
  },
  {
   "cell_type": "code",
   "execution_count": 12,
   "id": "dad24c26-d936-412a-8355-772021f762f1",
   "metadata": {},
   "outputs": [
    {
     "data": {
      "text/plain": [
       "2"
      ]
     },
     "execution_count": 12,
     "metadata": {},
     "output_type": "execute_result"
    }
   ],
   "source": [
    "np.searchsorted(arr,4)"
   ]
  },
  {
   "cell_type": "code",
   "execution_count": 13,
   "id": "1a483852-f962-4f4d-a859-a7e39c9da99f",
   "metadata": {},
   "outputs": [
    {
     "data": {
      "text/plain": [
       "7"
      ]
     },
     "execution_count": 13,
     "metadata": {},
     "output_type": "execute_result"
    }
   ],
   "source": [
    "np.searchsorted(arr,11)"
   ]
  },
  {
   "cell_type": "code",
   "execution_count": 14,
   "id": "73f14ba7-085f-4e9c-9cbd-f6709d0b7a5f",
   "metadata": {},
   "outputs": [
    {
     "data": {
      "text/plain": [
       "0"
      ]
     },
     "execution_count": 14,
     "metadata": {},
     "output_type": "execute_result"
    }
   ],
   "source": [
    "np.searchsorted(arr,1)"
   ]
  },
  {
   "cell_type": "code",
   "execution_count": 16,
   "id": "2ac655db-eaa9-4da4-a0c3-e017140f5cec",
   "metadata": {},
   "outputs": [],
   "source": [
    "arr1 = np.array([0,324,325,862,458,0,0,0,0,234])"
   ]
  },
  {
   "cell_type": "code",
   "execution_count": 17,
   "id": "f1c899b7-da0c-4a88-90cd-620f026506b1",
   "metadata": {},
   "outputs": [
    {
     "data": {
      "text/plain": [
       "array([  0, 324, 325, 862, 458,   0,   0,   0,   0, 234])"
      ]
     },
     "execution_count": 17,
     "metadata": {},
     "output_type": "execute_result"
    }
   ],
   "source": [
    "arr1"
   ]
  },
  {
   "cell_type": "code",
   "execution_count": 18,
   "id": "cf303d99-6db9-4f0e-a9f4-bd4db2303e06",
   "metadata": {},
   "outputs": [
    {
     "data": {
      "text/plain": [
       "5"
      ]
     },
     "execution_count": 18,
     "metadata": {},
     "output_type": "execute_result"
    }
   ],
   "source": [
    "np.count_nonzero(arr1)"
   ]
  },
  {
   "cell_type": "code",
   "execution_count": 19,
   "id": "057966f0-968a-4de8-8e1c-b0387ebfeb1c",
   "metadata": {},
   "outputs": [
    {
     "data": {
      "text/plain": [
       "(array([1, 2, 3, 4, 9]),)"
      ]
     },
     "execution_count": 19,
     "metadata": {},
     "output_type": "execute_result"
    }
   ],
   "source": [
    "np.where(arr1 > 0)"
   ]
  },
  {
   "cell_type": "code",
   "execution_count": 22,
   "id": "a0d9ce19-d845-4590-86a7-0fc893d94ef9",
   "metadata": {},
   "outputs": [
    {
     "data": {
      "text/plain": [
       "array([324, 325, 862, 458, 234])"
      ]
     },
     "execution_count": 22,
     "metadata": {},
     "output_type": "execute_result"
    }
   ],
   "source": [
    "np.extract(arr1 > 2,arr1)"
   ]
  },
  {
   "cell_type": "code",
   "execution_count": 23,
   "id": "68aec203-d11f-4698-9d28-1a9e352749fa",
   "metadata": {},
   "outputs": [],
   "source": [
    "# Numpy -> Byte swapping"
   ]
  },
  {
   "cell_type": "code",
   "execution_count": 24,
   "id": "77516f29-c376-41a3-bdef-bfdf13a05adf",
   "metadata": {},
   "outputs": [
    {
     "data": {
      "text/plain": [
       "array([  0, 324, 325, 862, 458,   0,   0,   0,   0, 234])"
      ]
     },
     "execution_count": 24,
     "metadata": {},
     "output_type": "execute_result"
    }
   ],
   "source": [
    "arr1 "
   ]
  },
  {
   "cell_type": "code",
   "execution_count": 25,
   "id": "1580afec-9d91-427b-ae36-3e6a097de9b0",
   "metadata": {},
   "outputs": [
    {
     "data": {
      "text/plain": [
       "array([144115188075855872, 216172782113783808, 576460752303423488,\n",
       "       648518346341351424, 720575940379279360, 360287970189639680,\n",
       "       432345564227567616])"
      ]
     },
     "execution_count": 25,
     "metadata": {},
     "output_type": "execute_result"
    }
   ],
   "source": [
    "arr.byteswap()"
   ]
  },
  {
   "cell_type": "code",
   "execution_count": 26,
   "id": "2896b8ab-1857-4d7e-b91b-ef0410ec754b",
   "metadata": {},
   "outputs": [
    {
     "data": {
      "text/plain": [
       "array([ 2,  3,  8,  9, 10,  5,  6])"
      ]
     },
     "execution_count": 26,
     "metadata": {},
     "output_type": "execute_result"
    }
   ],
   "source": [
    "arr"
   ]
  },
  {
   "cell_type": "code",
   "execution_count": 27,
   "id": "f86a2ed2-8564-4505-8417-1ff04f628db7",
   "metadata": {},
   "outputs": [
    {
     "data": {
      "text/plain": [
       "array([                   0,  4900197869555810304,  4972255463593738240,\n",
       "        6774258264495357952, -3890828603071397888,                    0,\n",
       "                          0,                    0,                    0,\n",
       "       -1585267068834414592])"
      ]
     },
     "execution_count": 27,
     "metadata": {},
     "output_type": "execute_result"
    }
   ],
   "source": [
    "arr1.byteswap()"
   ]
  },
  {
   "cell_type": "code",
   "execution_count": 28,
   "id": "2a23b348-9094-4ec5-b0a6-62e251e297bb",
   "metadata": {},
   "outputs": [],
   "source": [
    "# Numpy -> Copies & views"
   ]
  },
  {
   "cell_type": "code",
   "execution_count": 29,
   "id": "08d1e9ba-afa8-41dd-bd1d-0840c0b6f406",
   "metadata": {},
   "outputs": [
    {
     "data": {
      "text/plain": [
       "array([  0, 324, 325, 862, 458,   0,   0,   0,   0, 234])"
      ]
     },
     "execution_count": 29,
     "metadata": {},
     "output_type": "execute_result"
    }
   ],
   "source": [
    "arr1"
   ]
  },
  {
   "cell_type": "code",
   "execution_count": 31,
   "id": "42df12bc-4be2-4be4-bb76-a6628b4b0e9d",
   "metadata": {},
   "outputs": [],
   "source": [
    "a = np.copy(arr1)\n",
    "# a is an deep copy "
   ]
  },
  {
   "cell_type": "code",
   "execution_count": 32,
   "id": "41cfe9db-9305-4019-a22c-9c19c6138b5f",
   "metadata": {},
   "outputs": [
    {
     "data": {
      "text/plain": [
       "array([  0, 324, 325, 862, 458,   0,   0,   0,   0, 234])"
      ]
     },
     "execution_count": 32,
     "metadata": {},
     "output_type": "execute_result"
    }
   ],
   "source": [
    "a"
   ]
  },
  {
   "cell_type": "code",
   "execution_count": 33,
   "id": "86be6f63-dd37-40ab-a7d9-07068accfd40",
   "metadata": {},
   "outputs": [],
   "source": [
    "b= arr1.view()"
   ]
  },
  {
   "cell_type": "code",
   "execution_count": 34,
   "id": "8d277808-3559-4ed0-b1fb-fa57ddfeb8f6",
   "metadata": {},
   "outputs": [
    {
     "data": {
      "text/plain": [
       "array([  0, 324, 325, 862, 458,   0,   0,   0,   0, 234])"
      ]
     },
     "execution_count": 34,
     "metadata": {},
     "output_type": "execute_result"
    }
   ],
   "source": [
    "b"
   ]
  },
  {
   "cell_type": "code",
   "execution_count": 35,
   "id": "96244266-9e73-43df-a954-4414540644c9",
   "metadata": {},
   "outputs": [],
   "source": [
    "b[0] = 234"
   ]
  },
  {
   "cell_type": "code",
   "execution_count": 36,
   "id": "35ecdad1-7154-4c66-9d1e-495c6b335296",
   "metadata": {},
   "outputs": [
    {
     "data": {
      "text/plain": [
       "array([234, 324, 325, 862, 458,   0,   0,   0,   0, 234])"
      ]
     },
     "execution_count": 36,
     "metadata": {},
     "output_type": "execute_result"
    }
   ],
   "source": [
    "b"
   ]
  },
  {
   "cell_type": "code",
   "execution_count": 37,
   "id": "19fa290b-78ff-48a1-9b3f-d778a3e5034a",
   "metadata": {},
   "outputs": [
    {
     "data": {
      "text/plain": [
       "array([234, 324, 325, 862, 458,   0,   0,   0,   0, 234])"
      ]
     },
     "execution_count": 37,
     "metadata": {},
     "output_type": "execute_result"
    }
   ],
   "source": [
    "arr1"
   ]
  },
  {
   "cell_type": "code",
   "execution_count": 38,
   "id": "7a82225f-33da-41a7-a33d-51df5d4c081a",
   "metadata": {},
   "outputs": [],
   "source": [
    "# Numpy -> Matrix library"
   ]
  },
  {
   "cell_type": "code",
   "execution_count": 39,
   "id": "3cc7839d-5004-4b0c-8333-75107dde00b7",
   "metadata": {},
   "outputs": [],
   "source": [
    "import numpy.matlib as nm"
   ]
  },
  {
   "cell_type": "code",
   "execution_count": 40,
   "id": "4ed68c4a-2ab5-47ce-906a-1a4513822a63",
   "metadata": {},
   "outputs": [
    {
     "data": {
      "text/plain": [
       "matrix([[0., 0., 0., 0., 0.]])"
      ]
     },
     "execution_count": 40,
     "metadata": {},
     "output_type": "execute_result"
    }
   ],
   "source": [
    "nm.zeros(5)"
   ]
  },
  {
   "cell_type": "code",
   "execution_count": 42,
   "id": "bd8e81de-4499-4ceb-b180-8e7f40091d22",
   "metadata": {},
   "outputs": [
    {
     "data": {
      "text/plain": [
       "matrix([[1., 1., 1., 1.],\n",
       "        [1., 1., 1., 1.],\n",
       "        [1., 1., 1., 1.]])"
      ]
     },
     "execution_count": 42,
     "metadata": {},
     "output_type": "execute_result"
    }
   ],
   "source": [
    "nm.ones((3,4))"
   ]
  },
  {
   "cell_type": "code",
   "execution_count": 43,
   "id": "7757725c-27e9-44d0-9a41-a0115c247b68",
   "metadata": {},
   "outputs": [
    {
     "data": {
      "text/plain": [
       "matrix([[1., 0., 0., 0.],\n",
       "        [0., 1., 0., 0.],\n",
       "        [0., 0., 1., 0.],\n",
       "        [0., 0., 0., 1.]])"
      ]
     },
     "execution_count": 43,
     "metadata": {},
     "output_type": "execute_result"
    }
   ],
   "source": [
    "nm.eye(4)"
   ]
  },
  {
   "cell_type": "code",
   "execution_count": 44,
   "id": "03907fe2-8455-41b2-be39-c4ac1c440978",
   "metadata": {},
   "outputs": [],
   "source": [
    "# Numpy -> Linear Algebra "
   ]
  },
  {
   "cell_type": "code",
   "execution_count": 45,
   "id": "19c45196-5291-4d9f-95c7-cb24c945893f",
   "metadata": {},
   "outputs": [
    {
     "data": {
      "text/plain": [
       "array([234, 324, 325, 862, 458,   0,   0,   0,   0, 234])"
      ]
     },
     "execution_count": 45,
     "metadata": {},
     "output_type": "execute_result"
    }
   ],
   "source": [
    "arr1"
   ]
  },
  {
   "cell_type": "code",
   "execution_count": 54,
   "id": "7ff06c0f-4ea7-430a-861c-63e2fddcfe63",
   "metadata": {},
   "outputs": [],
   "source": [
    "arr1 = np.random.randint([[2,3],[4,5]])\n",
    "arr2 = np.random.randint([[5,3],[2,5]])"
   ]
  },
  {
   "cell_type": "code",
   "execution_count": 55,
   "id": "e3d60220-a30b-486c-9b5a-87b1ab46bce4",
   "metadata": {},
   "outputs": [
    {
     "data": {
      "text/plain": [
       "array([[0, 0],\n",
       "       [2, 1]])"
      ]
     },
     "execution_count": 55,
     "metadata": {},
     "output_type": "execute_result"
    }
   ],
   "source": [
    "arr1"
   ]
  },
  {
   "cell_type": "code",
   "execution_count": 50,
   "id": "17aee836-9a4e-4a08-8441-1560e1556d01",
   "metadata": {},
   "outputs": [
    {
     "data": {
      "text/plain": [
       "array([[3, 2],\n",
       "       [0, 3]])"
      ]
     },
     "execution_count": 50,
     "metadata": {},
     "output_type": "execute_result"
    }
   ],
   "source": [
    "arr2"
   ]
  },
  {
   "cell_type": "code",
   "execution_count": 56,
   "id": "210b2c7e-dc19-4d86-bf55-c50da391ab0d",
   "metadata": {},
   "outputs": [
    {
     "data": {
      "text/plain": [
       "array([[0, 0],\n",
       "       [5, 4]])"
      ]
     },
     "execution_count": 56,
     "metadata": {},
     "output_type": "execute_result"
    }
   ],
   "source": [
    "np.dot(arr1,arr2)"
   ]
  },
  {
   "cell_type": "code",
   "execution_count": 57,
   "id": "c192d6aa-07ab-4d7d-a42b-2ddbb4b00a74",
   "metadata": {},
   "outputs": [
    {
     "data": {
      "text/plain": [
       "array([[0, 0],\n",
       "       [5, 4]])"
      ]
     },
     "execution_count": 57,
     "metadata": {},
     "output_type": "execute_result"
    }
   ],
   "source": [
    "arr1@arr2"
   ]
  }
 ],
 "metadata": {
  "kernelspec": {
   "display_name": "Python 3 (ipykernel)",
   "language": "python",
   "name": "python3"
  },
  "language_info": {
   "codemirror_mode": {
    "name": "ipython",
    "version": 3
   },
   "file_extension": ".py",
   "mimetype": "text/x-python",
   "name": "python",
   "nbconvert_exporter": "python",
   "pygments_lexer": "ipython3",
   "version": "3.10.8"
  }
 },
 "nbformat": 4,
 "nbformat_minor": 5
}
