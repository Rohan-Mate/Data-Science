{
 "cells": [
  {
   "cell_type": "markdown",
   "id": "b95c3ae9-9c78-461c-91cf-3a25434b3b73",
   "metadata": {},
   "source": [
    "### Numpy"
   ]
  },
  {
   "cell_type": "code",
   "execution_count": 1,
   "id": "312e89fe-3993-4ab7-a31d-9117c66f1b8b",
   "metadata": {},
   "outputs": [],
   "source": [
    "import numpy as np "
   ]
  },
  {
   "cell_type": "code",
   "execution_count": 2,
   "id": "e3941314-a3e3-4542-8fd4-044709f249f3",
   "metadata": {},
   "outputs": [],
   "source": [
    "# numpy -> array manipulation"
   ]
  },
  {
   "cell_type": "code",
   "execution_count": 4,
   "id": "a5963481-908f-438b-bac6-340f19e3c71f",
   "metadata": {},
   "outputs": [
    {
     "data": {
      "text/plain": [
       "array([[3, 2, 9, 8],\n",
       "       [5, 3, 8, 9],\n",
       "       [2, 4, 2, 1],\n",
       "       [8, 9, 3, 3]])"
      ]
     },
     "execution_count": 4,
     "metadata": {},
     "output_type": "execute_result"
    }
   ],
   "source": [
    "np.random.randint(1,10,(4,4))"
   ]
  },
  {
   "cell_type": "code",
   "execution_count": 5,
   "id": "000dfb8b-6c92-40f1-94a2-d28e69232f8f",
   "metadata": {},
   "outputs": [],
   "source": [
    "arr = np.random.randint(1,10,(4,4))"
   ]
  },
  {
   "cell_type": "code",
   "execution_count": 6,
   "id": "953018d3-d322-45f7-9c14-35d8caa24913",
   "metadata": {},
   "outputs": [
    {
     "data": {
      "text/plain": [
       "array([[9, 3],\n",
       "       [9, 9],\n",
       "       [1, 6],\n",
       "       [2, 9],\n",
       "       [5, 4],\n",
       "       [3, 7],\n",
       "       [7, 6],\n",
       "       [3, 3]])"
      ]
     },
     "execution_count": 6,
     "metadata": {},
     "output_type": "execute_result"
    }
   ],
   "source": [
    "arr.reshape(8,2)"
   ]
  },
  {
   "cell_type": "code",
   "execution_count": 7,
   "id": "c4c20d7a-13e9-4bd7-8911-1d4eb6a4c74d",
   "metadata": {},
   "outputs": [
    {
     "data": {
      "text/plain": [
       "array([[9, 3, 9, 9],\n",
       "       [1, 6, 2, 9],\n",
       "       [5, 4, 3, 7],\n",
       "       [7, 6, 3, 3]])"
      ]
     },
     "execution_count": 7,
     "metadata": {},
     "output_type": "execute_result"
    }
   ],
   "source": [
    "arr"
   ]
  },
  {
   "cell_type": "code",
   "execution_count": 8,
   "id": "18d4ef86-2537-4f11-b6b9-599d16fc977a",
   "metadata": {},
   "outputs": [
    {
     "data": {
      "text/plain": [
       "array([[9, 1, 5, 7],\n",
       "       [3, 6, 4, 6],\n",
       "       [9, 2, 3, 3],\n",
       "       [9, 9, 7, 3]])"
      ]
     },
     "execution_count": 8,
     "metadata": {},
     "output_type": "execute_result"
    }
   ],
   "source": [
    "arr.T"
   ]
  },
  {
   "cell_type": "code",
   "execution_count": 9,
   "id": "ba9fcefb-c8d7-4584-ad8c-3cd133882e0f",
   "metadata": {},
   "outputs": [
    {
     "data": {
      "text/plain": [
       "array([9, 3, 9, 9, 1, 6, 2, 9, 5, 4, 3, 7, 7, 6, 3, 3])"
      ]
     },
     "execution_count": 9,
     "metadata": {},
     "output_type": "execute_result"
    }
   ],
   "source": [
    "arr.flatten()"
   ]
  },
  {
   "cell_type": "code",
   "execution_count": 10,
   "id": "ec31192b-198a-4a7a-be1f-271ff26d36de",
   "metadata": {},
   "outputs": [
    {
     "data": {
      "text/plain": [
       "array([[9, 3, 9, 9],\n",
       "       [1, 6, 2, 9],\n",
       "       [5, 4, 3, 7],\n",
       "       [7, 6, 3, 3]])"
      ]
     },
     "execution_count": 10,
     "metadata": {},
     "output_type": "execute_result"
    }
   ],
   "source": [
    "arr"
   ]
  },
  {
   "cell_type": "code",
   "execution_count": 11,
   "id": "ecde75b5-740f-4657-b009-518c74e7df7f",
   "metadata": {},
   "outputs": [
    {
     "data": {
      "text/plain": [
       "array([[[9, 3, 9, 9]],\n",
       "\n",
       "       [[1, 6, 2, 9]],\n",
       "\n",
       "       [[5, 4, 3, 7]],\n",
       "\n",
       "       [[7, 6, 3, 3]]])"
      ]
     },
     "execution_count": 11,
     "metadata": {},
     "output_type": "execute_result"
    }
   ],
   "source": [
    "np.expand_dims(arr,axis = 1)"
   ]
  },
  {
   "cell_type": "code",
   "execution_count": 12,
   "id": "fb6bcc79-3c3f-4661-bd7b-b395d49fc3ca",
   "metadata": {},
   "outputs": [
    {
     "data": {
      "text/plain": [
       "array([[[9, 3, 9, 9],\n",
       "        [1, 6, 2, 9],\n",
       "        [5, 4, 3, 7],\n",
       "        [7, 6, 3, 3]]])"
      ]
     },
     "execution_count": 12,
     "metadata": {},
     "output_type": "execute_result"
    }
   ],
   "source": [
    "np.expand_dims(arr,axis=0)"
   ]
  },
  {
   "cell_type": "code",
   "execution_count": 13,
   "id": "df18bdda-71cb-49d7-abc9-27f68938f66b",
   "metadata": {},
   "outputs": [],
   "source": [
    "data = np.array([[1],[2],[3]])"
   ]
  },
  {
   "cell_type": "code",
   "execution_count": 14,
   "id": "fb076efe-8529-4e41-9d58-04c667c005fe",
   "metadata": {},
   "outputs": [
    {
     "data": {
      "text/plain": [
       "array([1, 2, 3])"
      ]
     },
     "execution_count": 14,
     "metadata": {},
     "output_type": "execute_result"
    }
   ],
   "source": [
    "np.squeeze(data)"
   ]
  },
  {
   "cell_type": "code",
   "execution_count": 17,
   "id": "0fcf5e91-8953-429b-9e93-35a83896292f",
   "metadata": {},
   "outputs": [
    {
     "data": {
      "text/plain": [
       "array([1, 1, 1, 1, 2, 2, 2, 2, 3, 3, 3, 3])"
      ]
     },
     "execution_count": 17,
     "metadata": {},
     "output_type": "execute_result"
    }
   ],
   "source": [
    "np.repeat(data,4)"
   ]
  },
  {
   "cell_type": "code",
   "execution_count": 18,
   "id": "ff92b5be-1b72-4ec7-ab5e-dd07b310ffa2",
   "metadata": {},
   "outputs": [
    {
     "data": {
      "text/plain": [
       "array([[1],\n",
       "       [2],\n",
       "       [3]])"
      ]
     },
     "execution_count": 18,
     "metadata": {},
     "output_type": "execute_result"
    }
   ],
   "source": [
    "np.roll(data,3)"
   ]
  },
  {
   "cell_type": "code",
   "execution_count": 19,
   "id": "e7e6cf7e-8a5f-44ab-88d6-d599dc8c9318",
   "metadata": {},
   "outputs": [
    {
     "data": {
      "text/plain": [
       "array([[2],\n",
       "       [3],\n",
       "       [1]])"
      ]
     },
     "execution_count": 19,
     "metadata": {},
     "output_type": "execute_result"
    }
   ],
   "source": [
    "np.roll(data,2)"
   ]
  },
  {
   "cell_type": "code",
   "execution_count": 20,
   "id": "75a53321-506a-4054-a969-02ec2844f8e1",
   "metadata": {},
   "outputs": [
    {
     "data": {
      "text/plain": [
       "array([[1, 0, 0, 0],\n",
       "       [0, 2, 0, 0],\n",
       "       [0, 0, 3, 0],\n",
       "       [0, 0, 0, 4]])"
      ]
     },
     "execution_count": 20,
     "metadata": {},
     "output_type": "execute_result"
    }
   ],
   "source": [
    "np.diag(np.array([1,2,3,4]))"
   ]
  },
  {
   "cell_type": "code",
   "execution_count": 21,
   "id": "55fb7097-def6-4194-b32e-022aeaebd66b",
   "metadata": {},
   "outputs": [],
   "source": [
    "# numpy -> Binary operation"
   ]
  },
  {
   "cell_type": "code",
   "execution_count": 24,
   "id": "3b581136-ac8a-4556-935c-c44ab7b882f4",
   "metadata": {},
   "outputs": [],
   "source": [
    "arr1 = np.random.randint(1,10, (3,4))\n",
    "arr2 = np.random.randint(1,10, (3,4))"
   ]
  },
  {
   "cell_type": "code",
   "execution_count": 26,
   "id": "2849da54-584d-4c04-a77d-422ce2776d1d",
   "metadata": {},
   "outputs": [
    {
     "data": {
      "text/plain": [
       "array([[9, 9, 7, 9],\n",
       "       [1, 7, 8, 7],\n",
       "       [1, 8, 7, 3]])"
      ]
     },
     "execution_count": 26,
     "metadata": {},
     "output_type": "execute_result"
    }
   ],
   "source": [
    "arr1"
   ]
  },
  {
   "cell_type": "code",
   "execution_count": 27,
   "id": "9d28ff66-bdb0-43c2-80e7-e944cf519b99",
   "metadata": {},
   "outputs": [
    {
     "data": {
      "text/plain": [
       "array([[4, 2, 7, 6],\n",
       "       [3, 3, 4, 8],\n",
       "       [6, 8, 2, 9]])"
      ]
     },
     "execution_count": 27,
     "metadata": {},
     "output_type": "execute_result"
    }
   ],
   "source": [
    "arr2"
   ]
  },
  {
   "cell_type": "code",
   "execution_count": 29,
   "id": "3742bf67-2ce8-469b-b82a-19948d72e93f",
   "metadata": {},
   "outputs": [
    {
     "data": {
      "text/plain": [
       "array([[13, 11, 14, 15],\n",
       "       [ 4, 10, 12, 15],\n",
       "       [ 7, 16,  9, 12]])"
      ]
     },
     "execution_count": 29,
     "metadata": {},
     "output_type": "execute_result"
    }
   ],
   "source": [
    "arr1 +arr2\n",
    "# index wise summation operation"
   ]
  },
  {
   "cell_type": "code",
   "execution_count": 30,
   "id": "7844e731-1340-4542-9f2d-49d55b3eb278",
   "metadata": {},
   "outputs": [
    {
     "data": {
      "text/plain": [
       "array([[36, 18, 49, 54],\n",
       "       [ 3, 21, 32, 56],\n",
       "       [ 6, 64, 14, 27]])"
      ]
     },
     "execution_count": 30,
     "metadata": {},
     "output_type": "execute_result"
    }
   ],
   "source": [
    "arr1 * arr2"
   ]
  },
  {
   "cell_type": "code",
   "execution_count": 31,
   "id": "0570585c-d55c-451c-81b5-bac82d9b39f9",
   "metadata": {},
   "outputs": [
    {
     "data": {
      "text/plain": [
       "array([[2.25      , 4.5       , 1.        , 1.5       ],\n",
       "       [0.33333333, 2.33333333, 2.        , 0.875     ],\n",
       "       [0.16666667, 1.        , 3.5       , 0.33333333]])"
      ]
     },
     "execution_count": 31,
     "metadata": {},
     "output_type": "execute_result"
    }
   ],
   "source": [
    "arr1 /arr2"
   ]
  },
  {
   "cell_type": "code",
   "execution_count": 32,
   "id": "59291f99-7402-4ffb-a4c0-cbd050560e95",
   "metadata": {},
   "outputs": [
    {
     "data": {
      "text/plain": [
       "array([[ 5,  7,  0,  3],\n",
       "       [-2,  4,  4, -1],\n",
       "       [-5,  0,  5, -6]])"
      ]
     },
     "execution_count": 32,
     "metadata": {},
     "output_type": "execute_result"
    }
   ],
   "source": [
    "arr1 - arr2"
   ]
  },
  {
   "cell_type": "code",
   "execution_count": 33,
   "id": "15237258-7457-4acc-b407-e54cd49c5e2a",
   "metadata": {},
   "outputs": [
    {
     "data": {
      "text/plain": [
       "array([[    6561,       81,   823543,   531441],\n",
       "       [       1,      343,     4096,  5764801],\n",
       "       [       1, 16777216,       49,    19683]])"
      ]
     },
     "execution_count": 33,
     "metadata": {},
     "output_type": "execute_result"
    }
   ],
   "source": [
    "arr1 ** arr2"
   ]
  },
  {
   "cell_type": "code",
   "execution_count": 34,
   "id": "f01b1746-8b5e-4197-a829-51255fb1f183",
   "metadata": {},
   "outputs": [
    {
     "data": {
      "text/plain": [
       "array([[-9, -9, -7, -9],\n",
       "       [-1, -7, -8, -7],\n",
       "       [-1, -8, -7, -3]])"
      ]
     },
     "execution_count": 34,
     "metadata": {},
     "output_type": "execute_result"
    }
   ],
   "source": [
    "-arr1"
   ]
  },
  {
   "cell_type": "code",
   "execution_count": 35,
   "id": "614ae5dc-816c-441b-b146-29801f5ae99f",
   "metadata": {},
   "outputs": [
    {
     "data": {
      "text/plain": [
       "array([[9, 9, 7, 9],\n",
       "       [1, 7, 8, 7],\n",
       "       [1, 8, 7, 3]])"
      ]
     },
     "execution_count": 35,
     "metadata": {},
     "output_type": "execute_result"
    }
   ],
   "source": [
    "arr1"
   ]
  },
  {
   "cell_type": "code",
   "execution_count": 36,
   "id": "db61bf32-8bee-43a2-a628-a3edb318fd6f",
   "metadata": {},
   "outputs": [
    {
     "data": {
      "text/plain": [
       "array([[ True,  True, False,  True],\n",
       "       [False,  True,  True, False],\n",
       "       [False, False,  True, False]])"
      ]
     },
     "execution_count": 36,
     "metadata": {},
     "output_type": "execute_result"
    }
   ],
   "source": [
    "arr1 >arr2"
   ]
  },
  {
   "cell_type": "code",
   "execution_count": 37,
   "id": "084e55d1-a911-4f2c-82e6-7e878cccf0bd",
   "metadata": {},
   "outputs": [],
   "source": [
    "# Numpy -> string operation"
   ]
  },
  {
   "cell_type": "code",
   "execution_count": 38,
   "id": "1ae2d8af-0804-4462-b246-4a7e3ec0eccb",
   "metadata": {},
   "outputs": [],
   "source": [
    "arr = np.array([\"sudh\",\"kumar\"])"
   ]
  },
  {
   "cell_type": "code",
   "execution_count": 39,
   "id": "618f6a28-3553-424e-a5d8-336d973f9583",
   "metadata": {},
   "outputs": [
    {
     "data": {
      "text/plain": [
       "array(['sudh', 'kumar'], dtype='<U5')"
      ]
     },
     "execution_count": 39,
     "metadata": {},
     "output_type": "execute_result"
    }
   ],
   "source": [
    "arr"
   ]
  },
  {
   "cell_type": "code",
   "execution_count": 40,
   "id": "aba09f34-5ee1-4311-ad48-667438c45c43",
   "metadata": {},
   "outputs": [
    {
     "data": {
      "text/plain": [
       "array(['SUDH', 'KUMAR'], dtype='<U5')"
      ]
     },
     "execution_count": 40,
     "metadata": {},
     "output_type": "execute_result"
    }
   ],
   "source": [
    "np.char.upper(arr)"
   ]
  },
  {
   "cell_type": "code",
   "execution_count": 41,
   "id": "bd440f6b-3642-417e-b4de-7945c1cbb11b",
   "metadata": {},
   "outputs": [
    {
     "data": {
      "text/plain": [
       "array(['Sudh', 'Kumar'], dtype='<U5')"
      ]
     },
     "execution_count": 41,
     "metadata": {},
     "output_type": "execute_result"
    }
   ],
   "source": [
    "np.char.capitalize(arr)"
   ]
  },
  {
   "cell_type": "code",
   "execution_count": 42,
   "id": "fcdf37c0-1e53-4be1-9298-81e2d67b0c4f",
   "metadata": {},
   "outputs": [
    {
     "data": {
      "text/plain": [
       "array(['Sudh', 'Kumar'], dtype='<U5')"
      ]
     },
     "execution_count": 42,
     "metadata": {},
     "output_type": "execute_result"
    }
   ],
   "source": [
    "np.char.title(arr)"
   ]
  },
  {
   "cell_type": "code",
   "execution_count": 43,
   "id": "82ad297d-f8c9-41e6-aceb-ba4134917348",
   "metadata": {},
   "outputs": [],
   "source": [
    "# Numpy -> Mathematical Functions"
   ]
  },
  {
   "cell_type": "code",
   "execution_count": 44,
   "id": "40f96a20-a075-4dc8-933b-1578d6315c2c",
   "metadata": {},
   "outputs": [
    {
     "data": {
      "text/plain": [
       "array([[9, 9, 7, 9],\n",
       "       [1, 7, 8, 7],\n",
       "       [1, 8, 7, 3]])"
      ]
     },
     "execution_count": 44,
     "metadata": {},
     "output_type": "execute_result"
    }
   ],
   "source": [
    "arr1"
   ]
  },
  {
   "cell_type": "code",
   "execution_count": 46,
   "id": "43d988bc-be5f-4c08-b000-4ff32a3bb29f",
   "metadata": {},
   "outputs": [
    {
     "data": {
      "text/plain": [
       "array([[0.41211849, 0.41211849, 0.6569866 , 0.41211849],\n",
       "       [0.84147098, 0.6569866 , 0.98935825, 0.6569866 ],\n",
       "       [0.84147098, 0.98935825, 0.6569866 , 0.14112001]])"
      ]
     },
     "execution_count": 46,
     "metadata": {},
     "output_type": "execute_result"
    }
   ],
   "source": [
    "np.sin(arr1)"
   ]
  },
  {
   "cell_type": "code",
   "execution_count": 47,
   "id": "8a8d1d2d-9506-4635-922b-39c9e2537c69",
   "metadata": {},
   "outputs": [
    {
     "data": {
      "text/plain": [
       "array([[-0.91113026, -0.91113026,  0.75390225, -0.91113026],\n",
       "       [ 0.54030231,  0.75390225, -0.14550003,  0.75390225],\n",
       "       [ 0.54030231, -0.14550003,  0.75390225, -0.9899925 ]])"
      ]
     },
     "execution_count": 47,
     "metadata": {},
     "output_type": "execute_result"
    }
   ],
   "source": [
    "np.cos(arr1)"
   ]
  },
  {
   "cell_type": "code",
   "execution_count": 48,
   "id": "342e10a1-1c9d-40af-93dc-ed06210bc3af",
   "metadata": {},
   "outputs": [
    {
     "data": {
      "text/plain": [
       "array([[-0.45231566, -0.45231566,  0.87144798, -0.45231566],\n",
       "       [ 1.55740772,  0.87144798, -6.79971146,  0.87144798],\n",
       "       [ 1.55740772, -6.79971146,  0.87144798, -0.14254654]])"
      ]
     },
     "execution_count": 48,
     "metadata": {},
     "output_type": "execute_result"
    }
   ],
   "source": [
    "np.tan(arr1)"
   ]
  },
  {
   "cell_type": "code",
   "execution_count": 49,
   "id": "08841eca-8d83-43ff-898c-1b4c8503d0bf",
   "metadata": {},
   "outputs": [
    {
     "data": {
      "text/plain": [
       "array([[0.95424251, 0.95424251, 0.84509804, 0.95424251],\n",
       "       [0.        , 0.84509804, 0.90308999, 0.84509804],\n",
       "       [0.        , 0.90308999, 0.84509804, 0.47712125]])"
      ]
     },
     "execution_count": 49,
     "metadata": {},
     "output_type": "execute_result"
    }
   ],
   "source": [
    "np.log10(arr1)"
   ]
  },
  {
   "cell_type": "code",
   "execution_count": 50,
   "id": "0209e0ff-b41d-4e02-b61b-beba7b9de8a8",
   "metadata": {},
   "outputs": [
    {
     "data": {
      "text/plain": [
       "array([[8.10308393e+03, 8.10308393e+03, 1.09663316e+03, 8.10308393e+03],\n",
       "       [2.71828183e+00, 1.09663316e+03, 2.98095799e+03, 1.09663316e+03],\n",
       "       [2.71828183e+00, 2.98095799e+03, 1.09663316e+03, 2.00855369e+01]])"
      ]
     },
     "execution_count": 50,
     "metadata": {},
     "output_type": "execute_result"
    }
   ],
   "source": [
    "np.exp(arr1)"
   ]
  },
  {
   "cell_type": "code",
   "execution_count": 52,
   "id": "2541bafa-41d4-49a3-a1b0-68dfeaa97038",
   "metadata": {},
   "outputs": [
    {
     "data": {
      "text/plain": [
       "array([[729, 729, 343, 729],\n",
       "       [  1, 343, 512, 343],\n",
       "       [  1, 512, 343,  27]])"
      ]
     },
     "execution_count": 52,
     "metadata": {},
     "output_type": "execute_result"
    }
   ],
   "source": [
    "np.power(arr1,3)"
   ]
  },
  {
   "cell_type": "code",
   "execution_count": 53,
   "id": "1aa6497a-b0d6-4265-990c-ec35745a2a3f",
   "metadata": {},
   "outputs": [
    {
     "data": {
      "text/plain": [
       "6.333333333333333"
      ]
     },
     "execution_count": 53,
     "metadata": {},
     "output_type": "execute_result"
    }
   ],
   "source": [
    "np.mean(arr1)"
   ]
  },
  {
   "cell_type": "code",
   "execution_count": 55,
   "id": "d07e7954-60d1-42da-a8bc-c396e142036b",
   "metadata": {},
   "outputs": [
    {
     "data": {
      "text/plain": [
       "7.0"
      ]
     },
     "execution_count": 55,
     "metadata": {},
     "output_type": "execute_result"
    }
   ],
   "source": [
    "np.median(arr1)"
   ]
  },
  {
   "cell_type": "code",
   "execution_count": 57,
   "id": "b8781b89-bcff-46bd-b826-b9a0d3fdce28",
   "metadata": {},
   "outputs": [
    {
     "data": {
      "text/plain": [
       "2.8382310609877335"
      ]
     },
     "execution_count": 57,
     "metadata": {},
     "output_type": "execute_result"
    }
   ],
   "source": [
    "np.std(arr1)"
   ]
  },
  {
   "cell_type": "code",
   "execution_count": 58,
   "id": "2fbc8897-9a6e-428e-a6e0-8481c1392ef2",
   "metadata": {},
   "outputs": [
    {
     "data": {
      "text/plain": [
       "8.055555555555555"
      ]
     },
     "execution_count": 58,
     "metadata": {},
     "output_type": "execute_result"
    }
   ],
   "source": [
    "np.var(arr1)"
   ]
  },
  {
   "cell_type": "code",
   "execution_count": 59,
   "id": "5d91d732-d5c1-4b0d-9b70-04a8823e1ef3",
   "metadata": {},
   "outputs": [
    {
     "data": {
      "text/plain": [
       "1"
      ]
     },
     "execution_count": 59,
     "metadata": {},
     "output_type": "execute_result"
    }
   ],
   "source": [
    "np.min(arr1)"
   ]
  },
  {
   "cell_type": "code",
   "execution_count": 60,
   "id": "b4e8b03f-700a-48f8-a7c6-bec998c1d214",
   "metadata": {},
   "outputs": [
    {
     "data": {
      "text/plain": [
       "9"
      ]
     },
     "execution_count": 60,
     "metadata": {},
     "output_type": "execute_result"
    }
   ],
   "source": [
    "np.max(arr1)"
   ]
  },
  {
   "cell_type": "code",
   "execution_count": 61,
   "id": "447f7192-0825-4f87-82b6-ef9e95f51a70",
   "metadata": {},
   "outputs": [],
   "source": [
    "# Numpy -> Airthmetic operation"
   ]
  },
  {
   "cell_type": "code",
   "execution_count": 62,
   "id": "f9375b2d-485c-4230-82c4-35a8f2cc4ac6",
   "metadata": {},
   "outputs": [
    {
     "data": {
      "text/plain": [
       "array([[9, 9, 7, 9],\n",
       "       [1, 7, 8, 7],\n",
       "       [1, 8, 7, 3]])"
      ]
     },
     "execution_count": 62,
     "metadata": {},
     "output_type": "execute_result"
    }
   ],
   "source": [
    "arr1"
   ]
  },
  {
   "cell_type": "code",
   "execution_count": 63,
   "id": "ae044d65-8aef-4f71-897f-2bf4b6378360",
   "metadata": {},
   "outputs": [
    {
     "data": {
      "text/plain": [
       "array([[4, 2, 7, 6],\n",
       "       [3, 3, 4, 8],\n",
       "       [6, 8, 2, 9]])"
      ]
     },
     "execution_count": 63,
     "metadata": {},
     "output_type": "execute_result"
    }
   ],
   "source": [
    "arr2"
   ]
  },
  {
   "cell_type": "code",
   "execution_count": 64,
   "id": "a9029c05-3872-499a-b431-7f8ca181e76b",
   "metadata": {},
   "outputs": [
    {
     "data": {
      "text/plain": [
       "array([[ 5,  7,  0,  3],\n",
       "       [-2,  4,  4, -1],\n",
       "       [-5,  0,  5, -6]])"
      ]
     },
     "execution_count": 64,
     "metadata": {},
     "output_type": "execute_result"
    }
   ],
   "source": [
    "arr1 - arr2"
   ]
  },
  {
   "cell_type": "code",
   "execution_count": 65,
   "id": "b965f92c-14b7-4950-9671-302931419ef8",
   "metadata": {},
   "outputs": [
    {
     "data": {
      "text/plain": [
       "array([[ 5,  7,  0,  3],\n",
       "       [-2,  4,  4, -1],\n",
       "       [-5,  0,  5, -6]])"
      ]
     },
     "execution_count": 65,
     "metadata": {},
     "output_type": "execute_result"
    }
   ],
   "source": [
    "np.subtract(arr1,arr2)"
   ]
  },
  {
   "cell_type": "code",
   "execution_count": 66,
   "id": "9ada2f6d-fe3d-404e-a1a1-4bd03a8c1a73",
   "metadata": {},
   "outputs": [
    {
     "data": {
      "text/plain": [
       "array([[36, 18, 49, 54],\n",
       "       [ 3, 21, 32, 56],\n",
       "       [ 6, 64, 14, 27]])"
      ]
     },
     "execution_count": 66,
     "metadata": {},
     "output_type": "execute_result"
    }
   ],
   "source": [
    "np.multiply(arr1,arr2)"
   ]
  },
  {
   "cell_type": "code",
   "execution_count": 68,
   "id": "0cefaddd-6c65-4354-9731-ea92c31ff58e",
   "metadata": {},
   "outputs": [
    {
     "data": {
      "text/plain": [
       "array([[1, 1, 0, 3],\n",
       "       [1, 1, 0, 7],\n",
       "       [1, 0, 1, 3]])"
      ]
     },
     "execution_count": 68,
     "metadata": {},
     "output_type": "execute_result"
    }
   ],
   "source": [
    "np.mod(arr1,arr2)"
   ]
  },
  {
   "cell_type": "code",
   "execution_count": 69,
   "id": "cc2c24ce-534d-4c09-a8eb-cc55567ede70",
   "metadata": {},
   "outputs": [
    {
     "data": {
      "text/plain": [
       "array([[    6561,       81,   823543,   531441],\n",
       "       [       1,      343,     4096,  5764801],\n",
       "       [       1, 16777216,       49,    19683]])"
      ]
     },
     "execution_count": 69,
     "metadata": {},
     "output_type": "execute_result"
    }
   ],
   "source": [
    "np.power(arr1,arr2)"
   ]
  },
  {
   "cell_type": "code",
   "execution_count": 71,
   "id": "677fe804-aabf-4431-a847-7e1625bbe0b2",
   "metadata": {},
   "outputs": [
    {
     "data": {
      "text/plain": [
       "array([[2.        , 1.41421356, 2.64575131, 2.44948974],\n",
       "       [1.73205081, 1.73205081, 2.        , 2.82842712],\n",
       "       [2.44948974, 2.82842712, 1.41421356, 3.        ]])"
      ]
     },
     "execution_count": 71,
     "metadata": {},
     "output_type": "execute_result"
    }
   ],
   "source": [
    "np.sqrt(arr2)"
   ]
  },
  {
   "cell_type": "code",
   "execution_count": 72,
   "id": "5b08358c-b930-4c64-b7dc-6dbf29f12259",
   "metadata": {},
   "outputs": [],
   "source": [
    "# Numpy -> statistical functions."
   ]
  },
  {
   "cell_type": "code",
   "execution_count": 73,
   "id": "52be007f-fc49-4e70-aa23-eaec497d3a79",
   "metadata": {},
   "outputs": [
    {
     "data": {
      "text/plain": [
       "array([[9, 9, 7, 9],\n",
       "       [1, 7, 8, 7],\n",
       "       [1, 8, 7, 3]])"
      ]
     },
     "execution_count": 73,
     "metadata": {},
     "output_type": "execute_result"
    }
   ],
   "source": [
    "arr1"
   ]
  },
  {
   "cell_type": "code",
   "execution_count": 74,
   "id": "b53addd3-a20c-4dba-87b3-0f3c5b56c553",
   "metadata": {},
   "outputs": [
    {
     "data": {
      "text/plain": [
       "6.333333333333333"
      ]
     },
     "execution_count": 74,
     "metadata": {},
     "output_type": "execute_result"
    }
   ],
   "source": [
    "np.mean(arr1)"
   ]
  },
  {
   "cell_type": "code",
   "execution_count": 75,
   "id": "07266d3d-d381-4a49-8ea4-0d0b3fc8abf1",
   "metadata": {},
   "outputs": [
    {
     "data": {
      "text/plain": [
       "2.8382310609877335"
      ]
     },
     "execution_count": 75,
     "metadata": {},
     "output_type": "execute_result"
    }
   ],
   "source": [
    "np.std(arr1)"
   ]
  },
  {
   "cell_type": "code",
   "execution_count": 76,
   "id": "19fb3d4e-47ee-4119-85fe-e9aa3df48f1c",
   "metadata": {},
   "outputs": [
    {
     "data": {
      "text/plain": [
       "7.0"
      ]
     },
     "execution_count": 76,
     "metadata": {},
     "output_type": "execute_result"
    }
   ],
   "source": [
    "np.median(arr1)"
   ]
  },
  {
   "cell_type": "code",
   "execution_count": null,
   "id": "f4c0b8b4-7361-4f24-b9d0-7db8689754c7",
   "metadata": {},
   "outputs": [],
   "source": []
  }
 ],
 "metadata": {
  "kernelspec": {
   "display_name": "Python 3 (ipykernel)",
   "language": "python",
   "name": "python3"
  },
  "language_info": {
   "codemirror_mode": {
    "name": "ipython",
    "version": 3
   },
   "file_extension": ".py",
   "mimetype": "text/x-python",
   "name": "python",
   "nbconvert_exporter": "python",
   "pygments_lexer": "ipython3",
   "version": "3.10.8"
  }
 },
 "nbformat": 4,
 "nbformat_minor": 5
}
