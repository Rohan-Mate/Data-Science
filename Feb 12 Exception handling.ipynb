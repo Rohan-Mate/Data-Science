{
 "cells": [
  {
   "cell_type": "markdown",
   "id": "5c0928ef-b379-445a-b88d-c01fb6a8437d",
   "metadata": {},
   "source": [
    "### Exception handling"
   ]
  },
  {
   "cell_type": "code",
   "execution_count": 1,
   "id": "8ad5fc3d-b760-4b17-a040-9d0ecd7f6002",
   "metadata": {},
   "outputs": [],
   "source": [
    "a=10"
   ]
  },
  {
   "cell_type": "code",
   "execution_count": 2,
   "id": "4a8903c1-2ada-4263-8a24-fcdee59adf40",
   "metadata": {},
   "outputs": [
    {
     "ename": "ZeroDivisionError",
     "evalue": "division by zero",
     "output_type": "error",
     "traceback": [
      "\u001b[0;31m---------------------------------------------------------------------------\u001b[0m",
      "\u001b[0;31mZeroDivisionError\u001b[0m                         Traceback (most recent call last)",
      "Cell \u001b[0;32mIn[2], line 1\u001b[0m\n\u001b[0;32m----> 1\u001b[0m \u001b[43ma\u001b[49m\u001b[38;5;241;43m/\u001b[39;49m\u001b[38;5;241;43m0\u001b[39;49m\n",
      "\u001b[0;31mZeroDivisionError\u001b[0m: division by zero"
     ]
    }
   ],
   "source": [
    "a/0"
   ]
  },
  {
   "cell_type": "code",
   "execution_count": 15,
   "id": "5c2b907f-f24f-4d10-bd6c-bfbda9a095e1",
   "metadata": {},
   "outputs": [],
   "source": [
    "# 3 line ka code error krr raha hain reason is :\n",
    "# jo file hum read krr rahe hain wo file present hi nahi hai isliye ye code error de raha hain"
   ]
  },
  {
   "cell_type": "code",
   "execution_count": 3,
   "id": "82ebabd9-0ac8-49d4-82cf-442c7d3ad943",
   "metadata": {},
   "outputs": [
    {
     "ename": "FileNotFoundError",
     "evalue": "[Errno 2] No such file or directory: 'test_sample.txt'",
     "output_type": "error",
     "traceback": [
      "\u001b[0;31m---------------------------------------------------------------------------\u001b[0m",
      "\u001b[0;31mFileNotFoundError\u001b[0m                         Traceback (most recent call last)",
      "Cell \u001b[0;32mIn[3], line 1\u001b[0m\n\u001b[0;32m----> 1\u001b[0m f\u001b[38;5;241m=\u001b[39m\u001b[38;5;28;43mopen\u001b[39;49m\u001b[43m(\u001b[49m\u001b[38;5;124;43m'\u001b[39;49m\u001b[38;5;124;43mtest_sample.txt\u001b[39;49m\u001b[38;5;124;43m'\u001b[39;49m\u001b[43m,\u001b[49m\u001b[38;5;124;43m'\u001b[39;49m\u001b[38;5;124;43mr\u001b[39;49m\u001b[38;5;124;43m'\u001b[39;49m\u001b[43m)\u001b[49m\n\u001b[1;32m      2\u001b[0m \u001b[38;5;28mprint\u001b[39m(\u001b[38;5;124m'\u001b[39m\u001b[38;5;124mthis is my print\u001b[39m\u001b[38;5;124m'\u001b[39m)\n",
      "File \u001b[0;32m/opt/conda/lib/python3.10/site-packages/IPython/core/interactiveshell.py:282\u001b[0m, in \u001b[0;36m_modified_open\u001b[0;34m(file, *args, **kwargs)\u001b[0m\n\u001b[1;32m    275\u001b[0m \u001b[38;5;28;01mif\u001b[39;00m file \u001b[38;5;129;01min\u001b[39;00m {\u001b[38;5;241m0\u001b[39m, \u001b[38;5;241m1\u001b[39m, \u001b[38;5;241m2\u001b[39m}:\n\u001b[1;32m    276\u001b[0m     \u001b[38;5;28;01mraise\u001b[39;00m \u001b[38;5;167;01mValueError\u001b[39;00m(\n\u001b[1;32m    277\u001b[0m         \u001b[38;5;124mf\u001b[39m\u001b[38;5;124m\"\u001b[39m\u001b[38;5;124mIPython won\u001b[39m\u001b[38;5;124m'\u001b[39m\u001b[38;5;124mt let you open fd=\u001b[39m\u001b[38;5;132;01m{\u001b[39;00mfile\u001b[38;5;132;01m}\u001b[39;00m\u001b[38;5;124m by default \u001b[39m\u001b[38;5;124m\"\u001b[39m\n\u001b[1;32m    278\u001b[0m         \u001b[38;5;124m\"\u001b[39m\u001b[38;5;124mas it is likely to crash IPython. If you know what you are doing, \u001b[39m\u001b[38;5;124m\"\u001b[39m\n\u001b[1;32m    279\u001b[0m         \u001b[38;5;124m\"\u001b[39m\u001b[38;5;124myou can use builtins\u001b[39m\u001b[38;5;124m'\u001b[39m\u001b[38;5;124m open.\u001b[39m\u001b[38;5;124m\"\u001b[39m\n\u001b[1;32m    280\u001b[0m     )\n\u001b[0;32m--> 282\u001b[0m \u001b[38;5;28;01mreturn\u001b[39;00m \u001b[43mio_open\u001b[49m\u001b[43m(\u001b[49m\u001b[43mfile\u001b[49m\u001b[43m,\u001b[49m\u001b[43m \u001b[49m\u001b[38;5;241;43m*\u001b[39;49m\u001b[43margs\u001b[49m\u001b[43m,\u001b[49m\u001b[43m \u001b[49m\u001b[38;5;241;43m*\u001b[39;49m\u001b[38;5;241;43m*\u001b[39;49m\u001b[43mkwargs\u001b[49m\u001b[43m)\u001b[49m\n",
      "\u001b[0;31mFileNotFoundError\u001b[0m: [Errno 2] No such file or directory: 'test_sample.txt'"
     ]
    }
   ],
   "source": [
    "f=open('test_sample.txt','r')\n",
    "print('this is my print')"
   ]
  },
  {
   "cell_type": "code",
   "execution_count": null,
   "id": "115c52ab-fd21-4c7d-9bdc-2ea63973a14f",
   "metadata": {},
   "outputs": [],
   "source": [
    "# we create a try block\n",
    "# try is reserved keyword"
   ]
  },
  {
   "cell_type": "code",
   "execution_count": 4,
   "id": "8195e58a-c656-47cb-8f20-c8d84cc42330",
   "metadata": {},
   "outputs": [
    {
     "ename": "SyntaxError",
     "evalue": "incomplete input (450648010.py, line 2)",
     "output_type": "error",
     "traceback": [
      "\u001b[0;36m  Cell \u001b[0;32mIn[4], line 2\u001b[0;36m\u001b[0m\n\u001b[0;31m    f=open('test_sample.txt','r')\u001b[0m\n\u001b[0m                                 ^\u001b[0m\n\u001b[0;31mSyntaxError\u001b[0m\u001b[0;31m:\u001b[0m incomplete input\n"
     ]
    }
   ],
   "source": [
    "try:\n",
    "    f=open('test_sample.txt','r')"
   ]
  },
  {
   "cell_type": "code",
   "execution_count": 5,
   "id": "40a1da50-d770-4a43-b1d3-c99a3f495154",
   "metadata": {},
   "outputs": [
    {
     "name": "stdout",
     "output_type": "stream",
     "text": [
      "there is some issue with my code [Errno 2] No such file or directory: 'test_sample.txt'\n"
     ]
    }
   ],
   "source": [
    "try:\n",
    "    f=open('test_sample.txt','r')\n",
    "except Exception as e :\n",
    "    print('there is some issue with my code',e)"
   ]
  },
  {
   "cell_type": "code",
   "execution_count": 16,
   "id": "bd93bf23-416e-4f8a-8a6b-fb5690c47663",
   "metadata": {},
   "outputs": [],
   "source": [
    "# exception = whenever there is an exception \n",
    "# Exception handling allows you to separate error-handling code from normal code.\n",
    "# An exception is a Python object which represents an error. \n",
    "# As with code comments, exceptions helps you to remind yourself of what the program expects. \n",
    "# It clarifies the code and enhances readability."
   ]
  },
  {
   "cell_type": "code",
   "execution_count": 6,
   "id": "2c086508-c019-41dd-82bb-bfc9726544df",
   "metadata": {},
   "outputs": [
    {
     "name": "stdout",
     "output_type": "stream",
     "text": [
      "there is some issue with my code [Errno 2] No such file or directory: 'test_sample.txt'\n",
      "this is my print\n",
      "10\n"
     ]
    }
   ],
   "source": [
    "try:\n",
    "    f=open('test_sample.txt','r')\n",
    "except Exception as e :\n",
    "    print('there is some issue with my code',e)\n",
    "print('this is my print')\n",
    "a=10\n",
    "print(a)"
   ]
  },
  {
   "cell_type": "code",
   "execution_count": 10,
   "id": "3d108f41-6817-4dca-b2b8-ba3a56cb580a",
   "metadata": {},
   "outputs": [
    {
     "name": "stdout",
     "output_type": "stream",
     "text": [
      "this is block will execute once try will execute itself without an exception\n"
     ]
    }
   ],
   "source": [
    "try:\n",
    "    f=open('test_sample.txt','w')\n",
    "    f.write(\"this is my msg\")\n",
    "\n",
    "except Exception as e :\n",
    "    print('there is some issue with my code',e)\n",
    "else:\n",
    "    f.close()\n",
    "    print(\"this is block will execute once try will execute itself without an exception\")"
   ]
  },
  {
   "cell_type": "code",
   "execution_count": null,
   "id": "be0a3e97-2e65-42bd-95be-d918d4fea838",
   "metadata": {},
   "outputs": [],
   "source": [
    "# try block and else try block is an error  \n",
    "# below line mein hamne ek test_sample ki write karke file create ki hain prr \n",
    "# usme hamne file to open ki magar close nahi ki isliye wo error throw krr raha hain"
   ]
  },
  {
   "cell_type": "code",
   "execution_count": 17,
   "id": "1e8cf26f-df6b-4706-bfc1-6a8c7044544b",
   "metadata": {},
   "outputs": [
    {
     "name": "stdout",
     "output_type": "stream",
     "text": [
      "this is block will execute once try will execute itself without an exception\n"
     ]
    }
   ],
   "source": [
    "try:\n",
    "    f=open('test_sample1.txt','w')\n",
    "    f.write(\"this is my msg\")\n",
    "\n",
    "except Exception as e :\n",
    "    print('there is some issue with my code',e)\n",
    "else:\n",
    "    f.close()\n",
    "    print(\"this is block will execute once try will execute itself without an exception\")"
   ]
  },
  {
   "cell_type": "code",
   "execution_count": 12,
   "id": "6ab4a20d-43bb-4be0-8330-5e51da3be341",
   "metadata": {},
   "outputs": [
    {
     "name": "stdout",
     "output_type": "stream",
     "text": [
      "this will always execute\n"
     ]
    },
    {
     "ename": "FileNotFoundError",
     "evalue": "[Errno 2] No such file or directory: 'test_sample1.txt'",
     "output_type": "error",
     "traceback": [
      "\u001b[0;31m---------------------------------------------------------------------------\u001b[0m",
      "\u001b[0;31mFileNotFoundError\u001b[0m                         Traceback (most recent call last)",
      "Cell \u001b[0;32mIn[12], line 2\u001b[0m\n\u001b[1;32m      1\u001b[0m \u001b[38;5;28;01mtry\u001b[39;00m:\n\u001b[0;32m----> 2\u001b[0m     f\u001b[38;5;241m=\u001b[39m\u001b[38;5;28;43mopen\u001b[39;49m\u001b[43m(\u001b[49m\u001b[38;5;124;43m'\u001b[39;49m\u001b[38;5;124;43mtest_sample1.txt\u001b[39;49m\u001b[38;5;124;43m'\u001b[39;49m\u001b[43m,\u001b[49m\u001b[38;5;124;43m'\u001b[39;49m\u001b[38;5;124;43mr\u001b[39;49m\u001b[38;5;124;43m'\u001b[39;49m\u001b[43m)\u001b[49m\n\u001b[1;32m      3\u001b[0m     f\u001b[38;5;241m.\u001b[39mwrite(\u001b[38;5;124m\"\u001b[39m\u001b[38;5;124mthis is my msg\u001b[39m\u001b[38;5;124m\"\u001b[39m)\n\u001b[1;32m      5\u001b[0m \u001b[38;5;28;01mfinally\u001b[39;00m:\n",
      "File \u001b[0;32m/opt/conda/lib/python3.10/site-packages/IPython/core/interactiveshell.py:282\u001b[0m, in \u001b[0;36m_modified_open\u001b[0;34m(file, *args, **kwargs)\u001b[0m\n\u001b[1;32m    275\u001b[0m \u001b[38;5;28;01mif\u001b[39;00m file \u001b[38;5;129;01min\u001b[39;00m {\u001b[38;5;241m0\u001b[39m, \u001b[38;5;241m1\u001b[39m, \u001b[38;5;241m2\u001b[39m}:\n\u001b[1;32m    276\u001b[0m     \u001b[38;5;28;01mraise\u001b[39;00m \u001b[38;5;167;01mValueError\u001b[39;00m(\n\u001b[1;32m    277\u001b[0m         \u001b[38;5;124mf\u001b[39m\u001b[38;5;124m\"\u001b[39m\u001b[38;5;124mIPython won\u001b[39m\u001b[38;5;124m'\u001b[39m\u001b[38;5;124mt let you open fd=\u001b[39m\u001b[38;5;132;01m{\u001b[39;00mfile\u001b[38;5;132;01m}\u001b[39;00m\u001b[38;5;124m by default \u001b[39m\u001b[38;5;124m\"\u001b[39m\n\u001b[1;32m    278\u001b[0m         \u001b[38;5;124m\"\u001b[39m\u001b[38;5;124mas it is likely to crash IPython. If you know what you are doing, \u001b[39m\u001b[38;5;124m\"\u001b[39m\n\u001b[1;32m    279\u001b[0m         \u001b[38;5;124m\"\u001b[39m\u001b[38;5;124myou can use builtins\u001b[39m\u001b[38;5;124m'\u001b[39m\u001b[38;5;124m open.\u001b[39m\u001b[38;5;124m\"\u001b[39m\n\u001b[1;32m    280\u001b[0m     )\n\u001b[0;32m--> 282\u001b[0m \u001b[38;5;28;01mreturn\u001b[39;00m \u001b[43mio_open\u001b[49m\u001b[43m(\u001b[49m\u001b[43mfile\u001b[49m\u001b[43m,\u001b[49m\u001b[43m \u001b[49m\u001b[38;5;241;43m*\u001b[39;49m\u001b[43margs\u001b[49m\u001b[43m,\u001b[49m\u001b[43m \u001b[49m\u001b[38;5;241;43m*\u001b[39;49m\u001b[38;5;241;43m*\u001b[39;49m\u001b[43mkwargs\u001b[49m\u001b[43m)\u001b[49m\n",
      "\u001b[0;31mFileNotFoundError\u001b[0m: [Errno 2] No such file or directory: 'test_sample1.txt'"
     ]
    }
   ],
   "source": [
    "try:\n",
    "    f=open('test_sample1.txt','r')\n",
    "    f.write(\"this is my msg\")\n",
    "    \n",
    "finally:\n",
    "    print(\"this will always execute\")"
   ]
  },
  {
   "cell_type": "code",
   "execution_count": 13,
   "id": "519cf106-723a-4901-bed0-8b24cb0b19aa",
   "metadata": {},
   "outputs": [
    {
     "name": "stdout",
     "output_type": "stream",
     "text": [
      "there is some issue with my code [Errno 2] No such file or directory: 'test_sample1.txt'\n",
      "i will execute always\n"
     ]
    }
   ],
   "source": [
    "try:\n",
    "    f=open('test_sample1.txt','r')\n",
    "    f.write(\"this is my msg\")\n",
    "\n",
    "except Exception as e :\n",
    "    print('there is some issue with my code',e)\n",
    "else:\n",
    "    f.close()\n",
    "    print(\"this is block will execute once try will execute itself without an exception\")\n",
    "finally:\n",
    "    print(\"i will execute always\")"
   ]
  },
  {
   "cell_type": "code",
   "execution_count": null,
   "id": "1008eabd-5470-4af5-8c24-d7267c19347d",
   "metadata": {},
   "outputs": [],
   "source": [
    "# without exception try block execute hoga to hi else execute hoga nahi to nahi hoga "
   ]
  },
  {
   "cell_type": "code",
   "execution_count": 14,
   "id": "340b5a6b-cc61-44dc-a850-9140e3913fa7",
   "metadata": {},
   "outputs": [
    {
     "name": "stdout",
     "output_type": "stream",
     "text": [
      "this is block will execute once try will execute itself without an exception\n",
      "i will execute always\n"
     ]
    }
   ],
   "source": [
    "try:\n",
    "    f=open('test_sample1.txt','w')\n",
    "    f.write(\"this is my msg\")\n",
    "\n",
    "except Exception as e :\n",
    "    print('there is some issue with my code',e)\n",
    "else:\n",
    "    f.close()\n",
    "    print(\"this is block will execute once try will execute itself without an exception\")\n",
    "finally:\n",
    "    print(\"i will execute always\")"
   ]
  },
  {
   "cell_type": "code",
   "execution_count": null,
   "id": "fdf484e6-25ea-4fe7-9bdb-527dfa54d53f",
   "metadata": {},
   "outputs": [],
   "source": []
  }
 ],
 "metadata": {
  "kernelspec": {
   "display_name": "Python 3 (ipykernel)",
   "language": "python",
   "name": "python3"
  },
  "language_info": {
   "codemirror_mode": {
    "name": "ipython",
    "version": 3
   },
   "file_extension": ".py",
   "mimetype": "text/x-python",
   "name": "python",
   "nbconvert_exporter": "python",
   "pygments_lexer": "ipython3",
   "version": "3.10.8"
  }
 },
 "nbformat": 4,
 "nbformat_minor": 5
}
