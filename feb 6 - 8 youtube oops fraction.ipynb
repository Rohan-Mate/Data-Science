{
 "cells": [
  {
   "cell_type": "code",
   "execution_count": 1,
   "id": "f3e7a11f-23cc-4518-bd5c-a0a9a7a1e5ee",
   "metadata": {},
   "outputs": [
    {
     "name": "stdout",
     "output_type": "stream",
     "text": [
      "0.8333333333333334\n"
     ]
    }
   ],
   "source": [
    "x=5/6\n",
    "print(x)"
   ]
  },
  {
   "cell_type": "code",
   "execution_count": 2,
   "id": "62720c84-12f8-4918-aad8-2f7d8cbdb8e7",
   "metadata": {},
   "outputs": [],
   "source": [
    "class Fraction:\n",
    "    \n",
    "    def __init__(self,n,d):\n",
    "        self.num=n\n",
    "        self.den=d"
   ]
  },
  {
   "cell_type": "code",
   "execution_count": 3,
   "id": "9acfa125-b895-4d31-a68a-47a5ea1df003",
   "metadata": {},
   "outputs": [],
   "source": [
    "x= Fraction(4,5)"
   ]
  },
  {
   "cell_type": "code",
   "execution_count": 5,
   "id": "247da36e-6ab8-411e-827f-9779b7ae5875",
   "metadata": {},
   "outputs": [
    {
     "name": "stdout",
     "output_type": "stream",
     "text": [
      "<class '__main__.Fraction'>\n"
     ]
    }
   ],
   "source": [
    "print(type(x))"
   ]
  },
  {
   "cell_type": "code",
   "execution_count": 6,
   "id": "fd906496-5eaa-4c94-b660-315cf225f76a",
   "metadata": {},
   "outputs": [],
   "source": [
    "l=[1,2,3,4,5,x]"
   ]
  },
  {
   "cell_type": "code",
   "execution_count": 7,
   "id": "27f11d00-ed58-4bb4-ba62-807813cdc731",
   "metadata": {},
   "outputs": [
    {
     "data": {
      "text/plain": [
       "[1, 2, 3, 4, 5, <__main__.Fraction at 0x7f40f826bca0>]"
      ]
     },
     "execution_count": 7,
     "metadata": {},
     "output_type": "execute_result"
    }
   ],
   "source": [
    "l"
   ]
  },
  {
   "cell_type": "markdown",
   "id": "07d65a26-0b9c-442f-a3d4-0b95c5c626a5",
   "metadata": {},
   "source": [
    "### magic method = ye wo method hain jinhe object call nahi karta hai wo automatically execute hote hain"
   ]
  },
  {
   "cell_type": "code",
   "execution_count": 10,
   "id": "9064b599-7cfb-405b-b81d-96547760a7d0",
   "metadata": {},
   "outputs": [],
   "source": [
    "class Fraction:\n",
    "    def __init__(self,n,d):\n",
    "        self.num=n\n",
    "        self.den=d\n",
    "    def __str__(self):\n",
    "        return (\"hello\")"
   ]
  },
  {
   "cell_type": "code",
   "execution_count": 11,
   "id": "168f01d4-61ad-42fd-9774-8519e3625eac",
   "metadata": {},
   "outputs": [
    {
     "name": "stdout",
     "output_type": "stream",
     "text": [
      "hello\n"
     ]
    }
   ],
   "source": [
    "x=Fraction(4,5)\n",
    "print(x)"
   ]
  },
  {
   "cell_type": "code",
   "execution_count": 12,
   "id": "a0bfc967-129e-42c0-b61f-9d95c6871eab",
   "metadata": {},
   "outputs": [
    {
     "name": "stdout",
     "output_type": "stream",
     "text": [
      "hello\n"
     ]
    }
   ],
   "source": [
    "y=Fraction(5,9)\n",
    "print(y)"
   ]
  },
  {
   "cell_type": "code",
   "execution_count": 18,
   "id": "927f6604-0be8-4a0a-ae5a-0be16f41f3ab",
   "metadata": {},
   "outputs": [],
   "source": [
    "class Fraction1:\n",
    "    def __init__(self,n,d):\n",
    "        self.num=n\n",
    "        self.den=d\n",
    "    def __str__(self,n,d):\n",
    "        return \"{}/{}\".format(self.num,self.den)"
   ]
  },
  {
   "cell_type": "code",
   "execution_count": 19,
   "id": "34d767d3-f048-4bd7-90ab-864a39f7ad53",
   "metadata": {},
   "outputs": [],
   "source": [
    "x=Fraction1(4,5)"
   ]
  },
  {
   "cell_type": "code",
   "execution_count": 20,
   "id": "82041e65-b05a-4b1a-9e8b-7968fe67ee84",
   "metadata": {},
   "outputs": [
    {
     "data": {
      "text/plain": [
       "<__main__.Fraction1 at 0x7f40f811e020>"
      ]
     },
     "execution_count": 20,
     "metadata": {},
     "output_type": "execute_result"
    }
   ],
   "source": [
    "x"
   ]
  },
  {
   "cell_type": "code",
   "execution_count": 28,
   "id": "03dc426e-4877-4a71-93de-2d8a52216389",
   "metadata": {},
   "outputs": [],
   "source": [
    "class Fraction2:\n",
    "    \n",
    "    def __init__(self,n,d):\n",
    "        self.num = n\n",
    "        self.den = d \n",
    "    def __str__(self):\n",
    "        return '{}/{}'.format(self.num,self.den)"
   ]
  },
  {
   "cell_type": "code",
   "execution_count": 29,
   "id": "e656675b-1c4c-413e-bc21-3dd98723394d",
   "metadata": {},
   "outputs": [],
   "source": [
    "z=Fraction2(4,5)"
   ]
  },
  {
   "cell_type": "code",
   "execution_count": 30,
   "id": "2d5db6a5-861f-4854-ad2b-8a07f0b03d0e",
   "metadata": {},
   "outputs": [
    {
     "name": "stdout",
     "output_type": "stream",
     "text": [
      "4/5\n"
     ]
    }
   ],
   "source": [
    "print(z)"
   ]
  },
  {
   "cell_type": "code",
   "execution_count": 34,
   "id": "d5b09e06-b16f-40c4-85aa-cdcd3cb83522",
   "metadata": {},
   "outputs": [],
   "source": [
    "class Frac3:\n",
    "    \n",
    "    def __init__(self,n,d):\n",
    "        self.num=n\n",
    "        self.den=d\n",
    "        \n",
    "    def __str__(self,n,d):\n",
    "        return '{}/{}'.format(self.num,self.den)\n",
    "    \n",
    "    def __add__(self,other):\n",
    "        tem_num=self.num*other.den + other.num*self.den\n",
    "        tem_den=self.den*other.den\n",
    "        return '{}/{}'.format(tem_num,tem_den)"
   ]
  },
  {
   "cell_type": "code",
   "execution_count": 39,
   "id": "ac30afbb-3323-4d02-9202-362e93e650ac",
   "metadata": {},
   "outputs": [],
   "source": [
    "x=Frac3(3,4)\n",
    "y=Frac3(5,6)"
   ]
  },
  {
   "cell_type": "code",
   "execution_count": 40,
   "id": "8530ad5c-24a1-44e3-b2e9-851e466c7ef5",
   "metadata": {},
   "outputs": [
    {
     "name": "stdout",
     "output_type": "stream",
     "text": [
      "38/24\n"
     ]
    }
   ],
   "source": [
    "print(x+y)"
   ]
  },
  {
   "cell_type": "code",
   "execution_count": 42,
   "id": "2e2a5947-9ac3-489c-bff0-38d5493a4aae",
   "metadata": {},
   "outputs": [],
   "source": [
    "class Frac4:\n",
    "    \n",
    "    def __init__(self,n,d):\n",
    "        self.num=n\n",
    "        self.den=d\n",
    "        \n",
    "    def __str__(self,n,d):\n",
    "        return '{}/{}'.format(self.num,self.den)\n",
    "    \n",
    "    def __add__(self,other):\n",
    "        tem_num=self.num*other.den + other.num*self.den\n",
    "        tem_den=self.den*other.den\n",
    "        return '{}/{}'.format(tem_num,tem_den)\n",
    "    \n",
    "    def __sub__(self,other):\n",
    "        tem_num=self.num*other.den - other.num*self.den\n",
    "        tem_den=self.den*other.den\n",
    "        return '{}/{}'.format(tem_num,tem_den)\n",
    "    \n",
    "    def __mul__(self,other):\n",
    "        tem_num=self.num*other.num\n",
    "        tem_den=self.den*other.den\n",
    "        return '{}/{}'.format(tem_num,tem_den)\n",
    "    \n",
    "    def __truediv__(self,other):\n",
    "        tem_num=self.num*other.den \n",
    "        tem_den=self.den*other.num\n",
    "        return '{}/{}'.format(tem_num,tem_den)    "
   ]
  },
  {
   "cell_type": "code",
   "execution_count": 43,
   "id": "617e2538-ecba-466c-ade5-3381f01dcf81",
   "metadata": {},
   "outputs": [],
   "source": [
    "x=Frac4(3,4)\n",
    "y=Frac4(5,6)"
   ]
  },
  {
   "cell_type": "code",
   "execution_count": 44,
   "id": "8767f8cf-17fc-480a-a906-91a791e3a7d8",
   "metadata": {},
   "outputs": [
    {
     "name": "stdout",
     "output_type": "stream",
     "text": [
      "38/24\n",
      "-2/24\n",
      "15/24\n",
      "18/20\n"
     ]
    }
   ],
   "source": [
    "print(x+y)\n",
    "print(x-y)\n",
    "print(x*y)\n",
    "print(x/y)"
   ]
  },
  {
   "cell_type": "code",
   "execution_count": null,
   "id": "5f0d9ce8-6790-4b89-8d5f-c0051be94d2f",
   "metadata": {},
   "outputs": [],
   "source": []
  }
 ],
 "metadata": {
  "kernelspec": {
   "display_name": "Python 3 (ipykernel)",
   "language": "python",
   "name": "python3"
  },
  "language_info": {
   "codemirror_mode": {
    "name": "ipython",
    "version": 3
   },
   "file_extension": ".py",
   "mimetype": "text/x-python",
   "name": "python",
   "nbconvert_exporter": "python",
   "pygments_lexer": "ipython3",
   "version": "3.10.8"
  }
 },
 "nbformat": 4,
 "nbformat_minor": 5
}
