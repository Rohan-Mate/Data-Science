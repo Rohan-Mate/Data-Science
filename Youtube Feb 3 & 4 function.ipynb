{
 "cells": [
  {
   "cell_type": "markdown",
   "id": "36aee751-9043-4806-893c-2c9f24533c72",
   "metadata": {},
   "source": [
    "### Youtube - function of python"
   ]
  },
  {
   "cell_type": "code",
   "execution_count": 2,
   "id": "9e55fc11-8955-4a63-9bca-94e1d6cc3939",
   "metadata": {},
   "outputs": [],
   "source": [
    "# let's create a function (with docstring)"
   ]
  },
  {
   "cell_type": "code",
   "execution_count": 6,
   "id": "0e9487ce-5195-463d-a5a4-be6bab3933d9",
   "metadata": {},
   "outputs": [],
   "source": [
    "def is_even(num):\n",
    "    \"\"\"\n",
    "    This function returns if a given number is odd or even \n",
    "    input - any valid integer \n",
    "    output - odd/even\n",
    "    \"\"\"\n",
    "    if num % 2 == 0:\n",
    "        return 'even'\n",
    "    else:\n",
    "        return 'odd'"
   ]
  },
  {
   "cell_type": "code",
   "execution_count": 7,
   "id": "64e42e0a-2486-462f-aae4-c7bef43c870d",
   "metadata": {},
   "outputs": [
    {
     "name": "stdout",
     "output_type": "stream",
     "text": [
      "odd\n",
      "even\n",
      "odd\n",
      "even\n",
      "odd\n",
      "even\n",
      "odd\n",
      "even\n",
      "odd\n",
      "even\n"
     ]
    }
   ],
   "source": [
    "# call function\n",
    "\n",
    "for i in range(1,11):\n",
    "    x = is_even(i)\n",
    "    print(x)"
   ]
  },
  {
   "cell_type": "code",
   "execution_count": 8,
   "id": "88a84ab4-68b4-4cc3-930e-23fd2f276150",
   "metadata": {},
   "outputs": [
    {
     "name": "stdout",
     "output_type": "stream",
     "text": [
      "(1, 'odd')\n",
      "(2, 'even')\n",
      "(3, 'odd')\n",
      "(4, 'even')\n",
      "(5, 'odd')\n",
      "(6, 'even')\n",
      "(7, 'odd')\n",
      "(8, 'even')\n",
      "(9, 'odd')\n",
      "(10, 'even')\n"
     ]
    }
   ],
   "source": [
    "for i in range(1,11):\n",
    "    x = i,is_even(i)\n",
    "    print(x)"
   ]
  },
  {
   "cell_type": "code",
   "execution_count": 10,
   "id": "8f774c3a-e92c-442c-83ff-2910637f19a9",
   "metadata": {},
   "outputs": [
    {
     "ename": "TypeError",
     "evalue": "not all arguments converted during string formatting",
     "output_type": "error",
     "traceback": [
      "\u001b[0;31m---------------------------------------------------------------------------\u001b[0m",
      "\u001b[0;31mTypeError\u001b[0m                                 Traceback (most recent call last)",
      "Cell \u001b[0;32mIn[10], line 2\u001b[0m\n\u001b[1;32m      1\u001b[0m \u001b[38;5;66;03m# 2 point of views\u001b[39;00m\n\u001b[0;32m----> 2\u001b[0m \u001b[43mis_even\u001b[49m\u001b[43m(\u001b[49m\u001b[38;5;124;43m\"\u001b[39;49m\u001b[38;5;124;43mhello\u001b[39;49m\u001b[38;5;124;43m\"\u001b[39;49m\u001b[43m)\u001b[49m\n\u001b[1;32m      3\u001b[0m \u001b[38;5;66;03m# how to handle this error\u001b[39;00m\n",
      "Cell \u001b[0;32mIn[6], line 7\u001b[0m, in \u001b[0;36mis_even\u001b[0;34m(num)\u001b[0m\n\u001b[1;32m      1\u001b[0m \u001b[38;5;28;01mdef\u001b[39;00m \u001b[38;5;21mis_even\u001b[39m(num):\n\u001b[1;32m      2\u001b[0m     \u001b[38;5;124;03m\"\"\"\u001b[39;00m\n\u001b[1;32m      3\u001b[0m \u001b[38;5;124;03m    This function returns if a given number is odd or even \u001b[39;00m\n\u001b[1;32m      4\u001b[0m \u001b[38;5;124;03m    input - any valid integer \u001b[39;00m\n\u001b[1;32m      5\u001b[0m \u001b[38;5;124;03m    output - odd/even\u001b[39;00m\n\u001b[1;32m      6\u001b[0m \u001b[38;5;124;03m    \"\"\"\u001b[39;00m\n\u001b[0;32m----> 7\u001b[0m     \u001b[38;5;28;01mif\u001b[39;00m \u001b[43mnum\u001b[49m\u001b[43m \u001b[49m\u001b[38;5;241;43m%\u001b[39;49m\u001b[43m \u001b[49m\u001b[38;5;241;43m2\u001b[39;49m \u001b[38;5;241m==\u001b[39m \u001b[38;5;241m0\u001b[39m:\n\u001b[1;32m      8\u001b[0m         \u001b[38;5;28;01mreturn\u001b[39;00m \u001b[38;5;124m'\u001b[39m\u001b[38;5;124meven\u001b[39m\u001b[38;5;124m'\u001b[39m\n\u001b[1;32m      9\u001b[0m     \u001b[38;5;28;01melse\u001b[39;00m:\n",
      "\u001b[0;31mTypeError\u001b[0m: not all arguments converted during string formatting"
     ]
    }
   ],
   "source": [
    "# 2 point of views\n",
    "is_even(\"hello\")\n",
    "# how to handle this error"
   ]
  },
  {
   "cell_type": "code",
   "execution_count": 11,
   "id": "135c0c15-da22-4006-9aa9-471ed848beda",
   "metadata": {},
   "outputs": [],
   "source": [
    "def is_even(num):\n",
    "    if type(num) == int:\n",
    "        if num % 2 == 0:\n",
    "            print('even')\n",
    "        else:\n",
    "            print('odd')\n",
    "    else:\n",
    "        print(\"pagal hai kya\")"
   ]
  },
  {
   "cell_type": "code",
   "execution_count": 14,
   "id": "de4febeb-b95c-4d1b-a9a8-f080339070df",
   "metadata": {},
   "outputs": [
    {
     "name": "stdout",
     "output_type": "stream",
     "text": [
      "pagal hai kya\n"
     ]
    }
   ],
   "source": [
    "is_even(\"hello\")"
   ]
  },
  {
   "cell_type": "markdown",
   "id": "514216f3-8534-44a4-af1f-d26936f0758b",
   "metadata": {},
   "source": [
    "### Types of Arguments\n",
    "##### default argument\n",
    "##### positional argument\n",
    "##### keyword argument"
   ]
  },
  {
   "cell_type": "code",
   "execution_count": 15,
   "id": "edeb652a-9e57-4de0-b556-a187c283aa1b",
   "metadata": {},
   "outputs": [],
   "source": [
    "def power(a,b):\n",
    "    return a**b"
   ]
  },
  {
   "cell_type": "code",
   "execution_count": 17,
   "id": "a07ab067-d267-4c1e-a3a2-48da2b1afe83",
   "metadata": {},
   "outputs": [
    {
     "data": {
      "text/plain": [
       "25"
      ]
     },
     "execution_count": 17,
     "metadata": {},
     "output_type": "execute_result"
    }
   ],
   "source": [
    "power(5,2)"
   ]
  },
  {
   "cell_type": "code",
   "execution_count": 18,
   "id": "600b14fc-c217-43ac-a9bd-5132b3f37e35",
   "metadata": {},
   "outputs": [
    {
     "ename": "TypeError",
     "evalue": "power() missing 1 required positional argument: 'b'",
     "output_type": "error",
     "traceback": [
      "\u001b[0;31m---------------------------------------------------------------------------\u001b[0m",
      "\u001b[0;31mTypeError\u001b[0m                                 Traceback (most recent call last)",
      "Cell \u001b[0;32mIn[18], line 1\u001b[0m\n\u001b[0;32m----> 1\u001b[0m \u001b[43mpower\u001b[49m\u001b[43m(\u001b[49m\u001b[38;5;241;43m5\u001b[39;49m\u001b[43m)\u001b[49m\n",
      "\u001b[0;31mTypeError\u001b[0m: power() missing 1 required positional argument: 'b'"
     ]
    }
   ],
   "source": [
    "power(5)"
   ]
  },
  {
   "cell_type": "code",
   "execution_count": 23,
   "id": "2f1d7dcc-c24e-4054-9d3c-d1082538efbd",
   "metadata": {},
   "outputs": [],
   "source": [
    "def power(a=1,b=1):\n",
    "    return a**b\n",
    "# default argument"
   ]
  },
  {
   "cell_type": "code",
   "execution_count": 20,
   "id": "55b6531d-078e-4244-bc87-e3d524866b5f",
   "metadata": {},
   "outputs": [
    {
     "data": {
      "text/plain": [
       "25"
      ]
     },
     "execution_count": 20,
     "metadata": {},
     "output_type": "execute_result"
    }
   ],
   "source": [
    "power(5,2)"
   ]
  },
  {
   "cell_type": "code",
   "execution_count": 21,
   "id": "adc70ac6-25b5-446d-b25e-406d07fda16c",
   "metadata": {},
   "outputs": [
    {
     "data": {
      "text/plain": [
       "2"
      ]
     },
     "execution_count": 21,
     "metadata": {},
     "output_type": "execute_result"
    }
   ],
   "source": [
    "power(2)"
   ]
  },
  {
   "cell_type": "code",
   "execution_count": 22,
   "id": "e53cafcc-8d85-4aed-a690-1f960ca1ab54",
   "metadata": {},
   "outputs": [
    {
     "data": {
      "text/plain": [
       "1"
      ]
     },
     "execution_count": 22,
     "metadata": {},
     "output_type": "execute_result"
    }
   ],
   "source": [
    "power()"
   ]
  },
  {
   "cell_type": "markdown",
   "id": "681f020a-955e-44bd-b82a-1cb8cd24e046",
   "metadata": {},
   "source": [
    "### positional argument"
   ]
  },
  {
   "cell_type": "code",
   "execution_count": 25,
   "id": "3ac51593-da93-483e-a738-433b18936e06",
   "metadata": {},
   "outputs": [
    {
     "data": {
      "text/plain": [
       "8"
      ]
     },
     "execution_count": 25,
     "metadata": {},
     "output_type": "execute_result"
    }
   ],
   "source": [
    "power(2,3)\n",
    "# jis order mein arguments ko bhejte ho usi oder mein parameter recieve karta hain "
   ]
  },
  {
   "cell_type": "markdown",
   "id": "8f285f57-5944-4595-a764-6974146fb9f1",
   "metadata": {},
   "source": [
    "### Keyword argument"
   ]
  },
  {
   "cell_type": "code",
   "execution_count": 26,
   "id": "b95e4d27-4991-48c9-8654-50b1dca1fe6e",
   "metadata": {},
   "outputs": [
    {
     "data": {
      "text/plain": [
       "8"
      ]
     },
     "execution_count": 26,
     "metadata": {},
     "output_type": "execute_result"
    }
   ],
   "source": [
    "power(b=3,a=2)\n",
    "# yaha pe positional argument follow nahi hue isse ko key argument kehte hain\n",
    "# positional argument ko keyword argument superseed karta hain "
   ]
  },
  {
   "cell_type": "markdown",
   "id": "9560134f-9ca0-424f-a7c0-428030601e14",
   "metadata": {},
   "source": [
    "### *args & **kwargs \n",
    "##### are special python keyword that are use to pass the variable length of arguments to a function"
   ]
  },
  {
   "cell_type": "code",
   "execution_count": 29,
   "id": "9a9313ca-a181-4484-a375-7cf8149937dc",
   "metadata": {},
   "outputs": [],
   "source": [
    "# * args \n",
    "# allow us to pass a variable number of non keyword arguments to a function\n",
    "\n",
    "def multiply(a,b):\n",
    "    return a*b "
   ]
  },
  {
   "cell_type": "code",
   "execution_count": 30,
   "id": "1afb6d70-461e-4052-bc73-479bf1032ee9",
   "metadata": {},
   "outputs": [
    {
     "data": {
      "text/plain": [
       "6"
      ]
     },
     "execution_count": 30,
     "metadata": {},
     "output_type": "execute_result"
    }
   ],
   "source": [
    "multiply(2,3)"
   ]
  },
  {
   "cell_type": "code",
   "execution_count": 31,
   "id": "4d1d0d23-8834-4daa-89e2-4d775364ce1e",
   "metadata": {},
   "outputs": [],
   "source": [
    "def multiply(a,b,c):\n",
    "    return a*b *c"
   ]
  },
  {
   "cell_type": "code",
   "execution_count": 32,
   "id": "8397347a-6d34-41bd-92a0-d373f2d6ff11",
   "metadata": {},
   "outputs": [
    {
     "data": {
      "text/plain": [
       "24"
      ]
     },
     "execution_count": 32,
     "metadata": {},
     "output_type": "execute_result"
    }
   ],
   "source": [
    "multiply(2,3,4)"
   ]
  },
  {
   "cell_type": "code",
   "execution_count": 34,
   "id": "6f35a454-13b2-4b87-a756-7a359f6c324e",
   "metadata": {},
   "outputs": [],
   "source": [
    "# que aisa function bana do ki kitne bhi no of input dene pe multiply bana ke de \n",
    "# ans : tab hum args ka use karte hain"
   ]
  },
  {
   "cell_type": "code",
   "execution_count": 35,
   "id": "2b597e42-b11c-4da4-9d8e-d2c335eda8f3",
   "metadata": {},
   "outputs": [],
   "source": [
    "def multiply(*args):\n",
    "    product=1\n",
    "    \n",
    "    for i in args :\n",
    "        product = product * i\n",
    "        \n",
    "    return product    "
   ]
  },
  {
   "cell_type": "code",
   "execution_count": 37,
   "id": "15f8fb2e-d729-427d-9c41-dc4cfd9fcf00",
   "metadata": {},
   "outputs": [
    {
     "data": {
      "text/plain": [
       "362880"
      ]
     },
     "execution_count": 37,
     "metadata": {},
     "output_type": "execute_result"
    }
   ],
   "source": [
    "multiply(1,2,3,4,5,6,7,8,9)"
   ]
  },
  {
   "cell_type": "code",
   "execution_count": 38,
   "id": "03a2eac8-15ec-469a-ad9e-69722797ff8d",
   "metadata": {},
   "outputs": [],
   "source": [
    "def multiply(*args):\n",
    "    product=1\n",
    "    \n",
    "    for i in args :\n",
    "        product = product * i\n",
    "    print(args)    \n",
    "    return product   "
   ]
  },
  {
   "cell_type": "code",
   "execution_count": 40,
   "id": "ceced5c7-d22e-4b77-9469-83b9f2d41202",
   "metadata": {},
   "outputs": [
    {
     "name": "stdout",
     "output_type": "stream",
     "text": [
      "(1, 2, 3, 4, 5)\n"
     ]
    },
    {
     "data": {
      "text/plain": [
       "120"
      ]
     },
     "execution_count": 40,
     "metadata": {},
     "output_type": "execute_result"
    }
   ],
   "source": [
    "multiply(1,2,3,4,5)\n",
    "# astricks(*) ka meaning hai no variables aap use krr sakte ho - aur wo variable tuples me save ho jate hain aur hum unpar loop laga sakte hain "
   ]
  },
  {
   "cell_type": "code",
   "execution_count": 41,
   "id": "953ff7d8-5f49-4122-81ca-faf2a5c5f828",
   "metadata": {},
   "outputs": [],
   "source": [
    "### **kwargs \n",
    "# **kwargs allow us to pass any number of keyword arguments.\n",
    "# keyword arguments mean that they contain a key value pair , like a python dictionary\n",
    "# **kwargs mein hum jo kuch bhi bhejenge wo dictionary mein add hoga \n",
    "\n",
    "def display(**kwargs):\n",
    "    \n",
    "    for (key,value) in kwargs.items():\n",
    "        print(key,'->',value)\n",
    "    "
   ]
  },
  {
   "cell_type": "code",
   "execution_count": 42,
   "id": "f86ddbd9-699a-47b6-92e2-62bfd22cb6ab",
   "metadata": {},
   "outputs": [
    {
     "name": "stdout",
     "output_type": "stream",
     "text": [
      "india -> delhi\n",
      "srilanka -> colombo\n",
      "nepal -> kathmandu\n"
     ]
    }
   ],
   "source": [
    "display(india = 'delhi',srilanka='colombo',nepal='kathmandu')"
   ]
  },
  {
   "cell_type": "code",
   "execution_count": 43,
   "id": "895c2ca2-fff3-4c5b-8685-742f63837352",
   "metadata": {},
   "outputs": [
    {
     "name": "stdout",
     "output_type": "stream",
     "text": [
      "india -> delhi\n",
      "srilanka -> colombo\n",
      "nepal -> kathmandu\n",
      "pakistan -> islamabad\n"
     ]
    }
   ],
   "source": [
    "display(india = 'delhi',srilanka='colombo',nepal='kathmandu',pakistan='islamabad')"
   ]
  },
  {
   "cell_type": "markdown",
   "id": "0d80fe63-7b92-41cf-93f1-46f55a249f1c",
   "metadata": {},
   "source": [
    "#### points to remember while using *args and **kwargs\n",
    "\n",
    "##### 1. order of the arguments matter (normal -> *args -> **kwargs)\n",
    "##### 2. The word \"args\" and \"kwargs\" are only a convention , you can use any name of your choice"
   ]
  },
  {
   "cell_type": "markdown",
   "id": "3bb2af62-450a-488e-9284-c736b8a5bf6d",
   "metadata": {},
   "source": [
    "### Without return statement"
   ]
  },
  {
   "cell_type": "code",
   "execution_count": 47,
   "id": "59368b71-efcb-4991-9179-b7f2a87bcb0f",
   "metadata": {},
   "outputs": [],
   "source": [
    "def is_even(num):\n",
    "    if num % 2 == 0:\n",
    "        print(\"even\")\n",
    "    else:\n",
    "        print(\"odd\")\n",
    "        \n",
    "        "
   ]
  },
  {
   "cell_type": "code",
   "execution_count": 48,
   "id": "af94e0ff-d516-4b99-ab9b-a2dddc13ce29",
   "metadata": {},
   "outputs": [
    {
     "name": "stdout",
     "output_type": "stream",
     "text": [
      "odd\n"
     ]
    }
   ],
   "source": [
    "is_even(7)\n",
    "# ans print karega but return mein internally none ho jayega "
   ]
  },
  {
   "cell_type": "code",
   "execution_count": 51,
   "id": "4bb9c26d-cfc3-4a1f-8ad0-f55d69ea964b",
   "metadata": {},
   "outputs": [
    {
     "name": "stdout",
     "output_type": "stream",
     "text": [
      "None\n"
     ]
    }
   ],
   "source": [
    "L=[1,2,3]\n",
    "print(L.append(4))\n",
    "# idhar sirf usne append kiya return kuch nahi bheja "
   ]
  },
  {
   "cell_type": "code",
   "execution_count": 50,
   "id": "9c53f206-9d89-448e-8cd8-22b0d61efb5b",
   "metadata": {},
   "outputs": [
    {
     "name": "stdout",
     "output_type": "stream",
     "text": [
      "None\n",
      "[1, 2, 3, 4]\n"
     ]
    }
   ],
   "source": [
    "L=[1,2,3]\n",
    "print(L.append(4))\n",
    "print(L)"
   ]
  },
  {
   "cell_type": "markdown",
   "id": "ca33805f-8bbc-457a-9df5-537629925de1",
   "metadata": {},
   "source": [
    "### Variable Scope"
   ]
  },
  {
   "cell_type": "code",
   "execution_count": 52,
   "id": "be597c4e-c857-4b6f-9957-13e0642b1d69",
   "metadata": {},
   "outputs": [
    {
     "name": "stdout",
     "output_type": "stream",
     "text": [
      "5\n",
      "6\n",
      "5\n"
     ]
    }
   ],
   "source": [
    "def g(y):\n",
    "    print(x)\n",
    "    print(x+1)\n",
    "    \n",
    "x=5\n",
    "g(x)\n",
    "print(x)"
   ]
  },
  {
   "cell_type": "code",
   "execution_count": 54,
   "id": "cf6c2d6b-9c93-4cf3-9253-19c7a84f842f",
   "metadata": {},
   "outputs": [
    {
     "name": "stdout",
     "output_type": "stream",
     "text": [
      "2\n",
      "5\n"
     ]
    }
   ],
   "source": [
    "def f(y):\n",
    "    x =1\n",
    "    x += 1\n",
    "    print(x)\n",
    "x=5\n",
    "f(x)\n",
    "print(x)"
   ]
  },
  {
   "cell_type": "code",
   "execution_count": 57,
   "id": "f0133a09-464e-4f34-afc6-a54dab33e443",
   "metadata": {},
   "outputs": [
    {
     "ename": "UnboundLocalError",
     "evalue": "local variable 'x' referenced before assignment",
     "output_type": "error",
     "traceback": [
      "\u001b[0;31m---------------------------------------------------------------------------\u001b[0m",
      "\u001b[0;31mUnboundLocalError\u001b[0m                         Traceback (most recent call last)",
      "Cell \u001b[0;32mIn[57], line 4\u001b[0m\n\u001b[1;32m      2\u001b[0m     x \u001b[38;5;241m+\u001b[39m\u001b[38;5;241m=\u001b[39m\u001b[38;5;241m1\u001b[39m\n\u001b[1;32m      3\u001b[0m x\u001b[38;5;241m=\u001b[39m\u001b[38;5;241m5\u001b[39m\n\u001b[0;32m----> 4\u001b[0m \u001b[43mh\u001b[49m\u001b[43m(\u001b[49m\u001b[43mx\u001b[49m\u001b[43m)\u001b[49m\n\u001b[1;32m      5\u001b[0m \u001b[38;5;28mprint\u001b[39m(x)\n",
      "Cell \u001b[0;32mIn[57], line 2\u001b[0m, in \u001b[0;36mh\u001b[0;34m(y)\u001b[0m\n\u001b[1;32m      1\u001b[0m \u001b[38;5;28;01mdef\u001b[39;00m \u001b[38;5;21mh\u001b[39m(y):\n\u001b[0;32m----> 2\u001b[0m     x \u001b[38;5;241m+\u001b[39m\u001b[38;5;241m=\u001b[39m\u001b[38;5;241m1\u001b[39m\n",
      "\u001b[0;31mUnboundLocalError\u001b[0m: local variable 'x' referenced before assignment"
     ]
    }
   ],
   "source": [
    "def h(y):\n",
    "    x +=1\n",
    "x=5\n",
    "h(x)\n",
    "print(x)"
   ]
  },
  {
   "cell_type": "code",
   "execution_count": 58,
   "id": "c229ae45-5aad-430a-9e92-d401ce5eeb8c",
   "metadata": {},
   "outputs": [
    {
     "name": "stdout",
     "output_type": "stream",
     "text": [
      "6\n"
     ]
    }
   ],
   "source": [
    "def h(y):\n",
    "    global x\n",
    "    x +=1\n",
    "x=5\n",
    "h(x)\n",
    "print(x)"
   ]
  },
  {
   "cell_type": "markdown",
   "id": "88191571-9674-40ae-882f-9a12cf473281",
   "metadata": {},
   "source": [
    "### Nested function"
   ]
  },
  {
   "cell_type": "code",
   "execution_count": 61,
   "id": "f7f8f771-3322-49df-b001-bd7b4b795b79",
   "metadata": {},
   "outputs": [],
   "source": [
    "def f():\n",
    "    def g():\n",
    "        print('inside function g')\n",
    "    g()    \n",
    "    print('inside function f')"
   ]
  },
  {
   "cell_type": "code",
   "execution_count": 62,
   "id": "4e31cb34-30aa-4dd4-8922-1ca13e8c3318",
   "metadata": {},
   "outputs": [
    {
     "name": "stdout",
     "output_type": "stream",
     "text": [
      "inside function g\n",
      "inside function f\n"
     ]
    }
   ],
   "source": [
    "f()"
   ]
  },
  {
   "cell_type": "code",
   "execution_count": 2,
   "id": "953ac310-9e76-40ec-b181-e81851e1ef1f",
   "metadata": {},
   "outputs": [
    {
     "ename": "NameError",
     "evalue": "name 'g' is not defined",
     "output_type": "error",
     "traceback": [
      "\u001b[0;31m---------------------------------------------------------------------------\u001b[0m",
      "\u001b[0;31mNameError\u001b[0m                                 Traceback (most recent call last)",
      "Cell \u001b[0;32mIn[2], line 1\u001b[0m\n\u001b[0;32m----> 1\u001b[0m \u001b[43mg\u001b[49m()\n\u001b[1;32m      2\u001b[0m \u001b[38;5;66;03m# error aa gaya - nested function main program se hidden hota hai hum directly andar wale function ko access nahi krr sakte\u001b[39;00m\n\u001b[1;32m      3\u001b[0m \u001b[38;5;66;03m#                 andar wale function ko sirf bahar wala hi function access krr sakta hain \u001b[39;00m\n",
      "\u001b[0;31mNameError\u001b[0m: name 'g' is not defined"
     ]
    }
   ],
   "source": [
    "g()\n",
    "# error aa gaya - nested function main program se hidden hota hai hum directly andar wale function ko access nahi krr sakte\n",
    "#                 andar wale function ko sirf bahar wala hi function access krr sakta hain "
   ]
  },
  {
   "cell_type": "code",
   "execution_count": 3,
   "id": "2246feb0-46e3-4cf9-94bb-9f3da60824f2",
   "metadata": {},
   "outputs": [
    {
     "name": "stdout",
     "output_type": "stream",
     "text": [
      "in g (x) : 4\n"
     ]
    }
   ],
   "source": [
    "def g(x):\n",
    "    def h():\n",
    "        x = 'abc'\n",
    "    x = x+1\n",
    "    print('in g (x) :',x)\n",
    "    h()\n",
    "    return x \n",
    "x=3\n",
    "z=g(x)"
   ]
  },
  {
   "cell_type": "markdown",
   "id": "8fab7ae4-18e3-4365-84b7-e7d4f4bba3a7",
   "metadata": {},
   "source": [
    "### fumctions are 1st class citizen "
   ]
  },
  {
   "cell_type": "code",
   "execution_count": 4,
   "id": "d2256ae0-28c6-42a6-ac37-c78edc4f1c39",
   "metadata": {},
   "outputs": [
    {
     "data": {
      "text/plain": [
       "function"
      ]
     },
     "execution_count": 4,
     "metadata": {},
     "output_type": "execute_result"
    }
   ],
   "source": [
    "# type and id \n",
    "def square(num):\n",
    "    return num **2\n",
    "\n",
    "type(square)"
   ]
  },
  {
   "cell_type": "code",
   "execution_count": 5,
   "id": "06ec889a-a9eb-4015-beb7-bf25526b40b9",
   "metadata": {},
   "outputs": [],
   "source": [
    "# function will act as data type "
   ]
  },
  {
   "cell_type": "code",
   "execution_count": 6,
   "id": "3b6eaf84-c857-4eda-ab4e-bc2dee292902",
   "metadata": {},
   "outputs": [
    {
     "data": {
      "text/plain": [
       "9"
      ]
     },
     "execution_count": 6,
     "metadata": {},
     "output_type": "execute_result"
    }
   ],
   "source": [
    "# reassign \n",
    "\n",
    "x = square(3)\n",
    "x"
   ]
  },
  {
   "cell_type": "code",
   "execution_count": 7,
   "id": "7e8c3f14-1064-478e-8347-c7a093ff418a",
   "metadata": {},
   "outputs": [
    {
     "data": {
      "text/plain": [
       "<function __main__.square(num)>"
      ]
     },
     "execution_count": 7,
     "metadata": {},
     "output_type": "execute_result"
    }
   ],
   "source": [
    "x = square\n",
    "x"
   ]
  },
  {
   "cell_type": "code",
   "execution_count": 8,
   "id": "e4012ce3-7c87-415c-b6bc-b11ba3b41f76",
   "metadata": {},
   "outputs": [
    {
     "data": {
      "text/plain": [
       "139731529245040"
      ]
     },
     "execution_count": 8,
     "metadata": {},
     "output_type": "execute_result"
    }
   ],
   "source": [
    "x=square\n",
    "id (x)"
   ]
  },
  {
   "cell_type": "code",
   "execution_count": 9,
   "id": "21fd258b-204f-4d3a-a394-2a77bbfa0501",
   "metadata": {},
   "outputs": [
    {
     "data": {
      "text/plain": [
       "9"
      ]
     },
     "execution_count": 9,
     "metadata": {},
     "output_type": "execute_result"
    }
   ],
   "source": [
    "x=square\n",
    "id (x)\n",
    "x(3)"
   ]
  },
  {
   "cell_type": "code",
   "execution_count": 10,
   "id": "ae3ba309-9b14-4c48-8ca5-cb9c6c9d735d",
   "metadata": {},
   "outputs": [],
   "source": [
    "# deleting a function \n",
    "\n",
    "del square"
   ]
  },
  {
   "cell_type": "code",
   "execution_count": 11,
   "id": "7611e89a-be6d-4b1d-ba0d-29f286bebd22",
   "metadata": {},
   "outputs": [
    {
     "ename": "NameError",
     "evalue": "name 'square' is not defined",
     "output_type": "error",
     "traceback": [
      "\u001b[0;31m---------------------------------------------------------------------------\u001b[0m",
      "\u001b[0;31mNameError\u001b[0m                                 Traceback (most recent call last)",
      "Cell \u001b[0;32mIn[11], line 1\u001b[0m\n\u001b[0;32m----> 1\u001b[0m \u001b[43msquare\u001b[49m(\u001b[38;5;241m3\u001b[39m)\n",
      "\u001b[0;31mNameError\u001b[0m: name 'square' is not defined"
     ]
    }
   ],
   "source": [
    "square(3)"
   ]
  },
  {
   "cell_type": "code",
   "execution_count": 12,
   "id": "7f67c827-7995-4f2f-ac8d-2173138ff745",
   "metadata": {},
   "outputs": [
    {
     "data": {
      "text/plain": [
       "[1, 2, 3, 4, <function __main__.square(num)>]"
      ]
     },
     "execution_count": 12,
     "metadata": {},
     "output_type": "execute_result"
    }
   ],
   "source": [
    "# storing\n",
    "def square(num):\n",
    "    return num **2\n",
    "type(square)\n",
    "\n",
    "L=[1,2,3,4,square]\n",
    "L"
   ]
  },
  {
   "cell_type": "code",
   "execution_count": 13,
   "id": "84839761-b084-40ce-8107-a3be9c058b8d",
   "metadata": {},
   "outputs": [],
   "source": [
    "# to aap jis tarah se kisi bhi data type ko list ke andar daal sakte ho to function ko bhi daal sakte ho "
   ]
  },
  {
   "cell_type": "code",
   "execution_count": 16,
   "id": "371c08c7-7f96-4f86-9df8-127befe6fb01",
   "metadata": {},
   "outputs": [
    {
     "data": {
      "text/plain": [
       "{<function __main__.square(num)>}"
      ]
     },
     "execution_count": 16,
     "metadata": {},
     "output_type": "execute_result"
    }
   ],
   "source": [
    "# sets ke andar mutable data types nahi daal sakte to hum function ko apply karenge \n",
    "# sets ke andar hamne function dala or wo execute bhi ho gaya to iska matlab hai ki function immutable hain \n",
    "s={square}\n",
    "s"
   ]
  },
  {
   "cell_type": "code",
   "execution_count": 18,
   "id": "847f4b1f-10fd-4c2a-a022-8e610772ee33",
   "metadata": {},
   "outputs": [
    {
     "name": "stdout",
     "output_type": "stream",
     "text": [
      "7\n"
     ]
    }
   ],
   "source": [
    "# returning a function - ek function dusre function ko return krr raha hain\n",
    "def f():\n",
    "    def x (a,b):\n",
    "        return a + b \n",
    "    return x \n",
    "val = f()(3,4)\n",
    "print(val)"
   ]
  },
  {
   "cell_type": "code",
   "execution_count": 19,
   "id": "984e9f03-a1b0-44f3-b263-1564b5ae59c1",
   "metadata": {},
   "outputs": [],
   "source": [
    "# function as argument "
   ]
  },
  {
   "cell_type": "code",
   "execution_count": 21,
   "id": "9518f727-d3f3-49e6-8d73-5bc30a12bcf5",
   "metadata": {},
   "outputs": [
    {
     "name": "stdout",
     "output_type": "stream",
     "text": [
      "inside func_b\n",
      "inside func_a\n",
      "None\n"
     ]
    }
   ],
   "source": [
    "def func_a():\n",
    "    print('inside func_a')\n",
    "    \n",
    "def func_b(z):\n",
    "    print('inside func_b')\n",
    "    return z()\n",
    "print(func_b(func_a))\n"
   ]
  },
  {
   "cell_type": "markdown",
   "id": "eba198d2-8b44-4ada-813e-109ad46a5fc6",
   "metadata": {},
   "source": [
    "### Benifits of using a function\n",
    "#### code modularity\n",
    "#### code rediability\n",
    "#### code reusability"
   ]
  },
  {
   "cell_type": "markdown",
   "id": "4e7c530b-dff8-4e6c-9e5b-5f0cbc20833f",
   "metadata": {},
   "source": [
    "### Lambda Function\n",
    "#### a lambda function is small anonymous function.\n",
    "#### a lambda function can take any number of arguments,but can only have one expression"
   ]
  },
  {
   "cell_type": "code",
   "execution_count": 22,
   "id": "6c60a473-e46b-4f31-ade1-dae8511a8d94",
   "metadata": {},
   "outputs": [],
   "source": [
    "# lambda is small anonymous function -> matlab jiska naam nahi hota"
   ]
  },
  {
   "cell_type": "code",
   "execution_count": 23,
   "id": "5590ba43-7320-4559-909b-9d2376af1733",
   "metadata": {},
   "outputs": [
    {
     "data": {
      "text/plain": [
       "<function __main__.<lambda>(x)>"
      ]
     },
     "execution_count": 23,
     "metadata": {},
     "output_type": "execute_result"
    }
   ],
   "source": [
    "# x -> x+y\n",
    "\n",
    "lambda x: x**2"
   ]
  },
  {
   "cell_type": "code",
   "execution_count": 24,
   "id": "bf931e98-f8e0-48f0-af1f-e723114a5c29",
   "metadata": {},
   "outputs": [
    {
     "data": {
      "text/plain": [
       "4"
      ]
     },
     "execution_count": 24,
     "metadata": {},
     "output_type": "execute_result"
    }
   ],
   "source": [
    "a=lambda x: x**2\n",
    "a(2)"
   ]
  },
  {
   "cell_type": "code",
   "execution_count": 25,
   "id": "4ee3a84c-9e4d-4a57-b0d5-a2259ad20259",
   "metadata": {},
   "outputs": [
    {
     "data": {
      "text/plain": [
       "9"
      ]
     },
     "execution_count": 25,
     "metadata": {},
     "output_type": "execute_result"
    }
   ],
   "source": [
    "a =lambda x,y:x+y\n",
    "a(5,4)"
   ]
  },
  {
   "cell_type": "code",
   "execution_count": 28,
   "id": "c75b0d9f-4305-4ed4-8626-ba591a7a6f93",
   "metadata": {},
   "outputs": [
    {
     "data": {
      "text/plain": [
       "False"
      ]
     },
     "execution_count": 28,
     "metadata": {},
     "output_type": "execute_result"
    }
   ],
   "source": [
    "# check if a string has 'a'\n",
    "\n",
    "a=lambda s:'a' in s\n",
    "a('hello')"
   ]
  },
  {
   "cell_type": "code",
   "execution_count": 29,
   "id": "619ad923-23d7-44ac-96a7-2b35c3db912d",
   "metadata": {},
   "outputs": [
    {
     "data": {
      "text/plain": [
       "'even'"
      ]
     },
     "execution_count": 29,
     "metadata": {},
     "output_type": "execute_result"
    }
   ],
   "source": [
    "# odd or even\n",
    "a=lambda x : 'even' if x%2 == 0 else 'odd'\n",
    "a(6)"
   ]
  },
  {
   "cell_type": "code",
   "execution_count": 26,
   "id": "00845a96-d0be-4ba5-9d17-626c37102434",
   "metadata": {},
   "outputs": [],
   "source": [
    "# difference between lambda and normal function\n",
    "# 1. no name\n",
    "# 2. lambda has no return value(infact return a function)\n",
    "# 3. lambda is written in one line\n",
    "# 4. not reusable"
   ]
  },
  {
   "cell_type": "code",
   "execution_count": 27,
   "id": "18b8f7c5-1f3b-49b3-b0b1-a92758145fc7",
   "metadata": {},
   "outputs": [],
   "source": [
    "# lambda function ko reusability ke liye nahi banaya normal function reusability ke liye banaya gaya hain\n",
    "# then why use lambda function\n",
    "# ans : they are use with HOF (Higher Order Function)"
   ]
  },
  {
   "cell_type": "markdown",
   "id": "dafc921a-d308-425f-baa6-f3c6b02a55dc",
   "metadata": {},
   "source": [
    "### Higher Order function"
   ]
  },
  {
   "cell_type": "code",
   "execution_count": 30,
   "id": "dae37605-90c5-43f7-84b2-1633a6b53852",
   "metadata": {},
   "outputs": [],
   "source": [
    "# HOF -> ek aisa function jo dusre function ko return kare / ya fir / ek aisa function jo input mein kisi function ko recieve kare"
   ]
  },
  {
   "cell_type": "code",
   "execution_count": 32,
   "id": "834e781b-e006-4993-a1a8-97f4c0c8bce3",
   "metadata": {},
   "outputs": [
    {
     "name": "stdout",
     "output_type": "stream",
     "text": [
      "[1, 4, 9, 16, 25]\n"
     ]
    }
   ],
   "source": [
    "# example\n",
    "\n",
    "def square(x):\n",
    "    return x**2\n",
    "# transform is HOF \n",
    "def transform(f,l):\n",
    "    output=[]\n",
    "    for i in l :\n",
    "        output.append(f(i))\n",
    "        \n",
    "    print(output)\n",
    "\n",
    "l=[1,2,3,4,5]\n",
    "transform(square,l)"
   ]
  },
  {
   "cell_type": "markdown",
   "id": "a3199212-9374-46d5-bc2b-a602ecf86fca",
   "metadata": {},
   "source": [
    "#### Map"
   ]
  },
  {
   "cell_type": "code",
   "execution_count": 34,
   "id": "20290cec-c43b-4e99-8419-cc1204bf990e",
   "metadata": {},
   "outputs": [
    {
     "data": {
      "text/plain": [
       "[1, 4, 9, 16, 25]"
      ]
     },
     "execution_count": 34,
     "metadata": {},
     "output_type": "execute_result"
    }
   ],
   "source": [
    "# square the items of a list\n",
    "\n",
    "list(map(lambda x:x**2,[1,2,3,4,5]))"
   ]
  },
  {
   "cell_type": "code",
   "execution_count": 37,
   "id": "52a96f50-984a-4fb0-9af2-03c37f74506a",
   "metadata": {},
   "outputs": [
    {
     "data": {
      "text/plain": [
       "['odd', 'even', 'odd', 'even', 'odd', 'even', 'odd', 'even', 'odd']"
      ]
     },
     "execution_count": 37,
     "metadata": {},
     "output_type": "execute_result"
    }
   ],
   "source": [
    "# odd even labelling of a list items \n",
    "L=[1,2,3,4,5,6,7,8,9]\n",
    "list(map(lambda x :'even' if x%2 == 0 else 'odd',L))"
   ]
  },
  {
   "cell_type": "code",
   "execution_count": 38,
   "id": "577f1e0c-bac6-49c4-b375-fe7c377dbf0c",
   "metadata": {},
   "outputs": [
    {
     "data": {
      "text/plain": [
       "['male', 'male', 'female']"
      ]
     },
     "execution_count": 38,
     "metadata": {},
     "output_type": "execute_result"
    }
   ],
   "source": [
    "# fetch names from a list of dictionary\n",
    "\n",
    "users=[\n",
    "    {\n",
    "        'name':'rahul1',\n",
    "        'age': 45,\n",
    "        'gender':'male'\n",
    "    },\n",
    "    {\n",
    "        'name':'nitish',\n",
    "        'age': 33,\n",
    "        'gender':'male'\n",
    "    },\n",
    "    {\n",
    "        'name':'ankita',\n",
    "        'age': 50,\n",
    "        'gender':'female'\n",
    "    }    \n",
    "]    \n",
    "        \n",
    "list(map(lambda users: users['gender'],users))        "
   ]
  },
  {
   "cell_type": "code",
   "execution_count": 39,
   "id": "8a69c1a9-152e-4564-8691-f37975b421ce",
   "metadata": {},
   "outputs": [
    {
     "data": {
      "text/plain": [
       "['rahul1', 'nitish', 'ankita']"
      ]
     },
     "execution_count": 39,
     "metadata": {},
     "output_type": "execute_result"
    }
   ],
   "source": [
    "list(map(lambda users: users['name'],users))        "
   ]
  },
  {
   "cell_type": "code",
   "execution_count": 40,
   "id": "8a87a5ba-baa7-44c8-b858-a4244427d963",
   "metadata": {},
   "outputs": [
    {
     "data": {
      "text/plain": [
       "[45, 33, 50]"
      ]
     },
     "execution_count": 40,
     "metadata": {},
     "output_type": "execute_result"
    }
   ],
   "source": [
    "list(map(lambda users: users['age'],users))        "
   ]
  },
  {
   "cell_type": "markdown",
   "id": "aceb2204-81fe-477c-82e0-04eb36e54235",
   "metadata": {},
   "source": [
    "### Filter"
   ]
  },
  {
   "cell_type": "code",
   "execution_count": 41,
   "id": "5e83cdd0-52d9-44fc-912d-2a576a0bfa9a",
   "metadata": {},
   "outputs": [
    {
     "data": {
      "text/plain": [
       "[6, 7]"
      ]
     },
     "execution_count": 41,
     "metadata": {},
     "output_type": "execute_result"
    }
   ],
   "source": [
    "# sum of all items\n",
    "\n",
    "L=[3,4,5,6,7]\n",
    "\n",
    "list(filter(lambda x : x>5,L))"
   ]
  },
  {
   "cell_type": "code",
   "execution_count": 42,
   "id": "a168f0d4-7b95-4829-b522-faa9b28c88cb",
   "metadata": {},
   "outputs": [],
   "source": [
    "# filter -> map list ke hrr object pe logic apply karta hain or filter condition mein jo true usko hi execute karega "
   ]
  },
  {
   "cell_type": "code",
   "execution_count": 43,
   "id": "d8aca0a8-a2fc-4e35-9fb2-45f974cd2988",
   "metadata": {},
   "outputs": [
    {
     "data": {
      "text/plain": [
       "['apple']"
      ]
     },
     "execution_count": 43,
     "metadata": {},
     "output_type": "execute_result"
    }
   ],
   "source": [
    "# fetch fruits starting with 'a'\n",
    "\n",
    "fruits=['apple','guava','cherry']\n",
    "\n",
    "list(filter(lambda x : x.startswith('a'),fruits))"
   ]
  },
  {
   "cell_type": "markdown",
   "id": "16ee15f1-d0ba-4711-870a-145cc5aa8eae",
   "metadata": {},
   "source": [
    "### Reduce"
   ]
  },
  {
   "cell_type": "code",
   "execution_count": 44,
   "id": "7148cd57-107d-43bd-a1e2-e372c6f16377",
   "metadata": {},
   "outputs": [
    {
     "data": {
      "text/plain": [
       "15"
      ]
     },
     "execution_count": 44,
     "metadata": {},
     "output_type": "execute_result"
    }
   ],
   "source": [
    "# sum of all items \n",
    "\n",
    "import functools\n",
    "\n",
    "functools.reduce(lambda x, y : x+y,[1,2,3,4,5])"
   ]
  },
  {
   "cell_type": "code",
   "execution_count": 1,
   "id": "c96d160b-5267-481f-ae92-d4bf93dc98da",
   "metadata": {},
   "outputs": [
    {
     "data": {
      "text/plain": [
       "21"
      ]
     },
     "execution_count": 1,
     "metadata": {},
     "output_type": "execute_result"
    }
   ],
   "source": [
    "import functools\n",
    "\n",
    "functools.reduce(lambda x, y : x+y,[1,2,3,4,5,6])"
   ]
  },
  {
   "cell_type": "code",
   "execution_count": 2,
   "id": "0ee957f5-ecfe-4295-8fa0-f7d16fb1a1cd",
   "metadata": {},
   "outputs": [
    {
     "data": {
      "text/plain": [
       "1"
      ]
     },
     "execution_count": 2,
     "metadata": {},
     "output_type": "execute_result"
    }
   ],
   "source": [
    "# find Min\n",
    "\n",
    "functools.reduce(lambda x, y : x if x<y else y,[23,11,45,10,1])"
   ]
  },
  {
   "cell_type": "code",
   "execution_count": 3,
   "id": "7a5bb7f4-4f9b-47ca-8e2b-a178772e0f89",
   "metadata": {},
   "outputs": [
    {
     "data": {
      "text/plain": [
       "45"
      ]
     },
     "execution_count": 3,
     "metadata": {},
     "output_type": "execute_result"
    }
   ],
   "source": [
    "# find max\n",
    "functools.reduce(lambda x, y : x if x>y else y,[23,11,45,10,1])"
   ]
  },
  {
   "cell_type": "code",
   "execution_count": null,
   "id": "ed6a6e03-23fb-435f-b393-b9dbbc991f10",
   "metadata": {},
   "outputs": [],
   "source": []
  }
 ],
 "metadata": {
  "kernelspec": {
   "display_name": "Python 3 (ipykernel)",
   "language": "python",
   "name": "python3"
  },
  "language_info": {
   "codemirror_mode": {
    "name": "ipython",
    "version": 3
   },
   "file_extension": ".py",
   "mimetype": "text/x-python",
   "name": "python",
   "nbconvert_exporter": "python",
   "pygments_lexer": "ipython3",
   "version": "3.10.8"
  }
 },
 "nbformat": 4,
 "nbformat_minor": 5
}
