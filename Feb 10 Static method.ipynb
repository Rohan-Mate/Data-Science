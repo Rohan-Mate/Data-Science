{
 "cells": [
  {
   "cell_type": "markdown",
   "id": "90887881-d01e-4d6a-9187-139ac07483a8",
   "metadata": {},
   "source": [
    "### static method"
   ]
  },
  {
   "cell_type": "code",
   "execution_count": 1,
   "id": "0a4d8365-167a-4f66-8184-9ca73f30951c",
   "metadata": {},
   "outputs": [],
   "source": [
    "class Pwskills:\n",
    "    def students_details(self,name,email,number):\n",
    "        print(name,email,number)"
   ]
  },
  {
   "cell_type": "code",
   "execution_count": 2,
   "id": "7e63d0bb-0dcb-438d-aa90-203aea22906e",
   "metadata": {},
   "outputs": [],
   "source": [
    "pw=Pwskills()"
   ]
  },
  {
   "cell_type": "code",
   "execution_count": 3,
   "id": "df2c07d7-1afc-4a09-8c00-2499a6b4c4bc",
   "metadata": {},
   "outputs": [
    {
     "name": "stdout",
     "output_type": "stream",
     "text": [
      "sudh sudh@gmail.com 9145875621\n"
     ]
    }
   ],
   "source": [
    "pw.students_details(\"sudh\",\"sudh@gmail.com\",9145875621)"
   ]
  },
  {
   "cell_type": "code",
   "execution_count": 6,
   "id": "f88ae24a-d665-48da-8f16-3a8c2ad57509",
   "metadata": {},
   "outputs": [],
   "source": [
    "class Pwskills1:\n",
    "    def students_details(self,name,email,number):\n",
    "        print(name,email,number)\n",
    "        \n",
    "    @staticmethod\n",
    "    def mentor_class(list_mentor):\n",
    "        print(list_mentor)\n",
    "        \n",
    "    def mentor(self,mentor_list):\n",
    "        print(mentor_list)"
   ]
  },
  {
   "cell_type": "code",
   "execution_count": 5,
   "id": "1684b8bf-2e93-4417-a0ff-02ec1e175ce0",
   "metadata": {},
   "outputs": [
    {
     "name": "stdout",
     "output_type": "stream",
     "text": [
      "['sudh', 'krish']\n"
     ]
    }
   ],
   "source": [
    "Pwskills1.mentor_class([\"sudh\",\"krish\"])"
   ]
  },
  {
   "cell_type": "code",
   "execution_count": 7,
   "id": "159066b1-6728-4e91-b0f4-950eeb6d3202",
   "metadata": {},
   "outputs": [],
   "source": [
    "pw1=Pwskills1()"
   ]
  },
  {
   "cell_type": "code",
   "execution_count": 9,
   "id": "a7ab0445-86ff-4a5a-bc23-9f2617b2924a",
   "metadata": {},
   "outputs": [
    {
     "name": "stdout",
     "output_type": "stream",
     "text": [
      "['krish', 'sudh']\n"
     ]
    }
   ],
   "source": [
    "pw1.mentor([\"krish\",\"sudh\"])"
   ]
  },
  {
   "cell_type": "code",
   "execution_count": 10,
   "id": "242cf2f0-0d7d-4d25-a53a-e3a94860c9fd",
   "metadata": {},
   "outputs": [
    {
     "name": "stdout",
     "output_type": "stream",
     "text": [
      "['naik', 'kumar']\n"
     ]
    }
   ],
   "source": [
    "pw1.mentor_class([\"naik\",\"kumar\"])"
   ]
  },
  {
   "cell_type": "code",
   "execution_count": 17,
   "id": "2134b5b0-faf3-4b6b-8439-13d93ed3307d",
   "metadata": {},
   "outputs": [],
   "source": [
    "class Pwskills2:\n",
    "    def students_details(self,name,email,number):\n",
    "        print(name,email,number)\n",
    "    @staticmethod\n",
    "    def mentor_email(email):\n",
    "        print(email)\n",
    "        \n",
    "    @staticmethod\n",
    "    def mentor_class(list_mentor):\n",
    "        print(list_mentor)\n",
    "        Pwskills2.mentor_email([\"krish@gmail.com\",\"sudh@gmail.com\"])\n",
    "        \n",
    "    @classmethod\n",
    "    def class_name(cls,class_name):\n",
    "        cls.mentor_class([\"sudh\",\"naik\"])\n",
    "        \n",
    "    def mentor(self,mentor_list):\n",
    "        print(mentor_list)\n",
    "        \n",
    "        self.mentor_class([\"krish\",\"sudh\"])"
   ]
  },
  {
   "cell_type": "code",
   "execution_count": 18,
   "id": "6c15ee2e-d342-4e95-bc30-3c84756a2715",
   "metadata": {},
   "outputs": [],
   "source": [
    "pw2=Pwskills2()"
   ]
  },
  {
   "cell_type": "code",
   "execution_count": 15,
   "id": "5adc463f-2b6b-407d-b72e-a8d821a790e0",
   "metadata": {},
   "outputs": [
    {
     "name": "stdout",
     "output_type": "stream",
     "text": [
      "mohan mohan@gmail.com 9125468725\n"
     ]
    }
   ],
   "source": [
    "pw2.students_details(\"mohan\",\"mohan@gmail.com\",9125468725)"
   ]
  },
  {
   "cell_type": "code",
   "execution_count": 20,
   "id": "b316a9ce-1cce-4738-a618-9d64fe7c83a0",
   "metadata": {},
   "outputs": [
    {
     "name": "stdout",
     "output_type": "stream",
     "text": [
      "['krish@gmail.com', 'sudh@gmail.com']\n"
     ]
    }
   ],
   "source": [
    "pw2.mentor_email([\"krish@gmail.com\",\"sudh@gmail.com\"])"
   ]
  },
  {
   "cell_type": "code",
   "execution_count": 21,
   "id": "d2d2a55a-c54a-4641-bedd-de7089774481",
   "metadata": {},
   "outputs": [
    {
     "name": "stdout",
     "output_type": "stream",
     "text": [
      "['sudh', 'naik']\n",
      "['krish@gmail.com', 'sudh@gmail.com']\n"
     ]
    }
   ],
   "source": [
    "pw2.class_name(\"data science masters\")"
   ]
  },
  {
   "cell_type": "code",
   "execution_count": null,
   "id": "228c694e-de39-4016-8740-fa5a8b6f40a1",
   "metadata": {},
   "outputs": [],
   "source": []
  }
 ],
 "metadata": {
  "kernelspec": {
   "display_name": "Python 3 (ipykernel)",
   "language": "python",
   "name": "python3"
  },
  "language_info": {
   "codemirror_mode": {
    "name": "ipython",
    "version": 3
   },
   "file_extension": ".py",
   "mimetype": "text/x-python",
   "name": "python",
   "nbconvert_exporter": "python",
   "pygments_lexer": "ipython3",
   "version": "3.10.8"
  }
 },
 "nbformat": 4,
 "nbformat_minor": 5
}
