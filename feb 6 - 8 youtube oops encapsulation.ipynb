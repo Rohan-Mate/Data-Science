{
 "cells": [
  {
   "cell_type": "markdown",
   "id": "c38b200a-f960-4532-9900-f22d459275ed",
   "metadata": {},
   "source": [
    "### encapsulation"
   ]
  },
  {
   "cell_type": "code",
   "execution_count": 3,
   "id": "30e3e895-ee80-4450-964a-1adfde673a11",
   "metadata": {},
   "outputs": [],
   "source": [
    "class AtmOne:\n",
    "    \n",
    "    def __init__(self):\n",
    "        \n",
    "        self.pin=\"\"\n",
    "        self.balance=0\n",
    "        \n",
    "        self.menu()\n",
    "        \n",
    "    def menu(self):\n",
    "        user_input=input(\"\"\" \n",
    "        Hello,how would you like to proceed?\n",
    "        1.enter 1 to create pin\n",
    "        2.Enter 2 to deposit\n",
    "        3.Enter 3 to withdraw\n",
    "        4.Enter 4 to check balance\n",
    "        5.Enter 5 to exit \n",
    "\"\"\")\n",
    "        if user_input==\"1\":\n",
    "            self.create_pin()\n",
    "        elif user_input==\"2\":\n",
    "            self.deposit()\n",
    "        elif user_input==\"3\":\n",
    "            self.withdraw()\n",
    "        elif user_input==\"4\":\n",
    "            self.check_balance()\n",
    "        else:\n",
    "            print(\"exit\")\n",
    "            \n",
    "    def create_pin(self):\n",
    "        self.pin=input(\"Enter Your Pin\")\n",
    "        print(\"pin set successfully\")\n",
    "        \n",
    "    def deposit(self):\n",
    "        temp=input(\"enter your pin\")\n",
    "        if temp== self.pin:\n",
    "            amount=int(input(\"Enter the amount\"))\n",
    "            self.balance=self.balance+amount\n",
    "            print(\"deposit\")\n",
    "        else:\n",
    "            print(\"invalid pin\")\n",
    "      \n",
    "    def withdraw(self):\n",
    "        temp=input(\"Enter your pin\")\n",
    "        if temp==self.pin:\n",
    "            amount=int(input(\"Enter the amount\"))\n",
    "            if amount <self.balance:\n",
    "                self.balance=self.balance-amount\n",
    "                print(\"operation successfully\")\n",
    "            else:\n",
    "                print(\"insufficient balance\")\n",
    "        else:\n",
    "            print(\"invalid pin\")\n",
    "                \n",
    "    def check_balance(self):\n",
    "        temp=input(\"enter your pin\")\n",
    "        if temp==self.pin:\n",
    "            print(self.balance)\n",
    "        else:\n",
    "            (\"invalid pin\")"
   ]
  },
  {
   "cell_type": "code",
   "execution_count": 4,
   "id": "240eca49-df2c-4f92-9716-4067fe20ebaa",
   "metadata": {},
   "outputs": [
    {
     "name": "stdin",
     "output_type": "stream",
     "text": [
      " \n",
      "        Hello,how would you like to proceed?\n",
      "        1.enter 1 to create pin\n",
      "        2.Enter 2 to deposit\n",
      "        3.Enter 3 to withdraw\n",
      "        4.Enter 4 to check balance\n",
      "        5.Enter 5 to exit \n",
      " 1\n",
      "Enter Your Pin 1234\n"
     ]
    },
    {
     "name": "stdout",
     "output_type": "stream",
     "text": [
      "pin set successfully\n"
     ]
    }
   ],
   "source": [
    "sbi=AtmOne()"
   ]
  },
  {
   "cell_type": "code",
   "execution_count": 14,
   "id": "eb8db7d0-2e4a-47c8-af5b-071b625cbaae",
   "metadata": {},
   "outputs": [
    {
     "name": "stdin",
     "output_type": "stream",
     "text": [
      "enter your pin 1234\n",
      "Enter the amount 100000\n"
     ]
    },
    {
     "name": "stdout",
     "output_type": "stream",
     "text": [
      "deposit\n"
     ]
    }
   ],
   "source": [
    "sbi.deposit()"
   ]
  },
  {
   "cell_type": "code",
   "execution_count": 15,
   "id": "43d92f47-9df6-4076-b50f-51fd24e623e9",
   "metadata": {},
   "outputs": [
    {
     "name": "stdin",
     "output_type": "stream",
     "text": [
      "Enter your pin 1234\n",
      "Enter the amount 25000\n"
     ]
    },
    {
     "name": "stdout",
     "output_type": "stream",
     "text": [
      "operation successfully\n"
     ]
    }
   ],
   "source": [
    "sbi.withdraw()"
   ]
  },
  {
   "cell_type": "code",
   "execution_count": 16,
   "id": "591fccbd-807b-4c23-8bec-00bcfef638b9",
   "metadata": {},
   "outputs": [
    {
     "name": "stdin",
     "output_type": "stream",
     "text": [
      "enter your pin 1234\n"
     ]
    },
    {
     "name": "stdout",
     "output_type": "stream",
     "text": [
      "75000\n"
     ]
    }
   ],
   "source": [
    "sbi.check_balance()"
   ]
  },
  {
   "cell_type": "code",
   "execution_count": 16,
   "id": "f18d2811-5951-4a3c-afae-5541a40c7e10",
   "metadata": {},
   "outputs": [],
   "source": [
    "class AtmSoft:\n",
    "    \n",
    "    def __init__(self):\n",
    "        \n",
    "        self.__pin=\"\"\n",
    "        self.__balance=0\n",
    "        \n",
    "        self.__menu()\n",
    "        \n",
    "    def __menu(self):\n",
    "        user_input=input(\"\"\" \n",
    "        Hello,how would you like to proceed?\n",
    "        1.enter 1 to create pin\n",
    "        2.Enter 2 to deposit\n",
    "        3.Enter 3 to withdraw\n",
    "        4.Enter 4 to check balance\n",
    "        5.Enter 5 to exit \n",
    "\"\"\")\n",
    "        if user_input==\"1\":\n",
    "            self.create_pin()\n",
    "        elif user_input==\"2\":\n",
    "            self.deposit()\n",
    "        elif user_input==\"3\":\n",
    "            self.withdraw()\n",
    "        elif user_input==\"4\":\n",
    "            self.check_balance()\n",
    "        else:\n",
    "            print(\"exit\")\n",
    "            \n",
    "    def create_pin(self):\n",
    "        self.__pin=input(\"Enter Your Pin\")\n",
    "        print(\"pin set successfully\")\n",
    "        \n",
    "    def deposit(self):\n",
    "        temp=input(\"enter your pin\")\n",
    "        if temp== self.__pin:\n",
    "            amount=int(input(\"Enter the amount\"))\n",
    "            self.__balance=self.__balance+amount\n",
    "            print(\"deposit\")\n",
    "        else:\n",
    "            print(\"invalid pin\")\n",
    "      \n",
    "    def withdraw(self):\n",
    "        temp=input(\"Enter your pin\")\n",
    "        if temp==self.__pin:\n",
    "            amount=int(input(\"Enter the amount\"))\n",
    "            if amount <self.__balance:\n",
    "                self.__balance=self.__balance-amount\n",
    "                print(\"operation successfully\")\n",
    "            else:\n",
    "                print(\"insufficient balance\")\n",
    "        else:\n",
    "            print(\"invalid pin\")\n",
    "                \n",
    "    def check_balance(self):\n",
    "        temp=input(\"enter your pin\")\n",
    "        if temp==self.__pin:\n",
    "            print(self.__balance)\n",
    "        else:\n",
    "            (\"invalid pin\")"
   ]
  },
  {
   "cell_type": "code",
   "execution_count": 17,
   "id": "bd4d30a8-1e68-4ff8-85c0-cab740bc6f0a",
   "metadata": {},
   "outputs": [
    {
     "name": "stdin",
     "output_type": "stream",
     "text": [
      " \n",
      "        Hello,how would you like to proceed?\n",
      "        1.enter 1 to create pin\n",
      "        2.Enter 2 to deposit\n",
      "        3.Enter 3 to withdraw\n",
      "        4.Enter 4 to check balance\n",
      "        5.Enter 5 to exit \n",
      " 1\n",
      "Enter Your Pin 1234\n"
     ]
    },
    {
     "name": "stdout",
     "output_type": "stream",
     "text": [
      "pin set successfully\n"
     ]
    }
   ],
   "source": [
    "sbi=AtmSoft()"
   ]
  },
  {
   "cell_type": "code",
   "execution_count": 18,
   "id": "71765814-6378-4cd6-9846-952bccff7bbe",
   "metadata": {},
   "outputs": [],
   "source": [
    "sbi.__balance=\"ajfhbclksd\""
   ]
  },
  {
   "cell_type": "code",
   "execution_count": 19,
   "id": "e84f8cbf-0701-4c77-b6bf-eac4f9c90f7a",
   "metadata": {},
   "outputs": [
    {
     "name": "stdin",
     "output_type": "stream",
     "text": [
      "enter your pin 1234\n",
      "Enter the amount 50000\n"
     ]
    },
    {
     "name": "stdout",
     "output_type": "stream",
     "text": [
      "deposit\n"
     ]
    }
   ],
   "source": [
    "sbi.deposit()"
   ]
  },
  {
   "cell_type": "code",
   "execution_count": 20,
   "id": "40030d29-72c2-42a8-8844-964f356f4cb5",
   "metadata": {},
   "outputs": [
    {
     "name": "stdin",
     "output_type": "stream",
     "text": [
      "enter your pin 1234\n"
     ]
    },
    {
     "name": "stdout",
     "output_type": "stream",
     "text": [
      "50000\n"
     ]
    }
   ],
   "source": [
    "sbi.check_balance()"
   ]
  },
  {
   "cell_type": "code",
   "execution_count": 21,
   "id": "abcf43a5-76c0-487f-8b11-9138990a03cd",
   "metadata": {},
   "outputs": [],
   "source": [
    "## balance mein string add kiya fir bhi code execute ho gaya and deposit karne ke baad bhi \n",
    "## (integer or string ka concatenetion ho gaya)"
   ]
  },
  {
   "cell_type": "code",
   "execution_count": 24,
   "id": "659a0027-d1f4-435c-b040-faaccf0a569b",
   "metadata": {},
   "outputs": [],
   "source": [
    "sbi._AtmSoft__balance=\"fsdgdf\""
   ]
  },
  {
   "cell_type": "code",
   "execution_count": 25,
   "id": "da15746a-9520-40cf-99ce-35ee709b9212",
   "metadata": {},
   "outputs": [
    {
     "name": "stdin",
     "output_type": "stream",
     "text": [
      "enter your pin 1234\n",
      "Enter the amount 5000\n"
     ]
    },
    {
     "ename": "TypeError",
     "evalue": "can only concatenate str (not \"int\") to str",
     "output_type": "error",
     "traceback": [
      "\u001b[0;31m---------------------------------------------------------------------------\u001b[0m",
      "\u001b[0;31mTypeError\u001b[0m                                 Traceback (most recent call last)",
      "Cell \u001b[0;32mIn[25], line 1\u001b[0m\n\u001b[0;32m----> 1\u001b[0m \u001b[43msbi\u001b[49m\u001b[38;5;241;43m.\u001b[39;49m\u001b[43mdeposit\u001b[49m\u001b[43m(\u001b[49m\u001b[43m)\u001b[49m\n",
      "Cell \u001b[0;32mIn[16], line 38\u001b[0m, in \u001b[0;36mAtmSoft.deposit\u001b[0;34m(self)\u001b[0m\n\u001b[1;32m     36\u001b[0m \u001b[38;5;28;01mif\u001b[39;00m temp\u001b[38;5;241m==\u001b[39m \u001b[38;5;28mself\u001b[39m\u001b[38;5;241m.\u001b[39m__pin:\n\u001b[1;32m     37\u001b[0m     amount\u001b[38;5;241m=\u001b[39m\u001b[38;5;28mint\u001b[39m(\u001b[38;5;28minput\u001b[39m(\u001b[38;5;124m\"\u001b[39m\u001b[38;5;124mEnter the amount\u001b[39m\u001b[38;5;124m\"\u001b[39m))\n\u001b[0;32m---> 38\u001b[0m     \u001b[38;5;28mself\u001b[39m\u001b[38;5;241m.\u001b[39m__balance\u001b[38;5;241m=\u001b[39m\u001b[38;5;28;43mself\u001b[39;49m\u001b[38;5;241;43m.\u001b[39;49m\u001b[43m__balance\u001b[49m\u001b[38;5;241;43m+\u001b[39;49m\u001b[43mamount\u001b[49m\n\u001b[1;32m     39\u001b[0m     \u001b[38;5;28mprint\u001b[39m(\u001b[38;5;124m\"\u001b[39m\u001b[38;5;124mdeposit\u001b[39m\u001b[38;5;124m\"\u001b[39m)\n\u001b[1;32m     40\u001b[0m \u001b[38;5;28;01melse\u001b[39;00m:\n",
      "\u001b[0;31mTypeError\u001b[0m: can only concatenate str (not \"int\") to str"
     ]
    }
   ],
   "source": [
    "sbi.deposit()"
   ]
  },
  {
   "cell_type": "code",
   "execution_count": 27,
   "id": "f496cb98-b4b6-4e41-9fdb-c710fc69a11a",
   "metadata": {},
   "outputs": [],
   "source": [
    "## nothing is truly private in python"
   ]
  },
  {
   "cell_type": "code",
   "execution_count": 43,
   "id": "2e9a82ac-0e8f-4d21-a2dc-a40da504b5ef",
   "metadata": {},
   "outputs": [],
   "source": [
    "## get and set option to access the method\n",
    "## no restriction on new pin generation"
   ]
  },
  {
   "cell_type": "code",
   "execution_count": 35,
   "id": "178adc0e-77b3-4f64-ae48-63860326d061",
   "metadata": {},
   "outputs": [],
   "source": [
    "class AtmSoft2:\n",
    "    \n",
    "    def __init__(self):\n",
    "        \n",
    "        self.__pin=\"\"\n",
    "        self.__balance=0\n",
    "        \n",
    "        self.__menu()\n",
    "        \n",
    "    def get_pin(self):\n",
    "        return self.__pin\n",
    "     \n",
    "    def set_pin(self,new_pin):\n",
    "        self.__pin=new_pin\n",
    "        print(\"pin changed\")     \n",
    "            \n",
    "    def __menu(self):\n",
    "        user_input=input(\"\"\" \n",
    "        Hello,how would you like to proceed?\n",
    "        1.enter 1 to create pin\n",
    "        2.Enter 2 to deposit\n",
    "        3.Enter 3 to withdraw\n",
    "        4.Enter 4 to check balance\n",
    "        5.Enter 5 to exit \n",
    "\"\"\")\n",
    "        if user_input==\"1\":\n",
    "            self.create_pin()\n",
    "        elif user_input==\"2\":\n",
    "            self.deposit()\n",
    "        elif user_input==\"3\":\n",
    "            self.withdraw()\n",
    "        elif user_input==\"4\":\n",
    "            self.check_balance()\n",
    "        else:\n",
    "            print(\"exit\")\n",
    "            \n",
    "    def create_pin(self):\n",
    "        self.__pin=input(\"Enter Your Pin\")\n",
    "        print(\"pin set successfully\")\n",
    "        \n",
    "    def deposit(self):\n",
    "        temp=input(\"enter your pin\")\n",
    "        if temp== self.__pin:\n",
    "            amount=int(input(\"Enter the amount\"))\n",
    "            self.__balance=self.__balance+amount\n",
    "            print(\"deposit\")\n",
    "        else:\n",
    "            print(\"invalid pin\")\n",
    "      \n",
    "    def withdraw(self):\n",
    "        temp=input(\"Enter your pin\")\n",
    "        if temp==self.__pin:\n",
    "            amount=int(input(\"Enter the amount\"))\n",
    "            if amount <self.__balance:\n",
    "                self.__balance=self.__balance-amount\n",
    "                print(\"operation successfully\")\n",
    "            else:\n",
    "                print(\"insufficient balance\")\n",
    "        else:\n",
    "            print(\"invalid pin\")\n",
    "                \n",
    "    def check_balance(self):\n",
    "        temp=input(\"enter your pin\")\n",
    "        if temp==self.__pin:\n",
    "            print(self.__balance)\n",
    "        else:\n",
    "            (\"invalid pin\")"
   ]
  },
  {
   "cell_type": "code",
   "execution_count": 36,
   "id": "7d9afdd3-9370-4795-849a-3c2cec5b7716",
   "metadata": {},
   "outputs": [
    {
     "name": "stdin",
     "output_type": "stream",
     "text": [
      " \n",
      "        Hello,how would you like to proceed?\n",
      "        1.enter 1 to create pin\n",
      "        2.Enter 2 to deposit\n",
      "        3.Enter 3 to withdraw\n",
      "        4.Enter 4 to check balance\n",
      "        5.Enter 5 to exit \n",
      " 1\n",
      "Enter Your Pin 123\n"
     ]
    },
    {
     "name": "stdout",
     "output_type": "stream",
     "text": [
      "pin set successfully\n"
     ]
    }
   ],
   "source": [
    "hdfc=AtmSoft2()"
   ]
  },
  {
   "cell_type": "code",
   "execution_count": 37,
   "id": "d689417d-8f31-45af-b607-4f9ae6c65e8c",
   "metadata": {},
   "outputs": [
    {
     "data": {
      "text/plain": [
       "'123'"
      ]
     },
     "execution_count": 37,
     "metadata": {},
     "output_type": "execute_result"
    }
   ],
   "source": [
    "hdfc.get_pin()"
   ]
  },
  {
   "cell_type": "code",
   "execution_count": 38,
   "id": "e2918b89-0616-44dd-ad69-fdf223ae7a6b",
   "metadata": {},
   "outputs": [
    {
     "name": "stdout",
     "output_type": "stream",
     "text": [
      "pin changed\n"
     ]
    }
   ],
   "source": [
    "hdfc.set_pin(\"2525\")"
   ]
  },
  {
   "cell_type": "code",
   "execution_count": 39,
   "id": "c16a64a3-82d1-4708-a888-61bbe4f7ac2b",
   "metadata": {},
   "outputs": [
    {
     "data": {
      "text/plain": [
       "'2525'"
      ]
     },
     "execution_count": 39,
     "metadata": {},
     "output_type": "execute_result"
    }
   ],
   "source": [
    "hdfc.get_pin()"
   ]
  },
  {
   "cell_type": "code",
   "execution_count": 40,
   "id": "6df4b7b5-bad7-45f3-b3d1-53afbff11162",
   "metadata": {},
   "outputs": [
    {
     "name": "stdout",
     "output_type": "stream",
     "text": [
      "pin changed\n"
     ]
    }
   ],
   "source": [
    "hdfc.set_pin(5.6)"
   ]
  },
  {
   "cell_type": "code",
   "execution_count": 41,
   "id": "07aa3b1f-f5f1-409d-ad07-870da0cc569a",
   "metadata": {},
   "outputs": [
    {
     "data": {
      "text/plain": [
       "5.6"
      ]
     },
     "execution_count": 41,
     "metadata": {},
     "output_type": "execute_result"
    }
   ],
   "source": [
    "hdfc.get_pin()"
   ]
  },
  {
   "cell_type": "code",
   "execution_count": 44,
   "id": "5b54e5db-3eb0-4478-b3f5-0209248e277b",
   "metadata": {},
   "outputs": [],
   "source": [
    "## get and set option to access the method\n",
    "## restriction on new pin generation"
   ]
  },
  {
   "cell_type": "code",
   "execution_count": 45,
   "id": "75180505-2162-417e-bd02-6d815215fb98",
   "metadata": {},
   "outputs": [],
   "source": [
    "class AtmSoft3:\n",
    "    \n",
    "    def __init__(self):\n",
    "        \n",
    "        self.__pin=\"\"\n",
    "        self.__balance=0\n",
    "        \n",
    "        self.__menu()\n",
    "        \n",
    "    def get_pin(self):\n",
    "        return self.__pin\n",
    "     \n",
    "    def set_pin(self,new_pin):\n",
    "        if type(new_pin)==str:\n",
    "            self.__pin=new_pin\n",
    "            print(\"pin changed\")\n",
    "        else:\n",
    "            print(\"not allowed\")\n",
    "            \n",
    "    def __menu(self):\n",
    "        user_input=input(\"\"\" \n",
    "        Hello,how would you like to proceed?\n",
    "        1.enter 1 to create pin\n",
    "        2.Enter 2 to deposit\n",
    "        3.Enter 3 to withdraw\n",
    "        4.Enter 4 to check balance\n",
    "        5.Enter 5 to exit \n",
    "\"\"\")\n",
    "        if user_input==\"1\":\n",
    "            self.create_pin()\n",
    "        elif user_input==\"2\":\n",
    "            self.deposit()\n",
    "        elif user_input==\"3\":\n",
    "            self.withdraw()\n",
    "        elif user_input==\"4\":\n",
    "            self.check_balance()\n",
    "        else:\n",
    "            print(\"exit\")\n",
    "            \n",
    "    def create_pin(self):\n",
    "        self.__pin=input(\"Enter Your Pin\")\n",
    "        print(\"pin set successfully\")\n",
    "        \n",
    "    def deposit(self):\n",
    "        temp=input(\"enter your pin\")\n",
    "        if temp== self.__pin:\n",
    "            amount=int(input(\"Enter the amount\"))\n",
    "            self.__balance=self.__balance+amount\n",
    "            print(\"deposit\")\n",
    "        else:\n",
    "            print(\"invalid pin\")\n",
    "      \n",
    "    def withdraw(self):\n",
    "        temp=input(\"Enter your pin\")\n",
    "        if temp==self.__pin:\n",
    "            amount=int(input(\"Enter the amount\"))\n",
    "            if amount <self.__balance:\n",
    "                self.__balance=self.__balance-amount\n",
    "                print(\"operation successfully\")\n",
    "            else:\n",
    "                print(\"insufficient balance\")\n",
    "        else:\n",
    "            print(\"invalid pin\")\n",
    "                \n",
    "    def check_balance(self):\n",
    "        temp=input(\"enter your pin\")\n",
    "        if temp==self.__pin:\n",
    "            print(self.__balance)\n",
    "        else:\n",
    "            (\"invalid pin\")"
   ]
  },
  {
   "cell_type": "code",
   "execution_count": 46,
   "id": "179c64ec-c14c-4049-84da-826853ab70ad",
   "metadata": {},
   "outputs": [
    {
     "name": "stdin",
     "output_type": "stream",
     "text": [
      " \n",
      "        Hello,how would you like to proceed?\n",
      "        1.enter 1 to create pin\n",
      "        2.Enter 2 to deposit\n",
      "        3.Enter 3 to withdraw\n",
      "        4.Enter 4 to check balance\n",
      "        5.Enter 5 to exit \n",
      " 1\n",
      "Enter Your Pin 123\n"
     ]
    },
    {
     "name": "stdout",
     "output_type": "stream",
     "text": [
      "pin set successfully\n"
     ]
    }
   ],
   "source": [
    "sbi=AtmSoft3()"
   ]
  },
  {
   "cell_type": "code",
   "execution_count": 47,
   "id": "aa8e9020-f9b4-4ce3-83f8-a3c1f8c14ece",
   "metadata": {},
   "outputs": [
    {
     "data": {
      "text/plain": [
       "'123'"
      ]
     },
     "execution_count": 47,
     "metadata": {},
     "output_type": "execute_result"
    }
   ],
   "source": [
    "sbi.get_pin()"
   ]
  },
  {
   "cell_type": "code",
   "execution_count": 51,
   "id": "0268d1f1-f875-4461-bdff-4f6e215ddff4",
   "metadata": {},
   "outputs": [
    {
     "name": "stdout",
     "output_type": "stream",
     "text": [
      "not allowed\n"
     ]
    }
   ],
   "source": [
    "sbi.set_pin(2523)\n",
    "# not allowed bcoz we restrict type (only str will be allowed)"
   ]
  },
  {
   "cell_type": "code",
   "execution_count": 49,
   "id": "d2fa009b-ee43-40a4-9672-24c1356825e5",
   "metadata": {},
   "outputs": [
    {
     "name": "stdout",
     "output_type": "stream",
     "text": [
      "pin changed\n"
     ]
    }
   ],
   "source": [
    "sbi.set_pin(\"1232\")"
   ]
  },
  {
   "cell_type": "code",
   "execution_count": 50,
   "id": "dfd423d1-7736-4d9d-96d4-4c9d7929ce51",
   "metadata": {},
   "outputs": [
    {
     "data": {
      "text/plain": [
       "'1232'"
      ]
     },
     "execution_count": 50,
     "metadata": {},
     "output_type": "execute_result"
    }
   ],
   "source": [
    "sbi.get_pin()"
   ]
  },
  {
   "cell_type": "code",
   "execution_count": null,
   "id": "3e5db776-d29c-49d5-babd-f78f0d3a4fa7",
   "metadata": {},
   "outputs": [],
   "source": []
  }
 ],
 "metadata": {
  "kernelspec": {
   "display_name": "Python 3 (ipykernel)",
   "language": "python",
   "name": "python3"
  },
  "language_info": {
   "codemirror_mode": {
    "name": "ipython",
    "version": 3
   },
   "file_extension": ".py",
   "mimetype": "text/x-python",
   "name": "python",
   "nbconvert_exporter": "python",
   "pygments_lexer": "ipython3",
   "version": "3.10.8"
  }
 },
 "nbformat": 4,
 "nbformat_minor": 5
}
