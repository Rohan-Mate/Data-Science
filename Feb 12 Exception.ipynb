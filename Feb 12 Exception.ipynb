{
 "cells": [
  {
   "cell_type": "markdown",
   "id": "c26ecc8c-f3da-4423-9501-529ab7cab96a",
   "metadata": {},
   "source": [
    "### Youtube Exception Handling"
   ]
  },
  {
   "cell_type": "markdown",
   "id": "b8e58645-73cc-435d-a39f-a254f5d45fdc",
   "metadata": {},
   "source": [
    "###  There are 2 stages where error may happen in a program\n",
    "#### During compilation - syntax error\n",
    "#### During execution - Exception"
   ]
  },
  {
   "cell_type": "markdown",
   "id": "1a2fec65-9b8b-4c33-97eb-18be91771364",
   "metadata": {},
   "source": [
    "### Syntax error\n",
    "#### something in the program is not written according to the program grammar\n",
    "#### error is raised by the interpreter/compiler \n",
    "#### you can solve it by rectifying the program"
   ]
  },
  {
   "cell_type": "markdown",
   "id": "593d8fa2-102d-4d18-81d8-606a2338010c",
   "metadata": {},
   "source": [
    "### other example of syntax error\n",
    "#### leaving symbol like colon,brackets\n",
    "#### misspelling a keyword\n",
    "#### incorrect indentation\n",
    "#### empty if/else/loops/class/fuction"
   ]
  },
  {
   "cell_type": "code",
   "execution_count": 2,
   "id": "73bab28b-7289-44a1-8216-8b14b27817d2",
   "metadata": {},
   "outputs": [
    {
     "ename": "SyntaxError",
     "evalue": "expected ':' (1587621002.py, line 2)",
     "output_type": "error",
     "traceback": [
      "\u001b[0;36m  Cell \u001b[0;32mIn[2], line 2\u001b[0;36m\u001b[0m\n\u001b[0;31m    if a==3\u001b[0m\n\u001b[0m           ^\u001b[0m\n\u001b[0;31mSyntaxError\u001b[0m\u001b[0;31m:\u001b[0m expected ':'\n"
     ]
    }
   ],
   "source": [
    "a=5\n",
    "if a==3\n",
    "print('hello')\n",
    "# syntax error if ke baad colon (:) add nahi kiya "
   ]
  },
  {
   "cell_type": "code",
   "execution_count": 5,
   "id": "49974ccc-9452-4d4e-8301-027de14e73bb",
   "metadata": {},
   "outputs": [
    {
     "ename": "IndentationError",
     "evalue": "expected an indented block after 'if' statement on line 2 (1219177985.py, line 3)",
     "output_type": "error",
     "traceback": [
      "\u001b[0;36m  Cell \u001b[0;32mIn[5], line 3\u001b[0;36m\u001b[0m\n\u001b[0;31m    print('hello')\u001b[0m\n\u001b[0m    ^\u001b[0m\n\u001b[0;31mIndentationError\u001b[0m\u001b[0;31m:\u001b[0m expected an indented block after 'if' statement on line 2\n"
     ]
    }
   ],
   "source": [
    "a=5\n",
    "if a==3:\n",
    "print('hello')\n",
    "# syntax error - indentation error"
   ]
  },
  {
   "cell_type": "code",
   "execution_count": 6,
   "id": "1a00ba14-67c2-488e-9172-658ae5af6b39",
   "metadata": {},
   "outputs": [
    {
     "ename": "TypeError",
     "evalue": "'list' object is not callable",
     "output_type": "error",
     "traceback": [
      "\u001b[0;31m---------------------------------------------------------------------------\u001b[0m",
      "\u001b[0;31mTypeError\u001b[0m                                 Traceback (most recent call last)",
      "Cell \u001b[0;32mIn[6], line 4\u001b[0m\n\u001b[1;32m      1\u001b[0m \u001b[38;5;66;03m# index error \u001b[39;00m\n\u001b[1;32m      2\u001b[0m \u001b[38;5;66;03m# the index error is thrown when trying to access an item at an invalid index\u001b[39;00m\n\u001b[1;32m      3\u001b[0m L\u001b[38;5;241m=\u001b[39m[\u001b[38;5;241m1\u001b[39m,\u001b[38;5;241m2\u001b[39m,\u001b[38;5;241m3\u001b[39m]\n\u001b[0;32m----> 4\u001b[0m \u001b[43mL\u001b[49m\u001b[43m(\u001b[49m\u001b[38;5;241;43m100\u001b[39;49m\u001b[43m)\u001b[49m\n",
      "\u001b[0;31mTypeError\u001b[0m: 'list' object is not callable"
     ]
    }
   ],
   "source": [
    "# index error \n",
    "# the index error is thrown when trying to access an item at an invalid index\n",
    "L=[1,2,3]\n",
    "L(100)"
   ]
  },
  {
   "cell_type": "code",
   "execution_count": 8,
   "id": "7cbf31d2-4b74-4a8b-aeff-0494da352505",
   "metadata": {},
   "outputs": [
    {
     "ename": "ModuleNotFoundError",
     "evalue": "No module named 'maths'",
     "output_type": "error",
     "traceback": [
      "\u001b[0;31m---------------------------------------------------------------------------\u001b[0m",
      "\u001b[0;31mModuleNotFoundError\u001b[0m                       Traceback (most recent call last)",
      "Cell \u001b[0;32mIn[8], line 4\u001b[0m\n\u001b[1;32m      1\u001b[0m \u001b[38;5;66;03m# module not found error\u001b[39;00m\n\u001b[1;32m      2\u001b[0m \u001b[38;5;66;03m# module not found error is thrown when a module could not be found\u001b[39;00m\n\u001b[0;32m----> 4\u001b[0m \u001b[38;5;28;01mimport\u001b[39;00m \u001b[38;5;21;01mmaths\u001b[39;00m\n\u001b[1;32m      5\u001b[0m math\u001b[38;5;241m.\u001b[39mfloor(\u001b[38;5;241m5.3\u001b[39m)\n\u001b[1;32m      6\u001b[0m \u001b[38;5;66;03m# module name is (math)\u001b[39;00m\n",
      "\u001b[0;31mModuleNotFoundError\u001b[0m: No module named 'maths'"
     ]
    }
   ],
   "source": [
    "# module not found error\n",
    "# module not found error is thrown when a module could not be found\n",
    "\n",
    "import maths\n",
    "math.floor(5.3)\n",
    "# module name is (math)"
   ]
  },
  {
   "cell_type": "code",
   "execution_count": 10,
   "id": "692a957b-3094-4e33-9df5-afe00137ebbb",
   "metadata": {},
   "outputs": [
    {
     "ename": "TypeError",
     "evalue": "'set' object is not callable",
     "output_type": "error",
     "traceback": [
      "\u001b[0;31m---------------------------------------------------------------------------\u001b[0m",
      "\u001b[0;31mTypeError\u001b[0m                                 Traceback (most recent call last)",
      "Cell \u001b[0;32mIn[10], line 5\u001b[0m\n\u001b[1;32m      1\u001b[0m \u001b[38;5;66;03m# key error -generally in dictionary\u001b[39;00m\n\u001b[1;32m      2\u001b[0m \u001b[38;5;66;03m# it is thrown when a key is not found\u001b[39;00m\n\u001b[1;32m      4\u001b[0m d\u001b[38;5;241m=\u001b[39m{\u001b[38;5;124m'\u001b[39m\u001b[38;5;124mname\u001b[39m\u001b[38;5;124m'\u001b[39m,\u001b[38;5;124m'\u001b[39m\u001b[38;5;124mnitish\u001b[39m\u001b[38;5;124m'\u001b[39m}\n\u001b[0;32m----> 5\u001b[0m \u001b[43md\u001b[49m\u001b[43m(\u001b[49m\u001b[38;5;124;43m'\u001b[39;49m\u001b[38;5;124;43mage\u001b[39;49m\u001b[38;5;124;43m'\u001b[39;49m\u001b[43m)\u001b[49m\n",
      "\u001b[0;31mTypeError\u001b[0m: 'set' object is not callable"
     ]
    }
   ],
   "source": [
    "# key error -generally in dictionary\n",
    "# it is thrown when a key is not found\n",
    "\n",
    "d={'name','nitish'}\n",
    "d('age')"
   ]
  },
  {
   "cell_type": "code",
   "execution_count": 13,
   "id": "ba2639b2-ec5f-4266-92bb-cab456fc2cf8",
   "metadata": {},
   "outputs": [
    {
     "ename": "TypeError",
     "evalue": "unsupported operand type(s) for +: 'int' and 'str'",
     "output_type": "error",
     "traceback": [
      "\u001b[0;31m---------------------------------------------------------------------------\u001b[0m",
      "\u001b[0;31mTypeError\u001b[0m                                 Traceback (most recent call last)",
      "Cell \u001b[0;32mIn[13], line 4\u001b[0m\n\u001b[1;32m      1\u001b[0m \u001b[38;5;66;03m# type error \u001b[39;00m\n\u001b[1;32m      2\u001b[0m \u001b[38;5;66;03m# it is thrown when an operation or function is applied to an object of an inappropriate type\u001b[39;00m\n\u001b[0;32m----> 4\u001b[0m \u001b[38;5;241;43m1\u001b[39;49m\u001b[43m \u001b[49m\u001b[38;5;241;43m+\u001b[39;49m\u001b[43m \u001b[49m\u001b[38;5;124;43m'\u001b[39;49m\u001b[38;5;124;43ma\u001b[39;49m\u001b[38;5;124;43m'\u001b[39;49m\n",
      "\u001b[0;31mTypeError\u001b[0m: unsupported operand type(s) for +: 'int' and 'str'"
     ]
    }
   ],
   "source": [
    "# type error \n",
    "# it is thrown when an operation or function is applied to an object of an inappropriate type\n",
    "\n",
    "1 + 'a'"
   ]
  },
  {
   "cell_type": "code",
   "execution_count": 12,
   "id": "4c331f58-61d7-43de-95a5-6b2fc2619536",
   "metadata": {},
   "outputs": [
    {
     "ename": "ValueError",
     "evalue": "invalid literal for int() with base 10: 'a'",
     "output_type": "error",
     "traceback": [
      "\u001b[0;31m---------------------------------------------------------------------------\u001b[0m",
      "\u001b[0;31mValueError\u001b[0m                                Traceback (most recent call last)",
      "Cell \u001b[0;32mIn[12], line 3\u001b[0m\n\u001b[1;32m      1\u001b[0m \u001b[38;5;66;03m# value error \u001b[39;00m\n\u001b[1;32m      2\u001b[0m \u001b[38;5;66;03m# it is thrown when a function's arguments is of an inappropriate type\u001b[39;00m\n\u001b[0;32m----> 3\u001b[0m \u001b[38;5;28;43mint\u001b[39;49m\u001b[43m(\u001b[49m\u001b[38;5;124;43m'\u001b[39;49m\u001b[38;5;124;43ma\u001b[39;49m\u001b[38;5;124;43m'\u001b[39;49m\u001b[43m)\u001b[49m\n",
      "\u001b[0;31mValueError\u001b[0m: invalid literal for int() with base 10: 'a'"
     ]
    }
   ],
   "source": [
    "# value error \n",
    "# it is thrown when a function's arguments is of an inappropriate type\n",
    "int('a')"
   ]
  },
  {
   "cell_type": "code",
   "execution_count": 14,
   "id": "8eaa9088-eef1-4954-86d2-278753741fba",
   "metadata": {},
   "outputs": [
    {
     "ename": "NameError",
     "evalue": "name 'k' is not defined",
     "output_type": "error",
     "traceback": [
      "\u001b[0;31m---------------------------------------------------------------------------\u001b[0m",
      "\u001b[0;31mNameError\u001b[0m                                 Traceback (most recent call last)",
      "Cell \u001b[0;32mIn[14], line 3\u001b[0m\n\u001b[1;32m      1\u001b[0m \u001b[38;5;66;03m# name error \u001b[39;00m\n\u001b[1;32m      2\u001b[0m \u001b[38;5;66;03m# it is thrown when an object could not be found\u001b[39;00m\n\u001b[0;32m----> 3\u001b[0m \u001b[38;5;28mprint\u001b[39m(\u001b[43mk\u001b[49m)\n",
      "\u001b[0;31mNameError\u001b[0m: name 'k' is not defined"
     ]
    }
   ],
   "source": [
    "# name error \n",
    "# it is thrown when an object could not be found\n",
    "print(k)"
   ]
  },
  {
   "cell_type": "code",
   "execution_count": 15,
   "id": "d0754d4c-5eea-46d7-bbee-91a397a37419",
   "metadata": {},
   "outputs": [
    {
     "ename": "AttributeError",
     "evalue": "'list' object has no attribute 'upper'",
     "output_type": "error",
     "traceback": [
      "\u001b[0;31m---------------------------------------------------------------------------\u001b[0m",
      "\u001b[0;31mAttributeError\u001b[0m                            Traceback (most recent call last)",
      "Cell \u001b[0;32mIn[15], line 3\u001b[0m\n\u001b[1;32m      1\u001b[0m \u001b[38;5;66;03m# attribute error\u001b[39;00m\n\u001b[1;32m      2\u001b[0m l\u001b[38;5;241m=\u001b[39m[\u001b[38;5;241m1\u001b[39m,\u001b[38;5;241m2\u001b[39m,\u001b[38;5;241m3\u001b[39m]\n\u001b[0;32m----> 3\u001b[0m \u001b[43ml\u001b[49m\u001b[38;5;241;43m.\u001b[39;49m\u001b[43mupper\u001b[49m()\n",
      "\u001b[0;31mAttributeError\u001b[0m: 'list' object has no attribute 'upper'"
     ]
    }
   ],
   "source": [
    "# attribute error\n",
    "l=[1,2,3]\n",
    "l.upper()"
   ]
  },
  {
   "cell_type": "markdown",
   "id": "5465acf5-7f35-4b0f-ad97-dcbded5a76a2",
   "metadata": {},
   "source": [
    "### Exception"
   ]
  },
  {
   "cell_type": "markdown",
   "id": "a7e41f00-cd64-4029-85c0-cc85ef63258a",
   "metadata": {},
   "source": [
    "### if things go wrong during the execution of the program(runtime).\n",
    "#### it generally happens when sth unforseen has happened\n",
    "#### 1. exception are raised by python runtime\n",
    "#### 2. you have to takle is on the fly"
   ]
  },
  {
   "cell_type": "markdown",
   "id": "12c2867a-cc7c-4795-9e02-58e23196fa90",
   "metadata": {},
   "source": [
    "### Examples\n",
    "#### 1. memory overflow\n",
    "#### 2. divide by o      -  logical error\n",
    "#### 3. database error"
   ]
  },
  {
   "cell_type": "code",
   "execution_count": 16,
   "id": "ac3e3cf2-4a83-4436-9659-545028623a2b",
   "metadata": {},
   "outputs": [],
   "source": [
    "# why is it important to handle exceptions\n",
    "# how to handle exception \n",
    "# try except block\n",
    "\n",
    "# use of try - jab bhi hamko ye lage ki ye piece of code gadbad krr sakta hain tab hum usse try mein dalenge\n",
    "# or gadbad hone pe kya karna hai hum usse except mein dalenge "
   ]
  },
  {
   "cell_type": "code",
   "execution_count": 17,
   "id": "4b8a4671-15ad-449f-bc5b-3ccf55440d10",
   "metadata": {},
   "outputs": [],
   "source": [
    "# lets create file\n",
    "with open('sample.txt','w')as f:\n",
    "    f.write('hello world')"
   ]
  },
  {
   "cell_type": "code",
   "execution_count": 18,
   "id": "5038fa3b-7141-4009-9f4a-7c26a98bc914",
   "metadata": {},
   "outputs": [
    {
     "ename": "FileNotFoundError",
     "evalue": "[Errno 2] No such file or directory: 'sample1.txt'",
     "output_type": "error",
     "traceback": [
      "\u001b[0;31m---------------------------------------------------------------------------\u001b[0m",
      "\u001b[0;31mFileNotFoundError\u001b[0m                         Traceback (most recent call last)",
      "Cell \u001b[0;32mIn[18], line 1\u001b[0m\n\u001b[0;32m----> 1\u001b[0m \u001b[38;5;28;01mwith\u001b[39;00m \u001b[38;5;28;43mopen\u001b[39;49m\u001b[43m(\u001b[49m\u001b[38;5;124;43m'\u001b[39;49m\u001b[38;5;124;43msample1.txt\u001b[39;49m\u001b[38;5;124;43m'\u001b[39;49m\u001b[43m,\u001b[49m\u001b[38;5;124;43m'\u001b[39;49m\u001b[38;5;124;43mr\u001b[39;49m\u001b[38;5;124;43m'\u001b[39;49m\u001b[43m)\u001b[49m\u001b[38;5;28;01mas\u001b[39;00m f:\n\u001b[1;32m      2\u001b[0m     \u001b[38;5;28mprint\u001b[39m(f\u001b[38;5;241m.\u001b[39mread())\n",
      "File \u001b[0;32m/opt/conda/lib/python3.10/site-packages/IPython/core/interactiveshell.py:282\u001b[0m, in \u001b[0;36m_modified_open\u001b[0;34m(file, *args, **kwargs)\u001b[0m\n\u001b[1;32m    275\u001b[0m \u001b[38;5;28;01mif\u001b[39;00m file \u001b[38;5;129;01min\u001b[39;00m {\u001b[38;5;241m0\u001b[39m, \u001b[38;5;241m1\u001b[39m, \u001b[38;5;241m2\u001b[39m}:\n\u001b[1;32m    276\u001b[0m     \u001b[38;5;28;01mraise\u001b[39;00m \u001b[38;5;167;01mValueError\u001b[39;00m(\n\u001b[1;32m    277\u001b[0m         \u001b[38;5;124mf\u001b[39m\u001b[38;5;124m\"\u001b[39m\u001b[38;5;124mIPython won\u001b[39m\u001b[38;5;124m'\u001b[39m\u001b[38;5;124mt let you open fd=\u001b[39m\u001b[38;5;132;01m{\u001b[39;00mfile\u001b[38;5;132;01m}\u001b[39;00m\u001b[38;5;124m by default \u001b[39m\u001b[38;5;124m\"\u001b[39m\n\u001b[1;32m    278\u001b[0m         \u001b[38;5;124m\"\u001b[39m\u001b[38;5;124mas it is likely to crash IPython. If you know what you are doing, \u001b[39m\u001b[38;5;124m\"\u001b[39m\n\u001b[1;32m    279\u001b[0m         \u001b[38;5;124m\"\u001b[39m\u001b[38;5;124myou can use builtins\u001b[39m\u001b[38;5;124m'\u001b[39m\u001b[38;5;124m open.\u001b[39m\u001b[38;5;124m\"\u001b[39m\n\u001b[1;32m    280\u001b[0m     )\n\u001b[0;32m--> 282\u001b[0m \u001b[38;5;28;01mreturn\u001b[39;00m \u001b[43mio_open\u001b[49m\u001b[43m(\u001b[49m\u001b[43mfile\u001b[49m\u001b[43m,\u001b[49m\u001b[43m \u001b[49m\u001b[38;5;241;43m*\u001b[39;49m\u001b[43margs\u001b[49m\u001b[43m,\u001b[49m\u001b[43m \u001b[49m\u001b[38;5;241;43m*\u001b[39;49m\u001b[38;5;241;43m*\u001b[39;49m\u001b[43mkwargs\u001b[49m\u001b[43m)\u001b[49m\n",
      "\u001b[0;31mFileNotFoundError\u001b[0m: [Errno 2] No such file or directory: 'sample1.txt'"
     ]
    }
   ],
   "source": [
    "with open('sample1.txt','r')as f:\n",
    "    print(f.read())"
   ]
  },
  {
   "cell_type": "code",
   "execution_count": 19,
   "id": "cc97251f-5f69-4125-a95b-1883254ec95b",
   "metadata": {},
   "outputs": [
    {
     "name": "stdout",
     "output_type": "stream",
     "text": [
      "sorry file not found\n"
     ]
    }
   ],
   "source": [
    "# try catch demo \n",
    "\n",
    "try:\n",
    "    with open('sample1.txt','r') as f :\n",
    "        print(f.read())\n",
    "except:\n",
    "    print('sorry file not found')\n",
    "    "
   ]
  },
  {
   "cell_type": "code",
   "execution_count": 24,
   "id": "d2942593-38b9-4e08-9fa3-893b60f27770",
   "metadata": {},
   "outputs": [
    {
     "ename": "FileNotFoundError",
     "evalue": "[Errno 2] No such file or directory: 'sample1.txt'",
     "output_type": "error",
     "traceback": [
      "\u001b[0;31m---------------------------------------------------------------------------\u001b[0m",
      "\u001b[0;31mFileNotFoundError\u001b[0m                         Traceback (most recent call last)",
      "Cell \u001b[0;32mIn[24], line 1\u001b[0m\n\u001b[0;32m----> 1\u001b[0m f\u001b[38;5;241m=\u001b[39m \u001b[38;5;28;43mopen\u001b[39;49m\u001b[43m(\u001b[49m\u001b[38;5;124;43m'\u001b[39;49m\u001b[38;5;124;43msample1.txt\u001b[39;49m\u001b[38;5;124;43m'\u001b[39;49m\u001b[43m,\u001b[49m\u001b[38;5;124;43m'\u001b[39;49m\u001b[38;5;124;43mr\u001b[39;49m\u001b[38;5;124;43m'\u001b[39;49m\u001b[43m)\u001b[49m\n\u001b[1;32m      2\u001b[0m \u001b[38;5;28mprint\u001b[39m(f\u001b[38;5;241m.\u001b[39mread())\n\u001b[1;32m      3\u001b[0m \u001b[38;5;28mprint\u001b[39m(m)\n",
      "File \u001b[0;32m/opt/conda/lib/python3.10/site-packages/IPython/core/interactiveshell.py:282\u001b[0m, in \u001b[0;36m_modified_open\u001b[0;34m(file, *args, **kwargs)\u001b[0m\n\u001b[1;32m    275\u001b[0m \u001b[38;5;28;01mif\u001b[39;00m file \u001b[38;5;129;01min\u001b[39;00m {\u001b[38;5;241m0\u001b[39m, \u001b[38;5;241m1\u001b[39m, \u001b[38;5;241m2\u001b[39m}:\n\u001b[1;32m    276\u001b[0m     \u001b[38;5;28;01mraise\u001b[39;00m \u001b[38;5;167;01mValueError\u001b[39;00m(\n\u001b[1;32m    277\u001b[0m         \u001b[38;5;124mf\u001b[39m\u001b[38;5;124m\"\u001b[39m\u001b[38;5;124mIPython won\u001b[39m\u001b[38;5;124m'\u001b[39m\u001b[38;5;124mt let you open fd=\u001b[39m\u001b[38;5;132;01m{\u001b[39;00mfile\u001b[38;5;132;01m}\u001b[39;00m\u001b[38;5;124m by default \u001b[39m\u001b[38;5;124m\"\u001b[39m\n\u001b[1;32m    278\u001b[0m         \u001b[38;5;124m\"\u001b[39m\u001b[38;5;124mas it is likely to crash IPython. If you know what you are doing, \u001b[39m\u001b[38;5;124m\"\u001b[39m\n\u001b[1;32m    279\u001b[0m         \u001b[38;5;124m\"\u001b[39m\u001b[38;5;124myou can use builtins\u001b[39m\u001b[38;5;124m'\u001b[39m\u001b[38;5;124m open.\u001b[39m\u001b[38;5;124m\"\u001b[39m\n\u001b[1;32m    280\u001b[0m     )\n\u001b[0;32m--> 282\u001b[0m \u001b[38;5;28;01mreturn\u001b[39;00m \u001b[43mio_open\u001b[49m\u001b[43m(\u001b[49m\u001b[43mfile\u001b[49m\u001b[43m,\u001b[49m\u001b[43m \u001b[49m\u001b[38;5;241;43m*\u001b[39;49m\u001b[43margs\u001b[49m\u001b[43m,\u001b[49m\u001b[43m \u001b[49m\u001b[38;5;241;43m*\u001b[39;49m\u001b[38;5;241;43m*\u001b[39;49m\u001b[43mkwargs\u001b[49m\u001b[43m)\u001b[49m\n",
      "\u001b[0;31mFileNotFoundError\u001b[0m: [Errno 2] No such file or directory: 'sample1.txt'"
     ]
    }
   ],
   "source": [
    "f= open('sample1.txt','r')\n",
    "print(f.read())\n",
    "print(m)"
   ]
  },
  {
   "cell_type": "code",
   "execution_count": 21,
   "id": "3f6f64df-f24a-4a5f-9b51-df259c2a12b5",
   "metadata": {},
   "outputs": [
    {
     "name": "stdout",
     "output_type": "stream",
     "text": [
      "Some error occured\n"
     ]
    }
   ],
   "source": [
    "# catching specific exception\n",
    "\n",
    "try:\n",
    "    f= open('sample1.txt','r')\n",
    "    print(f.read())\n",
    "    print(m)\n",
    "except:\n",
    "    print('Some error occured')"
   ]
  },
  {
   "cell_type": "code",
   "execution_count": 25,
   "id": "5931d2c8-32ae-4cb6-88b0-0be679e8b541",
   "metadata": {},
   "outputs": [
    {
     "name": "stdout",
     "output_type": "stream",
     "text": [
      "hello world\n",
      "Some error occured\n"
     ]
    }
   ],
   "source": [
    "try:\n",
    "    f= open('sample.txt','r')\n",
    "    print(f.read())\n",
    "    print(m)\n",
    "except:\n",
    "    print('Some error occured')\n",
    "    \n",
    "# isme file name right hai per object wrong hai isliye sirf uska hi error aa gaya     "
   ]
  },
  {
   "cell_type": "code",
   "execution_count": 33,
   "id": "19237a21-f297-4e50-9319-15dffa60a90f",
   "metadata": {},
   "outputs": [
    {
     "name": "stdout",
     "output_type": "stream",
     "text": [
      "file not found\n"
     ]
    }
   ],
   "source": [
    "try:\n",
    "    f = open('sample1.txt','r')\n",
    "    print(f.read())\n",
    "    print(m)\n",
    "except FileNotFoundError:\n",
    "    print('file not found')\n",
    "except NameError:\n",
    "    print('variable not defined')"
   ]
  },
  {
   "cell_type": "code",
   "execution_count": 34,
   "id": "b5ca8ff4-bde9-400c-a021-8eda9ec70267",
   "metadata": {},
   "outputs": [
    {
     "name": "stdout",
     "output_type": "stream",
     "text": [
      "hello world\n",
      "variable not defined\n"
     ]
    }
   ],
   "source": [
    "try:\n",
    "    f = open('sample.txt','r')\n",
    "    print(f.read())\n",
    "    print(m)\n",
    "except FileNotFoundError:\n",
    "    print('file not found')\n",
    "except NameError:\n",
    "    print('variable not defined')"
   ]
  },
  {
   "cell_type": "code",
   "execution_count": 37,
   "id": "96837e6d-342c-4485-8688-88812be72c7e",
   "metadata": {},
   "outputs": [
    {
     "name": "stdout",
     "output_type": "stream",
     "text": [
      "hello world\n",
      "cant divide by zero\n"
     ]
    }
   ],
   "source": [
    "try:\n",
    "    f = open('sample.txt','r')\n",
    "    print(f.read())\n",
    "    print(5/0)\n",
    "except FileNotFoundError:\n",
    "    print('file not found')\n",
    "except NameError:\n",
    "    print('variable not defined')\n",
    "except ZeroDivisionError:\n",
    "    print('cant divide by zero')"
   ]
  },
  {
   "cell_type": "code",
   "execution_count": 42,
   "id": "6176ad51-0b3c-4c1c-9b3d-994aa0077d66",
   "metadata": {},
   "outputs": [
    {
     "name": "stdout",
     "output_type": "stream",
     "text": [
      "hello world\n",
      "2.5\n",
      "list index out of range\n"
     ]
    }
   ],
   "source": [
    "try:\n",
    "    f = open('sample.txt','r')\n",
    "    print(f.read())\n",
    "    print(5/2)\n",
    "    l=[1,2,3]\n",
    "    l[100]\n",
    "except FileNotFoundError:\n",
    "    print('file not found')\n",
    "except NameError:\n",
    "    print('variable not defined')\n",
    "except ZeroDivisionError:\n",
    "    print('cant divide by zero')\n",
    "except Exception as e:\n",
    "    print(e)\n",
    "    \n",
    "## last mein hamne ek general exception dal diya jo har type ke error ko handle krr sakta hain    \n",
    "## generic exception hamesha last mein hoga "
   ]
  },
  {
   "cell_type": "code",
   "execution_count": 40,
   "id": "a150dc01-3964-41ba-b490-792e562ba8ac",
   "metadata": {},
   "outputs": [
    {
     "name": "stdout",
     "output_type": "stream",
     "text": [
      "hello world\n",
      "2.5\n",
      "<built-in method with_traceback of IndexError object at 0x7f0d0be8e700>\n"
     ]
    }
   ],
   "source": [
    "try:\n",
    "    f = open('sample.txt','r')\n",
    "    print(f.read())\n",
    "    print(5/2)\n",
    "    l=[1,2,3]\n",
    "    l[100]\n",
    "except FileNotFoundError:\n",
    "    print('file not found')\n",
    "except NameError:\n",
    "    print('variable not defined')\n",
    "except ZeroDivisionError:\n",
    "    print('cant divide by zero')\n",
    "except Exception as e:\n",
    "    print(e.with_traceback)"
   ]
  },
  {
   "cell_type": "code",
   "execution_count": 46,
   "id": "532aa553-bc3b-4a4e-97ec-b4ef9fecad04",
   "metadata": {},
   "outputs": [
    {
     "name": "stdout",
     "output_type": "stream",
     "text": [
      "hello world\n"
     ]
    }
   ],
   "source": [
    "# else \n",
    "try:\n",
    "    f= open('sample.txt','r')\n",
    "except FileNotFoundError:\n",
    "    print('file not found')\n",
    "except Exception:\n",
    "    print(\"sth went wrong\")\n",
    "else:\n",
    "    print(f.read())\n",
    "# agar try mein kuch error hoga to hi wo except pe jayega \n",
    "# parr try right to uski command ke liye hum else ka use karenge\n",
    "# agar except trigger hoga to else trigger nahi hoga "
   ]
  },
  {
   "cell_type": "code",
   "execution_count": 47,
   "id": "47d5f5ff-9ebb-4049-95bd-f1f1ec6c0ed7",
   "metadata": {},
   "outputs": [
    {
     "name": "stdout",
     "output_type": "stream",
     "text": [
      "hello world\n",
      "this will be print\n"
     ]
    }
   ],
   "source": [
    "# finally\n",
    "\n",
    "try:\n",
    "    f= open('sample.txt','r')\n",
    "except FileNotFoundError:\n",
    "    print('file not found')\n",
    "except Exception:\n",
    "    print(\"sth went wrong\")\n",
    "else:\n",
    "    print(f.read())\n",
    "finally:\n",
    "    print('this will be print')\n"
   ]
  },
  {
   "cell_type": "code",
   "execution_count": 49,
   "id": "881741fe-e306-49df-9c89-027f6277fabb",
   "metadata": {},
   "outputs": [
    {
     "name": "stdout",
     "output_type": "stream",
     "text": [
      "file not found\n",
      "this will be print\n"
     ]
    }
   ],
   "source": [
    "try:\n",
    "    f= open('sample1.txt','r')\n",
    "except FileNotFoundError:\n",
    "    print('file not found')\n",
    "except Exception:\n",
    "    print(\"sth went wrong\")\n",
    "else:\n",
    "    print(f.read())\n",
    "finally:\n",
    "    print('this will be print')\n",
    "    \n",
    "    "
   ]
  },
  {
   "cell_type": "code",
   "execution_count": 50,
   "id": "aa293c81-05ef-466f-9581-bcd0aca75db1",
   "metadata": {},
   "outputs": [],
   "source": [
    "# summary is finally mein aap kaise bhi karke jaoge hi \n",
    "# ek to aap else se jaoge ya phie exception ke tarike se jaoge"
   ]
  },
  {
   "cell_type": "code",
   "execution_count": 51,
   "id": "c305763b-7cf4-4790-b63c-c58ad077ff8c",
   "metadata": {},
   "outputs": [],
   "source": [
    "# raise exception\n",
    "# in python programming, exceptions are raised when errors occur at runtime\n",
    "# we can also manually raise exceptions using the raise keyword\n",
    "\n",
    "# we can optionally pass values to the exceptions to clarify why that exception was raised "
   ]
  },
  {
   "cell_type": "code",
   "execution_count": 52,
   "id": "f89a7b59-17a8-4d86-8f6e-a6aa172c305c",
   "metadata": {},
   "outputs": [
    {
     "ename": "NameError",
     "evalue": "eise hi try krr raha hoon",
     "output_type": "error",
     "traceback": [
      "\u001b[0;31m---------------------------------------------------------------------------\u001b[0m",
      "\u001b[0;31mNameError\u001b[0m                                 Traceback (most recent call last)",
      "Cell \u001b[0;32mIn[52], line 2\u001b[0m\n\u001b[1;32m      1\u001b[0m \u001b[38;5;66;03m# raise exception \u001b[39;00m\n\u001b[0;32m----> 2\u001b[0m \u001b[38;5;28;01mraise\u001b[39;00m \u001b[38;5;167;01mNameError\u001b[39;00m(\u001b[38;5;124m\"\u001b[39m\u001b[38;5;124meise hi try krr raha hoon\u001b[39m\u001b[38;5;124m\"\u001b[39m)\n",
      "\u001b[0;31mNameError\u001b[0m: eise hi try krr raha hoon"
     ]
    }
   ],
   "source": [
    "# raise exception \n",
    "raise NameError(\"eise hi try krr raha hoon\")"
   ]
  },
  {
   "cell_type": "code",
   "execution_count": 53,
   "id": "72f47e9f-edcf-4fc3-a2ba-0d5923f33844",
   "metadata": {},
   "outputs": [
    {
     "ename": "FileNotFoundError",
     "evalue": "try krr raha hoon",
     "output_type": "error",
     "traceback": [
      "\u001b[0;31m---------------------------------------------------------------------------\u001b[0m",
      "\u001b[0;31mFileNotFoundError\u001b[0m                         Traceback (most recent call last)",
      "Cell \u001b[0;32mIn[53], line 1\u001b[0m\n\u001b[0;32m----> 1\u001b[0m \u001b[38;5;28;01mraise\u001b[39;00m \u001b[38;5;167;01mFileNotFoundError\u001b[39;00m(\u001b[38;5;124m\"\u001b[39m\u001b[38;5;124mtry krr raha hoon\u001b[39m\u001b[38;5;124m\"\u001b[39m)\n",
      "\u001b[0;31mFileNotFoundError\u001b[0m: try krr raha hoon"
     ]
    }
   ],
   "source": [
    "raise FileNotFoundError(\"try krr raha hoon\")"
   ]
  },
  {
   "cell_type": "code",
   "execution_count": 54,
   "id": "c25d964a-4971-4a00-9f52-e2d86aab05a4",
   "metadata": {},
   "outputs": [],
   "source": [
    "# use of throw the error - raise error\n",
    "# java mein \n",
    "# try -> try\n",
    "# except -> catch \n",
    "# raise -> throw "
   ]
  },
  {
   "cell_type": "code",
   "execution_count": 56,
   "id": "a2b0e374-04b1-4b8d-abe4-5de45a7c4297",
   "metadata": {},
   "outputs": [
    {
     "name": "stdout",
     "output_type": "stream",
     "text": [
      "5000\n"
     ]
    }
   ],
   "source": [
    "class Bank:\n",
    "    def __init__(self,balance):\n",
    "        self.balance=balance\n",
    "        \n",
    "    def withdraw(self,amount):\n",
    "        if amount < 0:\n",
    "            raise Exception('amount cannot be -ve')\n",
    "        if self.balance < amount:\n",
    "            raise Exception('insufficient balance')\n",
    "        self.balance=self.balance - amount\n",
    "        \n",
    "obj = Bank(10000)\n",
    "try:\n",
    "    obj.withdraw(5000)\n",
    "except Exception as e:\n",
    "    print(e)\n",
    "else:\n",
    "    print(obj.balance)"
   ]
  },
  {
   "cell_type": "code",
   "execution_count": 57,
   "id": "22d4e348-11b8-46ef-bc84-c63a5da7139a",
   "metadata": {},
   "outputs": [
    {
     "name": "stdout",
     "output_type": "stream",
     "text": [
      "amount cannot be -ve\n"
     ]
    }
   ],
   "source": [
    "class Bank:\n",
    "    def __init__(self,balance):\n",
    "        self.balance=balance\n",
    "        \n",
    "    def withdraw(self,amount):\n",
    "        if amount < 0:\n",
    "            raise Exception('amount cannot be -ve')\n",
    "        if self.balance < amount:\n",
    "            raise Exception('insufficient balance')\n",
    "        self.balance=self.balance - amount\n",
    "        \n",
    "obj = Bank(10000)\n",
    "try:\n",
    "    obj.withdraw(-5000)\n",
    "except Exception as e:\n",
    "    print(e)\n",
    "else:\n",
    "    print(obj.balance)"
   ]
  },
  {
   "cell_type": "code",
   "execution_count": 58,
   "id": "0eb87968-8d1d-484d-af88-517db4de8655",
   "metadata": {},
   "outputs": [
    {
     "name": "stdout",
     "output_type": "stream",
     "text": [
      "insufficient balance\n"
     ]
    }
   ],
   "source": [
    "class Bank:\n",
    "    def __init__(self,balance):\n",
    "        self.balance=balance\n",
    "        \n",
    "    def withdraw(self,amount):\n",
    "        if amount < 0:\n",
    "            raise Exception('amount cannot be -ve')\n",
    "        if self.balance < amount:\n",
    "            raise Exception('insufficient balance')\n",
    "        self.balance=self.balance - amount\n",
    "        \n",
    "obj = Bank(10000)\n",
    "try:\n",
    "    obj.withdraw(15000)\n",
    "except Exception as e:\n",
    "    print(e)\n",
    "else:\n",
    "    print(obj.balance)"
   ]
  },
  {
   "cell_type": "code",
   "execution_count": 59,
   "id": "a33a4bf3-1ecc-4a8e-8619-a7d0e54750dd",
   "metadata": {},
   "outputs": [],
   "source": [
    "# creating custom exception\n",
    "# exception hierarchy in python google it to more information"
   ]
  },
  {
   "cell_type": "code",
   "execution_count": 65,
   "id": "701b67bc-c4a5-46f9-82e2-c93617d5e218",
   "metadata": {},
   "outputs": [
    {
     "name": "stdout",
     "output_type": "stream",
     "text": [
      "insufficient balance\n"
     ]
    }
   ],
   "source": [
    "class MyException(Exception):\n",
    "    def __init__(self,message):\n",
    "        print(message)\n",
    "class Bank:\n",
    "    def __init__(self,balance):\n",
    "        self.balance=balance\n",
    "        \n",
    "    def withdraw(self,amount):\n",
    "        if amount < 0:\n",
    "            raise MyException('amount cannot be -ve')\n",
    "        if self.balance < amount:\n",
    "            raise MyException('insufficient balance')\n",
    "        self.balance=self.balance - amount\n",
    "        \n",
    "obj = Bank(10000)\n",
    "try:\n",
    "    obj.withdraw(15000)\n",
    "except MyException as e:\n",
    "    pass\n",
    "else:\n",
    "    print(obj.balance)"
   ]
  },
  {
   "cell_type": "code",
   "execution_count": 66,
   "id": "81979723-a854-4e61-8b97-83be26b58aeb",
   "metadata": {},
   "outputs": [],
   "source": [
    "# hamne apni khud ki custom exception kyu banayi agar output same hi hai to "
   ]
  },
  {
   "cell_type": "code",
   "execution_count": 74,
   "id": "70b1b15f-c27f-45b7-a312-bf8c942e8254",
   "metadata": {},
   "outputs": [
    {
     "name": "stdout",
     "output_type": "stream",
     "text": [
      "bhai teri to laag gayi\n",
      "logout\n",
      "database connection closed\n"
     ]
    }
   ],
   "source": [
    "# example\n",
    "class SecurityError(Exception):\n",
    "    def __init__(self,message):\n",
    "        print(message)\n",
    "    def logout(self):\n",
    "        print('logout')\n",
    "        \n",
    "class Google:\n",
    "    def __init__(self,name,email,password,device):\n",
    "        self.name=name\n",
    "        self.email=email\n",
    "        self.password=password\n",
    "        self.device=device\n",
    "        \n",
    "    def login(self,email,password,device):\n",
    "        if device != self.device:\n",
    "            raise SecurityError('bhai teri to laag gayi')\n",
    "        if email == self.email and password == self.password:\n",
    "            print('welcome')\n",
    "        \n",
    "        \n",
    "obj=Google('nitish','nitish@gmail.com','1234','android')     \n",
    "\n",
    "try:\n",
    "    obj.login('nitish@gmail.com','1234','windows')\n",
    "except SecurityError as e:\n",
    "    e.logout()\n",
    "else:\n",
    "    print(obj.name)\n",
    "finally:\n",
    "    print(\"database connection closed\")"
   ]
  },
  {
   "cell_type": "code",
   "execution_count": 73,
   "id": "bcee3021-cf00-4e4c-be26-d7c915e20514",
   "metadata": {},
   "outputs": [
    {
     "name": "stdout",
     "output_type": "stream",
     "text": [
      "welcome\n",
      "nitish\n",
      "database connection closed\n"
     ]
    }
   ],
   "source": [
    "class SecurityError(Exception):\n",
    "    def __init__(self,message):\n",
    "        print(message)\n",
    "        \n",
    "    def logout(self):\n",
    "        print('logout')\n",
    "        \n",
    "class Google:\n",
    "    def __init__(self,name,email,password,device):\n",
    "        self.name=name\n",
    "        self.email=email\n",
    "        self.password=password\n",
    "        self.device=device\n",
    "        \n",
    "    def login(self,email,password,device):\n",
    "        if device != self.device:\n",
    "            raise SecurityError('bhai teri to laag gayi')\n",
    "        if email == self.email and password == self.password:\n",
    "            print('welcome')\n",
    "        \n",
    "        \n",
    "obj=Google('nitish','nitish@gmail.com','1234','android')     \n",
    "\n",
    "try:\n",
    "    obj.login('nitish@gmail.com','1234','android')\n",
    "except SecurityError as e:\n",
    "    e.logout()\n",
    "else:\n",
    "    print(obj.name)\n",
    "finally:\n",
    "    print(\"database connection closed\")"
   ]
  },
  {
   "cell_type": "code",
   "execution_count": null,
   "id": "98dc8ae4-cd88-40f7-be39-a7c3c6f5c146",
   "metadata": {},
   "outputs": [],
   "source": []
  }
 ],
 "metadata": {
  "kernelspec": {
   "display_name": "Python 3 (ipykernel)",
   "language": "python",
   "name": "python3"
  },
  "language_info": {
   "codemirror_mode": {
    "name": "ipython",
    "version": 3
   },
   "file_extension": ".py",
   "mimetype": "text/x-python",
   "name": "python",
   "nbconvert_exporter": "python",
   "pygments_lexer": "ipython3",
   "version": "3.10.8"
  }
 },
 "nbformat": 4,
 "nbformat_minor": 5
}
