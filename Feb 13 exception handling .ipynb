{
 "cells": [
  {
   "cell_type": "markdown",
   "id": "7b802278-de50-4cd8-9f4d-1db03ad086d9",
   "metadata": {},
   "source": [
    "### Best practice Exception Handling"
   ]
  },
  {
   "cell_type": "code",
   "execution_count": 1,
   "id": "e510575b-6126-4e0f-b889-035ff26768f8",
   "metadata": {},
   "outputs": [
    {
     "name": "stdout",
     "output_type": "stream",
     "text": [
      "division by zero\n"
     ]
    }
   ],
   "source": [
    "# use always a specific exception\n",
    "\n",
    "try:\n",
    "    10/0\n",
    "except Exception as e:\n",
    "    print(e)"
   ]
  },
  {
   "cell_type": "code",
   "execution_count": 2,
   "id": "c15949e7-0a1c-4df9-9d9e-2ca52e3c0c34",
   "metadata": {},
   "outputs": [
    {
     "name": "stdout",
     "output_type": "stream",
     "text": [
      "division by zero\n"
     ]
    }
   ],
   "source": [
    "try:\n",
    "    10/0\n",
    "except ZeroDivisionError as e:\n",
    "    print(e)"
   ]
  },
  {
   "cell_type": "code",
   "execution_count": 3,
   "id": "db352949-0420-49f0-b290-f40f97a9cdba",
   "metadata": {},
   "outputs": [
    {
     "name": "stdout",
     "output_type": "stream",
     "text": [
      "this is my zero division error i am handling division by zero\n"
     ]
    }
   ],
   "source": [
    "# print always a valid message\n",
    "\n",
    "try:\n",
    "    10/0\n",
    "except ZeroDivisionError as e:\n",
    "    print (\"this is my zero division error i am handling\",e)"
   ]
  },
  {
   "cell_type": "code",
   "execution_count": 5,
   "id": "de6e742e-6695-4277-9329-3b2fa5faf691",
   "metadata": {},
   "outputs": [],
   "source": [
    "# always try to log \n",
    "\n",
    "import logging\n",
    "\n",
    "logging.basicConfig(filename=\"error.log\",level = logging.ERROR)\n",
    "\n",
    "try:\n",
    "    10/0\n",
    "except ZeroDivisionError as e:\n",
    "    logging.error(\"this is my zero division error i am handling {}\".format(e))"
   ]
  },
  {
   "cell_type": "code",
   "execution_count": 6,
   "id": "7b016b64-3034-4d35-af2e-47f665f2567a",
   "metadata": {},
   "outputs": [],
   "source": [
    "# always avoid to write a multiple exception handling\n",
    "\n",
    "try:\n",
    "    10/0\n",
    "except FileNotFoundError as e:\n",
    "    logging.error(\"this is my file not find {}\".format(e)) \n",
    "except AttributeError as e:\n",
    "    logging.error(\"this is my attribute error {}\".format(e))\n",
    "except ZeroDivisionError as e:\n",
    "    logging.error(\"this is my zero division error i am handling {}\".format(e))    "
   ]
  },
  {
   "cell_type": "code",
   "execution_count": 7,
   "id": "3e7c357f-2cf6-4c6f-abaa-d1256e3f9d65",
   "metadata": {},
   "outputs": [],
   "source": [
    "# always prepare proper documentation"
   ]
  },
  {
   "cell_type": "code",
   "execution_count": 8,
   "id": "46380def-6188-445f-b3da-21c8da363eb9",
   "metadata": {},
   "outputs": [],
   "source": [
    "# clean up all the resources \n",
    "\n",
    "try:\n",
    "    with open(\"test.txt\",\"w\") as f :\n",
    "        f.write(\"this is my msg to file\")\n",
    "except FileNotFoundError as e :\n",
    "    logging.error(\"this is my file not find {}\".format(e)) \n",
    "finally:\n",
    "    f.close()"
   ]
  }
 ],
 "metadata": {
  "kernelspec": {
   "display_name": "Python 3 (ipykernel)",
   "language": "python",
   "name": "python3"
  },
  "language_info": {
   "codemirror_mode": {
    "name": "ipython",
    "version": 3
   },
   "file_extension": ".py",
   "mimetype": "text/x-python",
   "name": "python",
   "nbconvert_exporter": "python",
   "pygments_lexer": "ipython3",
   "version": "3.10.8"
  }
 },
 "nbformat": 4,
 "nbformat_minor": 5
}
