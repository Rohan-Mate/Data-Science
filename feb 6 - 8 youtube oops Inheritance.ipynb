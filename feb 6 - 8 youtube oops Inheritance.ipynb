{
 "cells": [
  {
   "cell_type": "markdown",
   "id": "ce045822-cd51-4e8f-92d7-78590b34f839",
   "metadata": {},
   "source": [
    "### oops inheritance "
   ]
  },
  {
   "cell_type": "code",
   "execution_count": 2,
   "id": "eab6a1d5-bfac-471b-b315-c2b114745067",
   "metadata": {},
   "outputs": [
    {
     "name": "stdout",
     "output_type": "stream",
     "text": [
      "<__main__.Address object at 0x7f6a8458fd90>\n"
     ]
    }
   ],
   "source": [
    "class Customer:\n",
    "    def __init__(self,name,gender,address):\n",
    "        self.name=name\n",
    "        self.gender=gender\n",
    "        self.address=address\n",
    "        \n",
    "class Address:\n",
    "    \n",
    "    def __init__(self,city,pincode,state):\n",
    "        self.city=city\n",
    "        self.pincode=pincode\n",
    "        self.state=state\n",
    "        \n",
    "add=Address('kolkata', 700156 ,'wb')        \n",
    "cust=Customer('nitish','male',add)\n",
    "\n",
    "print(cust.address)"
   ]
  },
  {
   "cell_type": "code",
   "execution_count": 5,
   "id": "692b64d2-01f9-4dd4-8b1f-407529f58df7",
   "metadata": {},
   "outputs": [
    {
     "name": "stdout",
     "output_type": "stream",
     "text": [
      "700156\n"
     ]
    }
   ],
   "source": [
    "class Customer:\n",
    "    def __init__(self,name,gender,address):\n",
    "        self.name=name\n",
    "        self.gender=gender\n",
    "        self.address=address\n",
    "        \n",
    "class Address:\n",
    "    \n",
    "    def __init__(self,city,pincode,state):\n",
    "        self.city=city\n",
    "        self.pincode=pincode\n",
    "        self.state=state\n",
    "add=Address('kolkata', 700156 ,'wb')        \n",
    "cust=Customer('nitish','male',add)\n",
    "\n",
    "print(cust.address.pincode)"
   ]
  },
  {
   "cell_type": "code",
   "execution_count": 6,
   "id": "440a28f3-15e3-4467-91ff-cb812b2502e4",
   "metadata": {},
   "outputs": [
    {
     "name": "stdout",
     "output_type": "stream",
     "text": [
      "kolkata\n"
     ]
    }
   ],
   "source": [
    "class Customer:\n",
    "    def __init__(self,name,gender,address):\n",
    "        self.name=name\n",
    "        self.gender=gender\n",
    "        self.address=address\n",
    "        \n",
    "class Address:\n",
    "    \n",
    "    def __init__(self,city,pincode,state):\n",
    "        self.city=city\n",
    "        self.pincode=pincode\n",
    "        self.state=state\n",
    "add=Address('kolkata', 700156 ,'wb')        \n",
    "cust=Customer('nitish','male',add)\n",
    "\n",
    "print(cust.address.city)"
   ]
  },
  {
   "cell_type": "code",
   "execution_count": 7,
   "id": "5c26d72e-1ddb-4c73-b98e-44f7d66500e5",
   "metadata": {},
   "outputs": [
    {
     "name": "stdout",
     "output_type": "stream",
     "text": [
      "wb\n"
     ]
    }
   ],
   "source": [
    "class Customer:\n",
    "    def __init__(self,name,gender,address):\n",
    "        self.name=name\n",
    "        self.gender=gender\n",
    "        self.address=address\n",
    "        \n",
    "class Address:\n",
    "    \n",
    "    def __init__(self,city,pincode,state):\n",
    "        self.city=city\n",
    "        self.pincode=pincode\n",
    "        self.state=state\n",
    "add=Address('kolkata', 700156 ,'wb')        \n",
    "cust=Customer('nitish','male',add)\n",
    "\n",
    "print(cust.address.state)"
   ]
  },
  {
   "cell_type": "code",
   "execution_count": 12,
   "id": "e005dd1e-1a65-4e55-aa4d-01288ddbe077",
   "metadata": {},
   "outputs": [
    {
     "name": "stdout",
     "output_type": "stream",
     "text": [
      "122011\n"
     ]
    }
   ],
   "source": [
    "class Customer:\n",
    "    def __init__(self,name,gender,address):\n",
    "        self.name=name\n",
    "        self.gender=gender\n",
    "        self.address=address\n",
    "        \n",
    "    def edit_profile(self,new_name,new_city,new_pin,new_state):\n",
    "        self.name=new_name\n",
    "        self.address.change_address(new_city,new_pin,new_state)\n",
    "    \n",
    "    \n",
    "class Address:\n",
    "    \n",
    "    def __init__(self,city,pincode,state):\n",
    "        self.city=city\n",
    "        self.pincode=pincode\n",
    "        self.state=state\n",
    "        \n",
    "    def change_address(self,new_city,new_pin,new_state):\n",
    "        self.city=new_city\n",
    "        self.pincode=new_pin\n",
    "        self.state=new_state\n",
    "    \n",
    "add=Address('kolkata', 700156 ,'wb')        \n",
    "cust=Customer('nitish','male',add)\n",
    "\n",
    "cust.edit_profile('Ankit','gurgaon',122011,'haryana')\n",
    "\n",
    "print(cust.address.pincode)"
   ]
  },
  {
   "cell_type": "markdown",
   "id": "fbd00e94-7895-423b-8450-7a084588bbc5",
   "metadata": {},
   "source": [
    "### inheritance"
   ]
  },
  {
   "cell_type": "code",
   "execution_count": 15,
   "id": "5ae5fb56-78a8-4dec-ac07-43e0b485eb25",
   "metadata": {},
   "outputs": [
    {
     "name": "stdout",
     "output_type": "stream",
     "text": [
      "enroll\n",
      "review\n",
      "login\n",
      "registration\n"
     ]
    }
   ],
   "source": [
    "class User:\n",
    "    \n",
    "    def login(self):\n",
    "        print('login')\n",
    "    def register(self):\n",
    "        print('registration')\n",
    "         \n",
    "class Student(User):\n",
    "    \n",
    "    def enroll(self):\n",
    "        print('enroll')\n",
    "        \n",
    "    def review(self):\n",
    "        print('review')\n",
    "        \n",
    "        \n",
    "stu1=Student()\n",
    "\n",
    "stu1.enroll()\n",
    "stu1.review()\n",
    "stu1.login()\n",
    "stu1.register()"
   ]
  },
  {
   "cell_type": "code",
   "execution_count": 16,
   "id": "5eba9675-ed0b-4a2f-81f3-2052766f0332",
   "metadata": {},
   "outputs": [
    {
     "ename": "AttributeError",
     "evalue": "'User' object has no attribute 'enroll'",
     "output_type": "error",
     "traceback": [
      "\u001b[0;31m---------------------------------------------------------------------------\u001b[0m",
      "\u001b[0;31mAttributeError\u001b[0m                            Traceback (most recent call last)",
      "Cell \u001b[0;32mIn[16], line 19\u001b[0m\n\u001b[1;32m     14\u001b[0m         \u001b[38;5;28mprint\u001b[39m(\u001b[38;5;124m'\u001b[39m\u001b[38;5;124mreview\u001b[39m\u001b[38;5;124m'\u001b[39m)\n\u001b[1;32m     17\u001b[0m u\u001b[38;5;241m=\u001b[39mUser()\n\u001b[0;32m---> 19\u001b[0m \u001b[43mu\u001b[49m\u001b[38;5;241;43m.\u001b[39;49m\u001b[43menroll\u001b[49m()\n\u001b[1;32m     20\u001b[0m u\u001b[38;5;241m.\u001b[39mreview()\n\u001b[1;32m     21\u001b[0m u\u001b[38;5;241m.\u001b[39mlogin()\n",
      "\u001b[0;31mAttributeError\u001b[0m: 'User' object has no attribute 'enroll'"
     ]
    }
   ],
   "source": [
    "class User:\n",
    "    \n",
    "    def login(self):\n",
    "        print('login')\n",
    "    def register(self):\n",
    "        print('registration')\n",
    "         \n",
    "class Student(User):\n",
    "    \n",
    "    def enroll(self):\n",
    "        print('enroll')\n",
    "        \n",
    "    def review(self):\n",
    "        print('review')\n",
    "        \n",
    "        \n",
    "u=User()\n",
    "\n",
    "u.enroll()\n",
    "u.review()\n",
    "u.login()\n",
    "u.register()"
   ]
  },
  {
   "cell_type": "markdown",
   "id": "20f4552d-6391-4fc8-ba9e-b9cf4df1fb2f",
   "metadata": {},
   "source": [
    "### inherting constructor "
   ]
  },
  {
   "cell_type": "code",
   "execution_count": 19,
   "id": "d6004544-bb59-4faf-9dc6-86f8807e0e97",
   "metadata": {},
   "outputs": [
    {
     "name": "stdout",
     "output_type": "stream",
     "text": [
      "inside phone constructor\n",
      "apple\n"
     ]
    }
   ],
   "source": [
    "class Phone:\n",
    "    \n",
    "    def __init__(self,price,brand,camera):\n",
    "        print('inside phone constructor')\n",
    "        self.price=price\n",
    "        self.brand=brand\n",
    "        self.camera=camera\n",
    "        \n",
    "class SmartPhone(Phone):\n",
    "    pass\n",
    "\n",
    "s=SmartPhone(20000,'apple',13)\n",
    "print(s.brand)"
   ]
  },
  {
   "cell_type": "code",
   "execution_count": 20,
   "id": "2a07e0c9-7c99-4620-9489-75dae6cf032d",
   "metadata": {},
   "outputs": [
    {
     "name": "stdout",
     "output_type": "stream",
     "text": [
      "inside phone constructor\n",
      "20000\n"
     ]
    }
   ],
   "source": [
    "class Phone:\n",
    "    \n",
    "    def __init__(self,price,brand,camera):\n",
    "        print('inside phone constructor')\n",
    "        self.price=price\n",
    "        self.brand=brand\n",
    "        self.camera=camera\n",
    "        \n",
    "class SmartPhone(Phone):\n",
    "    pass\n",
    "\n",
    "s=SmartPhone(20000,'apple',13)\n",
    "print(s.price)"
   ]
  },
  {
   "cell_type": "code",
   "execution_count": 22,
   "id": "65be7c8d-310e-45f5-a27b-c9a1c444fa76",
   "metadata": {},
   "outputs": [],
   "source": [
    "### inheritance 2 nd concept= child class ka object parent class ke hidden object ko access nahi krr sakta \n",
    "# that is the reason of giving error"
   ]
  },
  {
   "cell_type": "code",
   "execution_count": 21,
   "id": "8509530b-88b3-4267-8b9d-6554f4f5d41a",
   "metadata": {},
   "outputs": [
    {
     "name": "stdout",
     "output_type": "stream",
     "text": [
      "inside phone constructor\n"
     ]
    },
    {
     "ename": "AttributeError",
     "evalue": "'SmartPhone' object has no attribute '__brand'",
     "output_type": "error",
     "traceback": [
      "\u001b[0;31m---------------------------------------------------------------------------\u001b[0m",
      "\u001b[0;31mAttributeError\u001b[0m                            Traceback (most recent call last)",
      "Cell \u001b[0;32mIn[21], line 13\u001b[0m\n\u001b[1;32m     10\u001b[0m     \u001b[38;5;28;01mpass\u001b[39;00m\n\u001b[1;32m     12\u001b[0m s\u001b[38;5;241m=\u001b[39mSmartPhone(\u001b[38;5;241m20000\u001b[39m,\u001b[38;5;124m'\u001b[39m\u001b[38;5;124mapple\u001b[39m\u001b[38;5;124m'\u001b[39m,\u001b[38;5;241m13\u001b[39m)\n\u001b[0;32m---> 13\u001b[0m \u001b[38;5;28mprint\u001b[39m(\u001b[43ms\u001b[49m\u001b[38;5;241;43m.\u001b[39;49m\u001b[43m__brand\u001b[49m)\n",
      "\u001b[0;31mAttributeError\u001b[0m: 'SmartPhone' object has no attribute '__brand'"
     ]
    }
   ],
   "source": [
    "class Phone:\n",
    "    \n",
    "    def __init__(self,price,brand,camera):\n",
    "        print('inside phone constructor')\n",
    "        self.price=price\n",
    "        self.__brand=brand\n",
    "        self.camera=camera\n",
    "        \n",
    "class SmartPhone(Phone):\n",
    "    pass\n",
    "\n",
    "s=SmartPhone(20000,'apple',13)\n",
    "print(s.__brand)"
   ]
  },
  {
   "cell_type": "markdown",
   "id": "a755c2d5-fda1-4ff6-bd9a-dcacc770fea7",
   "metadata": {},
   "source": [
    "### polymorphisim"
   ]
  },
  {
   "cell_type": "code",
   "execution_count": null,
   "id": "fa05afd2-0ed6-47d8-82df-1532c6374c67",
   "metadata": {},
   "outputs": [],
   "source": [
    "## method overriding = parent class mein bhi ek method hain aur same naam se child class mein bhi wo hi method hain\n",
    "## to child class ka object parent class ko call karega to apna khud ka (child class) method execkarega \n",
    "## method overriding polymorphism ka concept hain "
   ]
  },
  {
   "cell_type": "code",
   "execution_count": null,
   "id": "300d412d-82a9-4331-bfce-01b11c9b1e51",
   "metadata": {},
   "outputs": [],
   "source": [
    "## polymorphism 3 type of concept\n",
    "# 1. method overriding\n",
    "# 2. method overloading\n",
    "# 3. operator overloading"
   ]
  },
  {
   "cell_type": "code",
   "execution_count": 25,
   "id": "15cca82b-7a53-4311-a0a7-299360ab020b",
   "metadata": {},
   "outputs": [
    {
     "name": "stdout",
     "output_type": "stream",
     "text": [
      "inside a phone constructor\n",
      "buying a smartphone\n"
     ]
    }
   ],
   "source": [
    "class Phone:\n",
    "    \n",
    "    def __init__(self,price,brand,camera):\n",
    "        print('inside a phone constructor')\n",
    "        self.price=price\n",
    "        self.brand=brand\n",
    "        self.camera=camera\n",
    "        \n",
    "    def buy(self):\n",
    "        print('buying a phone')\n",
    "\n",
    "class SmartPhone(Phone):\n",
    "    pass\n",
    "\n",
    "    def buy(self):\n",
    "        print('buying a smartphone')\n",
    "\n",
    "s=SmartPhone(20000,'apple',13)\n",
    "\n",
    "s.buy()"
   ]
  },
  {
   "cell_type": "code",
   "execution_count": null,
   "id": "4ca9e8c4-5350-48e1-b12f-a38b5c213cd6",
   "metadata": {},
   "outputs": [],
   "source": [
    "## example class parent\n",
    "# "
   ]
  },
  {
   "cell_type": "code",
   "execution_count": 27,
   "id": "c52ccd19-c138-4f45-a1f3-8e3e6522f8dd",
   "metadata": {},
   "outputs": [
    {
     "name": "stdout",
     "output_type": "stream",
     "text": [
      "100\n",
      "this is in child class\n"
     ]
    }
   ],
   "source": [
    "class Parent:\n",
    "    \n",
    "    def __init__(self,num):\n",
    "        self.__num=num\n",
    "        \n",
    "    def get_num(self):\n",
    "        return self.__num\n",
    "    \n",
    "class Child(Parent):\n",
    "    \n",
    "    def show(self):\n",
    "        print('this is in child class')\n",
    "        \n",
    "son=Child(100)\n",
    "print(son.get_num())\n",
    "son.show()"
   ]
  },
  {
   "cell_type": "code",
   "execution_count": 29,
   "id": "1e81d1c8-6d20-4365-9308-2facec5e6b2b",
   "metadata": {},
   "outputs": [],
   "source": [
    "### agar child ke pass apna constructor nahi hain to wo automatically parent ka constructor invoke karega\n",
    "## but agar child ke pass apna khud ka constructor hain to parent ka call construct nahi hota "
   ]
  },
  {
   "cell_type": "code",
   "execution_count": 28,
   "id": "c7e13604-8991-4d2e-a76d-7c0a0e0e596f",
   "metadata": {},
   "outputs": [
    {
     "ename": "AttributeError",
     "evalue": "'Child' object has no attribute '_Parent__num'",
     "output_type": "error",
     "traceback": [
      "\u001b[0;31m---------------------------------------------------------------------------\u001b[0m",
      "\u001b[0;31mAttributeError\u001b[0m                            Traceback (most recent call last)",
      "Cell \u001b[0;32mIn[28], line 18\u001b[0m\n\u001b[1;32m     15\u001b[0m         \u001b[38;5;28;01mreturn\u001b[39;00m \u001b[38;5;28mself\u001b[39m\u001b[38;5;241m.\u001b[39m__val\n\u001b[1;32m     17\u001b[0m son\u001b[38;5;241m=\u001b[39mChild(\u001b[38;5;241m100\u001b[39m,\u001b[38;5;241m10\u001b[39m)\n\u001b[0;32m---> 18\u001b[0m \u001b[38;5;28mprint\u001b[39m(\u001b[38;5;124m'\u001b[39m\u001b[38;5;124mParent: num:\u001b[39m\u001b[38;5;124m'\u001b[39m,\u001b[43mson\u001b[49m\u001b[38;5;241;43m.\u001b[39;49m\u001b[43mget_num\u001b[49m\u001b[43m(\u001b[49m\u001b[43m)\u001b[49m)\n\u001b[1;32m     19\u001b[0m \u001b[38;5;28mprint\u001b[39m(\u001b[38;5;124m'\u001b[39m\u001b[38;5;124mChild: val:\u001b[39m\u001b[38;5;124m'\u001b[39m, son\u001b[38;5;241m.\u001b[39mget_val())\n",
      "Cell \u001b[0;32mIn[28], line 7\u001b[0m, in \u001b[0;36mParent.get_num\u001b[0;34m(self)\u001b[0m\n\u001b[1;32m      6\u001b[0m \u001b[38;5;28;01mdef\u001b[39;00m \u001b[38;5;21mget_num\u001b[39m(\u001b[38;5;28mself\u001b[39m):\n\u001b[0;32m----> 7\u001b[0m     \u001b[38;5;28;01mreturn\u001b[39;00m \u001b[38;5;28;43mself\u001b[39;49m\u001b[38;5;241;43m.\u001b[39;49m\u001b[43m__num\u001b[49m\n",
      "\u001b[0;31mAttributeError\u001b[0m: 'Child' object has no attribute '_Parent__num'"
     ]
    }
   ],
   "source": [
    "class Parent:\n",
    "    \n",
    "    def __init__(self,num):\n",
    "        self.__num=num\n",
    "        \n",
    "    def get_num(self):\n",
    "        return self.__num\n",
    "    \n",
    "class Child(Parent):\n",
    "    \n",
    "    def __init__(self,val,num):\n",
    "        self.__val=val\n",
    "        \n",
    "    def get_val(self):\n",
    "        return self.__val\n",
    "    \n",
    "son=Child(100,10)\n",
    "print('Parent: num:',son.get_num())\n",
    "print('Child: val:', son.get_val())"
   ]
  },
  {
   "cell_type": "code",
   "execution_count": 2,
   "id": "1c85a78b-4cb1-47a1-9a56-b7d8a4827426",
   "metadata": {},
   "outputs": [],
   "source": [
    "## super method \n",
    "# super keyword class ke bahar use nahi hota hai\n",
    "# super keyword se 2 cheez access krr sakte ho - 1. parent method 2. parent constructor"
   ]
  },
  {
   "cell_type": "code",
   "execution_count": 1,
   "id": "f94adb1d-b80f-407a-85c5-cc7b95a99762",
   "metadata": {},
   "outputs": [
    {
     "name": "stdout",
     "output_type": "stream",
     "text": [
      "buying a smartphone\n",
      "buying a phone\n"
     ]
    }
   ],
   "source": [
    "class Phone:\n",
    "    def __init__(self,price,brand,camera):\n",
    "        self.__price=price\n",
    "        self.brand=brand\n",
    "        self.camera=camera\n",
    "        \n",
    "    def buy(self):\n",
    "        print('buying a phone')\n",
    "           \n",
    "class SmartPhone(Phone):\n",
    "    \n",
    "    def buy (self):\n",
    "        print('buying a smartphone')\n",
    "        super().buy()\n",
    "        \n",
    "s=SmartPhone(20000,'apple',13)\n",
    "\n",
    "s.buy()"
   ]
  },
  {
   "cell_type": "code",
   "execution_count": 3,
   "id": "12950375-ca1a-4c50-94e0-d659d516609d",
   "metadata": {},
   "outputs": [
    {
     "name": "stdout",
     "output_type": "stream",
     "text": [
      "inside smartphone constructor\n",
      "android\n",
      "samsung\n"
     ]
    }
   ],
   "source": [
    "class Phone:\n",
    "    def __init__(self,price,brand,camera):\n",
    "        self.__price=price\n",
    "        self.brand=brand\n",
    "        self.camera=camera\n",
    "        \n",
    "class SmartPhone(Phone):\n",
    "    \n",
    "    def __init__(self,price,brand,camera,os,ram):\n",
    "        super().__init__(price,brand,camera)\n",
    "        self.os=os\n",
    "        self.ram=ram\n",
    "        print('inside smartphone constructor')\n",
    "        \n",
    "s=SmartPhone(2000,'samsung',12,'android',2)\n",
    "\n",
    "print(s.os)\n",
    "print(s.brand)\n",
    "    "
   ]
  },
  {
   "cell_type": "code",
   "execution_count": 4,
   "id": "1f760000-7b7f-4421-b44b-e3e22f8e9d8b",
   "metadata": {},
   "outputs": [
    {
     "name": "stdout",
     "output_type": "stream",
     "text": [
      "100\n",
      "200\n"
     ]
    }
   ],
   "source": [
    "class Parent:\n",
    "    \n",
    "    def __init__(self,num):\n",
    "        self.__num=num\n",
    "        \n",
    "    def get_num(self):\n",
    "        return self.__num\n",
    "    \n",
    "class Child(Parent):\n",
    "    \n",
    "    def __init__(self,num,val):\n",
    "        super().__init__(num)\n",
    "        self.__val=val\n",
    "        \n",
    "    def get_val(self):\n",
    "        return self.__val\n",
    "    \n",
    "son=Child(100,200)\n",
    "print(son.get_num())\n",
    "print(son.get_val())"
   ]
  },
  {
   "cell_type": "code",
   "execution_count": 7,
   "id": "4a8e6d1f-582a-4bf7-84bf-df24b0f02649",
   "metadata": {},
   "outputs": [
    {
     "name": "stdout",
     "output_type": "stream",
     "text": [
      "100\n",
      "200\n"
     ]
    }
   ],
   "source": [
    "class Parent:\n",
    "    \n",
    "    def __init__(self):\n",
    "        self.num=100\n",
    "        \n",
    "class Child(Parent):\n",
    "    \n",
    "    def __init__(self):\n",
    "        super().__init__()\n",
    "        self.var=200\n",
    "        \n",
    "    def show(self):\n",
    "        print(self.num)\n",
    "        print(self.var)\n",
    "son=Child()\n",
    "son.show()"
   ]
  },
  {
   "cell_type": "code",
   "execution_count": 8,
   "id": "7d17717c-d4eb-4d44-be37-540a0c10c6f2",
   "metadata": {},
   "outputs": [
    {
     "name": "stdout",
     "output_type": "stream",
     "text": [
      "Parent 100\n",
      "Child 10\n"
     ]
    }
   ],
   "source": [
    "class Parent():\n",
    "    \n",
    "    def __init__(self):\n",
    "        self.__num=100\n",
    "        \n",
    "    def show(self):\n",
    "        print('Parent',self.__num)\n",
    "        \n",
    "class Child(Parent):\n",
    "    def __init__(self):\n",
    "        super().__init__()\n",
    "        self.__var=10\n",
    "        \n",
    "    def show (self):\n",
    "        print('Child',self.__var)\n",
    "        \n",
    "dad=Parent()\n",
    "dad.show()\n",
    "son=Child()\n",
    "son.show()"
   ]
  },
  {
   "cell_type": "code",
   "execution_count": 9,
   "id": "85c21d5d-6fff-4903-9b39-0de056f24db5",
   "metadata": {},
   "outputs": [],
   "source": [
    "## Multilevel inheritance"
   ]
  },
  {
   "cell_type": "code",
   "execution_count": 10,
   "id": "1140a0a7-1bf8-4aaf-9da0-261b4a7a9a3b",
   "metadata": {},
   "outputs": [
    {
     "name": "stdout",
     "output_type": "stream",
     "text": [
      "inside phone constructor\n",
      "inside phone constructor\n",
      "buying a phone\n",
      "product customer review\n",
      "product customer review\n"
     ]
    }
   ],
   "source": [
    "class Product:\n",
    "    def review(self):\n",
    "        print('product customer review')\n",
    "        \n",
    "class Phone(Product):\n",
    "    def __init__ (self,price,brand,camera):\n",
    "        print('inside phone constructor')\n",
    "        self.__price=price\n",
    "        self.brand=brand\n",
    "        self.camera=camera\n",
    "        \n",
    "    def buy(self):\n",
    "        print('buying a phone')\n",
    "        \n",
    "class SmartPhone(Phone):\n",
    "    pass \n",
    "\n",
    "s=SmartPhone(2000,'samsung',12)\n",
    "p=Phone(1000,'apple',10)\n",
    "\n",
    "s.buy()\n",
    "s.review()\n",
    "p.review()"
   ]
  },
  {
   "cell_type": "code",
   "execution_count": 11,
   "id": "7b7c3dcb-8912-4173-9c60-75c6ef596717",
   "metadata": {},
   "outputs": [],
   "source": [
    "## Hierarchal inheritance"
   ]
  },
  {
   "cell_type": "code",
   "execution_count": 13,
   "id": "0aa76607-e4dc-4485-b712-284b5390f403",
   "metadata": {},
   "outputs": [
    {
     "name": "stdout",
     "output_type": "stream",
     "text": [
      "inside phone constructor\n",
      "buying a phone\n"
     ]
    }
   ],
   "source": [
    "class Phone:\n",
    "    def __init__(self,price,brand,camera):\n",
    "        print('inside phone constructor')\n",
    "        self.__price=price\n",
    "        self.brand=brand\n",
    "        self.camera=camera\n",
    "        \n",
    "    def buy(self):\n",
    "        print('buying a phone')\n",
    "        \n",
    "class SmartPhone(Phone):\n",
    "    pass\n",
    "class FeaturePhone(Phone):\n",
    "    pass\n",
    "SmartPhone(1000,'apple',13).buy()\n",
    "    "
   ]
  },
  {
   "cell_type": "code",
   "execution_count": 14,
   "id": "56dd7a3c-47a8-4534-9aa2-e426b094c8b8",
   "metadata": {},
   "outputs": [],
   "source": [
    "## Multiple inheritance"
   ]
  },
  {
   "cell_type": "code",
   "execution_count": 15,
   "id": "831acc60-f66f-43da-a22f-4bff55415aaf",
   "metadata": {},
   "outputs": [
    {
     "name": "stdout",
     "output_type": "stream",
     "text": [
      "inside phone constructor\n",
      "buying a phone\n",
      "customer review\n"
     ]
    }
   ],
   "source": [
    "class Phone:\n",
    "    \n",
    "    def __init__(self,price,brand,camera):\n",
    "        print('inside phone constructor')\n",
    "        self.__price=price\n",
    "        self.brand=brand\n",
    "        self.camera=camera\n",
    "        \n",
    "    def buy(self):\n",
    "        print('buying a phone')\n",
    "        \n",
    "class Product:\n",
    "    def review(self):\n",
    "        print('customer review')\n",
    "        \n",
    "class SmartPhone(Phone,Product):\n",
    "    pass \n",
    "s=SmartPhone(20000,'apple',12)\n",
    "\n",
    "s.buy()\n",
    "s.review()"
   ]
  },
  {
   "cell_type": "code",
   "execution_count": 16,
   "id": "ce3fa71f-57f9-4cb7-ba37-34374f4a94d5",
   "metadata": {},
   "outputs": [],
   "source": [
    "## MLO example (method resolution order)\n",
    "# 17 & 18 are same we check konsa pehle execute hoga jo sabse pahle type karenge wo hi execute hoga"
   ]
  },
  {
   "cell_type": "code",
   "execution_count": 17,
   "id": "6eeee7bf-ee1b-493a-a8f2-26cdc2472cd3",
   "metadata": {},
   "outputs": [
    {
     "name": "stdout",
     "output_type": "stream",
     "text": [
      "inside phone constructor\n",
      "buying a phone\n"
     ]
    }
   ],
   "source": [
    "class Phone:\n",
    "    \n",
    "    def __init__(self,price,brand,camera):\n",
    "        print('inside phone constructor')\n",
    "        self.__price=price\n",
    "        self.brand=brand\n",
    "        self.camera=camera\n",
    "        \n",
    "    def buy(self):\n",
    "        print('buying a phone')\n",
    "        \n",
    "class Product:\n",
    "    def buy(self):\n",
    "        print('product buy method')\n",
    "        \n",
    "class SmartPhone(Phone,Product):\n",
    "    pass \n",
    "s=SmartPhone(20000,'apple',12)\n",
    "\n",
    "s.buy()\n"
   ]
  },
  {
   "cell_type": "code",
   "execution_count": 18,
   "id": "e105e3f2-7574-4230-828b-684f3af2b63e",
   "metadata": {},
   "outputs": [
    {
     "name": "stdout",
     "output_type": "stream",
     "text": [
      "inside phone constructor\n",
      "product buy method\n"
     ]
    }
   ],
   "source": [
    "class Phone:\n",
    "    \n",
    "    def __init__(self,price,brand,camera):\n",
    "        print('inside phone constructor')\n",
    "        self.__price=price\n",
    "        self.brand=brand\n",
    "        self.camera=camera\n",
    "        \n",
    "    def buy(self):\n",
    "        print('buying a phone')\n",
    "        \n",
    "class Product:\n",
    "    def buy(self):\n",
    "        print('product buy method')\n",
    "        \n",
    "class SmartPhone(Product,Phone):\n",
    "    pass \n",
    "s=SmartPhone(20000,'apple',12)\n",
    "\n",
    "s.buy()\n"
   ]
  },
  {
   "cell_type": "code",
   "execution_count": 19,
   "id": "66893f85-e35f-45d4-b843-64d517d80bd8",
   "metadata": {},
   "outputs": [],
   "source": [
    "## multilevel inheritance"
   ]
  },
  {
   "cell_type": "code",
   "execution_count": 23,
   "id": "b433a3b9-4e83-4c92-b766-dc5885def43b",
   "metadata": {},
   "outputs": [
    {
     "name": "stdout",
     "output_type": "stream",
     "text": [
      "50\n"
     ]
    }
   ],
   "source": [
    "class A:\n",
    "    def m1(self):\n",
    "        return 20\n",
    "    \n",
    "class B(A):\n",
    "    def m1(self):\n",
    "        return 30\n",
    "    def m2(self):\n",
    "        return 40\n",
    "    \n",
    "class C(B):\n",
    "    def m2(self):\n",
    "        return20\n",
    "        \n",
    "obj1=A()\n",
    "obj2=B()\n",
    "obj3=C()\n",
    "print(obj1.m1() + obj3.m1() )\n",
    "    "
   ]
  },
  {
   "cell_type": "code",
   "execution_count": 27,
   "id": "c0899f00-5e97-41e6-a82d-413ee6335717",
   "metadata": {},
   "outputs": [
    {
     "name": "stdout",
     "output_type": "stream",
     "text": [
      "80\n"
     ]
    }
   ],
   "source": [
    "class A:\n",
    "    def m1(self):\n",
    "        return 20\n",
    "    \n",
    "class B(A):\n",
    "    def m1(self):\n",
    "        return 30\n",
    "    def m2(self):\n",
    "        return 40\n",
    "    \n",
    "class C(B):\n",
    "    def m2(self):\n",
    "        return 20\n",
    "        \n",
    "obj1=A()\n",
    "obj2=B()\n",
    "obj3=C()\n",
    "print(obj1.m1() + obj3.m1() + obj3.m1() )"
   ]
  },
  {
   "cell_type": "code",
   "execution_count": 30,
   "id": "2f1e2ad9-d073-447f-a16b-0c49b70c4320",
   "metadata": {},
   "outputs": [
    {
     "ename": "RecursionError",
     "evalue": "maximum recursion depth exceeded",
     "output_type": "error",
     "traceback": [
      "\u001b[0;31m---------------------------------------------------------------------------\u001b[0m",
      "\u001b[0;31mRecursionError\u001b[0m                            Traceback (most recent call last)",
      "Cell \u001b[0;32mIn[30], line 18\u001b[0m\n\u001b[1;32m     14\u001b[0m         \u001b[38;5;28;01mreturn\u001b[39;00m val\n\u001b[1;32m     17\u001b[0m obj1\u001b[38;5;241m=\u001b[39mC()\n\u001b[0;32m---> 18\u001b[0m \u001b[38;5;28mprint\u001b[39m(\u001b[43mobj1\u001b[49m\u001b[38;5;241;43m.\u001b[39;49m\u001b[43mm1\u001b[49m\u001b[43m(\u001b[49m\u001b[43m)\u001b[49m)\n",
      "Cell \u001b[0;32mIn[30], line 13\u001b[0m, in \u001b[0;36mC.m1\u001b[0;34m(self)\u001b[0m\n\u001b[1;32m     12\u001b[0m \u001b[38;5;28;01mdef\u001b[39;00m \u001b[38;5;21mm1\u001b[39m(\u001b[38;5;28mself\u001b[39m):\n\u001b[0;32m---> 13\u001b[0m     vaql\u001b[38;5;241m=\u001b[39m\u001b[38;5;28;43mself\u001b[39;49m\u001b[38;5;241;43m.\u001b[39;49m\u001b[43mm1\u001b[49m\u001b[43m(\u001b[49m\u001b[43m)\u001b[49m \u001b[38;5;241m+\u001b[39m\u001b[38;5;241m20\u001b[39m\n\u001b[1;32m     14\u001b[0m     \u001b[38;5;28;01mreturn\u001b[39;00m val\n",
      "Cell \u001b[0;32mIn[30], line 13\u001b[0m, in \u001b[0;36mC.m1\u001b[0;34m(self)\u001b[0m\n\u001b[1;32m     12\u001b[0m \u001b[38;5;28;01mdef\u001b[39;00m \u001b[38;5;21mm1\u001b[39m(\u001b[38;5;28mself\u001b[39m):\n\u001b[0;32m---> 13\u001b[0m     vaql\u001b[38;5;241m=\u001b[39m\u001b[38;5;28;43mself\u001b[39;49m\u001b[38;5;241;43m.\u001b[39;49m\u001b[43mm1\u001b[49m\u001b[43m(\u001b[49m\u001b[43m)\u001b[49m \u001b[38;5;241m+\u001b[39m\u001b[38;5;241m20\u001b[39m\n\u001b[1;32m     14\u001b[0m     \u001b[38;5;28;01mreturn\u001b[39;00m val\n",
      "    \u001b[0;31m[... skipping similar frames: C.m1 at line 13 (2970 times)]\u001b[0m\n",
      "Cell \u001b[0;32mIn[30], line 13\u001b[0m, in \u001b[0;36mC.m1\u001b[0;34m(self)\u001b[0m\n\u001b[1;32m     12\u001b[0m \u001b[38;5;28;01mdef\u001b[39;00m \u001b[38;5;21mm1\u001b[39m(\u001b[38;5;28mself\u001b[39m):\n\u001b[0;32m---> 13\u001b[0m     vaql\u001b[38;5;241m=\u001b[39m\u001b[38;5;28;43mself\u001b[39;49m\u001b[38;5;241;43m.\u001b[39;49m\u001b[43mm1\u001b[49m\u001b[43m(\u001b[49m\u001b[43m)\u001b[49m \u001b[38;5;241m+\u001b[39m\u001b[38;5;241m20\u001b[39m\n\u001b[1;32m     14\u001b[0m     \u001b[38;5;28;01mreturn\u001b[39;00m val\n",
      "\u001b[0;31mRecursionError\u001b[0m: maximum recursion depth exceeded"
     ]
    }
   ],
   "source": [
    "class A:\n",
    "    def m1(self):\n",
    "        return 20\n",
    "    \n",
    "class B(A):\n",
    "    def m1(self):\n",
    "        val=super().m1()+30\n",
    "        return val\n",
    "    \n",
    "    \n",
    "class C(B):\n",
    "    def m1(self):\n",
    "        vaql=self.m1() +20\n",
    "        return val\n",
    "        \n",
    "        \n",
    "obj1=C()\n",
    "print(obj1.m1())"
   ]
  },
  {
   "cell_type": "code",
   "execution_count": 31,
   "id": "1af5c53b-719f-4977-92f0-34d17d523688",
   "metadata": {},
   "outputs": [],
   "source": [
    "## polymorphism 2. method overloading"
   ]
  },
  {
   "cell_type": "code",
   "execution_count": 32,
   "id": "83eb29f5-b6e9-4316-87ef-a77bad5bddea",
   "metadata": {},
   "outputs": [
    {
     "ename": "TypeError",
     "evalue": "Geometry.area() missing 1 required positional argument: 'b'",
     "output_type": "error",
     "traceback": [
      "\u001b[0;31m---------------------------------------------------------------------------\u001b[0m",
      "\u001b[0;31mTypeError\u001b[0m                                 Traceback (most recent call last)",
      "Cell \u001b[0;32mIn[32], line 10\u001b[0m\n\u001b[1;32m      7\u001b[0m         \u001b[38;5;28;01mreturn\u001b[39;00m l \u001b[38;5;241m*\u001b[39mb \n\u001b[1;32m      9\u001b[0m obj\u001b[38;5;241m=\u001b[39mGeometry()\n\u001b[0;32m---> 10\u001b[0m \u001b[38;5;28mprint\u001b[39m(\u001b[43mobj\u001b[49m\u001b[38;5;241;43m.\u001b[39;49m\u001b[43marea\u001b[49m\u001b[43m(\u001b[49m\u001b[38;5;241;43m4\u001b[39;49m\u001b[43m)\u001b[49m)\n",
      "\u001b[0;31mTypeError\u001b[0m: Geometry.area() missing 1 required positional argument: 'b'"
     ]
    }
   ],
   "source": [
    "class Geometry():\n",
    "    \n",
    "    def area(self,radius):\n",
    "        return 3.14 * radius * radius\n",
    "    \n",
    "    def area(self,l,b):\n",
    "        return l *b \n",
    "    \n",
    "obj=Geometry()\n",
    "print(obj.area(4))"
   ]
  },
  {
   "cell_type": "code",
   "execution_count": 33,
   "id": "a9aa5135-0210-4ac2-8f73-9a2804ae8ae9",
   "metadata": {},
   "outputs": [],
   "source": [
    "## uppar wala code crash krr gaya reason is dono hi method ka naam same hai parr 2nd wala jo method hai wo uppar wale ko \n",
    "# override krr diya and 2nd method ko objects ke 2 input chahiye"
   ]
  },
  {
   "cell_type": "code",
   "execution_count": 34,
   "id": "a738d202-e977-41d5-8e25-1da481e74d5a",
   "metadata": {},
   "outputs": [
    {
     "name": "stdout",
     "output_type": "stream",
     "text": [
      "20\n"
     ]
    }
   ],
   "source": [
    "class Geometry():\n",
    "    \n",
    "    def area(self,radius):\n",
    "        return 3.14 * radius * radius\n",
    "    \n",
    "    def area(self,l,b):\n",
    "        return l *b \n",
    "    \n",
    "obj=Geometry()\n",
    "print(obj.area(4,5))"
   ]
  },
  {
   "cell_type": "code",
   "execution_count": 36,
   "id": "e4884b57-0682-4f86-b95f-d80ff8bf0cc4",
   "metadata": {},
   "outputs": [
    {
     "name": "stdout",
     "output_type": "stream",
     "text": [
      "circle 50.24\n",
      "rect 20\n"
     ]
    }
   ],
   "source": [
    "class Geometry():\n",
    "    \n",
    "    def area(self,a,b=0):\n",
    "        if b ==0:\n",
    "            print('circle',3.14*a*a)\n",
    "        else:\n",
    "            print('rect',a*b)\n",
    "        \n",
    "    \n",
    "obj=Geometry()\n",
    "obj.area(4)\n",
    "obj.area(4,5)"
   ]
  },
  {
   "cell_type": "code",
   "execution_count": 37,
   "id": "46e21378-40db-41a3-9aed-88fa16b0a505",
   "metadata": {},
   "outputs": [],
   "source": [
    "## operators Overloading"
   ]
  },
  {
   "cell_type": "code",
   "execution_count": 38,
   "id": "d069533d-1a12-4ef8-a072-044fb42356ac",
   "metadata": {},
   "outputs": [],
   "source": [
    "# + mathematical operating chod ke hum uss plus sign ka apne se koi auruse karte hai tab wo uss operators ko overload karta hain usse hi operator overloading kahte hain "
   ]
  },
  {
   "cell_type": "code",
   "execution_count": null,
   "id": "04cc546c-dc3f-4bde-9b23-0c8516314532",
   "metadata": {},
   "outputs": [],
   "source": []
  }
 ],
 "metadata": {
  "kernelspec": {
   "display_name": "Python 3 (ipykernel)",
   "language": "python",
   "name": "python3"
  },
  "language_info": {
   "codemirror_mode": {
    "name": "ipython",
    "version": 3
   },
   "file_extension": ".py",
   "mimetype": "text/x-python",
   "name": "python",
   "nbconvert_exporter": "python",
   "pygments_lexer": "ipython3",
   "version": "3.10.8"
  }
 },
 "nbformat": 4,
 "nbformat_minor": 5
}
